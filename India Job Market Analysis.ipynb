{
 "cells": [
  {
   "cell_type": "code",
   "execution_count": 8,
   "id": "b4cbe5fc",
   "metadata": {},
   "outputs": [
    {
     "name": "stdout",
     "output_type": "stream",
     "text": [
      "Dataset URL: https://www.kaggle.com/datasets/ashaychoudhary/india-job-market-dataset\n",
      "License(s): MIT\n",
      "Downloading india-job-market-dataset.zip to ./india_job_market\n",
      "  0%|                                                | 0.00/406k [00:00<?, ?B/s]\n",
      "100%|████████████████████████████████████████| 406k/406k [00:00<00:00, 4.59MB/s]\n"
     ]
    }
   ],
   "source": [
    "!kaggle datasets download -d ashaychoudhary/india-job-market-dataset --unzip -p ./india_job_market\n"
   ]
  },
  {
   "cell_type": "code",
   "execution_count": 10,
   "id": "73f736f1",
   "metadata": {},
   "outputs": [
    {
     "name": "stdout",
     "output_type": "stream",
     "text": [
      "India Job Market Analysis.ipynb  \u001b[34mindia_job_market\u001b[m\u001b[m/\r\n",
      "\u001b[34mIndia-Job-Market-Analysis\u001b[m\u001b[m/       kaggle.json\r\n",
      "README.md\r\n"
     ]
    }
   ],
   "source": [
    "ls"
   ]
  },
  {
   "cell_type": "code",
   "execution_count": 26,
   "id": "5bc72250",
   "metadata": {},
   "outputs": [],
   "source": [
    "import pandas as pd"
   ]
  },
  {
   "cell_type": "code",
   "execution_count": 27,
   "id": "81e36ff5",
   "metadata": {},
   "outputs": [
    {
     "data": {
      "text/html": [
       "<div>\n",
       "<style scoped>\n",
       "    .dataframe tbody tr th:only-of-type {\n",
       "        vertical-align: middle;\n",
       "    }\n",
       "\n",
       "    .dataframe tbody tr th {\n",
       "        vertical-align: top;\n",
       "    }\n",
       "\n",
       "    .dataframe thead th {\n",
       "        text-align: right;\n",
       "    }\n",
       "</style>\n",
       "<table border=\"1\" class=\"dataframe\">\n",
       "  <thead>\n",
       "    <tr style=\"text-align: right;\">\n",
       "      <th></th>\n",
       "      <th>Job ID</th>\n",
       "      <th>Job Title</th>\n",
       "      <th>Company Name</th>\n",
       "      <th>Job Location</th>\n",
       "      <th>Job Type</th>\n",
       "      <th>Salary Range</th>\n",
       "      <th>Experience Required</th>\n",
       "      <th>Posted Date</th>\n",
       "      <th>Application Deadline</th>\n",
       "      <th>Job Portal</th>\n",
       "      <th>Number of Applicants</th>\n",
       "      <th>Education Requirement</th>\n",
       "      <th>Skills Required</th>\n",
       "      <th>Remote/Onsite</th>\n",
       "      <th>Company Size</th>\n",
       "    </tr>\n",
       "  </thead>\n",
       "  <tbody>\n",
       "    <tr>\n",
       "      <th>0</th>\n",
       "      <td>JOB1</td>\n",
       "      <td>Software Engineer</td>\n",
       "      <td>Amazon</td>\n",
       "      <td>Ahmedabad</td>\n",
       "      <td>Full-time</td>\n",
       "      <td>5-8 LPA</td>\n",
       "      <td>2-5 years</td>\n",
       "      <td>2025-01-16</td>\n",
       "      <td>2025-01-25</td>\n",
       "      <td>LinkedIn</td>\n",
       "      <td>23</td>\n",
       "      <td>PhD</td>\n",
       "      <td>C++, SQL, Python</td>\n",
       "      <td>Remote</td>\n",
       "      <td>Small (1-50)</td>\n",
       "    </tr>\n",
       "    <tr>\n",
       "      <th>1</th>\n",
       "      <td>JOB2</td>\n",
       "      <td>Marketing Executive</td>\n",
       "      <td>Infosys</td>\n",
       "      <td>Ahmedabad</td>\n",
       "      <td>Internship</td>\n",
       "      <td>5-8 LPA</td>\n",
       "      <td>2-5 years</td>\n",
       "      <td>2024-12-25</td>\n",
       "      <td>2025-01-19</td>\n",
       "      <td>Indeed</td>\n",
       "      <td>462</td>\n",
       "      <td>MBA</td>\n",
       "      <td>SQL, C++, Python</td>\n",
       "      <td>Remote</td>\n",
       "      <td>Large (500+)</td>\n",
       "    </tr>\n",
       "    <tr>\n",
       "      <th>2</th>\n",
       "      <td>JOB3</td>\n",
       "      <td>Financial Analyst</td>\n",
       "      <td>Deloitte</td>\n",
       "      <td>Jaipur</td>\n",
       "      <td>Contract</td>\n",
       "      <td>20+ LPA</td>\n",
       "      <td>5-10 years</td>\n",
       "      <td>2025-01-22</td>\n",
       "      <td>2025-01-29</td>\n",
       "      <td>Naukri.com</td>\n",
       "      <td>430</td>\n",
       "      <td>M.Tech</td>\n",
       "      <td>Machine Learning, Excel, React</td>\n",
       "      <td>Remote</td>\n",
       "      <td>Large (500+)</td>\n",
       "    </tr>\n",
       "    <tr>\n",
       "      <th>3</th>\n",
       "      <td>JOB4</td>\n",
       "      <td>Business Analyst</td>\n",
       "      <td>Amazon</td>\n",
       "      <td>Delhi</td>\n",
       "      <td>Full-time</td>\n",
       "      <td>20+ LPA</td>\n",
       "      <td>2-5 years</td>\n",
       "      <td>2025-01-07</td>\n",
       "      <td>2025-02-06</td>\n",
       "      <td>LinkedIn</td>\n",
       "      <td>387</td>\n",
       "      <td>B.Tech</td>\n",
       "      <td>Machine Learning, Python, SQL</td>\n",
       "      <td>Hybrid</td>\n",
       "      <td>Small (1-50)</td>\n",
       "    </tr>\n",
       "    <tr>\n",
       "      <th>4</th>\n",
       "      <td>JOB5</td>\n",
       "      <td>Software Engineer</td>\n",
       "      <td>Infosys</td>\n",
       "      <td>Delhi</td>\n",
       "      <td>Full-time</td>\n",
       "      <td>12-20 LPA</td>\n",
       "      <td>10+ years</td>\n",
       "      <td>2024-12-26</td>\n",
       "      <td>2025-01-08</td>\n",
       "      <td>Indeed</td>\n",
       "      <td>199</td>\n",
       "      <td>MBA</td>\n",
       "      <td>UI/UX, C++, Java</td>\n",
       "      <td>Onsite</td>\n",
       "      <td>Small (1-50)</td>\n",
       "    </tr>\n",
       "  </tbody>\n",
       "</table>\n",
       "</div>"
      ],
      "text/plain": [
       "  Job ID            Job Title Company Name Job Location    Job Type  \\\n",
       "0   JOB1    Software Engineer       Amazon    Ahmedabad   Full-time   \n",
       "1   JOB2  Marketing Executive      Infosys    Ahmedabad  Internship   \n",
       "2   JOB3    Financial Analyst     Deloitte       Jaipur    Contract   \n",
       "3   JOB4     Business Analyst       Amazon        Delhi   Full-time   \n",
       "4   JOB5    Software Engineer      Infosys        Delhi   Full-time   \n",
       "\n",
       "  Salary Range Experience Required Posted Date Application Deadline  \\\n",
       "0      5-8 LPA           2-5 years  2025-01-16           2025-01-25   \n",
       "1      5-8 LPA           2-5 years  2024-12-25           2025-01-19   \n",
       "2      20+ LPA          5-10 years  2025-01-22           2025-01-29   \n",
       "3      20+ LPA           2-5 years  2025-01-07           2025-02-06   \n",
       "4    12-20 LPA           10+ years  2024-12-26           2025-01-08   \n",
       "\n",
       "   Job Portal  Number of Applicants Education Requirement  \\\n",
       "0    LinkedIn                    23                   PhD   \n",
       "1      Indeed                   462                   MBA   \n",
       "2  Naukri.com                   430                M.Tech   \n",
       "3    LinkedIn                   387                B.Tech   \n",
       "4      Indeed                   199                   MBA   \n",
       "\n",
       "                  Skills Required Remote/Onsite  Company Size  \n",
       "0                C++, SQL, Python        Remote  Small (1-50)  \n",
       "1                SQL, C++, Python        Remote  Large (500+)  \n",
       "2  Machine Learning, Excel, React        Remote  Large (500+)  \n",
       "3   Machine Learning, Python, SQL        Hybrid  Small (1-50)  \n",
       "4                UI/UX, C++, Java        Onsite  Small (1-50)  "
      ]
     },
     "execution_count": 27,
     "metadata": {},
     "output_type": "execute_result"
    }
   ],
   "source": [
    "df = pd.read_csv('./india_job_market/india_job_market_dataset.csv')  \n",
    "df.head()"
   ]
  },
  {
   "cell_type": "code",
   "execution_count": 28,
   "id": "7fd1bba5",
   "metadata": {},
   "outputs": [],
   "source": [
    "# City-to-coordinates mapping\n",
    "city_coordinates = {\n",
    "    \"Ahmedabad\": {\"lat\": 23.0225, \"lon\": 72.5714},\n",
    "    \"Jaipur\": {\"lat\": 26.9124, \"lon\": 75.7873},\n",
    "    \"Delhi\": {\"lat\": 28.7041, \"lon\": 77.1025},\n",
    "    \"Pune\": {\"lat\": 18.5204, \"lon\": 73.8567},\n",
    "    \"Noida\": {\"lat\": 28.5355, \"lon\": 77.3910},\n",
    "    \"Mumbai\": {\"lat\": 19.0760, \"lon\": 72.8777},\n",
    "    \"Hyderabad\": {\"lat\": 17.3850, \"lon\": 78.4867},\n",
    "    \"Kolkata\": {\"lat\": 22.5726, \"lon\": 88.3639},\n",
    "    \"Bangalore\": {\"lat\": 12.9716, \"lon\": 77.5946},\n",
    "    \"Chennai\": {\"lat\": 13.0827, \"lon\": 80.2707}\n",
    "}"
   ]
  },
  {
   "cell_type": "code",
   "execution_count": 29,
   "id": "20638a3d",
   "metadata": {},
   "outputs": [],
   "source": [
    "# Map latitude and longitude\n",
    "df[\"Latitude\"] = df[\"Job Location\"].map(lambda x: city_coordinates[x][\"lat\"])\n",
    "df[\"Longitude\"] = df[\"Job Location\"].map(lambda x: city_coordinates[x][\"lon\"])"
   ]
  },
  {
   "cell_type": "code",
   "execution_count": 44,
   "id": "1c09f798",
   "metadata": {},
   "outputs": [
    {
     "data": {
      "application/vnd.plotly.v1+json": {
       "config": {
        "plotlyServerURL": "https://plot.ly"
       },
       "data": [
        {
         "customdata": [
          [
           "Software Engineer",
           23
          ],
          [
           "Software Engineer",
           410
          ],
          [
           "Software Engineer",
           85
          ],
          [
           "Software Engineer",
           100
          ],
          [
           "Software Engineer",
           56
          ],
          [
           "Software Engineer",
           265
          ],
          [
           "Software Engineer",
           27
          ],
          [
           "Software Engineer",
           447
          ],
          [
           "Software Engineer",
           49
          ],
          [
           "Software Engineer",
           130
          ],
          [
           "Software Engineer",
           15
          ],
          [
           "Software Engineer",
           116
          ],
          [
           "Software Engineer",
           225
          ],
          [
           "Software Engineer",
           17
          ],
          [
           "Software Engineer",
           55
          ],
          [
           "Software Engineer",
           438
          ],
          [
           "Software Engineer",
           269
          ],
          [
           "Software Engineer",
           316
          ],
          [
           "Software Engineer",
           167
          ],
          [
           "Software Engineer",
           89
          ],
          [
           "Software Engineer",
           483
          ],
          [
           "Software Engineer",
           481
          ],
          [
           "Software Engineer",
           257
          ],
          [
           "Software Engineer",
           71
          ],
          [
           "Software Engineer",
           414
          ],
          [
           "Software Engineer",
           437
          ],
          [
           "Software Engineer",
           13
          ],
          [
           "Software Engineer",
           96
          ],
          [
           "Software Engineer",
           281
          ],
          [
           "Software Engineer",
           100
          ],
          [
           "Software Engineer",
           164
          ],
          [
           "Software Engineer",
           168
          ],
          [
           "Software Engineer",
           433
          ],
          [
           "Software Engineer",
           428
          ],
          [
           "Software Engineer",
           311
          ],
          [
           "Software Engineer",
           203
          ],
          [
           "Software Engineer",
           228
          ],
          [
           "Software Engineer",
           376
          ],
          [
           "Software Engineer",
           457
          ],
          [
           "Software Engineer",
           460
          ],
          [
           "Software Engineer",
           102
          ],
          [
           "Software Engineer",
           254
          ],
          [
           "Software Engineer",
           226
          ],
          [
           "Software Engineer",
           437
          ],
          [
           "Software Engineer",
           221
          ],
          [
           "Software Engineer",
           344
          ],
          [
           "Software Engineer",
           302
          ],
          [
           "Software Engineer",
           406
          ],
          [
           "Software Engineer",
           145
          ],
          [
           "Software Engineer",
           426
          ],
          [
           "Software Engineer",
           221
          ],
          [
           "Software Engineer",
           161
          ],
          [
           "Software Engineer",
           274
          ],
          [
           "Software Engineer",
           46
          ],
          [
           "Software Engineer",
           243
          ],
          [
           "Software Engineer",
           95
          ],
          [
           "Software Engineer",
           448
          ],
          [
           "Software Engineer",
           336
          ],
          [
           "Software Engineer",
           78
          ],
          [
           "Software Engineer",
           303
          ],
          [
           "Software Engineer",
           338
          ],
          [
           "Software Engineer",
           99
          ],
          [
           "Software Engineer",
           76
          ],
          [
           "Software Engineer",
           48
          ],
          [
           "Software Engineer",
           63
          ],
          [
           "Software Engineer",
           464
          ],
          [
           "Software Engineer",
           429
          ],
          [
           "Software Engineer",
           158
          ],
          [
           "Software Engineer",
           201
          ],
          [
           "Software Engineer",
           224
          ],
          [
           "Software Engineer",
           488
          ],
          [
           "Software Engineer",
           416
          ],
          [
           "Software Engineer",
           495
          ],
          [
           "Software Engineer",
           48
          ],
          [
           "Software Engineer",
           202
          ],
          [
           "Software Engineer",
           345
          ],
          [
           "Software Engineer",
           366
          ],
          [
           "Software Engineer",
           210
          ],
          [
           "Software Engineer",
           142
          ],
          [
           "Software Engineer",
           399
          ],
          [
           "Software Engineer",
           107
          ],
          [
           "Software Engineer",
           242
          ],
          [
           "Software Engineer",
           283
          ],
          [
           "Software Engineer",
           304
          ],
          [
           "Software Engineer",
           330
          ],
          [
           "Software Engineer",
           422
          ],
          [
           "Software Engineer",
           132
          ],
          [
           "Software Engineer",
           90
          ],
          [
           "Software Engineer",
           149
          ],
          [
           "Software Engineer",
           457
          ],
          [
           "Software Engineer",
           158
          ],
          [
           "Software Engineer",
           50
          ],
          [
           "Software Engineer",
           497
          ],
          [
           "Software Engineer",
           91
          ],
          [
           "Software Engineer",
           329
          ],
          [
           "Software Engineer",
           276
          ],
          [
           "Software Engineer",
           393
          ],
          [
           "Software Engineer",
           392
          ],
          [
           "Software Engineer",
           150
          ],
          [
           "Software Engineer",
           369
          ],
          [
           "Software Engineer",
           31
          ],
          [
           "Software Engineer",
           345
          ],
          [
           "Software Engineer",
           367
          ],
          [
           "Software Engineer",
           405
          ],
          [
           "Software Engineer",
           93
          ],
          [
           "Software Engineer",
           174
          ],
          [
           "Software Engineer",
           196
          ],
          [
           "Software Engineer",
           419
          ],
          [
           "Software Engineer",
           317
          ],
          [
           "Software Engineer",
           454
          ],
          [
           "Software Engineer",
           437
          ],
          [
           "Software Engineer",
           278
          ],
          [
           "Software Engineer",
           151
          ],
          [
           "Software Engineer",
           163
          ],
          [
           "Software Engineer",
           129
          ],
          [
           "Software Engineer",
           171
          ],
          [
           "Software Engineer",
           296
          ],
          [
           "Software Engineer",
           28
          ],
          [
           "Software Engineer",
           231
          ],
          [
           "Software Engineer",
           285
          ],
          [
           "Software Engineer",
           11
          ],
          [
           "Software Engineer",
           430
          ],
          [
           "Software Engineer",
           295
          ],
          [
           "Software Engineer",
           298
          ],
          [
           "Software Engineer",
           106
          ],
          [
           "Software Engineer",
           281
          ],
          [
           "Software Engineer",
           442
          ],
          [
           "Software Engineer",
           88
          ],
          [
           "Software Engineer",
           421
          ],
          [
           "Software Engineer",
           344
          ],
          [
           "Software Engineer",
           395
          ],
          [
           "Software Engineer",
           10
          ],
          [
           "Software Engineer",
           218
          ],
          [
           "Software Engineer",
           435
          ],
          [
           "Software Engineer",
           404
          ],
          [
           "Software Engineer",
           332
          ],
          [
           "Software Engineer",
           181
          ],
          [
           "Software Engineer",
           389
          ],
          [
           "Software Engineer",
           427
          ],
          [
           "Software Engineer",
           340
          ],
          [
           "Software Engineer",
           96
          ],
          [
           "Software Engineer",
           271
          ],
          [
           "Software Engineer",
           162
          ],
          [
           "Software Engineer",
           378
          ],
          [
           "Software Engineer",
           148
          ],
          [
           "Software Engineer",
           457
          ],
          [
           "Software Engineer",
           77
          ],
          [
           "Software Engineer",
           52
          ],
          [
           "Software Engineer",
           225
          ],
          [
           "Software Engineer",
           338
          ],
          [
           "Software Engineer",
           295
          ],
          [
           "Software Engineer",
           270
          ],
          [
           "Software Engineer",
           466
          ],
          [
           "Software Engineer",
           79
          ],
          [
           "Software Engineer",
           162
          ],
          [
           "Software Engineer",
           40
          ],
          [
           "Software Engineer",
           433
          ],
          [
           "Software Engineer",
           377
          ],
          [
           "Software Engineer",
           15
          ],
          [
           "Software Engineer",
           150
          ],
          [
           "Software Engineer",
           124
          ],
          [
           "Software Engineer",
           454
          ],
          [
           "Software Engineer",
           489
          ],
          [
           "Software Engineer",
           353
          ],
          [
           "Software Engineer",
           173
          ],
          [
           "Software Engineer",
           358
          ],
          [
           "Software Engineer",
           79
          ],
          [
           "Software Engineer",
           108
          ],
          [
           "Software Engineer",
           305
          ],
          [
           "Software Engineer",
           167
          ],
          [
           "Software Engineer",
           488
          ],
          [
           "Software Engineer",
           460
          ],
          [
           "Software Engineer",
           448
          ],
          [
           "Software Engineer",
           38
          ],
          [
           "Software Engineer",
           171
          ],
          [
           "Software Engineer",
           59
          ],
          [
           "Software Engineer",
           118
          ],
          [
           "Software Engineer",
           196
          ],
          [
           "Software Engineer",
           193
          ],
          [
           "Software Engineer",
           371
          ],
          [
           "Software Engineer",
           21
          ],
          [
           "Software Engineer",
           346
          ],
          [
           "Software Engineer",
           469
          ],
          [
           "Software Engineer",
           43
          ],
          [
           "Software Engineer",
           462
          ],
          [
           "Software Engineer",
           278
          ],
          [
           "Software Engineer",
           87
          ],
          [
           "Software Engineer",
           357
          ],
          [
           "Software Engineer",
           291
          ],
          [
           "Software Engineer",
           88
          ],
          [
           "Software Engineer",
           290
          ],
          [
           "Software Engineer",
           279
          ],
          [
           "Software Engineer",
           403
          ],
          [
           "Software Engineer",
           196
          ],
          [
           "Software Engineer",
           280
          ],
          [
           "Software Engineer",
           319
          ],
          [
           "Software Engineer",
           427
          ],
          [
           "Software Engineer",
           104
          ],
          [
           "Software Engineer",
           62
          ],
          [
           "Software Engineer",
           276
          ],
          [
           "Software Engineer",
           70
          ],
          [
           "Software Engineer",
           112
          ],
          [
           "Software Engineer",
           227
          ],
          [
           "Software Engineer",
           227
          ],
          [
           "Software Engineer",
           436
          ],
          [
           "Software Engineer",
           451
          ],
          [
           "Software Engineer",
           48
          ],
          [
           "Software Engineer",
           428
          ],
          [
           "Software Engineer",
           428
          ]
         ],
         "hovertemplate": "<b>%{hovertext}</b><br><br>Job Location=Ahmedabad<br>Number of Applicants=%{customdata[1]}<br>Latitude=%{lat}<br>Longitude=%{lon}<br>Job Title=%{customdata[0]}<extra></extra>",
         "hovertext": [
          "Ahmedabad",
          "Ahmedabad",
          "Ahmedabad",
          "Ahmedabad",
          "Ahmedabad",
          "Ahmedabad",
          "Ahmedabad",
          "Ahmedabad",
          "Ahmedabad",
          "Ahmedabad",
          "Ahmedabad",
          "Ahmedabad",
          "Ahmedabad",
          "Ahmedabad",
          "Ahmedabad",
          "Ahmedabad",
          "Ahmedabad",
          "Ahmedabad",
          "Ahmedabad",
          "Ahmedabad",
          "Ahmedabad",
          "Ahmedabad",
          "Ahmedabad",
          "Ahmedabad",
          "Ahmedabad",
          "Ahmedabad",
          "Ahmedabad",
          "Ahmedabad",
          "Ahmedabad",
          "Ahmedabad",
          "Ahmedabad",
          "Ahmedabad",
          "Ahmedabad",
          "Ahmedabad",
          "Ahmedabad",
          "Ahmedabad",
          "Ahmedabad",
          "Ahmedabad",
          "Ahmedabad",
          "Ahmedabad",
          "Ahmedabad",
          "Ahmedabad",
          "Ahmedabad",
          "Ahmedabad",
          "Ahmedabad",
          "Ahmedabad",
          "Ahmedabad",
          "Ahmedabad",
          "Ahmedabad",
          "Ahmedabad",
          "Ahmedabad",
          "Ahmedabad",
          "Ahmedabad",
          "Ahmedabad",
          "Ahmedabad",
          "Ahmedabad",
          "Ahmedabad",
          "Ahmedabad",
          "Ahmedabad",
          "Ahmedabad",
          "Ahmedabad",
          "Ahmedabad",
          "Ahmedabad",
          "Ahmedabad",
          "Ahmedabad",
          "Ahmedabad",
          "Ahmedabad",
          "Ahmedabad",
          "Ahmedabad",
          "Ahmedabad",
          "Ahmedabad",
          "Ahmedabad",
          "Ahmedabad",
          "Ahmedabad",
          "Ahmedabad",
          "Ahmedabad",
          "Ahmedabad",
          "Ahmedabad",
          "Ahmedabad",
          "Ahmedabad",
          "Ahmedabad",
          "Ahmedabad",
          "Ahmedabad",
          "Ahmedabad",
          "Ahmedabad",
          "Ahmedabad",
          "Ahmedabad",
          "Ahmedabad",
          "Ahmedabad",
          "Ahmedabad",
          "Ahmedabad",
          "Ahmedabad",
          "Ahmedabad",
          "Ahmedabad",
          "Ahmedabad",
          "Ahmedabad",
          "Ahmedabad",
          "Ahmedabad",
          "Ahmedabad",
          "Ahmedabad",
          "Ahmedabad",
          "Ahmedabad",
          "Ahmedabad",
          "Ahmedabad",
          "Ahmedabad",
          "Ahmedabad",
          "Ahmedabad",
          "Ahmedabad",
          "Ahmedabad",
          "Ahmedabad",
          "Ahmedabad",
          "Ahmedabad",
          "Ahmedabad",
          "Ahmedabad",
          "Ahmedabad",
          "Ahmedabad",
          "Ahmedabad",
          "Ahmedabad",
          "Ahmedabad",
          "Ahmedabad",
          "Ahmedabad",
          "Ahmedabad",
          "Ahmedabad",
          "Ahmedabad",
          "Ahmedabad",
          "Ahmedabad",
          "Ahmedabad",
          "Ahmedabad",
          "Ahmedabad",
          "Ahmedabad",
          "Ahmedabad",
          "Ahmedabad",
          "Ahmedabad",
          "Ahmedabad",
          "Ahmedabad",
          "Ahmedabad",
          "Ahmedabad",
          "Ahmedabad",
          "Ahmedabad",
          "Ahmedabad",
          "Ahmedabad",
          "Ahmedabad",
          "Ahmedabad",
          "Ahmedabad",
          "Ahmedabad",
          "Ahmedabad",
          "Ahmedabad",
          "Ahmedabad",
          "Ahmedabad",
          "Ahmedabad",
          "Ahmedabad",
          "Ahmedabad",
          "Ahmedabad",
          "Ahmedabad",
          "Ahmedabad",
          "Ahmedabad",
          "Ahmedabad",
          "Ahmedabad",
          "Ahmedabad",
          "Ahmedabad",
          "Ahmedabad",
          "Ahmedabad",
          "Ahmedabad",
          "Ahmedabad",
          "Ahmedabad",
          "Ahmedabad",
          "Ahmedabad",
          "Ahmedabad",
          "Ahmedabad",
          "Ahmedabad",
          "Ahmedabad",
          "Ahmedabad",
          "Ahmedabad",
          "Ahmedabad",
          "Ahmedabad",
          "Ahmedabad",
          "Ahmedabad",
          "Ahmedabad",
          "Ahmedabad",
          "Ahmedabad",
          "Ahmedabad",
          "Ahmedabad",
          "Ahmedabad",
          "Ahmedabad",
          "Ahmedabad",
          "Ahmedabad",
          "Ahmedabad",
          "Ahmedabad",
          "Ahmedabad",
          "Ahmedabad",
          "Ahmedabad",
          "Ahmedabad",
          "Ahmedabad",
          "Ahmedabad",
          "Ahmedabad",
          "Ahmedabad",
          "Ahmedabad",
          "Ahmedabad",
          "Ahmedabad",
          "Ahmedabad",
          "Ahmedabad",
          "Ahmedabad",
          "Ahmedabad",
          "Ahmedabad",
          "Ahmedabad",
          "Ahmedabad",
          "Ahmedabad",
          "Ahmedabad",
          "Ahmedabad"
         ],
         "lat": [
          23.0225,
          23.0225,
          23.0225,
          23.0225,
          23.0225,
          23.0225,
          23.0225,
          23.0225,
          23.0225,
          23.0225,
          23.0225,
          23.0225,
          23.0225,
          23.0225,
          23.0225,
          23.0225,
          23.0225,
          23.0225,
          23.0225,
          23.0225,
          23.0225,
          23.0225,
          23.0225,
          23.0225,
          23.0225,
          23.0225,
          23.0225,
          23.0225,
          23.0225,
          23.0225,
          23.0225,
          23.0225,
          23.0225,
          23.0225,
          23.0225,
          23.0225,
          23.0225,
          23.0225,
          23.0225,
          23.0225,
          23.0225,
          23.0225,
          23.0225,
          23.0225,
          23.0225,
          23.0225,
          23.0225,
          23.0225,
          23.0225,
          23.0225,
          23.0225,
          23.0225,
          23.0225,
          23.0225,
          23.0225,
          23.0225,
          23.0225,
          23.0225,
          23.0225,
          23.0225,
          23.0225,
          23.0225,
          23.0225,
          23.0225,
          23.0225,
          23.0225,
          23.0225,
          23.0225,
          23.0225,
          23.0225,
          23.0225,
          23.0225,
          23.0225,
          23.0225,
          23.0225,
          23.0225,
          23.0225,
          23.0225,
          23.0225,
          23.0225,
          23.0225,
          23.0225,
          23.0225,
          23.0225,
          23.0225,
          23.0225,
          23.0225,
          23.0225,
          23.0225,
          23.0225,
          23.0225,
          23.0225,
          23.0225,
          23.0225,
          23.0225,
          23.0225,
          23.0225,
          23.0225,
          23.0225,
          23.0225,
          23.0225,
          23.0225,
          23.0225,
          23.0225,
          23.0225,
          23.0225,
          23.0225,
          23.0225,
          23.0225,
          23.0225,
          23.0225,
          23.0225,
          23.0225,
          23.0225,
          23.0225,
          23.0225,
          23.0225,
          23.0225,
          23.0225,
          23.0225,
          23.0225,
          23.0225,
          23.0225,
          23.0225,
          23.0225,
          23.0225,
          23.0225,
          23.0225,
          23.0225,
          23.0225,
          23.0225,
          23.0225,
          23.0225,
          23.0225,
          23.0225,
          23.0225,
          23.0225,
          23.0225,
          23.0225,
          23.0225,
          23.0225,
          23.0225,
          23.0225,
          23.0225,
          23.0225,
          23.0225,
          23.0225,
          23.0225,
          23.0225,
          23.0225,
          23.0225,
          23.0225,
          23.0225,
          23.0225,
          23.0225,
          23.0225,
          23.0225,
          23.0225,
          23.0225,
          23.0225,
          23.0225,
          23.0225,
          23.0225,
          23.0225,
          23.0225,
          23.0225,
          23.0225,
          23.0225,
          23.0225,
          23.0225,
          23.0225,
          23.0225,
          23.0225,
          23.0225,
          23.0225,
          23.0225,
          23.0225,
          23.0225,
          23.0225,
          23.0225,
          23.0225,
          23.0225,
          23.0225,
          23.0225,
          23.0225,
          23.0225,
          23.0225,
          23.0225,
          23.0225,
          23.0225,
          23.0225,
          23.0225,
          23.0225,
          23.0225,
          23.0225,
          23.0225,
          23.0225,
          23.0225,
          23.0225,
          23.0225,
          23.0225,
          23.0225,
          23.0225,
          23.0225,
          23.0225,
          23.0225,
          23.0225,
          23.0225,
          23.0225
         ],
         "legendgroup": "Ahmedabad",
         "lon": [
          72.5714,
          72.5714,
          72.5714,
          72.5714,
          72.5714,
          72.5714,
          72.5714,
          72.5714,
          72.5714,
          72.5714,
          72.5714,
          72.5714,
          72.5714,
          72.5714,
          72.5714,
          72.5714,
          72.5714,
          72.5714,
          72.5714,
          72.5714,
          72.5714,
          72.5714,
          72.5714,
          72.5714,
          72.5714,
          72.5714,
          72.5714,
          72.5714,
          72.5714,
          72.5714,
          72.5714,
          72.5714,
          72.5714,
          72.5714,
          72.5714,
          72.5714,
          72.5714,
          72.5714,
          72.5714,
          72.5714,
          72.5714,
          72.5714,
          72.5714,
          72.5714,
          72.5714,
          72.5714,
          72.5714,
          72.5714,
          72.5714,
          72.5714,
          72.5714,
          72.5714,
          72.5714,
          72.5714,
          72.5714,
          72.5714,
          72.5714,
          72.5714,
          72.5714,
          72.5714,
          72.5714,
          72.5714,
          72.5714,
          72.5714,
          72.5714,
          72.5714,
          72.5714,
          72.5714,
          72.5714,
          72.5714,
          72.5714,
          72.5714,
          72.5714,
          72.5714,
          72.5714,
          72.5714,
          72.5714,
          72.5714,
          72.5714,
          72.5714,
          72.5714,
          72.5714,
          72.5714,
          72.5714,
          72.5714,
          72.5714,
          72.5714,
          72.5714,
          72.5714,
          72.5714,
          72.5714,
          72.5714,
          72.5714,
          72.5714,
          72.5714,
          72.5714,
          72.5714,
          72.5714,
          72.5714,
          72.5714,
          72.5714,
          72.5714,
          72.5714,
          72.5714,
          72.5714,
          72.5714,
          72.5714,
          72.5714,
          72.5714,
          72.5714,
          72.5714,
          72.5714,
          72.5714,
          72.5714,
          72.5714,
          72.5714,
          72.5714,
          72.5714,
          72.5714,
          72.5714,
          72.5714,
          72.5714,
          72.5714,
          72.5714,
          72.5714,
          72.5714,
          72.5714,
          72.5714,
          72.5714,
          72.5714,
          72.5714,
          72.5714,
          72.5714,
          72.5714,
          72.5714,
          72.5714,
          72.5714,
          72.5714,
          72.5714,
          72.5714,
          72.5714,
          72.5714,
          72.5714,
          72.5714,
          72.5714,
          72.5714,
          72.5714,
          72.5714,
          72.5714,
          72.5714,
          72.5714,
          72.5714,
          72.5714,
          72.5714,
          72.5714,
          72.5714,
          72.5714,
          72.5714,
          72.5714,
          72.5714,
          72.5714,
          72.5714,
          72.5714,
          72.5714,
          72.5714,
          72.5714,
          72.5714,
          72.5714,
          72.5714,
          72.5714,
          72.5714,
          72.5714,
          72.5714,
          72.5714,
          72.5714,
          72.5714,
          72.5714,
          72.5714,
          72.5714,
          72.5714,
          72.5714,
          72.5714,
          72.5714,
          72.5714,
          72.5714,
          72.5714,
          72.5714,
          72.5714,
          72.5714,
          72.5714,
          72.5714,
          72.5714,
          72.5714,
          72.5714,
          72.5714,
          72.5714,
          72.5714,
          72.5714,
          72.5714,
          72.5714,
          72.5714,
          72.5714,
          72.5714,
          72.5714,
          72.5714,
          72.5714,
          72.5714,
          72.5714,
          72.5714
         ],
         "marker": {
          "color": "#636efa",
          "size": [
           23,
           410,
           85,
           100,
           56,
           265,
           27,
           447,
           49,
           130,
           15,
           116,
           225,
           17,
           55,
           438,
           269,
           316,
           167,
           89,
           483,
           481,
           257,
           71,
           414,
           437,
           13,
           96,
           281,
           100,
           164,
           168,
           433,
           428,
           311,
           203,
           228,
           376,
           457,
           460,
           102,
           254,
           226,
           437,
           221,
           344,
           302,
           406,
           145,
           426,
           221,
           161,
           274,
           46,
           243,
           95,
           448,
           336,
           78,
           303,
           338,
           99,
           76,
           48,
           63,
           464,
           429,
           158,
           201,
           224,
           488,
           416,
           495,
           48,
           202,
           345,
           366,
           210,
           142,
           399,
           107,
           242,
           283,
           304,
           330,
           422,
           132,
           90,
           149,
           457,
           158,
           50,
           497,
           91,
           329,
           276,
           393,
           392,
           150,
           369,
           31,
           345,
           367,
           405,
           93,
           174,
           196,
           419,
           317,
           454,
           437,
           278,
           151,
           163,
           129,
           171,
           296,
           28,
           231,
           285,
           11,
           430,
           295,
           298,
           106,
           281,
           442,
           88,
           421,
           344,
           395,
           10,
           218,
           435,
           404,
           332,
           181,
           389,
           427,
           340,
           96,
           271,
           162,
           378,
           148,
           457,
           77,
           52,
           225,
           338,
           295,
           270,
           466,
           79,
           162,
           40,
           433,
           377,
           15,
           150,
           124,
           454,
           489,
           353,
           173,
           358,
           79,
           108,
           305,
           167,
           488,
           460,
           448,
           38,
           171,
           59,
           118,
           196,
           193,
           371,
           21,
           346,
           469,
           43,
           462,
           278,
           87,
           357,
           291,
           88,
           290,
           279,
           403,
           196,
           280,
           319,
           427,
           104,
           62,
           276,
           70,
           112,
           227,
           227,
           436,
           451,
           48,
           428,
           428
          ],
          "sizemode": "area",
          "sizeref": 0.2
         },
         "mode": "markers",
         "name": "Ahmedabad",
         "showlegend": true,
         "subplot": "mapbox",
         "type": "scattermapbox"
        },
        {
         "customdata": [
          [
           "Software Engineer",
           199
          ],
          [
           "Software Engineer",
           265
          ],
          [
           "Software Engineer",
           158
          ],
          [
           "Software Engineer",
           10
          ],
          [
           "Software Engineer",
           370
          ],
          [
           "Software Engineer",
           358
          ],
          [
           "Software Engineer",
           33
          ],
          [
           "Software Engineer",
           128
          ],
          [
           "Software Engineer",
           13
          ],
          [
           "Software Engineer",
           163
          ],
          [
           "Software Engineer",
           436
          ],
          [
           "Software Engineer",
           108
          ],
          [
           "Software Engineer",
           248
          ],
          [
           "Software Engineer",
           268
          ],
          [
           "Software Engineer",
           321
          ],
          [
           "Software Engineer",
           475
          ],
          [
           "Software Engineer",
           420
          ],
          [
           "Software Engineer",
           232
          ],
          [
           "Software Engineer",
           444
          ],
          [
           "Software Engineer",
           225
          ],
          [
           "Software Engineer",
           339
          ],
          [
           "Software Engineer",
           97
          ],
          [
           "Software Engineer",
           418
          ],
          [
           "Software Engineer",
           23
          ],
          [
           "Software Engineer",
           332
          ],
          [
           "Software Engineer",
           144
          ],
          [
           "Software Engineer",
           490
          ],
          [
           "Software Engineer",
           325
          ],
          [
           "Software Engineer",
           25
          ],
          [
           "Software Engineer",
           271
          ],
          [
           "Software Engineer",
           286
          ],
          [
           "Software Engineer",
           224
          ],
          [
           "Software Engineer",
           421
          ],
          [
           "Software Engineer",
           427
          ],
          [
           "Software Engineer",
           277
          ],
          [
           "Software Engineer",
           292
          ],
          [
           "Software Engineer",
           338
          ],
          [
           "Software Engineer",
           217
          ],
          [
           "Software Engineer",
           239
          ],
          [
           "Software Engineer",
           395
          ],
          [
           "Software Engineer",
           117
          ],
          [
           "Software Engineer",
           490
          ],
          [
           "Software Engineer",
           319
          ],
          [
           "Software Engineer",
           467
          ],
          [
           "Software Engineer",
           34
          ],
          [
           "Software Engineer",
           473
          ],
          [
           "Software Engineer",
           84
          ],
          [
           "Software Engineer",
           132
          ],
          [
           "Software Engineer",
           397
          ],
          [
           "Software Engineer",
           454
          ],
          [
           "Software Engineer",
           353
          ],
          [
           "Software Engineer",
           140
          ],
          [
           "Software Engineer",
           145
          ],
          [
           "Software Engineer",
           46
          ],
          [
           "Software Engineer",
           373
          ],
          [
           "Software Engineer",
           191
          ],
          [
           "Software Engineer",
           267
          ],
          [
           "Software Engineer",
           72
          ],
          [
           "Software Engineer",
           421
          ],
          [
           "Software Engineer",
           124
          ],
          [
           "Software Engineer",
           418
          ],
          [
           "Software Engineer",
           258
          ],
          [
           "Software Engineer",
           468
          ],
          [
           "Software Engineer",
           456
          ],
          [
           "Software Engineer",
           12
          ],
          [
           "Software Engineer",
           253
          ],
          [
           "Software Engineer",
           138
          ],
          [
           "Software Engineer",
           54
          ],
          [
           "Software Engineer",
           494
          ],
          [
           "Software Engineer",
           243
          ],
          [
           "Software Engineer",
           463
          ],
          [
           "Software Engineer",
           212
          ],
          [
           "Software Engineer",
           27
          ],
          [
           "Software Engineer",
           277
          ],
          [
           "Software Engineer",
           276
          ],
          [
           "Software Engineer",
           251
          ],
          [
           "Software Engineer",
           189
          ],
          [
           "Software Engineer",
           133
          ],
          [
           "Software Engineer",
           400
          ],
          [
           "Software Engineer",
           314
          ],
          [
           "Software Engineer",
           253
          ],
          [
           "Software Engineer",
           62
          ],
          [
           "Software Engineer",
           479
          ],
          [
           "Software Engineer",
           250
          ],
          [
           "Software Engineer",
           425
          ],
          [
           "Software Engineer",
           470
          ],
          [
           "Software Engineer",
           424
          ],
          [
           "Software Engineer",
           30
          ],
          [
           "Software Engineer",
           145
          ],
          [
           "Software Engineer",
           217
          ],
          [
           "Software Engineer",
           164
          ],
          [
           "Software Engineer",
           270
          ],
          [
           "Software Engineer",
           47
          ],
          [
           "Software Engineer",
           39
          ],
          [
           "Software Engineer",
           401
          ],
          [
           "Software Engineer",
           147
          ],
          [
           "Software Engineer",
           314
          ],
          [
           "Software Engineer",
           403
          ],
          [
           "Software Engineer",
           198
          ],
          [
           "Software Engineer",
           355
          ],
          [
           "Software Engineer",
           215
          ],
          [
           "Software Engineer",
           480
          ],
          [
           "Software Engineer",
           125
          ],
          [
           "Software Engineer",
           138
          ],
          [
           "Software Engineer",
           486
          ],
          [
           "Software Engineer",
           299
          ],
          [
           "Software Engineer",
           279
          ],
          [
           "Software Engineer",
           372
          ],
          [
           "Software Engineer",
           42
          ],
          [
           "Software Engineer",
           120
          ],
          [
           "Software Engineer",
           478
          ],
          [
           "Software Engineer",
           63
          ],
          [
           "Software Engineer",
           301
          ],
          [
           "Software Engineer",
           347
          ],
          [
           "Software Engineer",
           220
          ],
          [
           "Software Engineer",
           87
          ],
          [
           "Software Engineer",
           485
          ],
          [
           "Software Engineer",
           28
          ],
          [
           "Software Engineer",
           133
          ],
          [
           "Software Engineer",
           229
          ],
          [
           "Software Engineer",
           380
          ],
          [
           "Software Engineer",
           371
          ],
          [
           "Software Engineer",
           290
          ],
          [
           "Software Engineer",
           20
          ],
          [
           "Software Engineer",
           451
          ],
          [
           "Software Engineer",
           271
          ],
          [
           "Software Engineer",
           388
          ],
          [
           "Software Engineer",
           305
          ],
          [
           "Software Engineer",
           381
          ],
          [
           "Software Engineer",
           135
          ],
          [
           "Software Engineer",
           500
          ],
          [
           "Software Engineer",
           192
          ],
          [
           "Software Engineer",
           219
          ],
          [
           "Software Engineer",
           99
          ],
          [
           "Software Engineer",
           12
          ],
          [
           "Software Engineer",
           204
          ],
          [
           "Software Engineer",
           408
          ],
          [
           "Software Engineer",
           240
          ],
          [
           "Software Engineer",
           43
          ],
          [
           "Software Engineer",
           140
          ],
          [
           "Software Engineer",
           26
          ],
          [
           "Software Engineer",
           417
          ],
          [
           "Software Engineer",
           158
          ],
          [
           "Software Engineer",
           20
          ],
          [
           "Software Engineer",
           10
          ],
          [
           "Software Engineer",
           161
          ],
          [
           "Software Engineer",
           350
          ],
          [
           "Software Engineer",
           204
          ],
          [
           "Software Engineer",
           72
          ],
          [
           "Software Engineer",
           47
          ],
          [
           "Software Engineer",
           18
          ],
          [
           "Software Engineer",
           56
          ],
          [
           "Software Engineer",
           436
          ],
          [
           "Software Engineer",
           146
          ],
          [
           "Software Engineer",
           195
          ],
          [
           "Software Engineer",
           150
          ],
          [
           "Software Engineer",
           440
          ],
          [
           "Software Engineer",
           338
          ],
          [
           "Software Engineer",
           263
          ],
          [
           "Software Engineer",
           439
          ],
          [
           "Software Engineer",
           440
          ],
          [
           "Software Engineer",
           363
          ],
          [
           "Software Engineer",
           420
          ],
          [
           "Software Engineer",
           451
          ],
          [
           "Software Engineer",
           298
          ],
          [
           "Software Engineer",
           252
          ],
          [
           "Software Engineer",
           122
          ],
          [
           "Software Engineer",
           327
          ],
          [
           "Software Engineer",
           159
          ],
          [
           "Software Engineer",
           378
          ],
          [
           "Software Engineer",
           128
          ],
          [
           "Software Engineer",
           466
          ],
          [
           "Software Engineer",
           322
          ],
          [
           "Software Engineer",
           474
          ],
          [
           "Software Engineer",
           281
          ],
          [
           "Software Engineer",
           185
          ],
          [
           "Software Engineer",
           490
          ],
          [
           "Software Engineer",
           473
          ],
          [
           "Software Engineer",
           356
          ],
          [
           "Software Engineer",
           374
          ],
          [
           "Software Engineer",
           177
          ],
          [
           "Software Engineer",
           30
          ],
          [
           "Software Engineer",
           209
          ],
          [
           "Software Engineer",
           237
          ],
          [
           "Software Engineer",
           20
          ],
          [
           "Software Engineer",
           60
          ]
         ],
         "hovertemplate": "<b>%{hovertext}</b><br><br>Job Location=Delhi<br>Number of Applicants=%{customdata[1]}<br>Latitude=%{lat}<br>Longitude=%{lon}<br>Job Title=%{customdata[0]}<extra></extra>",
         "hovertext": [
          "Delhi",
          "Delhi",
          "Delhi",
          "Delhi",
          "Delhi",
          "Delhi",
          "Delhi",
          "Delhi",
          "Delhi",
          "Delhi",
          "Delhi",
          "Delhi",
          "Delhi",
          "Delhi",
          "Delhi",
          "Delhi",
          "Delhi",
          "Delhi",
          "Delhi",
          "Delhi",
          "Delhi",
          "Delhi",
          "Delhi",
          "Delhi",
          "Delhi",
          "Delhi",
          "Delhi",
          "Delhi",
          "Delhi",
          "Delhi",
          "Delhi",
          "Delhi",
          "Delhi",
          "Delhi",
          "Delhi",
          "Delhi",
          "Delhi",
          "Delhi",
          "Delhi",
          "Delhi",
          "Delhi",
          "Delhi",
          "Delhi",
          "Delhi",
          "Delhi",
          "Delhi",
          "Delhi",
          "Delhi",
          "Delhi",
          "Delhi",
          "Delhi",
          "Delhi",
          "Delhi",
          "Delhi",
          "Delhi",
          "Delhi",
          "Delhi",
          "Delhi",
          "Delhi",
          "Delhi",
          "Delhi",
          "Delhi",
          "Delhi",
          "Delhi",
          "Delhi",
          "Delhi",
          "Delhi",
          "Delhi",
          "Delhi",
          "Delhi",
          "Delhi",
          "Delhi",
          "Delhi",
          "Delhi",
          "Delhi",
          "Delhi",
          "Delhi",
          "Delhi",
          "Delhi",
          "Delhi",
          "Delhi",
          "Delhi",
          "Delhi",
          "Delhi",
          "Delhi",
          "Delhi",
          "Delhi",
          "Delhi",
          "Delhi",
          "Delhi",
          "Delhi",
          "Delhi",
          "Delhi",
          "Delhi",
          "Delhi",
          "Delhi",
          "Delhi",
          "Delhi",
          "Delhi",
          "Delhi",
          "Delhi",
          "Delhi",
          "Delhi",
          "Delhi",
          "Delhi",
          "Delhi",
          "Delhi",
          "Delhi",
          "Delhi",
          "Delhi",
          "Delhi",
          "Delhi",
          "Delhi",
          "Delhi",
          "Delhi",
          "Delhi",
          "Delhi",
          "Delhi",
          "Delhi",
          "Delhi",
          "Delhi",
          "Delhi",
          "Delhi",
          "Delhi",
          "Delhi",
          "Delhi",
          "Delhi",
          "Delhi",
          "Delhi",
          "Delhi",
          "Delhi",
          "Delhi",
          "Delhi",
          "Delhi",
          "Delhi",
          "Delhi",
          "Delhi",
          "Delhi",
          "Delhi",
          "Delhi",
          "Delhi",
          "Delhi",
          "Delhi",
          "Delhi",
          "Delhi",
          "Delhi",
          "Delhi",
          "Delhi",
          "Delhi",
          "Delhi",
          "Delhi",
          "Delhi",
          "Delhi",
          "Delhi",
          "Delhi",
          "Delhi",
          "Delhi",
          "Delhi",
          "Delhi",
          "Delhi",
          "Delhi",
          "Delhi",
          "Delhi",
          "Delhi",
          "Delhi",
          "Delhi",
          "Delhi",
          "Delhi",
          "Delhi",
          "Delhi",
          "Delhi",
          "Delhi",
          "Delhi",
          "Delhi",
          "Delhi",
          "Delhi",
          "Delhi",
          "Delhi",
          "Delhi",
          "Delhi",
          "Delhi",
          "Delhi",
          "Delhi",
          "Delhi",
          "Delhi",
          "Delhi"
         ],
         "lat": [
          28.7041,
          28.7041,
          28.7041,
          28.7041,
          28.7041,
          28.7041,
          28.7041,
          28.7041,
          28.7041,
          28.7041,
          28.7041,
          28.7041,
          28.7041,
          28.7041,
          28.7041,
          28.7041,
          28.7041,
          28.7041,
          28.7041,
          28.7041,
          28.7041,
          28.7041,
          28.7041,
          28.7041,
          28.7041,
          28.7041,
          28.7041,
          28.7041,
          28.7041,
          28.7041,
          28.7041,
          28.7041,
          28.7041,
          28.7041,
          28.7041,
          28.7041,
          28.7041,
          28.7041,
          28.7041,
          28.7041,
          28.7041,
          28.7041,
          28.7041,
          28.7041,
          28.7041,
          28.7041,
          28.7041,
          28.7041,
          28.7041,
          28.7041,
          28.7041,
          28.7041,
          28.7041,
          28.7041,
          28.7041,
          28.7041,
          28.7041,
          28.7041,
          28.7041,
          28.7041,
          28.7041,
          28.7041,
          28.7041,
          28.7041,
          28.7041,
          28.7041,
          28.7041,
          28.7041,
          28.7041,
          28.7041,
          28.7041,
          28.7041,
          28.7041,
          28.7041,
          28.7041,
          28.7041,
          28.7041,
          28.7041,
          28.7041,
          28.7041,
          28.7041,
          28.7041,
          28.7041,
          28.7041,
          28.7041,
          28.7041,
          28.7041,
          28.7041,
          28.7041,
          28.7041,
          28.7041,
          28.7041,
          28.7041,
          28.7041,
          28.7041,
          28.7041,
          28.7041,
          28.7041,
          28.7041,
          28.7041,
          28.7041,
          28.7041,
          28.7041,
          28.7041,
          28.7041,
          28.7041,
          28.7041,
          28.7041,
          28.7041,
          28.7041,
          28.7041,
          28.7041,
          28.7041,
          28.7041,
          28.7041,
          28.7041,
          28.7041,
          28.7041,
          28.7041,
          28.7041,
          28.7041,
          28.7041,
          28.7041,
          28.7041,
          28.7041,
          28.7041,
          28.7041,
          28.7041,
          28.7041,
          28.7041,
          28.7041,
          28.7041,
          28.7041,
          28.7041,
          28.7041,
          28.7041,
          28.7041,
          28.7041,
          28.7041,
          28.7041,
          28.7041,
          28.7041,
          28.7041,
          28.7041,
          28.7041,
          28.7041,
          28.7041,
          28.7041,
          28.7041,
          28.7041,
          28.7041,
          28.7041,
          28.7041,
          28.7041,
          28.7041,
          28.7041,
          28.7041,
          28.7041,
          28.7041,
          28.7041,
          28.7041,
          28.7041,
          28.7041,
          28.7041,
          28.7041,
          28.7041,
          28.7041,
          28.7041,
          28.7041,
          28.7041,
          28.7041,
          28.7041,
          28.7041,
          28.7041,
          28.7041,
          28.7041,
          28.7041,
          28.7041,
          28.7041,
          28.7041,
          28.7041,
          28.7041,
          28.7041,
          28.7041,
          28.7041,
          28.7041
         ],
         "legendgroup": "Delhi",
         "lon": [
          77.1025,
          77.1025,
          77.1025,
          77.1025,
          77.1025,
          77.1025,
          77.1025,
          77.1025,
          77.1025,
          77.1025,
          77.1025,
          77.1025,
          77.1025,
          77.1025,
          77.1025,
          77.1025,
          77.1025,
          77.1025,
          77.1025,
          77.1025,
          77.1025,
          77.1025,
          77.1025,
          77.1025,
          77.1025,
          77.1025,
          77.1025,
          77.1025,
          77.1025,
          77.1025,
          77.1025,
          77.1025,
          77.1025,
          77.1025,
          77.1025,
          77.1025,
          77.1025,
          77.1025,
          77.1025,
          77.1025,
          77.1025,
          77.1025,
          77.1025,
          77.1025,
          77.1025,
          77.1025,
          77.1025,
          77.1025,
          77.1025,
          77.1025,
          77.1025,
          77.1025,
          77.1025,
          77.1025,
          77.1025,
          77.1025,
          77.1025,
          77.1025,
          77.1025,
          77.1025,
          77.1025,
          77.1025,
          77.1025,
          77.1025,
          77.1025,
          77.1025,
          77.1025,
          77.1025,
          77.1025,
          77.1025,
          77.1025,
          77.1025,
          77.1025,
          77.1025,
          77.1025,
          77.1025,
          77.1025,
          77.1025,
          77.1025,
          77.1025,
          77.1025,
          77.1025,
          77.1025,
          77.1025,
          77.1025,
          77.1025,
          77.1025,
          77.1025,
          77.1025,
          77.1025,
          77.1025,
          77.1025,
          77.1025,
          77.1025,
          77.1025,
          77.1025,
          77.1025,
          77.1025,
          77.1025,
          77.1025,
          77.1025,
          77.1025,
          77.1025,
          77.1025,
          77.1025,
          77.1025,
          77.1025,
          77.1025,
          77.1025,
          77.1025,
          77.1025,
          77.1025,
          77.1025,
          77.1025,
          77.1025,
          77.1025,
          77.1025,
          77.1025,
          77.1025,
          77.1025,
          77.1025,
          77.1025,
          77.1025,
          77.1025,
          77.1025,
          77.1025,
          77.1025,
          77.1025,
          77.1025,
          77.1025,
          77.1025,
          77.1025,
          77.1025,
          77.1025,
          77.1025,
          77.1025,
          77.1025,
          77.1025,
          77.1025,
          77.1025,
          77.1025,
          77.1025,
          77.1025,
          77.1025,
          77.1025,
          77.1025,
          77.1025,
          77.1025,
          77.1025,
          77.1025,
          77.1025,
          77.1025,
          77.1025,
          77.1025,
          77.1025,
          77.1025,
          77.1025,
          77.1025,
          77.1025,
          77.1025,
          77.1025,
          77.1025,
          77.1025,
          77.1025,
          77.1025,
          77.1025,
          77.1025,
          77.1025,
          77.1025,
          77.1025,
          77.1025,
          77.1025,
          77.1025,
          77.1025,
          77.1025,
          77.1025,
          77.1025,
          77.1025,
          77.1025,
          77.1025,
          77.1025,
          77.1025,
          77.1025,
          77.1025,
          77.1025,
          77.1025
         ],
         "marker": {
          "color": "#EF553B",
          "size": [
           199,
           265,
           158,
           10,
           370,
           358,
           33,
           128,
           13,
           163,
           436,
           108,
           248,
           268,
           321,
           475,
           420,
           232,
           444,
           225,
           339,
           97,
           418,
           23,
           332,
           144,
           490,
           325,
           25,
           271,
           286,
           224,
           421,
           427,
           277,
           292,
           338,
           217,
           239,
           395,
           117,
           490,
           319,
           467,
           34,
           473,
           84,
           132,
           397,
           454,
           353,
           140,
           145,
           46,
           373,
           191,
           267,
           72,
           421,
           124,
           418,
           258,
           468,
           456,
           12,
           253,
           138,
           54,
           494,
           243,
           463,
           212,
           27,
           277,
           276,
           251,
           189,
           133,
           400,
           314,
           253,
           62,
           479,
           250,
           425,
           470,
           424,
           30,
           145,
           217,
           164,
           270,
           47,
           39,
           401,
           147,
           314,
           403,
           198,
           355,
           215,
           480,
           125,
           138,
           486,
           299,
           279,
           372,
           42,
           120,
           478,
           63,
           301,
           347,
           220,
           87,
           485,
           28,
           133,
           229,
           380,
           371,
           290,
           20,
           451,
           271,
           388,
           305,
           381,
           135,
           500,
           192,
           219,
           99,
           12,
           204,
           408,
           240,
           43,
           140,
           26,
           417,
           158,
           20,
           10,
           161,
           350,
           204,
           72,
           47,
           18,
           56,
           436,
           146,
           195,
           150,
           440,
           338,
           263,
           439,
           440,
           363,
           420,
           451,
           298,
           252,
           122,
           327,
           159,
           378,
           128,
           466,
           322,
           474,
           281,
           185,
           490,
           473,
           356,
           374,
           177,
           30,
           209,
           237,
           20,
           60
          ],
          "sizemode": "area",
          "sizeref": 0.2
         },
         "mode": "markers",
         "name": "Delhi",
         "showlegend": true,
         "subplot": "mapbox",
         "type": "scattermapbox"
        },
        {
         "customdata": [
          [
           "Software Engineer",
           489
          ],
          [
           "Software Engineer",
           311
          ],
          [
           "Software Engineer",
           234
          ],
          [
           "Software Engineer",
           85
          ],
          [
           "Software Engineer",
           409
          ],
          [
           "Software Engineer",
           304
          ],
          [
           "Software Engineer",
           154
          ],
          [
           "Software Engineer",
           269
          ],
          [
           "Software Engineer",
           31
          ],
          [
           "Software Engineer",
           406
          ],
          [
           "Software Engineer",
           312
          ],
          [
           "Software Engineer",
           346
          ],
          [
           "Software Engineer",
           472
          ],
          [
           "Software Engineer",
           156
          ],
          [
           "Software Engineer",
           194
          ],
          [
           "Software Engineer",
           151
          ],
          [
           "Software Engineer",
           125
          ],
          [
           "Software Engineer",
           172
          ],
          [
           "Software Engineer",
           72
          ],
          [
           "Software Engineer",
           249
          ],
          [
           "Software Engineer",
           46
          ],
          [
           "Software Engineer",
           145
          ],
          [
           "Software Engineer",
           324
          ],
          [
           "Software Engineer",
           271
          ],
          [
           "Software Engineer",
           330
          ],
          [
           "Software Engineer",
           139
          ],
          [
           "Software Engineer",
           481
          ],
          [
           "Software Engineer",
           199
          ],
          [
           "Software Engineer",
           75
          ],
          [
           "Software Engineer",
           356
          ],
          [
           "Software Engineer",
           469
          ],
          [
           "Software Engineer",
           411
          ],
          [
           "Software Engineer",
           371
          ],
          [
           "Software Engineer",
           395
          ],
          [
           "Software Engineer",
           344
          ],
          [
           "Software Engineer",
           346
          ],
          [
           "Software Engineer",
           230
          ],
          [
           "Software Engineer",
           139
          ],
          [
           "Software Engineer",
           121
          ],
          [
           "Software Engineer",
           285
          ],
          [
           "Software Engineer",
           42
          ],
          [
           "Software Engineer",
           164
          ],
          [
           "Software Engineer",
           168
          ],
          [
           "Software Engineer",
           54
          ],
          [
           "Software Engineer",
           298
          ],
          [
           "Software Engineer",
           12
          ],
          [
           "Software Engineer",
           439
          ],
          [
           "Software Engineer",
           36
          ],
          [
           "Software Engineer",
           468
          ],
          [
           "Software Engineer",
           445
          ],
          [
           "Software Engineer",
           441
          ],
          [
           "Software Engineer",
           446
          ],
          [
           "Software Engineer",
           358
          ],
          [
           "Software Engineer",
           382
          ],
          [
           "Software Engineer",
           261
          ],
          [
           "Software Engineer",
           137
          ],
          [
           "Software Engineer",
           467
          ],
          [
           "Software Engineer",
           404
          ],
          [
           "Software Engineer",
           88
          ],
          [
           "Software Engineer",
           302
          ],
          [
           "Software Engineer",
           123
          ],
          [
           "Software Engineer",
           270
          ],
          [
           "Software Engineer",
           364
          ],
          [
           "Software Engineer",
           467
          ],
          [
           "Software Engineer",
           49
          ],
          [
           "Software Engineer",
           294
          ],
          [
           "Software Engineer",
           342
          ],
          [
           "Software Engineer",
           293
          ],
          [
           "Software Engineer",
           92
          ],
          [
           "Software Engineer",
           187
          ],
          [
           "Software Engineer",
           226
          ],
          [
           "Software Engineer",
           404
          ],
          [
           "Software Engineer",
           70
          ],
          [
           "Software Engineer",
           218
          ],
          [
           "Software Engineer",
           212
          ],
          [
           "Software Engineer",
           53
          ],
          [
           "Software Engineer",
           326
          ],
          [
           "Software Engineer",
           56
          ],
          [
           "Software Engineer",
           135
          ],
          [
           "Software Engineer",
           89
          ],
          [
           "Software Engineer",
           173
          ],
          [
           "Software Engineer",
           310
          ],
          [
           "Software Engineer",
           412
          ],
          [
           "Software Engineer",
           110
          ],
          [
           "Software Engineer",
           138
          ],
          [
           "Software Engineer",
           191
          ],
          [
           "Software Engineer",
           284
          ],
          [
           "Software Engineer",
           41
          ],
          [
           "Software Engineer",
           138
          ],
          [
           "Software Engineer",
           235
          ],
          [
           "Software Engineer",
           310
          ],
          [
           "Software Engineer",
           248
          ],
          [
           "Software Engineer",
           240
          ],
          [
           "Software Engineer",
           469
          ],
          [
           "Software Engineer",
           56
          ],
          [
           "Software Engineer",
           468
          ],
          [
           "Software Engineer",
           351
          ],
          [
           "Software Engineer",
           393
          ],
          [
           "Software Engineer",
           377
          ],
          [
           "Software Engineer",
           145
          ],
          [
           "Software Engineer",
           476
          ],
          [
           "Software Engineer",
           386
          ],
          [
           "Software Engineer",
           64
          ],
          [
           "Software Engineer",
           111
          ],
          [
           "Software Engineer",
           122
          ],
          [
           "Software Engineer",
           18
          ],
          [
           "Software Engineer",
           215
          ],
          [
           "Software Engineer",
           409
          ],
          [
           "Software Engineer",
           67
          ],
          [
           "Software Engineer",
           71
          ],
          [
           "Software Engineer",
           364
          ],
          [
           "Software Engineer",
           469
          ],
          [
           "Software Engineer",
           380
          ],
          [
           "Software Engineer",
           450
          ],
          [
           "Software Engineer",
           99
          ],
          [
           "Software Engineer",
           168
          ],
          [
           "Software Engineer",
           295
          ],
          [
           "Software Engineer",
           437
          ],
          [
           "Software Engineer",
           454
          ],
          [
           "Software Engineer",
           485
          ],
          [
           "Software Engineer",
           204
          ],
          [
           "Software Engineer",
           138
          ],
          [
           "Software Engineer",
           298
          ],
          [
           "Software Engineer",
           383
          ],
          [
           "Software Engineer",
           312
          ],
          [
           "Software Engineer",
           353
          ],
          [
           "Software Engineer",
           174
          ],
          [
           "Software Engineer",
           473
          ],
          [
           "Software Engineer",
           43
          ],
          [
           "Software Engineer",
           206
          ],
          [
           "Software Engineer",
           375
          ],
          [
           "Software Engineer",
           408
          ],
          [
           "Software Engineer",
           147
          ],
          [
           "Software Engineer",
           54
          ],
          [
           "Software Engineer",
           444
          ],
          [
           "Software Engineer",
           306
          ],
          [
           "Software Engineer",
           299
          ],
          [
           "Software Engineer",
           459
          ],
          [
           "Software Engineer",
           417
          ],
          [
           "Software Engineer",
           80
          ],
          [
           "Software Engineer",
           387
          ],
          [
           "Software Engineer",
           311
          ],
          [
           "Software Engineer",
           385
          ],
          [
           "Software Engineer",
           402
          ],
          [
           "Software Engineer",
           289
          ],
          [
           "Software Engineer",
           218
          ],
          [
           "Software Engineer",
           426
          ],
          [
           "Software Engineer",
           283
          ],
          [
           "Software Engineer",
           409
          ],
          [
           "Software Engineer",
           220
          ],
          [
           "Software Engineer",
           151
          ],
          [
           "Software Engineer",
           370
          ],
          [
           "Software Engineer",
           302
          ],
          [
           "Software Engineer",
           43
          ],
          [
           "Software Engineer",
           460
          ],
          [
           "Software Engineer",
           73
          ],
          [
           "Software Engineer",
           208
          ],
          [
           "Software Engineer",
           406
          ],
          [
           "Software Engineer",
           323
          ],
          [
           "Software Engineer",
           127
          ],
          [
           "Software Engineer",
           320
          ],
          [
           "Software Engineer",
           500
          ],
          [
           "Software Engineer",
           71
          ],
          [
           "Software Engineer",
           447
          ],
          [
           "Software Engineer",
           126
          ],
          [
           "Software Engineer",
           366
          ],
          [
           "Software Engineer",
           425
          ],
          [
           "Software Engineer",
           266
          ],
          [
           "Software Engineer",
           161
          ],
          [
           "Software Engineer",
           354
          ],
          [
           "Software Engineer",
           157
          ],
          [
           "Software Engineer",
           280
          ],
          [
           "Software Engineer",
           295
          ],
          [
           "Software Engineer",
           215
          ],
          [
           "Software Engineer",
           275
          ],
          [
           "Software Engineer",
           81
          ],
          [
           "Software Engineer",
           253
          ],
          [
           "Software Engineer",
           121
          ],
          [
           "Software Engineer",
           59
          ],
          [
           "Software Engineer",
           473
          ],
          [
           "Software Engineer",
           301
          ],
          [
           "Software Engineer",
           191
          ],
          [
           "Software Engineer",
           332
          ],
          [
           "Software Engineer",
           399
          ],
          [
           "Software Engineer",
           142
          ],
          [
           "Software Engineer",
           335
          ],
          [
           "Software Engineer",
           126
          ],
          [
           "Software Engineer",
           488
          ],
          [
           "Software Engineer",
           204
          ],
          [
           "Software Engineer",
           378
          ],
          [
           "Software Engineer",
           278
          ],
          [
           "Software Engineer",
           147
          ],
          [
           "Software Engineer",
           419
          ],
          [
           "Software Engineer",
           425
          ],
          [
           "Software Engineer",
           337
          ],
          [
           "Software Engineer",
           227
          ],
          [
           "Software Engineer",
           185
          ],
          [
           "Software Engineer",
           38
          ],
          [
           "Software Engineer",
           272
          ],
          [
           "Software Engineer",
           156
          ],
          [
           "Software Engineer",
           167
          ],
          [
           "Software Engineer",
           289
          ],
          [
           "Software Engineer",
           335
          ],
          [
           "Software Engineer",
           479
          ],
          [
           "Software Engineer",
           88
          ],
          [
           "Software Engineer",
           266
          ],
          [
           "Software Engineer",
           388
          ],
          [
           "Software Engineer",
           189
          ],
          [
           "Software Engineer",
           486
          ]
         ],
         "hovertemplate": "<b>%{hovertext}</b><br><br>Job Location=Noida<br>Number of Applicants=%{customdata[1]}<br>Latitude=%{lat}<br>Longitude=%{lon}<br>Job Title=%{customdata[0]}<extra></extra>",
         "hovertext": [
          "Noida",
          "Noida",
          "Noida",
          "Noida",
          "Noida",
          "Noida",
          "Noida",
          "Noida",
          "Noida",
          "Noida",
          "Noida",
          "Noida",
          "Noida",
          "Noida",
          "Noida",
          "Noida",
          "Noida",
          "Noida",
          "Noida",
          "Noida",
          "Noida",
          "Noida",
          "Noida",
          "Noida",
          "Noida",
          "Noida",
          "Noida",
          "Noida",
          "Noida",
          "Noida",
          "Noida",
          "Noida",
          "Noida",
          "Noida",
          "Noida",
          "Noida",
          "Noida",
          "Noida",
          "Noida",
          "Noida",
          "Noida",
          "Noida",
          "Noida",
          "Noida",
          "Noida",
          "Noida",
          "Noida",
          "Noida",
          "Noida",
          "Noida",
          "Noida",
          "Noida",
          "Noida",
          "Noida",
          "Noida",
          "Noida",
          "Noida",
          "Noida",
          "Noida",
          "Noida",
          "Noida",
          "Noida",
          "Noida",
          "Noida",
          "Noida",
          "Noida",
          "Noida",
          "Noida",
          "Noida",
          "Noida",
          "Noida",
          "Noida",
          "Noida",
          "Noida",
          "Noida",
          "Noida",
          "Noida",
          "Noida",
          "Noida",
          "Noida",
          "Noida",
          "Noida",
          "Noida",
          "Noida",
          "Noida",
          "Noida",
          "Noida",
          "Noida",
          "Noida",
          "Noida",
          "Noida",
          "Noida",
          "Noida",
          "Noida",
          "Noida",
          "Noida",
          "Noida",
          "Noida",
          "Noida",
          "Noida",
          "Noida",
          "Noida",
          "Noida",
          "Noida",
          "Noida",
          "Noida",
          "Noida",
          "Noida",
          "Noida",
          "Noida",
          "Noida",
          "Noida",
          "Noida",
          "Noida",
          "Noida",
          "Noida",
          "Noida",
          "Noida",
          "Noida",
          "Noida",
          "Noida",
          "Noida",
          "Noida",
          "Noida",
          "Noida",
          "Noida",
          "Noida",
          "Noida",
          "Noida",
          "Noida",
          "Noida",
          "Noida",
          "Noida",
          "Noida",
          "Noida",
          "Noida",
          "Noida",
          "Noida",
          "Noida",
          "Noida",
          "Noida",
          "Noida",
          "Noida",
          "Noida",
          "Noida",
          "Noida",
          "Noida",
          "Noida",
          "Noida",
          "Noida",
          "Noida",
          "Noida",
          "Noida",
          "Noida",
          "Noida",
          "Noida",
          "Noida",
          "Noida",
          "Noida",
          "Noida",
          "Noida",
          "Noida",
          "Noida",
          "Noida",
          "Noida",
          "Noida",
          "Noida",
          "Noida",
          "Noida",
          "Noida",
          "Noida",
          "Noida",
          "Noida",
          "Noida",
          "Noida",
          "Noida",
          "Noida",
          "Noida",
          "Noida",
          "Noida",
          "Noida",
          "Noida",
          "Noida",
          "Noida",
          "Noida",
          "Noida",
          "Noida",
          "Noida",
          "Noida",
          "Noida",
          "Noida",
          "Noida",
          "Noida",
          "Noida",
          "Noida",
          "Noida",
          "Noida",
          "Noida",
          "Noida",
          "Noida",
          "Noida",
          "Noida",
          "Noida",
          "Noida",
          "Noida",
          "Noida",
          "Noida",
          "Noida",
          "Noida"
         ],
         "lat": [
          28.5355,
          28.5355,
          28.5355,
          28.5355,
          28.5355,
          28.5355,
          28.5355,
          28.5355,
          28.5355,
          28.5355,
          28.5355,
          28.5355,
          28.5355,
          28.5355,
          28.5355,
          28.5355,
          28.5355,
          28.5355,
          28.5355,
          28.5355,
          28.5355,
          28.5355,
          28.5355,
          28.5355,
          28.5355,
          28.5355,
          28.5355,
          28.5355,
          28.5355,
          28.5355,
          28.5355,
          28.5355,
          28.5355,
          28.5355,
          28.5355,
          28.5355,
          28.5355,
          28.5355,
          28.5355,
          28.5355,
          28.5355,
          28.5355,
          28.5355,
          28.5355,
          28.5355,
          28.5355,
          28.5355,
          28.5355,
          28.5355,
          28.5355,
          28.5355,
          28.5355,
          28.5355,
          28.5355,
          28.5355,
          28.5355,
          28.5355,
          28.5355,
          28.5355,
          28.5355,
          28.5355,
          28.5355,
          28.5355,
          28.5355,
          28.5355,
          28.5355,
          28.5355,
          28.5355,
          28.5355,
          28.5355,
          28.5355,
          28.5355,
          28.5355,
          28.5355,
          28.5355,
          28.5355,
          28.5355,
          28.5355,
          28.5355,
          28.5355,
          28.5355,
          28.5355,
          28.5355,
          28.5355,
          28.5355,
          28.5355,
          28.5355,
          28.5355,
          28.5355,
          28.5355,
          28.5355,
          28.5355,
          28.5355,
          28.5355,
          28.5355,
          28.5355,
          28.5355,
          28.5355,
          28.5355,
          28.5355,
          28.5355,
          28.5355,
          28.5355,
          28.5355,
          28.5355,
          28.5355,
          28.5355,
          28.5355,
          28.5355,
          28.5355,
          28.5355,
          28.5355,
          28.5355,
          28.5355,
          28.5355,
          28.5355,
          28.5355,
          28.5355,
          28.5355,
          28.5355,
          28.5355,
          28.5355,
          28.5355,
          28.5355,
          28.5355,
          28.5355,
          28.5355,
          28.5355,
          28.5355,
          28.5355,
          28.5355,
          28.5355,
          28.5355,
          28.5355,
          28.5355,
          28.5355,
          28.5355,
          28.5355,
          28.5355,
          28.5355,
          28.5355,
          28.5355,
          28.5355,
          28.5355,
          28.5355,
          28.5355,
          28.5355,
          28.5355,
          28.5355,
          28.5355,
          28.5355,
          28.5355,
          28.5355,
          28.5355,
          28.5355,
          28.5355,
          28.5355,
          28.5355,
          28.5355,
          28.5355,
          28.5355,
          28.5355,
          28.5355,
          28.5355,
          28.5355,
          28.5355,
          28.5355,
          28.5355,
          28.5355,
          28.5355,
          28.5355,
          28.5355,
          28.5355,
          28.5355,
          28.5355,
          28.5355,
          28.5355,
          28.5355,
          28.5355,
          28.5355,
          28.5355,
          28.5355,
          28.5355,
          28.5355,
          28.5355,
          28.5355,
          28.5355,
          28.5355,
          28.5355,
          28.5355,
          28.5355,
          28.5355,
          28.5355,
          28.5355,
          28.5355,
          28.5355,
          28.5355,
          28.5355,
          28.5355,
          28.5355,
          28.5355,
          28.5355,
          28.5355,
          28.5355,
          28.5355,
          28.5355,
          28.5355,
          28.5355,
          28.5355
         ],
         "legendgroup": "Noida",
         "lon": [
          77.391,
          77.391,
          77.391,
          77.391,
          77.391,
          77.391,
          77.391,
          77.391,
          77.391,
          77.391,
          77.391,
          77.391,
          77.391,
          77.391,
          77.391,
          77.391,
          77.391,
          77.391,
          77.391,
          77.391,
          77.391,
          77.391,
          77.391,
          77.391,
          77.391,
          77.391,
          77.391,
          77.391,
          77.391,
          77.391,
          77.391,
          77.391,
          77.391,
          77.391,
          77.391,
          77.391,
          77.391,
          77.391,
          77.391,
          77.391,
          77.391,
          77.391,
          77.391,
          77.391,
          77.391,
          77.391,
          77.391,
          77.391,
          77.391,
          77.391,
          77.391,
          77.391,
          77.391,
          77.391,
          77.391,
          77.391,
          77.391,
          77.391,
          77.391,
          77.391,
          77.391,
          77.391,
          77.391,
          77.391,
          77.391,
          77.391,
          77.391,
          77.391,
          77.391,
          77.391,
          77.391,
          77.391,
          77.391,
          77.391,
          77.391,
          77.391,
          77.391,
          77.391,
          77.391,
          77.391,
          77.391,
          77.391,
          77.391,
          77.391,
          77.391,
          77.391,
          77.391,
          77.391,
          77.391,
          77.391,
          77.391,
          77.391,
          77.391,
          77.391,
          77.391,
          77.391,
          77.391,
          77.391,
          77.391,
          77.391,
          77.391,
          77.391,
          77.391,
          77.391,
          77.391,
          77.391,
          77.391,
          77.391,
          77.391,
          77.391,
          77.391,
          77.391,
          77.391,
          77.391,
          77.391,
          77.391,
          77.391,
          77.391,
          77.391,
          77.391,
          77.391,
          77.391,
          77.391,
          77.391,
          77.391,
          77.391,
          77.391,
          77.391,
          77.391,
          77.391,
          77.391,
          77.391,
          77.391,
          77.391,
          77.391,
          77.391,
          77.391,
          77.391,
          77.391,
          77.391,
          77.391,
          77.391,
          77.391,
          77.391,
          77.391,
          77.391,
          77.391,
          77.391,
          77.391,
          77.391,
          77.391,
          77.391,
          77.391,
          77.391,
          77.391,
          77.391,
          77.391,
          77.391,
          77.391,
          77.391,
          77.391,
          77.391,
          77.391,
          77.391,
          77.391,
          77.391,
          77.391,
          77.391,
          77.391,
          77.391,
          77.391,
          77.391,
          77.391,
          77.391,
          77.391,
          77.391,
          77.391,
          77.391,
          77.391,
          77.391,
          77.391,
          77.391,
          77.391,
          77.391,
          77.391,
          77.391,
          77.391,
          77.391,
          77.391,
          77.391,
          77.391,
          77.391,
          77.391,
          77.391,
          77.391,
          77.391,
          77.391,
          77.391,
          77.391,
          77.391,
          77.391,
          77.391,
          77.391,
          77.391,
          77.391,
          77.391,
          77.391,
          77.391,
          77.391
         ],
         "marker": {
          "color": "#00cc96",
          "size": [
           489,
           311,
           234,
           85,
           409,
           304,
           154,
           269,
           31,
           406,
           312,
           346,
           472,
           156,
           194,
           151,
           125,
           172,
           72,
           249,
           46,
           145,
           324,
           271,
           330,
           139,
           481,
           199,
           75,
           356,
           469,
           411,
           371,
           395,
           344,
           346,
           230,
           139,
           121,
           285,
           42,
           164,
           168,
           54,
           298,
           12,
           439,
           36,
           468,
           445,
           441,
           446,
           358,
           382,
           261,
           137,
           467,
           404,
           88,
           302,
           123,
           270,
           364,
           467,
           49,
           294,
           342,
           293,
           92,
           187,
           226,
           404,
           70,
           218,
           212,
           53,
           326,
           56,
           135,
           89,
           173,
           310,
           412,
           110,
           138,
           191,
           284,
           41,
           138,
           235,
           310,
           248,
           240,
           469,
           56,
           468,
           351,
           393,
           377,
           145,
           476,
           386,
           64,
           111,
           122,
           18,
           215,
           409,
           67,
           71,
           364,
           469,
           380,
           450,
           99,
           168,
           295,
           437,
           454,
           485,
           204,
           138,
           298,
           383,
           312,
           353,
           174,
           473,
           43,
           206,
           375,
           408,
           147,
           54,
           444,
           306,
           299,
           459,
           417,
           80,
           387,
           311,
           385,
           402,
           289,
           218,
           426,
           283,
           409,
           220,
           151,
           370,
           302,
           43,
           460,
           73,
           208,
           406,
           323,
           127,
           320,
           500,
           71,
           447,
           126,
           366,
           425,
           266,
           161,
           354,
           157,
           280,
           295,
           215,
           275,
           81,
           253,
           121,
           59,
           473,
           301,
           191,
           332,
           399,
           142,
           335,
           126,
           488,
           204,
           378,
           278,
           147,
           419,
           425,
           337,
           227,
           185,
           38,
           272,
           156,
           167,
           289,
           335,
           479,
           88,
           266,
           388,
           189,
           486
          ],
          "sizemode": "area",
          "sizeref": 0.2
         },
         "mode": "markers",
         "name": "Noida",
         "showlegend": true,
         "subplot": "mapbox",
         "type": "scattermapbox"
        },
        {
         "customdata": [
          [
           "Software Engineer",
           24
          ],
          [
           "Software Engineer",
           384
          ],
          [
           "Software Engineer",
           45
          ],
          [
           "Software Engineer",
           197
          ],
          [
           "Software Engineer",
           410
          ],
          [
           "Software Engineer",
           18
          ],
          [
           "Software Engineer",
           468
          ],
          [
           "Software Engineer",
           180
          ],
          [
           "Software Engineer",
           485
          ],
          [
           "Software Engineer",
           39
          ],
          [
           "Software Engineer",
           239
          ],
          [
           "Software Engineer",
           150
          ],
          [
           "Software Engineer",
           121
          ],
          [
           "Software Engineer",
           92
          ],
          [
           "Software Engineer",
           455
          ],
          [
           "Software Engineer",
           128
          ],
          [
           "Software Engineer",
           267
          ],
          [
           "Software Engineer",
           97
          ],
          [
           "Software Engineer",
           346
          ],
          [
           "Software Engineer",
           262
          ],
          [
           "Software Engineer",
           27
          ],
          [
           "Software Engineer",
           230
          ],
          [
           "Software Engineer",
           453
          ],
          [
           "Software Engineer",
           338
          ],
          [
           "Software Engineer",
           422
          ],
          [
           "Software Engineer",
           438
          ],
          [
           "Software Engineer",
           26
          ],
          [
           "Software Engineer",
           94
          ],
          [
           "Software Engineer",
           27
          ],
          [
           "Software Engineer",
           163
          ],
          [
           "Software Engineer",
           298
          ],
          [
           "Software Engineer",
           159
          ],
          [
           "Software Engineer",
           29
          ],
          [
           "Software Engineer",
           213
          ],
          [
           "Software Engineer",
           220
          ],
          [
           "Software Engineer",
           120
          ],
          [
           "Software Engineer",
           433
          ],
          [
           "Software Engineer",
           396
          ],
          [
           "Software Engineer",
           394
          ],
          [
           "Software Engineer",
           248
          ],
          [
           "Software Engineer",
           493
          ],
          [
           "Software Engineer",
           326
          ],
          [
           "Software Engineer",
           357
          ],
          [
           "Software Engineer",
           441
          ],
          [
           "Software Engineer",
           327
          ],
          [
           "Software Engineer",
           249
          ],
          [
           "Software Engineer",
           287
          ],
          [
           "Software Engineer",
           216
          ],
          [
           "Software Engineer",
           116
          ],
          [
           "Software Engineer",
           448
          ],
          [
           "Software Engineer",
           440
          ],
          [
           "Software Engineer",
           384
          ],
          [
           "Software Engineer",
           452
          ],
          [
           "Software Engineer",
           126
          ],
          [
           "Software Engineer",
           332
          ],
          [
           "Software Engineer",
           87
          ],
          [
           "Software Engineer",
           14
          ],
          [
           "Software Engineer",
           319
          ],
          [
           "Software Engineer",
           126
          ],
          [
           "Software Engineer",
           204
          ],
          [
           "Software Engineer",
           479
          ],
          [
           "Software Engineer",
           17
          ],
          [
           "Software Engineer",
           216
          ],
          [
           "Software Engineer",
           309
          ],
          [
           "Software Engineer",
           379
          ],
          [
           "Software Engineer",
           29
          ],
          [
           "Software Engineer",
           35
          ],
          [
           "Software Engineer",
           463
          ],
          [
           "Software Engineer",
           241
          ],
          [
           "Software Engineer",
           464
          ],
          [
           "Software Engineer",
           129
          ],
          [
           "Software Engineer",
           51
          ],
          [
           "Software Engineer",
           412
          ],
          [
           "Software Engineer",
           114
          ],
          [
           "Software Engineer",
           53
          ],
          [
           "Software Engineer",
           174
          ],
          [
           "Software Engineer",
           153
          ],
          [
           "Software Engineer",
           220
          ],
          [
           "Software Engineer",
           423
          ],
          [
           "Software Engineer",
           342
          ],
          [
           "Software Engineer",
           174
          ],
          [
           "Software Engineer",
           24
          ],
          [
           "Software Engineer",
           422
          ],
          [
           "Software Engineer",
           448
          ],
          [
           "Software Engineer",
           90
          ],
          [
           "Software Engineer",
           238
          ],
          [
           "Software Engineer",
           83
          ],
          [
           "Software Engineer",
           412
          ],
          [
           "Software Engineer",
           334
          ],
          [
           "Software Engineer",
           196
          ],
          [
           "Software Engineer",
           120
          ],
          [
           "Software Engineer",
           300
          ],
          [
           "Software Engineer",
           169
          ],
          [
           "Software Engineer",
           372
          ],
          [
           "Software Engineer",
           427
          ],
          [
           "Software Engineer",
           172
          ],
          [
           "Software Engineer",
           161
          ],
          [
           "Software Engineer",
           375
          ],
          [
           "Software Engineer",
           301
          ],
          [
           "Software Engineer",
           283
          ],
          [
           "Software Engineer",
           426
          ],
          [
           "Software Engineer",
           360
          ],
          [
           "Software Engineer",
           269
          ],
          [
           "Software Engineer",
           368
          ],
          [
           "Software Engineer",
           87
          ],
          [
           "Software Engineer",
           216
          ],
          [
           "Software Engineer",
           397
          ],
          [
           "Software Engineer",
           308
          ],
          [
           "Software Engineer",
           55
          ],
          [
           "Software Engineer",
           199
          ],
          [
           "Software Engineer",
           55
          ],
          [
           "Software Engineer",
           144
          ],
          [
           "Software Engineer",
           349
          ],
          [
           "Software Engineer",
           10
          ],
          [
           "Software Engineer",
           251
          ],
          [
           "Software Engineer",
           452
          ],
          [
           "Software Engineer",
           458
          ],
          [
           "Software Engineer",
           233
          ],
          [
           "Software Engineer",
           423
          ],
          [
           "Software Engineer",
           91
          ],
          [
           "Software Engineer",
           290
          ],
          [
           "Software Engineer",
           17
          ],
          [
           "Software Engineer",
           260
          ],
          [
           "Software Engineer",
           226
          ],
          [
           "Software Engineer",
           262
          ],
          [
           "Software Engineer",
           376
          ],
          [
           "Software Engineer",
           170
          ],
          [
           "Software Engineer",
           103
          ],
          [
           "Software Engineer",
           67
          ],
          [
           "Software Engineer",
           410
          ],
          [
           "Software Engineer",
           131
          ],
          [
           "Software Engineer",
           25
          ],
          [
           "Software Engineer",
           113
          ],
          [
           "Software Engineer",
           147
          ],
          [
           "Software Engineer",
           54
          ],
          [
           "Software Engineer",
           318
          ],
          [
           "Software Engineer",
           68
          ],
          [
           "Software Engineer",
           372
          ],
          [
           "Software Engineer",
           468
          ],
          [
           "Software Engineer",
           28
          ],
          [
           "Software Engineer",
           253
          ],
          [
           "Software Engineer",
           26
          ],
          [
           "Software Engineer",
           435
          ],
          [
           "Software Engineer",
           100
          ],
          [
           "Software Engineer",
           118
          ],
          [
           "Software Engineer",
           170
          ],
          [
           "Software Engineer",
           69
          ],
          [
           "Software Engineer",
           345
          ],
          [
           "Software Engineer",
           297
          ],
          [
           "Software Engineer",
           117
          ],
          [
           "Software Engineer",
           111
          ],
          [
           "Software Engineer",
           88
          ],
          [
           "Software Engineer",
           272
          ],
          [
           "Software Engineer",
           83
          ],
          [
           "Software Engineer",
           177
          ],
          [
           "Software Engineer",
           84
          ],
          [
           "Software Engineer",
           211
          ],
          [
           "Software Engineer",
           389
          ],
          [
           "Software Engineer",
           72
          ],
          [
           "Software Engineer",
           107
          ],
          [
           "Software Engineer",
           393
          ],
          [
           "Software Engineer",
           317
          ],
          [
           "Software Engineer",
           439
          ],
          [
           "Software Engineer",
           297
          ],
          [
           "Software Engineer",
           355
          ],
          [
           "Software Engineer",
           292
          ],
          [
           "Software Engineer",
           409
          ],
          [
           "Software Engineer",
           432
          ],
          [
           "Software Engineer",
           116
          ],
          [
           "Software Engineer",
           139
          ],
          [
           "Software Engineer",
           484
          ],
          [
           "Software Engineer",
           350
          ],
          [
           "Software Engineer",
           480
          ],
          [
           "Software Engineer",
           35
          ],
          [
           "Software Engineer",
           497
          ],
          [
           "Software Engineer",
           138
          ],
          [
           "Software Engineer",
           88
          ],
          [
           "Software Engineer",
           251
          ],
          [
           "Software Engineer",
           60
          ],
          [
           "Software Engineer",
           130
          ],
          [
           "Software Engineer",
           473
          ],
          [
           "Software Engineer",
           88
          ],
          [
           "Software Engineer",
           478
          ],
          [
           "Software Engineer",
           226
          ],
          [
           "Software Engineer",
           408
          ],
          [
           "Software Engineer",
           273
          ],
          [
           "Software Engineer",
           122
          ],
          [
           "Software Engineer",
           276
          ],
          [
           "Software Engineer",
           359
          ],
          [
           "Software Engineer",
           378
          ],
          [
           "Software Engineer",
           246
          ],
          [
           "Software Engineer",
           311
          ],
          [
           "Software Engineer",
           235
          ],
          [
           "Software Engineer",
           314
          ],
          [
           "Software Engineer",
           144
          ],
          [
           "Software Engineer",
           119
          ],
          [
           "Software Engineer",
           471
          ],
          [
           "Software Engineer",
           477
          ],
          [
           "Software Engineer",
           385
          ],
          [
           "Software Engineer",
           346
          ],
          [
           "Software Engineer",
           128
          ],
          [
           "Software Engineer",
           306
          ],
          [
           "Software Engineer",
           365
          ]
         ],
         "hovertemplate": "<b>%{hovertext}</b><br><br>Job Location=Pune<br>Number of Applicants=%{customdata[1]}<br>Latitude=%{lat}<br>Longitude=%{lon}<br>Job Title=%{customdata[0]}<extra></extra>",
         "hovertext": [
          "Pune",
          "Pune",
          "Pune",
          "Pune",
          "Pune",
          "Pune",
          "Pune",
          "Pune",
          "Pune",
          "Pune",
          "Pune",
          "Pune",
          "Pune",
          "Pune",
          "Pune",
          "Pune",
          "Pune",
          "Pune",
          "Pune",
          "Pune",
          "Pune",
          "Pune",
          "Pune",
          "Pune",
          "Pune",
          "Pune",
          "Pune",
          "Pune",
          "Pune",
          "Pune",
          "Pune",
          "Pune",
          "Pune",
          "Pune",
          "Pune",
          "Pune",
          "Pune",
          "Pune",
          "Pune",
          "Pune",
          "Pune",
          "Pune",
          "Pune",
          "Pune",
          "Pune",
          "Pune",
          "Pune",
          "Pune",
          "Pune",
          "Pune",
          "Pune",
          "Pune",
          "Pune",
          "Pune",
          "Pune",
          "Pune",
          "Pune",
          "Pune",
          "Pune",
          "Pune",
          "Pune",
          "Pune",
          "Pune",
          "Pune",
          "Pune",
          "Pune",
          "Pune",
          "Pune",
          "Pune",
          "Pune",
          "Pune",
          "Pune",
          "Pune",
          "Pune",
          "Pune",
          "Pune",
          "Pune",
          "Pune",
          "Pune",
          "Pune",
          "Pune",
          "Pune",
          "Pune",
          "Pune",
          "Pune",
          "Pune",
          "Pune",
          "Pune",
          "Pune",
          "Pune",
          "Pune",
          "Pune",
          "Pune",
          "Pune",
          "Pune",
          "Pune",
          "Pune",
          "Pune",
          "Pune",
          "Pune",
          "Pune",
          "Pune",
          "Pune",
          "Pune",
          "Pune",
          "Pune",
          "Pune",
          "Pune",
          "Pune",
          "Pune",
          "Pune",
          "Pune",
          "Pune",
          "Pune",
          "Pune",
          "Pune",
          "Pune",
          "Pune",
          "Pune",
          "Pune",
          "Pune",
          "Pune",
          "Pune",
          "Pune",
          "Pune",
          "Pune",
          "Pune",
          "Pune",
          "Pune",
          "Pune",
          "Pune",
          "Pune",
          "Pune",
          "Pune",
          "Pune",
          "Pune",
          "Pune",
          "Pune",
          "Pune",
          "Pune",
          "Pune",
          "Pune",
          "Pune",
          "Pune",
          "Pune",
          "Pune",
          "Pune",
          "Pune",
          "Pune",
          "Pune",
          "Pune",
          "Pune",
          "Pune",
          "Pune",
          "Pune",
          "Pune",
          "Pune",
          "Pune",
          "Pune",
          "Pune",
          "Pune",
          "Pune",
          "Pune",
          "Pune",
          "Pune",
          "Pune",
          "Pune",
          "Pune",
          "Pune",
          "Pune",
          "Pune",
          "Pune",
          "Pune",
          "Pune",
          "Pune",
          "Pune",
          "Pune",
          "Pune",
          "Pune",
          "Pune",
          "Pune",
          "Pune",
          "Pune",
          "Pune",
          "Pune",
          "Pune",
          "Pune",
          "Pune",
          "Pune",
          "Pune",
          "Pune",
          "Pune",
          "Pune",
          "Pune",
          "Pune",
          "Pune",
          "Pune",
          "Pune",
          "Pune",
          "Pune",
          "Pune",
          "Pune",
          "Pune"
         ],
         "lat": [
          18.5204,
          18.5204,
          18.5204,
          18.5204,
          18.5204,
          18.5204,
          18.5204,
          18.5204,
          18.5204,
          18.5204,
          18.5204,
          18.5204,
          18.5204,
          18.5204,
          18.5204,
          18.5204,
          18.5204,
          18.5204,
          18.5204,
          18.5204,
          18.5204,
          18.5204,
          18.5204,
          18.5204,
          18.5204,
          18.5204,
          18.5204,
          18.5204,
          18.5204,
          18.5204,
          18.5204,
          18.5204,
          18.5204,
          18.5204,
          18.5204,
          18.5204,
          18.5204,
          18.5204,
          18.5204,
          18.5204,
          18.5204,
          18.5204,
          18.5204,
          18.5204,
          18.5204,
          18.5204,
          18.5204,
          18.5204,
          18.5204,
          18.5204,
          18.5204,
          18.5204,
          18.5204,
          18.5204,
          18.5204,
          18.5204,
          18.5204,
          18.5204,
          18.5204,
          18.5204,
          18.5204,
          18.5204,
          18.5204,
          18.5204,
          18.5204,
          18.5204,
          18.5204,
          18.5204,
          18.5204,
          18.5204,
          18.5204,
          18.5204,
          18.5204,
          18.5204,
          18.5204,
          18.5204,
          18.5204,
          18.5204,
          18.5204,
          18.5204,
          18.5204,
          18.5204,
          18.5204,
          18.5204,
          18.5204,
          18.5204,
          18.5204,
          18.5204,
          18.5204,
          18.5204,
          18.5204,
          18.5204,
          18.5204,
          18.5204,
          18.5204,
          18.5204,
          18.5204,
          18.5204,
          18.5204,
          18.5204,
          18.5204,
          18.5204,
          18.5204,
          18.5204,
          18.5204,
          18.5204,
          18.5204,
          18.5204,
          18.5204,
          18.5204,
          18.5204,
          18.5204,
          18.5204,
          18.5204,
          18.5204,
          18.5204,
          18.5204,
          18.5204,
          18.5204,
          18.5204,
          18.5204,
          18.5204,
          18.5204,
          18.5204,
          18.5204,
          18.5204,
          18.5204,
          18.5204,
          18.5204,
          18.5204,
          18.5204,
          18.5204,
          18.5204,
          18.5204,
          18.5204,
          18.5204,
          18.5204,
          18.5204,
          18.5204,
          18.5204,
          18.5204,
          18.5204,
          18.5204,
          18.5204,
          18.5204,
          18.5204,
          18.5204,
          18.5204,
          18.5204,
          18.5204,
          18.5204,
          18.5204,
          18.5204,
          18.5204,
          18.5204,
          18.5204,
          18.5204,
          18.5204,
          18.5204,
          18.5204,
          18.5204,
          18.5204,
          18.5204,
          18.5204,
          18.5204,
          18.5204,
          18.5204,
          18.5204,
          18.5204,
          18.5204,
          18.5204,
          18.5204,
          18.5204,
          18.5204,
          18.5204,
          18.5204,
          18.5204,
          18.5204,
          18.5204,
          18.5204,
          18.5204,
          18.5204,
          18.5204,
          18.5204,
          18.5204,
          18.5204,
          18.5204,
          18.5204,
          18.5204,
          18.5204,
          18.5204,
          18.5204,
          18.5204,
          18.5204,
          18.5204,
          18.5204,
          18.5204,
          18.5204,
          18.5204,
          18.5204,
          18.5204,
          18.5204,
          18.5204
         ],
         "legendgroup": "Pune",
         "lon": [
          73.8567,
          73.8567,
          73.8567,
          73.8567,
          73.8567,
          73.8567,
          73.8567,
          73.8567,
          73.8567,
          73.8567,
          73.8567,
          73.8567,
          73.8567,
          73.8567,
          73.8567,
          73.8567,
          73.8567,
          73.8567,
          73.8567,
          73.8567,
          73.8567,
          73.8567,
          73.8567,
          73.8567,
          73.8567,
          73.8567,
          73.8567,
          73.8567,
          73.8567,
          73.8567,
          73.8567,
          73.8567,
          73.8567,
          73.8567,
          73.8567,
          73.8567,
          73.8567,
          73.8567,
          73.8567,
          73.8567,
          73.8567,
          73.8567,
          73.8567,
          73.8567,
          73.8567,
          73.8567,
          73.8567,
          73.8567,
          73.8567,
          73.8567,
          73.8567,
          73.8567,
          73.8567,
          73.8567,
          73.8567,
          73.8567,
          73.8567,
          73.8567,
          73.8567,
          73.8567,
          73.8567,
          73.8567,
          73.8567,
          73.8567,
          73.8567,
          73.8567,
          73.8567,
          73.8567,
          73.8567,
          73.8567,
          73.8567,
          73.8567,
          73.8567,
          73.8567,
          73.8567,
          73.8567,
          73.8567,
          73.8567,
          73.8567,
          73.8567,
          73.8567,
          73.8567,
          73.8567,
          73.8567,
          73.8567,
          73.8567,
          73.8567,
          73.8567,
          73.8567,
          73.8567,
          73.8567,
          73.8567,
          73.8567,
          73.8567,
          73.8567,
          73.8567,
          73.8567,
          73.8567,
          73.8567,
          73.8567,
          73.8567,
          73.8567,
          73.8567,
          73.8567,
          73.8567,
          73.8567,
          73.8567,
          73.8567,
          73.8567,
          73.8567,
          73.8567,
          73.8567,
          73.8567,
          73.8567,
          73.8567,
          73.8567,
          73.8567,
          73.8567,
          73.8567,
          73.8567,
          73.8567,
          73.8567,
          73.8567,
          73.8567,
          73.8567,
          73.8567,
          73.8567,
          73.8567,
          73.8567,
          73.8567,
          73.8567,
          73.8567,
          73.8567,
          73.8567,
          73.8567,
          73.8567,
          73.8567,
          73.8567,
          73.8567,
          73.8567,
          73.8567,
          73.8567,
          73.8567,
          73.8567,
          73.8567,
          73.8567,
          73.8567,
          73.8567,
          73.8567,
          73.8567,
          73.8567,
          73.8567,
          73.8567,
          73.8567,
          73.8567,
          73.8567,
          73.8567,
          73.8567,
          73.8567,
          73.8567,
          73.8567,
          73.8567,
          73.8567,
          73.8567,
          73.8567,
          73.8567,
          73.8567,
          73.8567,
          73.8567,
          73.8567,
          73.8567,
          73.8567,
          73.8567,
          73.8567,
          73.8567,
          73.8567,
          73.8567,
          73.8567,
          73.8567,
          73.8567,
          73.8567,
          73.8567,
          73.8567,
          73.8567,
          73.8567,
          73.8567,
          73.8567,
          73.8567,
          73.8567,
          73.8567,
          73.8567,
          73.8567,
          73.8567,
          73.8567,
          73.8567,
          73.8567,
          73.8567,
          73.8567,
          73.8567,
          73.8567,
          73.8567,
          73.8567,
          73.8567
         ],
         "marker": {
          "color": "#ab63fa",
          "size": [
           24,
           384,
           45,
           197,
           410,
           18,
           468,
           180,
           485,
           39,
           239,
           150,
           121,
           92,
           455,
           128,
           267,
           97,
           346,
           262,
           27,
           230,
           453,
           338,
           422,
           438,
           26,
           94,
           27,
           163,
           298,
           159,
           29,
           213,
           220,
           120,
           433,
           396,
           394,
           248,
           493,
           326,
           357,
           441,
           327,
           249,
           287,
           216,
           116,
           448,
           440,
           384,
           452,
           126,
           332,
           87,
           14,
           319,
           126,
           204,
           479,
           17,
           216,
           309,
           379,
           29,
           35,
           463,
           241,
           464,
           129,
           51,
           412,
           114,
           53,
           174,
           153,
           220,
           423,
           342,
           174,
           24,
           422,
           448,
           90,
           238,
           83,
           412,
           334,
           196,
           120,
           300,
           169,
           372,
           427,
           172,
           161,
           375,
           301,
           283,
           426,
           360,
           269,
           368,
           87,
           216,
           397,
           308,
           55,
           199,
           55,
           144,
           349,
           10,
           251,
           452,
           458,
           233,
           423,
           91,
           290,
           17,
           260,
           226,
           262,
           376,
           170,
           103,
           67,
           410,
           131,
           25,
           113,
           147,
           54,
           318,
           68,
           372,
           468,
           28,
           253,
           26,
           435,
           100,
           118,
           170,
           69,
           345,
           297,
           117,
           111,
           88,
           272,
           83,
           177,
           84,
           211,
           389,
           72,
           107,
           393,
           317,
           439,
           297,
           355,
           292,
           409,
           432,
           116,
           139,
           484,
           350,
           480,
           35,
           497,
           138,
           88,
           251,
           60,
           130,
           473,
           88,
           478,
           226,
           408,
           273,
           122,
           276,
           359,
           378,
           246,
           311,
           235,
           314,
           144,
           119,
           471,
           477,
           385,
           346,
           128,
           306,
           365
          ],
          "sizemode": "area",
          "sizeref": 0.2
         },
         "mode": "markers",
         "name": "Pune",
         "showlegend": true,
         "subplot": "mapbox",
         "type": "scattermapbox"
        },
        {
         "customdata": [
          [
           "Software Engineer",
           129
          ],
          [
           "Software Engineer",
           128
          ],
          [
           "Software Engineer",
           215
          ],
          [
           "Software Engineer",
           290
          ],
          [
           "Software Engineer",
           481
          ],
          [
           "Software Engineer",
           198
          ],
          [
           "Software Engineer",
           400
          ],
          [
           "Software Engineer",
           486
          ],
          [
           "Software Engineer",
           371
          ],
          [
           "Software Engineer",
           220
          ],
          [
           "Software Engineer",
           261
          ],
          [
           "Software Engineer",
           171
          ],
          [
           "Software Engineer",
           292
          ],
          [
           "Software Engineer",
           306
          ],
          [
           "Software Engineer",
           128
          ],
          [
           "Software Engineer",
           446
          ],
          [
           "Software Engineer",
           161
          ],
          [
           "Software Engineer",
           185
          ],
          [
           "Software Engineer",
           26
          ],
          [
           "Software Engineer",
           99
          ],
          [
           "Software Engineer",
           81
          ],
          [
           "Software Engineer",
           438
          ],
          [
           "Software Engineer",
           392
          ],
          [
           "Software Engineer",
           185
          ],
          [
           "Software Engineer",
           197
          ],
          [
           "Software Engineer",
           266
          ],
          [
           "Software Engineer",
           209
          ],
          [
           "Software Engineer",
           225
          ],
          [
           "Software Engineer",
           321
          ],
          [
           "Software Engineer",
           432
          ],
          [
           "Software Engineer",
           105
          ],
          [
           "Software Engineer",
           140
          ],
          [
           "Software Engineer",
           456
          ],
          [
           "Software Engineer",
           300
          ],
          [
           "Software Engineer",
           220
          ],
          [
           "Software Engineer",
           17
          ],
          [
           "Software Engineer",
           110
          ],
          [
           "Software Engineer",
           256
          ],
          [
           "Software Engineer",
           452
          ],
          [
           "Software Engineer",
           214
          ],
          [
           "Software Engineer",
           35
          ],
          [
           "Software Engineer",
           381
          ],
          [
           "Software Engineer",
           238
          ],
          [
           "Software Engineer",
           142
          ],
          [
           "Software Engineer",
           401
          ],
          [
           "Software Engineer",
           283
          ],
          [
           "Software Engineer",
           299
          ],
          [
           "Software Engineer",
           373
          ],
          [
           "Software Engineer",
           353
          ],
          [
           "Software Engineer",
           259
          ],
          [
           "Software Engineer",
           308
          ],
          [
           "Software Engineer",
           29
          ],
          [
           "Software Engineer",
           99
          ],
          [
           "Software Engineer",
           456
          ],
          [
           "Software Engineer",
           494
          ],
          [
           "Software Engineer",
           118
          ],
          [
           "Software Engineer",
           78
          ],
          [
           "Software Engineer",
           164
          ],
          [
           "Software Engineer",
           18
          ],
          [
           "Software Engineer",
           154
          ],
          [
           "Software Engineer",
           211
          ],
          [
           "Software Engineer",
           210
          ],
          [
           "Software Engineer",
           316
          ],
          [
           "Software Engineer",
           342
          ],
          [
           "Software Engineer",
           189
          ],
          [
           "Software Engineer",
           246
          ],
          [
           "Software Engineer",
           458
          ],
          [
           "Software Engineer",
           380
          ],
          [
           "Software Engineer",
           221
          ],
          [
           "Software Engineer",
           47
          ],
          [
           "Software Engineer",
           200
          ],
          [
           "Software Engineer",
           208
          ],
          [
           "Software Engineer",
           39
          ],
          [
           "Software Engineer",
           443
          ],
          [
           "Software Engineer",
           296
          ],
          [
           "Software Engineer",
           167
          ],
          [
           "Software Engineer",
           180
          ],
          [
           "Software Engineer",
           457
          ],
          [
           "Software Engineer",
           251
          ],
          [
           "Software Engineer",
           164
          ],
          [
           "Software Engineer",
           325
          ],
          [
           "Software Engineer",
           360
          ],
          [
           "Software Engineer",
           207
          ],
          [
           "Software Engineer",
           87
          ],
          [
           "Software Engineer",
           136
          ],
          [
           "Software Engineer",
           399
          ],
          [
           "Software Engineer",
           189
          ],
          [
           "Software Engineer",
           171
          ],
          [
           "Software Engineer",
           388
          ],
          [
           "Software Engineer",
           221
          ],
          [
           "Software Engineer",
           41
          ],
          [
           "Software Engineer",
           332
          ],
          [
           "Software Engineer",
           104
          ],
          [
           "Software Engineer",
           221
          ],
          [
           "Software Engineer",
           217
          ],
          [
           "Software Engineer",
           90
          ],
          [
           "Software Engineer",
           460
          ],
          [
           "Software Engineer",
           52
          ],
          [
           "Software Engineer",
           38
          ],
          [
           "Software Engineer",
           409
          ],
          [
           "Software Engineer",
           461
          ],
          [
           "Software Engineer",
           182
          ],
          [
           "Software Engineer",
           314
          ],
          [
           "Software Engineer",
           404
          ],
          [
           "Software Engineer",
           80
          ],
          [
           "Software Engineer",
           17
          ],
          [
           "Software Engineer",
           157
          ],
          [
           "Software Engineer",
           325
          ],
          [
           "Software Engineer",
           468
          ],
          [
           "Software Engineer",
           207
          ],
          [
           "Software Engineer",
           280
          ],
          [
           "Software Engineer",
           398
          ],
          [
           "Software Engineer",
           349
          ],
          [
           "Software Engineer",
           37
          ],
          [
           "Software Engineer",
           407
          ],
          [
           "Software Engineer",
           409
          ],
          [
           "Software Engineer",
           286
          ],
          [
           "Software Engineer",
           180
          ],
          [
           "Software Engineer",
           104
          ],
          [
           "Software Engineer",
           331
          ],
          [
           "Software Engineer",
           488
          ],
          [
           "Software Engineer",
           433
          ],
          [
           "Software Engineer",
           12
          ],
          [
           "Software Engineer",
           280
          ],
          [
           "Software Engineer",
           86
          ],
          [
           "Software Engineer",
           41
          ],
          [
           "Software Engineer",
           44
          ],
          [
           "Software Engineer",
           74
          ],
          [
           "Software Engineer",
           89
          ],
          [
           "Software Engineer",
           339
          ],
          [
           "Software Engineer",
           164
          ],
          [
           "Software Engineer",
           180
          ],
          [
           "Software Engineer",
           179
          ],
          [
           "Software Engineer",
           363
          ],
          [
           "Software Engineer",
           361
          ],
          [
           "Software Engineer",
           399
          ],
          [
           "Software Engineer",
           213
          ],
          [
           "Software Engineer",
           339
          ],
          [
           "Software Engineer",
           332
          ],
          [
           "Software Engineer",
           347
          ],
          [
           "Software Engineer",
           367
          ],
          [
           "Software Engineer",
           60
          ],
          [
           "Software Engineer",
           412
          ],
          [
           "Software Engineer",
           205
          ],
          [
           "Software Engineer",
           141
          ],
          [
           "Software Engineer",
           123
          ],
          [
           "Software Engineer",
           244
          ],
          [
           "Software Engineer",
           246
          ],
          [
           "Software Engineer",
           20
          ],
          [
           "Software Engineer",
           366
          ],
          [
           "Software Engineer",
           24
          ],
          [
           "Software Engineer",
           266
          ],
          [
           "Software Engineer",
           169
          ],
          [
           "Software Engineer",
           272
          ],
          [
           "Software Engineer",
           313
          ],
          [
           "Software Engineer",
           482
          ],
          [
           "Software Engineer",
           413
          ],
          [
           "Software Engineer",
           245
          ],
          [
           "Software Engineer",
           64
          ],
          [
           "Software Engineer",
           99
          ],
          [
           "Software Engineer",
           451
          ],
          [
           "Software Engineer",
           273
          ],
          [
           "Software Engineer",
           378
          ],
          [
           "Software Engineer",
           327
          ],
          [
           "Software Engineer",
           179
          ],
          [
           "Software Engineer",
           365
          ],
          [
           "Software Engineer",
           258
          ],
          [
           "Software Engineer",
           50
          ],
          [
           "Software Engineer",
           417
          ],
          [
           "Software Engineer",
           271
          ],
          [
           "Software Engineer",
           335
          ],
          [
           "Software Engineer",
           398
          ]
         ],
         "hovertemplate": "<b>%{hovertext}</b><br><br>Job Location=Mumbai<br>Number of Applicants=%{customdata[1]}<br>Latitude=%{lat}<br>Longitude=%{lon}<br>Job Title=%{customdata[0]}<extra></extra>",
         "hovertext": [
          "Mumbai",
          "Mumbai",
          "Mumbai",
          "Mumbai",
          "Mumbai",
          "Mumbai",
          "Mumbai",
          "Mumbai",
          "Mumbai",
          "Mumbai",
          "Mumbai",
          "Mumbai",
          "Mumbai",
          "Mumbai",
          "Mumbai",
          "Mumbai",
          "Mumbai",
          "Mumbai",
          "Mumbai",
          "Mumbai",
          "Mumbai",
          "Mumbai",
          "Mumbai",
          "Mumbai",
          "Mumbai",
          "Mumbai",
          "Mumbai",
          "Mumbai",
          "Mumbai",
          "Mumbai",
          "Mumbai",
          "Mumbai",
          "Mumbai",
          "Mumbai",
          "Mumbai",
          "Mumbai",
          "Mumbai",
          "Mumbai",
          "Mumbai",
          "Mumbai",
          "Mumbai",
          "Mumbai",
          "Mumbai",
          "Mumbai",
          "Mumbai",
          "Mumbai",
          "Mumbai",
          "Mumbai",
          "Mumbai",
          "Mumbai",
          "Mumbai",
          "Mumbai",
          "Mumbai",
          "Mumbai",
          "Mumbai",
          "Mumbai",
          "Mumbai",
          "Mumbai",
          "Mumbai",
          "Mumbai",
          "Mumbai",
          "Mumbai",
          "Mumbai",
          "Mumbai",
          "Mumbai",
          "Mumbai",
          "Mumbai",
          "Mumbai",
          "Mumbai",
          "Mumbai",
          "Mumbai",
          "Mumbai",
          "Mumbai",
          "Mumbai",
          "Mumbai",
          "Mumbai",
          "Mumbai",
          "Mumbai",
          "Mumbai",
          "Mumbai",
          "Mumbai",
          "Mumbai",
          "Mumbai",
          "Mumbai",
          "Mumbai",
          "Mumbai",
          "Mumbai",
          "Mumbai",
          "Mumbai",
          "Mumbai",
          "Mumbai",
          "Mumbai",
          "Mumbai",
          "Mumbai",
          "Mumbai",
          "Mumbai",
          "Mumbai",
          "Mumbai",
          "Mumbai",
          "Mumbai",
          "Mumbai",
          "Mumbai",
          "Mumbai",
          "Mumbai",
          "Mumbai",
          "Mumbai",
          "Mumbai",
          "Mumbai",
          "Mumbai",
          "Mumbai",
          "Mumbai",
          "Mumbai",
          "Mumbai",
          "Mumbai",
          "Mumbai",
          "Mumbai",
          "Mumbai",
          "Mumbai",
          "Mumbai",
          "Mumbai",
          "Mumbai",
          "Mumbai",
          "Mumbai",
          "Mumbai",
          "Mumbai",
          "Mumbai",
          "Mumbai",
          "Mumbai",
          "Mumbai",
          "Mumbai",
          "Mumbai",
          "Mumbai",
          "Mumbai",
          "Mumbai",
          "Mumbai",
          "Mumbai",
          "Mumbai",
          "Mumbai",
          "Mumbai",
          "Mumbai",
          "Mumbai",
          "Mumbai",
          "Mumbai",
          "Mumbai",
          "Mumbai",
          "Mumbai",
          "Mumbai",
          "Mumbai",
          "Mumbai",
          "Mumbai",
          "Mumbai",
          "Mumbai",
          "Mumbai",
          "Mumbai",
          "Mumbai",
          "Mumbai",
          "Mumbai",
          "Mumbai",
          "Mumbai",
          "Mumbai",
          "Mumbai",
          "Mumbai",
          "Mumbai",
          "Mumbai",
          "Mumbai",
          "Mumbai",
          "Mumbai",
          "Mumbai",
          "Mumbai",
          "Mumbai",
          "Mumbai",
          "Mumbai"
         ],
         "lat": [
          19.076,
          19.076,
          19.076,
          19.076,
          19.076,
          19.076,
          19.076,
          19.076,
          19.076,
          19.076,
          19.076,
          19.076,
          19.076,
          19.076,
          19.076,
          19.076,
          19.076,
          19.076,
          19.076,
          19.076,
          19.076,
          19.076,
          19.076,
          19.076,
          19.076,
          19.076,
          19.076,
          19.076,
          19.076,
          19.076,
          19.076,
          19.076,
          19.076,
          19.076,
          19.076,
          19.076,
          19.076,
          19.076,
          19.076,
          19.076,
          19.076,
          19.076,
          19.076,
          19.076,
          19.076,
          19.076,
          19.076,
          19.076,
          19.076,
          19.076,
          19.076,
          19.076,
          19.076,
          19.076,
          19.076,
          19.076,
          19.076,
          19.076,
          19.076,
          19.076,
          19.076,
          19.076,
          19.076,
          19.076,
          19.076,
          19.076,
          19.076,
          19.076,
          19.076,
          19.076,
          19.076,
          19.076,
          19.076,
          19.076,
          19.076,
          19.076,
          19.076,
          19.076,
          19.076,
          19.076,
          19.076,
          19.076,
          19.076,
          19.076,
          19.076,
          19.076,
          19.076,
          19.076,
          19.076,
          19.076,
          19.076,
          19.076,
          19.076,
          19.076,
          19.076,
          19.076,
          19.076,
          19.076,
          19.076,
          19.076,
          19.076,
          19.076,
          19.076,
          19.076,
          19.076,
          19.076,
          19.076,
          19.076,
          19.076,
          19.076,
          19.076,
          19.076,
          19.076,
          19.076,
          19.076,
          19.076,
          19.076,
          19.076,
          19.076,
          19.076,
          19.076,
          19.076,
          19.076,
          19.076,
          19.076,
          19.076,
          19.076,
          19.076,
          19.076,
          19.076,
          19.076,
          19.076,
          19.076,
          19.076,
          19.076,
          19.076,
          19.076,
          19.076,
          19.076,
          19.076,
          19.076,
          19.076,
          19.076,
          19.076,
          19.076,
          19.076,
          19.076,
          19.076,
          19.076,
          19.076,
          19.076,
          19.076,
          19.076,
          19.076,
          19.076,
          19.076,
          19.076,
          19.076,
          19.076,
          19.076,
          19.076,
          19.076,
          19.076,
          19.076,
          19.076,
          19.076,
          19.076,
          19.076,
          19.076,
          19.076,
          19.076,
          19.076
         ],
         "legendgroup": "Mumbai",
         "lon": [
          72.8777,
          72.8777,
          72.8777,
          72.8777,
          72.8777,
          72.8777,
          72.8777,
          72.8777,
          72.8777,
          72.8777,
          72.8777,
          72.8777,
          72.8777,
          72.8777,
          72.8777,
          72.8777,
          72.8777,
          72.8777,
          72.8777,
          72.8777,
          72.8777,
          72.8777,
          72.8777,
          72.8777,
          72.8777,
          72.8777,
          72.8777,
          72.8777,
          72.8777,
          72.8777,
          72.8777,
          72.8777,
          72.8777,
          72.8777,
          72.8777,
          72.8777,
          72.8777,
          72.8777,
          72.8777,
          72.8777,
          72.8777,
          72.8777,
          72.8777,
          72.8777,
          72.8777,
          72.8777,
          72.8777,
          72.8777,
          72.8777,
          72.8777,
          72.8777,
          72.8777,
          72.8777,
          72.8777,
          72.8777,
          72.8777,
          72.8777,
          72.8777,
          72.8777,
          72.8777,
          72.8777,
          72.8777,
          72.8777,
          72.8777,
          72.8777,
          72.8777,
          72.8777,
          72.8777,
          72.8777,
          72.8777,
          72.8777,
          72.8777,
          72.8777,
          72.8777,
          72.8777,
          72.8777,
          72.8777,
          72.8777,
          72.8777,
          72.8777,
          72.8777,
          72.8777,
          72.8777,
          72.8777,
          72.8777,
          72.8777,
          72.8777,
          72.8777,
          72.8777,
          72.8777,
          72.8777,
          72.8777,
          72.8777,
          72.8777,
          72.8777,
          72.8777,
          72.8777,
          72.8777,
          72.8777,
          72.8777,
          72.8777,
          72.8777,
          72.8777,
          72.8777,
          72.8777,
          72.8777,
          72.8777,
          72.8777,
          72.8777,
          72.8777,
          72.8777,
          72.8777,
          72.8777,
          72.8777,
          72.8777,
          72.8777,
          72.8777,
          72.8777,
          72.8777,
          72.8777,
          72.8777,
          72.8777,
          72.8777,
          72.8777,
          72.8777,
          72.8777,
          72.8777,
          72.8777,
          72.8777,
          72.8777,
          72.8777,
          72.8777,
          72.8777,
          72.8777,
          72.8777,
          72.8777,
          72.8777,
          72.8777,
          72.8777,
          72.8777,
          72.8777,
          72.8777,
          72.8777,
          72.8777,
          72.8777,
          72.8777,
          72.8777,
          72.8777,
          72.8777,
          72.8777,
          72.8777,
          72.8777,
          72.8777,
          72.8777,
          72.8777,
          72.8777,
          72.8777,
          72.8777,
          72.8777,
          72.8777,
          72.8777,
          72.8777,
          72.8777,
          72.8777,
          72.8777,
          72.8777,
          72.8777,
          72.8777,
          72.8777,
          72.8777,
          72.8777,
          72.8777
         ],
         "marker": {
          "color": "#FFA15A",
          "size": [
           129,
           128,
           215,
           290,
           481,
           198,
           400,
           486,
           371,
           220,
           261,
           171,
           292,
           306,
           128,
           446,
           161,
           185,
           26,
           99,
           81,
           438,
           392,
           185,
           197,
           266,
           209,
           225,
           321,
           432,
           105,
           140,
           456,
           300,
           220,
           17,
           110,
           256,
           452,
           214,
           35,
           381,
           238,
           142,
           401,
           283,
           299,
           373,
           353,
           259,
           308,
           29,
           99,
           456,
           494,
           118,
           78,
           164,
           18,
           154,
           211,
           210,
           316,
           342,
           189,
           246,
           458,
           380,
           221,
           47,
           200,
           208,
           39,
           443,
           296,
           167,
           180,
           457,
           251,
           164,
           325,
           360,
           207,
           87,
           136,
           399,
           189,
           171,
           388,
           221,
           41,
           332,
           104,
           221,
           217,
           90,
           460,
           52,
           38,
           409,
           461,
           182,
           314,
           404,
           80,
           17,
           157,
           325,
           468,
           207,
           280,
           398,
           349,
           37,
           407,
           409,
           286,
           180,
           104,
           331,
           488,
           433,
           12,
           280,
           86,
           41,
           44,
           74,
           89,
           339,
           164,
           180,
           179,
           363,
           361,
           399,
           213,
           339,
           332,
           347,
           367,
           60,
           412,
           205,
           141,
           123,
           244,
           246,
           20,
           366,
           24,
           266,
           169,
           272,
           313,
           482,
           413,
           245,
           64,
           99,
           451,
           273,
           378,
           327,
           179,
           365,
           258,
           50,
           417,
           271,
           335,
           398
          ],
          "sizemode": "area",
          "sizeref": 0.2
         },
         "mode": "markers",
         "name": "Mumbai",
         "showlegend": true,
         "subplot": "mapbox",
         "type": "scattermapbox"
        },
        {
         "customdata": [
          [
           "Software Engineer",
           319
          ],
          [
           "Software Engineer",
           496
          ],
          [
           "Software Engineer",
           218
          ],
          [
           "Software Engineer",
           425
          ],
          [
           "Software Engineer",
           24
          ],
          [
           "Software Engineer",
           65
          ],
          [
           "Software Engineer",
           413
          ],
          [
           "Software Engineer",
           286
          ],
          [
           "Software Engineer",
           324
          ],
          [
           "Software Engineer",
           100
          ],
          [
           "Software Engineer",
           42
          ],
          [
           "Software Engineer",
           467
          ],
          [
           "Software Engineer",
           14
          ],
          [
           "Software Engineer",
           74
          ],
          [
           "Software Engineer",
           284
          ],
          [
           "Software Engineer",
           83
          ],
          [
           "Software Engineer",
           283
          ],
          [
           "Software Engineer",
           473
          ],
          [
           "Software Engineer",
           390
          ],
          [
           "Software Engineer",
           307
          ],
          [
           "Software Engineer",
           488
          ],
          [
           "Software Engineer",
           84
          ],
          [
           "Software Engineer",
           339
          ],
          [
           "Software Engineer",
           362
          ],
          [
           "Software Engineer",
           130
          ],
          [
           "Software Engineer",
           88
          ],
          [
           "Software Engineer",
           308
          ],
          [
           "Software Engineer",
           288
          ],
          [
           "Software Engineer",
           141
          ],
          [
           "Software Engineer",
           92
          ],
          [
           "Software Engineer",
           259
          ],
          [
           "Software Engineer",
           240
          ],
          [
           "Software Engineer",
           256
          ],
          [
           "Software Engineer",
           493
          ],
          [
           "Software Engineer",
           96
          ],
          [
           "Software Engineer",
           471
          ],
          [
           "Software Engineer",
           218
          ],
          [
           "Software Engineer",
           410
          ],
          [
           "Software Engineer",
           353
          ],
          [
           "Software Engineer",
           416
          ],
          [
           "Software Engineer",
           208
          ],
          [
           "Software Engineer",
           299
          ],
          [
           "Software Engineer",
           320
          ],
          [
           "Software Engineer",
           291
          ],
          [
           "Software Engineer",
           384
          ],
          [
           "Software Engineer",
           18
          ],
          [
           "Software Engineer",
           27
          ],
          [
           "Software Engineer",
           213
          ],
          [
           "Software Engineer",
           222
          ],
          [
           "Software Engineer",
           159
          ],
          [
           "Software Engineer",
           101
          ],
          [
           "Software Engineer",
           108
          ],
          [
           "Software Engineer",
           386
          ],
          [
           "Software Engineer",
           389
          ],
          [
           "Software Engineer",
           16
          ],
          [
           "Software Engineer",
           82
          ],
          [
           "Software Engineer",
           383
          ],
          [
           "Software Engineer",
           103
          ],
          [
           "Software Engineer",
           245
          ],
          [
           "Software Engineer",
           428
          ],
          [
           "Software Engineer",
           251
          ],
          [
           "Software Engineer",
           442
          ],
          [
           "Software Engineer",
           193
          ],
          [
           "Software Engineer",
           386
          ],
          [
           "Software Engineer",
           45
          ],
          [
           "Software Engineer",
           401
          ],
          [
           "Software Engineer",
           268
          ],
          [
           "Software Engineer",
           272
          ],
          [
           "Software Engineer",
           244
          ],
          [
           "Software Engineer",
           492
          ],
          [
           "Software Engineer",
           466
          ],
          [
           "Software Engineer",
           186
          ],
          [
           "Software Engineer",
           465
          ],
          [
           "Software Engineer",
           334
          ],
          [
           "Software Engineer",
           186
          ],
          [
           "Software Engineer",
           390
          ],
          [
           "Software Engineer",
           236
          ],
          [
           "Software Engineer",
           141
          ],
          [
           "Software Engineer",
           251
          ],
          [
           "Software Engineer",
           27
          ],
          [
           "Software Engineer",
           346
          ],
          [
           "Software Engineer",
           176
          ],
          [
           "Software Engineer",
           299
          ],
          [
           "Software Engineer",
           312
          ],
          [
           "Software Engineer",
           99
          ],
          [
           "Software Engineer",
           267
          ],
          [
           "Software Engineer",
           372
          ],
          [
           "Software Engineer",
           282
          ],
          [
           "Software Engineer",
           48
          ],
          [
           "Software Engineer",
           36
          ],
          [
           "Software Engineer",
           63
          ],
          [
           "Software Engineer",
           41
          ],
          [
           "Software Engineer",
           97
          ],
          [
           "Software Engineer",
           147
          ],
          [
           "Software Engineer",
           215
          ],
          [
           "Software Engineer",
           261
          ],
          [
           "Software Engineer",
           416
          ],
          [
           "Software Engineer",
           486
          ],
          [
           "Software Engineer",
           113
          ],
          [
           "Software Engineer",
           65
          ],
          [
           "Software Engineer",
           40
          ],
          [
           "Software Engineer",
           268
          ],
          [
           "Software Engineer",
           184
          ],
          [
           "Software Engineer",
           357
          ],
          [
           "Software Engineer",
           198
          ],
          [
           "Software Engineer",
           30
          ],
          [
           "Software Engineer",
           445
          ],
          [
           "Software Engineer",
           135
          ],
          [
           "Software Engineer",
           315
          ],
          [
           "Software Engineer",
           85
          ],
          [
           "Software Engineer",
           201
          ],
          [
           "Software Engineer",
           38
          ],
          [
           "Software Engineer",
           369
          ],
          [
           "Software Engineer",
           244
          ],
          [
           "Software Engineer",
           331
          ],
          [
           "Software Engineer",
           441
          ],
          [
           "Software Engineer",
           367
          ],
          [
           "Software Engineer",
           32
          ],
          [
           "Software Engineer",
           329
          ],
          [
           "Software Engineer",
           206
          ],
          [
           "Software Engineer",
           160
          ],
          [
           "Software Engineer",
           56
          ],
          [
           "Software Engineer",
           168
          ],
          [
           "Software Engineer",
           18
          ],
          [
           "Software Engineer",
           127
          ],
          [
           "Software Engineer",
           477
          ],
          [
           "Software Engineer",
           193
          ],
          [
           "Software Engineer",
           307
          ],
          [
           "Software Engineer",
           443
          ],
          [
           "Software Engineer",
           481
          ],
          [
           "Software Engineer",
           354
          ],
          [
           "Software Engineer",
           108
          ],
          [
           "Software Engineer",
           276
          ],
          [
           "Software Engineer",
           209
          ],
          [
           "Software Engineer",
           213
          ],
          [
           "Software Engineer",
           474
          ],
          [
           "Software Engineer",
           500
          ],
          [
           "Software Engineer",
           25
          ],
          [
           "Software Engineer",
           58
          ],
          [
           "Software Engineer",
           89
          ],
          [
           "Software Engineer",
           163
          ],
          [
           "Software Engineer",
           371
          ],
          [
           "Software Engineer",
           159
          ],
          [
           "Software Engineer",
           52
          ],
          [
           "Software Engineer",
           336
          ],
          [
           "Software Engineer",
           286
          ],
          [
           "Software Engineer",
           440
          ],
          [
           "Software Engineer",
           410
          ],
          [
           "Software Engineer",
           419
          ],
          [
           "Software Engineer",
           39
          ],
          [
           "Software Engineer",
           421
          ],
          [
           "Software Engineer",
           476
          ],
          [
           "Software Engineer",
           48
          ],
          [
           "Software Engineer",
           414
          ],
          [
           "Software Engineer",
           194
          ],
          [
           "Software Engineer",
           71
          ],
          [
           "Software Engineer",
           495
          ],
          [
           "Software Engineer",
           48
          ],
          [
           "Software Engineer",
           115
          ],
          [
           "Software Engineer",
           465
          ],
          [
           "Software Engineer",
           97
          ],
          [
           "Software Engineer",
           298
          ],
          [
           "Software Engineer",
           213
          ],
          [
           "Software Engineer",
           101
          ],
          [
           "Software Engineer",
           297
          ],
          [
           "Software Engineer",
           104
          ],
          [
           "Software Engineer",
           340
          ],
          [
           "Software Engineer",
           44
          ],
          [
           "Software Engineer",
           499
          ],
          [
           "Software Engineer",
           273
          ],
          [
           "Software Engineer",
           184
          ],
          [
           "Software Engineer",
           273
          ],
          [
           "Software Engineer",
           10
          ],
          [
           "Software Engineer",
           227
          ],
          [
           "Software Engineer",
           247
          ],
          [
           "Software Engineer",
           19
          ],
          [
           "Software Engineer",
           425
          ],
          [
           "Software Engineer",
           299
          ],
          [
           "Software Engineer",
           174
          ],
          [
           "Software Engineer",
           493
          ],
          [
           "Software Engineer",
           298
          ],
          [
           "Software Engineer",
           22
          ],
          [
           "Software Engineer",
           295
          ],
          [
           "Software Engineer",
           43
          ],
          [
           "Software Engineer",
           279
          ],
          [
           "Software Engineer",
           246
          ],
          [
           "Software Engineer",
           343
          ],
          [
           "Software Engineer",
           244
          ],
          [
           "Software Engineer",
           247
          ],
          [
           "Software Engineer",
           154
          ],
          [
           "Software Engineer",
           278
          ],
          [
           "Software Engineer",
           310
          ],
          [
           "Software Engineer",
           500
          ],
          [
           "Software Engineer",
           418
          ],
          [
           "Software Engineer",
           484
          ],
          [
           "Software Engineer",
           240
          ],
          [
           "Software Engineer",
           296
          ],
          [
           "Software Engineer",
           173
          ],
          [
           "Software Engineer",
           319
          ],
          [
           "Software Engineer",
           312
          ],
          [
           "Software Engineer",
           45
          ],
          [
           "Software Engineer",
           162
          ]
         ],
         "hovertemplate": "<b>%{hovertext}</b><br><br>Job Location=Hyderabad<br>Number of Applicants=%{customdata[1]}<br>Latitude=%{lat}<br>Longitude=%{lon}<br>Job Title=%{customdata[0]}<extra></extra>",
         "hovertext": [
          "Hyderabad",
          "Hyderabad",
          "Hyderabad",
          "Hyderabad",
          "Hyderabad",
          "Hyderabad",
          "Hyderabad",
          "Hyderabad",
          "Hyderabad",
          "Hyderabad",
          "Hyderabad",
          "Hyderabad",
          "Hyderabad",
          "Hyderabad",
          "Hyderabad",
          "Hyderabad",
          "Hyderabad",
          "Hyderabad",
          "Hyderabad",
          "Hyderabad",
          "Hyderabad",
          "Hyderabad",
          "Hyderabad",
          "Hyderabad",
          "Hyderabad",
          "Hyderabad",
          "Hyderabad",
          "Hyderabad",
          "Hyderabad",
          "Hyderabad",
          "Hyderabad",
          "Hyderabad",
          "Hyderabad",
          "Hyderabad",
          "Hyderabad",
          "Hyderabad",
          "Hyderabad",
          "Hyderabad",
          "Hyderabad",
          "Hyderabad",
          "Hyderabad",
          "Hyderabad",
          "Hyderabad",
          "Hyderabad",
          "Hyderabad",
          "Hyderabad",
          "Hyderabad",
          "Hyderabad",
          "Hyderabad",
          "Hyderabad",
          "Hyderabad",
          "Hyderabad",
          "Hyderabad",
          "Hyderabad",
          "Hyderabad",
          "Hyderabad",
          "Hyderabad",
          "Hyderabad",
          "Hyderabad",
          "Hyderabad",
          "Hyderabad",
          "Hyderabad",
          "Hyderabad",
          "Hyderabad",
          "Hyderabad",
          "Hyderabad",
          "Hyderabad",
          "Hyderabad",
          "Hyderabad",
          "Hyderabad",
          "Hyderabad",
          "Hyderabad",
          "Hyderabad",
          "Hyderabad",
          "Hyderabad",
          "Hyderabad",
          "Hyderabad",
          "Hyderabad",
          "Hyderabad",
          "Hyderabad",
          "Hyderabad",
          "Hyderabad",
          "Hyderabad",
          "Hyderabad",
          "Hyderabad",
          "Hyderabad",
          "Hyderabad",
          "Hyderabad",
          "Hyderabad",
          "Hyderabad",
          "Hyderabad",
          "Hyderabad",
          "Hyderabad",
          "Hyderabad",
          "Hyderabad",
          "Hyderabad",
          "Hyderabad",
          "Hyderabad",
          "Hyderabad",
          "Hyderabad",
          "Hyderabad",
          "Hyderabad",
          "Hyderabad",
          "Hyderabad",
          "Hyderabad",
          "Hyderabad",
          "Hyderabad",
          "Hyderabad",
          "Hyderabad",
          "Hyderabad",
          "Hyderabad",
          "Hyderabad",
          "Hyderabad",
          "Hyderabad",
          "Hyderabad",
          "Hyderabad",
          "Hyderabad",
          "Hyderabad",
          "Hyderabad",
          "Hyderabad",
          "Hyderabad",
          "Hyderabad",
          "Hyderabad",
          "Hyderabad",
          "Hyderabad",
          "Hyderabad",
          "Hyderabad",
          "Hyderabad",
          "Hyderabad",
          "Hyderabad",
          "Hyderabad",
          "Hyderabad",
          "Hyderabad",
          "Hyderabad",
          "Hyderabad",
          "Hyderabad",
          "Hyderabad",
          "Hyderabad",
          "Hyderabad",
          "Hyderabad",
          "Hyderabad",
          "Hyderabad",
          "Hyderabad",
          "Hyderabad",
          "Hyderabad",
          "Hyderabad",
          "Hyderabad",
          "Hyderabad",
          "Hyderabad",
          "Hyderabad",
          "Hyderabad",
          "Hyderabad",
          "Hyderabad",
          "Hyderabad",
          "Hyderabad",
          "Hyderabad",
          "Hyderabad",
          "Hyderabad",
          "Hyderabad",
          "Hyderabad",
          "Hyderabad",
          "Hyderabad",
          "Hyderabad",
          "Hyderabad",
          "Hyderabad",
          "Hyderabad",
          "Hyderabad",
          "Hyderabad",
          "Hyderabad",
          "Hyderabad",
          "Hyderabad",
          "Hyderabad",
          "Hyderabad",
          "Hyderabad",
          "Hyderabad",
          "Hyderabad",
          "Hyderabad",
          "Hyderabad",
          "Hyderabad",
          "Hyderabad",
          "Hyderabad",
          "Hyderabad",
          "Hyderabad",
          "Hyderabad",
          "Hyderabad",
          "Hyderabad",
          "Hyderabad",
          "Hyderabad",
          "Hyderabad",
          "Hyderabad",
          "Hyderabad",
          "Hyderabad",
          "Hyderabad",
          "Hyderabad",
          "Hyderabad",
          "Hyderabad",
          "Hyderabad",
          "Hyderabad",
          "Hyderabad",
          "Hyderabad",
          "Hyderabad",
          "Hyderabad"
         ],
         "lat": [
          17.385,
          17.385,
          17.385,
          17.385,
          17.385,
          17.385,
          17.385,
          17.385,
          17.385,
          17.385,
          17.385,
          17.385,
          17.385,
          17.385,
          17.385,
          17.385,
          17.385,
          17.385,
          17.385,
          17.385,
          17.385,
          17.385,
          17.385,
          17.385,
          17.385,
          17.385,
          17.385,
          17.385,
          17.385,
          17.385,
          17.385,
          17.385,
          17.385,
          17.385,
          17.385,
          17.385,
          17.385,
          17.385,
          17.385,
          17.385,
          17.385,
          17.385,
          17.385,
          17.385,
          17.385,
          17.385,
          17.385,
          17.385,
          17.385,
          17.385,
          17.385,
          17.385,
          17.385,
          17.385,
          17.385,
          17.385,
          17.385,
          17.385,
          17.385,
          17.385,
          17.385,
          17.385,
          17.385,
          17.385,
          17.385,
          17.385,
          17.385,
          17.385,
          17.385,
          17.385,
          17.385,
          17.385,
          17.385,
          17.385,
          17.385,
          17.385,
          17.385,
          17.385,
          17.385,
          17.385,
          17.385,
          17.385,
          17.385,
          17.385,
          17.385,
          17.385,
          17.385,
          17.385,
          17.385,
          17.385,
          17.385,
          17.385,
          17.385,
          17.385,
          17.385,
          17.385,
          17.385,
          17.385,
          17.385,
          17.385,
          17.385,
          17.385,
          17.385,
          17.385,
          17.385,
          17.385,
          17.385,
          17.385,
          17.385,
          17.385,
          17.385,
          17.385,
          17.385,
          17.385,
          17.385,
          17.385,
          17.385,
          17.385,
          17.385,
          17.385,
          17.385,
          17.385,
          17.385,
          17.385,
          17.385,
          17.385,
          17.385,
          17.385,
          17.385,
          17.385,
          17.385,
          17.385,
          17.385,
          17.385,
          17.385,
          17.385,
          17.385,
          17.385,
          17.385,
          17.385,
          17.385,
          17.385,
          17.385,
          17.385,
          17.385,
          17.385,
          17.385,
          17.385,
          17.385,
          17.385,
          17.385,
          17.385,
          17.385,
          17.385,
          17.385,
          17.385,
          17.385,
          17.385,
          17.385,
          17.385,
          17.385,
          17.385,
          17.385,
          17.385,
          17.385,
          17.385,
          17.385,
          17.385,
          17.385,
          17.385,
          17.385,
          17.385,
          17.385,
          17.385,
          17.385,
          17.385,
          17.385,
          17.385,
          17.385,
          17.385,
          17.385,
          17.385,
          17.385,
          17.385,
          17.385,
          17.385,
          17.385,
          17.385,
          17.385,
          17.385,
          17.385,
          17.385,
          17.385,
          17.385,
          17.385,
          17.385,
          17.385,
          17.385,
          17.385,
          17.385,
          17.385,
          17.385
         ],
         "legendgroup": "Hyderabad",
         "lon": [
          78.4867,
          78.4867,
          78.4867,
          78.4867,
          78.4867,
          78.4867,
          78.4867,
          78.4867,
          78.4867,
          78.4867,
          78.4867,
          78.4867,
          78.4867,
          78.4867,
          78.4867,
          78.4867,
          78.4867,
          78.4867,
          78.4867,
          78.4867,
          78.4867,
          78.4867,
          78.4867,
          78.4867,
          78.4867,
          78.4867,
          78.4867,
          78.4867,
          78.4867,
          78.4867,
          78.4867,
          78.4867,
          78.4867,
          78.4867,
          78.4867,
          78.4867,
          78.4867,
          78.4867,
          78.4867,
          78.4867,
          78.4867,
          78.4867,
          78.4867,
          78.4867,
          78.4867,
          78.4867,
          78.4867,
          78.4867,
          78.4867,
          78.4867,
          78.4867,
          78.4867,
          78.4867,
          78.4867,
          78.4867,
          78.4867,
          78.4867,
          78.4867,
          78.4867,
          78.4867,
          78.4867,
          78.4867,
          78.4867,
          78.4867,
          78.4867,
          78.4867,
          78.4867,
          78.4867,
          78.4867,
          78.4867,
          78.4867,
          78.4867,
          78.4867,
          78.4867,
          78.4867,
          78.4867,
          78.4867,
          78.4867,
          78.4867,
          78.4867,
          78.4867,
          78.4867,
          78.4867,
          78.4867,
          78.4867,
          78.4867,
          78.4867,
          78.4867,
          78.4867,
          78.4867,
          78.4867,
          78.4867,
          78.4867,
          78.4867,
          78.4867,
          78.4867,
          78.4867,
          78.4867,
          78.4867,
          78.4867,
          78.4867,
          78.4867,
          78.4867,
          78.4867,
          78.4867,
          78.4867,
          78.4867,
          78.4867,
          78.4867,
          78.4867,
          78.4867,
          78.4867,
          78.4867,
          78.4867,
          78.4867,
          78.4867,
          78.4867,
          78.4867,
          78.4867,
          78.4867,
          78.4867,
          78.4867,
          78.4867,
          78.4867,
          78.4867,
          78.4867,
          78.4867,
          78.4867,
          78.4867,
          78.4867,
          78.4867,
          78.4867,
          78.4867,
          78.4867,
          78.4867,
          78.4867,
          78.4867,
          78.4867,
          78.4867,
          78.4867,
          78.4867,
          78.4867,
          78.4867,
          78.4867,
          78.4867,
          78.4867,
          78.4867,
          78.4867,
          78.4867,
          78.4867,
          78.4867,
          78.4867,
          78.4867,
          78.4867,
          78.4867,
          78.4867,
          78.4867,
          78.4867,
          78.4867,
          78.4867,
          78.4867,
          78.4867,
          78.4867,
          78.4867,
          78.4867,
          78.4867,
          78.4867,
          78.4867,
          78.4867,
          78.4867,
          78.4867,
          78.4867,
          78.4867,
          78.4867,
          78.4867,
          78.4867,
          78.4867,
          78.4867,
          78.4867,
          78.4867,
          78.4867,
          78.4867,
          78.4867,
          78.4867,
          78.4867,
          78.4867,
          78.4867,
          78.4867,
          78.4867,
          78.4867,
          78.4867,
          78.4867,
          78.4867,
          78.4867,
          78.4867,
          78.4867,
          78.4867,
          78.4867,
          78.4867,
          78.4867,
          78.4867,
          78.4867
         ],
         "marker": {
          "color": "#19d3f3",
          "size": [
           319,
           496,
           218,
           425,
           24,
           65,
           413,
           286,
           324,
           100,
           42,
           467,
           14,
           74,
           284,
           83,
           283,
           473,
           390,
           307,
           488,
           84,
           339,
           362,
           130,
           88,
           308,
           288,
           141,
           92,
           259,
           240,
           256,
           493,
           96,
           471,
           218,
           410,
           353,
           416,
           208,
           299,
           320,
           291,
           384,
           18,
           27,
           213,
           222,
           159,
           101,
           108,
           386,
           389,
           16,
           82,
           383,
           103,
           245,
           428,
           251,
           442,
           193,
           386,
           45,
           401,
           268,
           272,
           244,
           492,
           466,
           186,
           465,
           334,
           186,
           390,
           236,
           141,
           251,
           27,
           346,
           176,
           299,
           312,
           99,
           267,
           372,
           282,
           48,
           36,
           63,
           41,
           97,
           147,
           215,
           261,
           416,
           486,
           113,
           65,
           40,
           268,
           184,
           357,
           198,
           30,
           445,
           135,
           315,
           85,
           201,
           38,
           369,
           244,
           331,
           441,
           367,
           32,
           329,
           206,
           160,
           56,
           168,
           18,
           127,
           477,
           193,
           307,
           443,
           481,
           354,
           108,
           276,
           209,
           213,
           474,
           500,
           25,
           58,
           89,
           163,
           371,
           159,
           52,
           336,
           286,
           440,
           410,
           419,
           39,
           421,
           476,
           48,
           414,
           194,
           71,
           495,
           48,
           115,
           465,
           97,
           298,
           213,
           101,
           297,
           104,
           340,
           44,
           499,
           273,
           184,
           273,
           10,
           227,
           247,
           19,
           425,
           299,
           174,
           493,
           298,
           22,
           295,
           43,
           279,
           246,
           343,
           244,
           247,
           154,
           278,
           310,
           500,
           418,
           484,
           240,
           296,
           173,
           319,
           312,
           45,
           162
          ],
          "sizemode": "area",
          "sizeref": 0.2
         },
         "mode": "markers",
         "name": "Hyderabad",
         "showlegend": true,
         "subplot": "mapbox",
         "type": "scattermapbox"
        },
        {
         "customdata": [
          [
           "Software Engineer",
           412
          ],
          [
           "Software Engineer",
           371
          ],
          [
           "Software Engineer",
           462
          ],
          [
           "Software Engineer",
           361
          ],
          [
           "Software Engineer",
           278
          ],
          [
           "Software Engineer",
           233
          ],
          [
           "Software Engineer",
           400
          ],
          [
           "Software Engineer",
           329
          ],
          [
           "Software Engineer",
           241
          ],
          [
           "Software Engineer",
           68
          ],
          [
           "Software Engineer",
           431
          ],
          [
           "Software Engineer",
           212
          ],
          [
           "Software Engineer",
           225
          ],
          [
           "Software Engineer",
           192
          ],
          [
           "Software Engineer",
           369
          ],
          [
           "Software Engineer",
           131
          ],
          [
           "Software Engineer",
           214
          ],
          [
           "Software Engineer",
           362
          ],
          [
           "Software Engineer",
           146
          ],
          [
           "Software Engineer",
           119
          ],
          [
           "Software Engineer",
           131
          ],
          [
           "Software Engineer",
           35
          ],
          [
           "Software Engineer",
           182
          ],
          [
           "Software Engineer",
           255
          ],
          [
           "Software Engineer",
           61
          ],
          [
           "Software Engineer",
           441
          ],
          [
           "Software Engineer",
           147
          ],
          [
           "Software Engineer",
           463
          ],
          [
           "Software Engineer",
           356
          ],
          [
           "Software Engineer",
           264
          ],
          [
           "Software Engineer",
           398
          ],
          [
           "Software Engineer",
           243
          ],
          [
           "Software Engineer",
           398
          ],
          [
           "Software Engineer",
           312
          ],
          [
           "Software Engineer",
           254
          ],
          [
           "Software Engineer",
           328
          ],
          [
           "Software Engineer",
           333
          ],
          [
           "Software Engineer",
           180
          ],
          [
           "Software Engineer",
           42
          ],
          [
           "Software Engineer",
           90
          ],
          [
           "Software Engineer",
           28
          ],
          [
           "Software Engineer",
           297
          ],
          [
           "Software Engineer",
           445
          ],
          [
           "Software Engineer",
           432
          ],
          [
           "Software Engineer",
           115
          ],
          [
           "Software Engineer",
           90
          ],
          [
           "Software Engineer",
           466
          ],
          [
           "Software Engineer",
           28
          ],
          [
           "Software Engineer",
           447
          ],
          [
           "Software Engineer",
           374
          ],
          [
           "Software Engineer",
           204
          ],
          [
           "Software Engineer",
           297
          ],
          [
           "Software Engineer",
           450
          ],
          [
           "Software Engineer",
           141
          ],
          [
           "Software Engineer",
           271
          ],
          [
           "Software Engineer",
           410
          ],
          [
           "Software Engineer",
           381
          ],
          [
           "Software Engineer",
           30
          ],
          [
           "Software Engineer",
           119
          ],
          [
           "Software Engineer",
           236
          ],
          [
           "Software Engineer",
           416
          ],
          [
           "Software Engineer",
           259
          ],
          [
           "Software Engineer",
           198
          ],
          [
           "Software Engineer",
           12
          ],
          [
           "Software Engineer",
           71
          ],
          [
           "Software Engineer",
           186
          ],
          [
           "Software Engineer",
           228
          ],
          [
           "Software Engineer",
           166
          ],
          [
           "Software Engineer",
           293
          ],
          [
           "Software Engineer",
           488
          ],
          [
           "Software Engineer",
           151
          ],
          [
           "Software Engineer",
           80
          ],
          [
           "Software Engineer",
           24
          ],
          [
           "Software Engineer",
           208
          ],
          [
           "Software Engineer",
           316
          ],
          [
           "Software Engineer",
           30
          ],
          [
           "Software Engineer",
           202
          ],
          [
           "Software Engineer",
           174
          ],
          [
           "Software Engineer",
           85
          ],
          [
           "Software Engineer",
           269
          ],
          [
           "Software Engineer",
           222
          ],
          [
           "Software Engineer",
           275
          ],
          [
           "Software Engineer",
           422
          ],
          [
           "Software Engineer",
           179
          ],
          [
           "Software Engineer",
           416
          ],
          [
           "Software Engineer",
           457
          ],
          [
           "Software Engineer",
           440
          ],
          [
           "Software Engineer",
           467
          ],
          [
           "Software Engineer",
           208
          ],
          [
           "Software Engineer",
           149
          ],
          [
           "Software Engineer",
           490
          ],
          [
           "Software Engineer",
           90
          ],
          [
           "Software Engineer",
           436
          ],
          [
           "Software Engineer",
           66
          ],
          [
           "Software Engineer",
           130
          ],
          [
           "Software Engineer",
           254
          ],
          [
           "Software Engineer",
           270
          ],
          [
           "Software Engineer",
           124
          ],
          [
           "Software Engineer",
           38
          ],
          [
           "Software Engineer",
           22
          ],
          [
           "Software Engineer",
           379
          ],
          [
           "Software Engineer",
           286
          ],
          [
           "Software Engineer",
           294
          ],
          [
           "Software Engineer",
           325
          ],
          [
           "Software Engineer",
           203
          ],
          [
           "Software Engineer",
           92
          ],
          [
           "Software Engineer",
           412
          ],
          [
           "Software Engineer",
           313
          ],
          [
           "Software Engineer",
           447
          ],
          [
           "Software Engineer",
           239
          ],
          [
           "Software Engineer",
           84
          ],
          [
           "Software Engineer",
           58
          ],
          [
           "Software Engineer",
           297
          ],
          [
           "Software Engineer",
           232
          ],
          [
           "Software Engineer",
           494
          ],
          [
           "Software Engineer",
           291
          ],
          [
           "Software Engineer",
           469
          ],
          [
           "Software Engineer",
           206
          ],
          [
           "Software Engineer",
           356
          ],
          [
           "Software Engineer",
           258
          ],
          [
           "Software Engineer",
           78
          ],
          [
           "Software Engineer",
           42
          ],
          [
           "Software Engineer",
           74
          ],
          [
           "Software Engineer",
           408
          ],
          [
           "Software Engineer",
           444
          ],
          [
           "Software Engineer",
           250
          ],
          [
           "Software Engineer",
           316
          ],
          [
           "Software Engineer",
           33
          ],
          [
           "Software Engineer",
           108
          ],
          [
           "Software Engineer",
           24
          ],
          [
           "Software Engineer",
           444
          ],
          [
           "Software Engineer",
           460
          ],
          [
           "Software Engineer",
           408
          ],
          [
           "Software Engineer",
           425
          ],
          [
           "Software Engineer",
           416
          ],
          [
           "Software Engineer",
           111
          ],
          [
           "Software Engineer",
           427
          ],
          [
           "Software Engineer",
           146
          ],
          [
           "Software Engineer",
           181
          ],
          [
           "Software Engineer",
           133
          ],
          [
           "Software Engineer",
           352
          ],
          [
           "Software Engineer",
           392
          ],
          [
           "Software Engineer",
           465
          ],
          [
           "Software Engineer",
           444
          ],
          [
           "Software Engineer",
           373
          ],
          [
           "Software Engineer",
           96
          ],
          [
           "Software Engineer",
           267
          ],
          [
           "Software Engineer",
           205
          ],
          [
           "Software Engineer",
           151
          ],
          [
           "Software Engineer",
           84
          ],
          [
           "Software Engineer",
           490
          ],
          [
           "Software Engineer",
           301
          ],
          [
           "Software Engineer",
           291
          ],
          [
           "Software Engineer",
           110
          ],
          [
           "Software Engineer",
           219
          ],
          [
           "Software Engineer",
           70
          ],
          [
           "Software Engineer",
           198
          ],
          [
           "Software Engineer",
           172
          ],
          [
           "Software Engineer",
           88
          ],
          [
           "Software Engineer",
           407
          ],
          [
           "Software Engineer",
           183
          ],
          [
           "Software Engineer",
           174
          ],
          [
           "Software Engineer",
           433
          ],
          [
           "Software Engineer",
           270
          ],
          [
           "Software Engineer",
           292
          ],
          [
           "Software Engineer",
           84
          ],
          [
           "Software Engineer",
           329
          ],
          [
           "Software Engineer",
           430
          ],
          [
           "Software Engineer",
           29
          ],
          [
           "Software Engineer",
           71
          ],
          [
           "Software Engineer",
           29
          ],
          [
           "Software Engineer",
           177
          ],
          [
           "Software Engineer",
           302
          ],
          [
           "Software Engineer",
           15
          ],
          [
           "Software Engineer",
           283
          ],
          [
           "Software Engineer",
           457
          ],
          [
           "Software Engineer",
           31
          ],
          [
           "Software Engineer",
           186
          ],
          [
           "Software Engineer",
           88
          ],
          [
           "Software Engineer",
           86
          ],
          [
           "Software Engineer",
           353
          ],
          [
           "Software Engineer",
           377
          ],
          [
           "Software Engineer",
           132
          ],
          [
           "Software Engineer",
           334
          ],
          [
           "Software Engineer",
           125
          ],
          [
           "Software Engineer",
           453
          ],
          [
           "Software Engineer",
           261
          ],
          [
           "Software Engineer",
           495
          ],
          [
           "Software Engineer",
           182
          ],
          [
           "Software Engineer",
           102
          ],
          [
           "Software Engineer",
           472
          ],
          [
           "Software Engineer",
           352
          ],
          [
           "Software Engineer",
           40
          ],
          [
           "Software Engineer",
           246
          ],
          [
           "Software Engineer",
           39
          ],
          [
           "Software Engineer",
           442
          ],
          [
           "Software Engineer",
           422
          ],
          [
           "Software Engineer",
           367
          ]
         ],
         "hovertemplate": "<b>%{hovertext}</b><br><br>Job Location=Chennai<br>Number of Applicants=%{customdata[1]}<br>Latitude=%{lat}<br>Longitude=%{lon}<br>Job Title=%{customdata[0]}<extra></extra>",
         "hovertext": [
          "Chennai",
          "Chennai",
          "Chennai",
          "Chennai",
          "Chennai",
          "Chennai",
          "Chennai",
          "Chennai",
          "Chennai",
          "Chennai",
          "Chennai",
          "Chennai",
          "Chennai",
          "Chennai",
          "Chennai",
          "Chennai",
          "Chennai",
          "Chennai",
          "Chennai",
          "Chennai",
          "Chennai",
          "Chennai",
          "Chennai",
          "Chennai",
          "Chennai",
          "Chennai",
          "Chennai",
          "Chennai",
          "Chennai",
          "Chennai",
          "Chennai",
          "Chennai",
          "Chennai",
          "Chennai",
          "Chennai",
          "Chennai",
          "Chennai",
          "Chennai",
          "Chennai",
          "Chennai",
          "Chennai",
          "Chennai",
          "Chennai",
          "Chennai",
          "Chennai",
          "Chennai",
          "Chennai",
          "Chennai",
          "Chennai",
          "Chennai",
          "Chennai",
          "Chennai",
          "Chennai",
          "Chennai",
          "Chennai",
          "Chennai",
          "Chennai",
          "Chennai",
          "Chennai",
          "Chennai",
          "Chennai",
          "Chennai",
          "Chennai",
          "Chennai",
          "Chennai",
          "Chennai",
          "Chennai",
          "Chennai",
          "Chennai",
          "Chennai",
          "Chennai",
          "Chennai",
          "Chennai",
          "Chennai",
          "Chennai",
          "Chennai",
          "Chennai",
          "Chennai",
          "Chennai",
          "Chennai",
          "Chennai",
          "Chennai",
          "Chennai",
          "Chennai",
          "Chennai",
          "Chennai",
          "Chennai",
          "Chennai",
          "Chennai",
          "Chennai",
          "Chennai",
          "Chennai",
          "Chennai",
          "Chennai",
          "Chennai",
          "Chennai",
          "Chennai",
          "Chennai",
          "Chennai",
          "Chennai",
          "Chennai",
          "Chennai",
          "Chennai",
          "Chennai",
          "Chennai",
          "Chennai",
          "Chennai",
          "Chennai",
          "Chennai",
          "Chennai",
          "Chennai",
          "Chennai",
          "Chennai",
          "Chennai",
          "Chennai",
          "Chennai",
          "Chennai",
          "Chennai",
          "Chennai",
          "Chennai",
          "Chennai",
          "Chennai",
          "Chennai",
          "Chennai",
          "Chennai",
          "Chennai",
          "Chennai",
          "Chennai",
          "Chennai",
          "Chennai",
          "Chennai",
          "Chennai",
          "Chennai",
          "Chennai",
          "Chennai",
          "Chennai",
          "Chennai",
          "Chennai",
          "Chennai",
          "Chennai",
          "Chennai",
          "Chennai",
          "Chennai",
          "Chennai",
          "Chennai",
          "Chennai",
          "Chennai",
          "Chennai",
          "Chennai",
          "Chennai",
          "Chennai",
          "Chennai",
          "Chennai",
          "Chennai",
          "Chennai",
          "Chennai",
          "Chennai",
          "Chennai",
          "Chennai",
          "Chennai",
          "Chennai",
          "Chennai",
          "Chennai",
          "Chennai",
          "Chennai",
          "Chennai",
          "Chennai",
          "Chennai",
          "Chennai",
          "Chennai",
          "Chennai",
          "Chennai",
          "Chennai",
          "Chennai",
          "Chennai",
          "Chennai",
          "Chennai",
          "Chennai",
          "Chennai",
          "Chennai",
          "Chennai",
          "Chennai",
          "Chennai",
          "Chennai",
          "Chennai",
          "Chennai",
          "Chennai",
          "Chennai",
          "Chennai",
          "Chennai",
          "Chennai",
          "Chennai",
          "Chennai",
          "Chennai",
          "Chennai",
          "Chennai",
          "Chennai",
          "Chennai"
         ],
         "lat": [
          13.0827,
          13.0827,
          13.0827,
          13.0827,
          13.0827,
          13.0827,
          13.0827,
          13.0827,
          13.0827,
          13.0827,
          13.0827,
          13.0827,
          13.0827,
          13.0827,
          13.0827,
          13.0827,
          13.0827,
          13.0827,
          13.0827,
          13.0827,
          13.0827,
          13.0827,
          13.0827,
          13.0827,
          13.0827,
          13.0827,
          13.0827,
          13.0827,
          13.0827,
          13.0827,
          13.0827,
          13.0827,
          13.0827,
          13.0827,
          13.0827,
          13.0827,
          13.0827,
          13.0827,
          13.0827,
          13.0827,
          13.0827,
          13.0827,
          13.0827,
          13.0827,
          13.0827,
          13.0827,
          13.0827,
          13.0827,
          13.0827,
          13.0827,
          13.0827,
          13.0827,
          13.0827,
          13.0827,
          13.0827,
          13.0827,
          13.0827,
          13.0827,
          13.0827,
          13.0827,
          13.0827,
          13.0827,
          13.0827,
          13.0827,
          13.0827,
          13.0827,
          13.0827,
          13.0827,
          13.0827,
          13.0827,
          13.0827,
          13.0827,
          13.0827,
          13.0827,
          13.0827,
          13.0827,
          13.0827,
          13.0827,
          13.0827,
          13.0827,
          13.0827,
          13.0827,
          13.0827,
          13.0827,
          13.0827,
          13.0827,
          13.0827,
          13.0827,
          13.0827,
          13.0827,
          13.0827,
          13.0827,
          13.0827,
          13.0827,
          13.0827,
          13.0827,
          13.0827,
          13.0827,
          13.0827,
          13.0827,
          13.0827,
          13.0827,
          13.0827,
          13.0827,
          13.0827,
          13.0827,
          13.0827,
          13.0827,
          13.0827,
          13.0827,
          13.0827,
          13.0827,
          13.0827,
          13.0827,
          13.0827,
          13.0827,
          13.0827,
          13.0827,
          13.0827,
          13.0827,
          13.0827,
          13.0827,
          13.0827,
          13.0827,
          13.0827,
          13.0827,
          13.0827,
          13.0827,
          13.0827,
          13.0827,
          13.0827,
          13.0827,
          13.0827,
          13.0827,
          13.0827,
          13.0827,
          13.0827,
          13.0827,
          13.0827,
          13.0827,
          13.0827,
          13.0827,
          13.0827,
          13.0827,
          13.0827,
          13.0827,
          13.0827,
          13.0827,
          13.0827,
          13.0827,
          13.0827,
          13.0827,
          13.0827,
          13.0827,
          13.0827,
          13.0827,
          13.0827,
          13.0827,
          13.0827,
          13.0827,
          13.0827,
          13.0827,
          13.0827,
          13.0827,
          13.0827,
          13.0827,
          13.0827,
          13.0827,
          13.0827,
          13.0827,
          13.0827,
          13.0827,
          13.0827,
          13.0827,
          13.0827,
          13.0827,
          13.0827,
          13.0827,
          13.0827,
          13.0827,
          13.0827,
          13.0827,
          13.0827,
          13.0827,
          13.0827,
          13.0827,
          13.0827,
          13.0827,
          13.0827,
          13.0827,
          13.0827,
          13.0827,
          13.0827,
          13.0827,
          13.0827,
          13.0827,
          13.0827,
          13.0827
         ],
         "legendgroup": "Chennai",
         "lon": [
          80.2707,
          80.2707,
          80.2707,
          80.2707,
          80.2707,
          80.2707,
          80.2707,
          80.2707,
          80.2707,
          80.2707,
          80.2707,
          80.2707,
          80.2707,
          80.2707,
          80.2707,
          80.2707,
          80.2707,
          80.2707,
          80.2707,
          80.2707,
          80.2707,
          80.2707,
          80.2707,
          80.2707,
          80.2707,
          80.2707,
          80.2707,
          80.2707,
          80.2707,
          80.2707,
          80.2707,
          80.2707,
          80.2707,
          80.2707,
          80.2707,
          80.2707,
          80.2707,
          80.2707,
          80.2707,
          80.2707,
          80.2707,
          80.2707,
          80.2707,
          80.2707,
          80.2707,
          80.2707,
          80.2707,
          80.2707,
          80.2707,
          80.2707,
          80.2707,
          80.2707,
          80.2707,
          80.2707,
          80.2707,
          80.2707,
          80.2707,
          80.2707,
          80.2707,
          80.2707,
          80.2707,
          80.2707,
          80.2707,
          80.2707,
          80.2707,
          80.2707,
          80.2707,
          80.2707,
          80.2707,
          80.2707,
          80.2707,
          80.2707,
          80.2707,
          80.2707,
          80.2707,
          80.2707,
          80.2707,
          80.2707,
          80.2707,
          80.2707,
          80.2707,
          80.2707,
          80.2707,
          80.2707,
          80.2707,
          80.2707,
          80.2707,
          80.2707,
          80.2707,
          80.2707,
          80.2707,
          80.2707,
          80.2707,
          80.2707,
          80.2707,
          80.2707,
          80.2707,
          80.2707,
          80.2707,
          80.2707,
          80.2707,
          80.2707,
          80.2707,
          80.2707,
          80.2707,
          80.2707,
          80.2707,
          80.2707,
          80.2707,
          80.2707,
          80.2707,
          80.2707,
          80.2707,
          80.2707,
          80.2707,
          80.2707,
          80.2707,
          80.2707,
          80.2707,
          80.2707,
          80.2707,
          80.2707,
          80.2707,
          80.2707,
          80.2707,
          80.2707,
          80.2707,
          80.2707,
          80.2707,
          80.2707,
          80.2707,
          80.2707,
          80.2707,
          80.2707,
          80.2707,
          80.2707,
          80.2707,
          80.2707,
          80.2707,
          80.2707,
          80.2707,
          80.2707,
          80.2707,
          80.2707,
          80.2707,
          80.2707,
          80.2707,
          80.2707,
          80.2707,
          80.2707,
          80.2707,
          80.2707,
          80.2707,
          80.2707,
          80.2707,
          80.2707,
          80.2707,
          80.2707,
          80.2707,
          80.2707,
          80.2707,
          80.2707,
          80.2707,
          80.2707,
          80.2707,
          80.2707,
          80.2707,
          80.2707,
          80.2707,
          80.2707,
          80.2707,
          80.2707,
          80.2707,
          80.2707,
          80.2707,
          80.2707,
          80.2707,
          80.2707,
          80.2707,
          80.2707,
          80.2707,
          80.2707,
          80.2707,
          80.2707,
          80.2707,
          80.2707,
          80.2707,
          80.2707,
          80.2707,
          80.2707,
          80.2707,
          80.2707,
          80.2707,
          80.2707,
          80.2707,
          80.2707,
          80.2707,
          80.2707
         ],
         "marker": {
          "color": "#FF6692",
          "size": [
           412,
           371,
           462,
           361,
           278,
           233,
           400,
           329,
           241,
           68,
           431,
           212,
           225,
           192,
           369,
           131,
           214,
           362,
           146,
           119,
           131,
           35,
           182,
           255,
           61,
           441,
           147,
           463,
           356,
           264,
           398,
           243,
           398,
           312,
           254,
           328,
           333,
           180,
           42,
           90,
           28,
           297,
           445,
           432,
           115,
           90,
           466,
           28,
           447,
           374,
           204,
           297,
           450,
           141,
           271,
           410,
           381,
           30,
           119,
           236,
           416,
           259,
           198,
           12,
           71,
           186,
           228,
           166,
           293,
           488,
           151,
           80,
           24,
           208,
           316,
           30,
           202,
           174,
           85,
           269,
           222,
           275,
           422,
           179,
           416,
           457,
           440,
           467,
           208,
           149,
           490,
           90,
           436,
           66,
           130,
           254,
           270,
           124,
           38,
           22,
           379,
           286,
           294,
           325,
           203,
           92,
           412,
           313,
           447,
           239,
           84,
           58,
           297,
           232,
           494,
           291,
           469,
           206,
           356,
           258,
           78,
           42,
           74,
           408,
           444,
           250,
           316,
           33,
           108,
           24,
           444,
           460,
           408,
           425,
           416,
           111,
           427,
           146,
           181,
           133,
           352,
           392,
           465,
           444,
           373,
           96,
           267,
           205,
           151,
           84,
           490,
           301,
           291,
           110,
           219,
           70,
           198,
           172,
           88,
           407,
           183,
           174,
           433,
           270,
           292,
           84,
           329,
           430,
           29,
           71,
           29,
           177,
           302,
           15,
           283,
           457,
           31,
           186,
           88,
           86,
           353,
           377,
           132,
           334,
           125,
           453,
           261,
           495,
           182,
           102,
           472,
           352,
           40,
           246,
           39,
           442,
           422,
           367
          ],
          "sizemode": "area",
          "sizeref": 0.2
         },
         "mode": "markers",
         "name": "Chennai",
         "showlegend": true,
         "subplot": "mapbox",
         "type": "scattermapbox"
        },
        {
         "customdata": [
          [
           "Software Engineer",
           405
          ],
          [
           "Software Engineer",
           317
          ],
          [
           "Software Engineer",
           371
          ],
          [
           "Software Engineer",
           481
          ],
          [
           "Software Engineer",
           177
          ],
          [
           "Software Engineer",
           290
          ],
          [
           "Software Engineer",
           160
          ],
          [
           "Software Engineer",
           498
          ],
          [
           "Software Engineer",
           63
          ],
          [
           "Software Engineer",
           95
          ],
          [
           "Software Engineer",
           119
          ],
          [
           "Software Engineer",
           345
          ],
          [
           "Software Engineer",
           425
          ],
          [
           "Software Engineer",
           176
          ],
          [
           "Software Engineer",
           249
          ],
          [
           "Software Engineer",
           422
          ],
          [
           "Software Engineer",
           375
          ],
          [
           "Software Engineer",
           248
          ],
          [
           "Software Engineer",
           375
          ],
          [
           "Software Engineer",
           57
          ],
          [
           "Software Engineer",
           430
          ],
          [
           "Software Engineer",
           364
          ],
          [
           "Software Engineer",
           38
          ],
          [
           "Software Engineer",
           293
          ],
          [
           "Software Engineer",
           83
          ],
          [
           "Software Engineer",
           449
          ],
          [
           "Software Engineer",
           475
          ],
          [
           "Software Engineer",
           396
          ],
          [
           "Software Engineer",
           278
          ],
          [
           "Software Engineer",
           98
          ],
          [
           "Software Engineer",
           194
          ],
          [
           "Software Engineer",
           398
          ],
          [
           "Software Engineer",
           263
          ],
          [
           "Software Engineer",
           441
          ],
          [
           "Software Engineer",
           134
          ],
          [
           "Software Engineer",
           383
          ],
          [
           "Software Engineer",
           104
          ],
          [
           "Software Engineer",
           368
          ],
          [
           "Software Engineer",
           98
          ],
          [
           "Software Engineer",
           447
          ],
          [
           "Software Engineer",
           457
          ],
          [
           "Software Engineer",
           279
          ],
          [
           "Software Engineer",
           135
          ],
          [
           "Software Engineer",
           58
          ],
          [
           "Software Engineer",
           410
          ],
          [
           "Software Engineer",
           243
          ],
          [
           "Software Engineer",
           442
          ],
          [
           "Software Engineer",
           450
          ],
          [
           "Software Engineer",
           334
          ],
          [
           "Software Engineer",
           248
          ],
          [
           "Software Engineer",
           354
          ],
          [
           "Software Engineer",
           105
          ],
          [
           "Software Engineer",
           360
          ],
          [
           "Software Engineer",
           228
          ],
          [
           "Software Engineer",
           306
          ],
          [
           "Software Engineer",
           37
          ],
          [
           "Software Engineer",
           338
          ],
          [
           "Software Engineer",
           460
          ],
          [
           "Software Engineer",
           418
          ],
          [
           "Software Engineer",
           470
          ],
          [
           "Software Engineer",
           411
          ],
          [
           "Software Engineer",
           292
          ],
          [
           "Software Engineer",
           20
          ],
          [
           "Software Engineer",
           95
          ],
          [
           "Software Engineer",
           359
          ],
          [
           "Software Engineer",
           451
          ],
          [
           "Software Engineer",
           142
          ],
          [
           "Software Engineer",
           304
          ],
          [
           "Software Engineer",
           426
          ],
          [
           "Software Engineer",
           283
          ],
          [
           "Software Engineer",
           419
          ],
          [
           "Software Engineer",
           413
          ],
          [
           "Software Engineer",
           330
          ],
          [
           "Software Engineer",
           300
          ],
          [
           "Software Engineer",
           156
          ],
          [
           "Software Engineer",
           389
          ],
          [
           "Software Engineer",
           388
          ],
          [
           "Software Engineer",
           88
          ],
          [
           "Software Engineer",
           467
          ],
          [
           "Software Engineer",
           159
          ],
          [
           "Software Engineer",
           307
          ],
          [
           "Software Engineer",
           408
          ],
          [
           "Software Engineer",
           453
          ],
          [
           "Software Engineer",
           176
          ],
          [
           "Software Engineer",
           155
          ],
          [
           "Software Engineer",
           210
          ],
          [
           "Software Engineer",
           72
          ],
          [
           "Software Engineer",
           58
          ],
          [
           "Software Engineer",
           252
          ],
          [
           "Software Engineer",
           492
          ],
          [
           "Software Engineer",
           341
          ],
          [
           "Software Engineer",
           301
          ],
          [
           "Software Engineer",
           447
          ],
          [
           "Software Engineer",
           106
          ],
          [
           "Software Engineer",
           24
          ],
          [
           "Software Engineer",
           475
          ],
          [
           "Software Engineer",
           323
          ],
          [
           "Software Engineer",
           113
          ],
          [
           "Software Engineer",
           362
          ],
          [
           "Software Engineer",
           319
          ],
          [
           "Software Engineer",
           57
          ],
          [
           "Software Engineer",
           114
          ],
          [
           "Software Engineer",
           116
          ],
          [
           "Software Engineer",
           22
          ],
          [
           "Software Engineer",
           75
          ],
          [
           "Software Engineer",
           417
          ],
          [
           "Software Engineer",
           397
          ],
          [
           "Software Engineer",
           229
          ],
          [
           "Software Engineer",
           180
          ],
          [
           "Software Engineer",
           31
          ],
          [
           "Software Engineer",
           216
          ],
          [
           "Software Engineer",
           275
          ],
          [
           "Software Engineer",
           16
          ],
          [
           "Software Engineer",
           91
          ],
          [
           "Software Engineer",
           36
          ],
          [
           "Software Engineer",
           298
          ],
          [
           "Software Engineer",
           31
          ],
          [
           "Software Engineer",
           396
          ],
          [
           "Software Engineer",
           343
          ],
          [
           "Software Engineer",
           150
          ],
          [
           "Software Engineer",
           47
          ],
          [
           "Software Engineer",
           388
          ],
          [
           "Software Engineer",
           241
          ],
          [
           "Software Engineer",
           47
          ],
          [
           "Software Engineer",
           257
          ],
          [
           "Software Engineer",
           430
          ],
          [
           "Software Engineer",
           460
          ],
          [
           "Software Engineer",
           459
          ],
          [
           "Software Engineer",
           18
          ],
          [
           "Software Engineer",
           476
          ],
          [
           "Software Engineer",
           305
          ],
          [
           "Software Engineer",
           122
          ],
          [
           "Software Engineer",
           270
          ],
          [
           "Software Engineer",
           457
          ],
          [
           "Software Engineer",
           14
          ],
          [
           "Software Engineer",
           154
          ],
          [
           "Software Engineer",
           318
          ],
          [
           "Software Engineer",
           136
          ],
          [
           "Software Engineer",
           112
          ],
          [
           "Software Engineer",
           425
          ],
          [
           "Software Engineer",
           366
          ],
          [
           "Software Engineer",
           242
          ],
          [
           "Software Engineer",
           78
          ],
          [
           "Software Engineer",
           368
          ],
          [
           "Software Engineer",
           85
          ],
          [
           "Software Engineer",
           375
          ],
          [
           "Software Engineer",
           433
          ],
          [
           "Software Engineer",
           499
          ],
          [
           "Software Engineer",
           110
          ],
          [
           "Software Engineer",
           420
          ],
          [
           "Software Engineer",
           322
          ],
          [
           "Software Engineer",
           371
          ],
          [
           "Software Engineer",
           243
          ],
          [
           "Software Engineer",
           113
          ],
          [
           "Software Engineer",
           361
          ],
          [
           "Software Engineer",
           466
          ],
          [
           "Software Engineer",
           356
          ],
          [
           "Software Engineer",
           421
          ],
          [
           "Software Engineer",
           379
          ],
          [
           "Software Engineer",
           65
          ],
          [
           "Software Engineer",
           80
          ],
          [
           "Software Engineer",
           53
          ],
          [
           "Software Engineer",
           404
          ],
          [
           "Software Engineer",
           234
          ],
          [
           "Software Engineer",
           18
          ],
          [
           "Software Engineer",
           487
          ],
          [
           "Software Engineer",
           213
          ],
          [
           "Software Engineer",
           55
          ],
          [
           "Software Engineer",
           77
          ],
          [
           "Software Engineer",
           189
          ],
          [
           "Software Engineer",
           198
          ],
          [
           "Software Engineer",
           377
          ],
          [
           "Software Engineer",
           307
          ],
          [
           "Software Engineer",
           313
          ],
          [
           "Software Engineer",
           196
          ],
          [
           "Software Engineer",
           410
          ],
          [
           "Software Engineer",
           495
          ],
          [
           "Software Engineer",
           336
          ],
          [
           "Software Engineer",
           262
          ],
          [
           "Software Engineer",
           383
          ],
          [
           "Software Engineer",
           281
          ],
          [
           "Software Engineer",
           405
          ],
          [
           "Software Engineer",
           223
          ],
          [
           "Software Engineer",
           144
          ],
          [
           "Software Engineer",
           204
          ],
          [
           "Software Engineer",
           320
          ],
          [
           "Software Engineer",
           401
          ],
          [
           "Software Engineer",
           307
          ],
          [
           "Software Engineer",
           25
          ],
          [
           "Software Engineer",
           39
          ],
          [
           "Software Engineer",
           300
          ],
          [
           "Software Engineer",
           317
          ],
          [
           "Software Engineer",
           163
          ],
          [
           "Software Engineer",
           171
          ],
          [
           "Software Engineer",
           274
          ],
          [
           "Software Engineer",
           220
          ],
          [
           "Software Engineer",
           426
          ],
          [
           "Software Engineer",
           491
          ],
          [
           "Software Engineer",
           364
          ],
          [
           "Software Engineer",
           480
          ],
          [
           "Software Engineer",
           41
          ],
          [
           "Software Engineer",
           436
          ],
          [
           "Software Engineer",
           130
          ]
         ],
         "hovertemplate": "<b>%{hovertext}</b><br><br>Job Location=Jaipur<br>Number of Applicants=%{customdata[1]}<br>Latitude=%{lat}<br>Longitude=%{lon}<br>Job Title=%{customdata[0]}<extra></extra>",
         "hovertext": [
          "Jaipur",
          "Jaipur",
          "Jaipur",
          "Jaipur",
          "Jaipur",
          "Jaipur",
          "Jaipur",
          "Jaipur",
          "Jaipur",
          "Jaipur",
          "Jaipur",
          "Jaipur",
          "Jaipur",
          "Jaipur",
          "Jaipur",
          "Jaipur",
          "Jaipur",
          "Jaipur",
          "Jaipur",
          "Jaipur",
          "Jaipur",
          "Jaipur",
          "Jaipur",
          "Jaipur",
          "Jaipur",
          "Jaipur",
          "Jaipur",
          "Jaipur",
          "Jaipur",
          "Jaipur",
          "Jaipur",
          "Jaipur",
          "Jaipur",
          "Jaipur",
          "Jaipur",
          "Jaipur",
          "Jaipur",
          "Jaipur",
          "Jaipur",
          "Jaipur",
          "Jaipur",
          "Jaipur",
          "Jaipur",
          "Jaipur",
          "Jaipur",
          "Jaipur",
          "Jaipur",
          "Jaipur",
          "Jaipur",
          "Jaipur",
          "Jaipur",
          "Jaipur",
          "Jaipur",
          "Jaipur",
          "Jaipur",
          "Jaipur",
          "Jaipur",
          "Jaipur",
          "Jaipur",
          "Jaipur",
          "Jaipur",
          "Jaipur",
          "Jaipur",
          "Jaipur",
          "Jaipur",
          "Jaipur",
          "Jaipur",
          "Jaipur",
          "Jaipur",
          "Jaipur",
          "Jaipur",
          "Jaipur",
          "Jaipur",
          "Jaipur",
          "Jaipur",
          "Jaipur",
          "Jaipur",
          "Jaipur",
          "Jaipur",
          "Jaipur",
          "Jaipur",
          "Jaipur",
          "Jaipur",
          "Jaipur",
          "Jaipur",
          "Jaipur",
          "Jaipur",
          "Jaipur",
          "Jaipur",
          "Jaipur",
          "Jaipur",
          "Jaipur",
          "Jaipur",
          "Jaipur",
          "Jaipur",
          "Jaipur",
          "Jaipur",
          "Jaipur",
          "Jaipur",
          "Jaipur",
          "Jaipur",
          "Jaipur",
          "Jaipur",
          "Jaipur",
          "Jaipur",
          "Jaipur",
          "Jaipur",
          "Jaipur",
          "Jaipur",
          "Jaipur",
          "Jaipur",
          "Jaipur",
          "Jaipur",
          "Jaipur",
          "Jaipur",
          "Jaipur",
          "Jaipur",
          "Jaipur",
          "Jaipur",
          "Jaipur",
          "Jaipur",
          "Jaipur",
          "Jaipur",
          "Jaipur",
          "Jaipur",
          "Jaipur",
          "Jaipur",
          "Jaipur",
          "Jaipur",
          "Jaipur",
          "Jaipur",
          "Jaipur",
          "Jaipur",
          "Jaipur",
          "Jaipur",
          "Jaipur",
          "Jaipur",
          "Jaipur",
          "Jaipur",
          "Jaipur",
          "Jaipur",
          "Jaipur",
          "Jaipur",
          "Jaipur",
          "Jaipur",
          "Jaipur",
          "Jaipur",
          "Jaipur",
          "Jaipur",
          "Jaipur",
          "Jaipur",
          "Jaipur",
          "Jaipur",
          "Jaipur",
          "Jaipur",
          "Jaipur",
          "Jaipur",
          "Jaipur",
          "Jaipur",
          "Jaipur",
          "Jaipur",
          "Jaipur",
          "Jaipur",
          "Jaipur",
          "Jaipur",
          "Jaipur",
          "Jaipur",
          "Jaipur",
          "Jaipur",
          "Jaipur",
          "Jaipur",
          "Jaipur",
          "Jaipur",
          "Jaipur",
          "Jaipur",
          "Jaipur",
          "Jaipur",
          "Jaipur",
          "Jaipur",
          "Jaipur",
          "Jaipur",
          "Jaipur",
          "Jaipur",
          "Jaipur",
          "Jaipur",
          "Jaipur",
          "Jaipur",
          "Jaipur",
          "Jaipur",
          "Jaipur",
          "Jaipur",
          "Jaipur",
          "Jaipur",
          "Jaipur",
          "Jaipur",
          "Jaipur",
          "Jaipur",
          "Jaipur",
          "Jaipur",
          "Jaipur",
          "Jaipur",
          "Jaipur",
          "Jaipur"
         ],
         "lat": [
          26.9124,
          26.9124,
          26.9124,
          26.9124,
          26.9124,
          26.9124,
          26.9124,
          26.9124,
          26.9124,
          26.9124,
          26.9124,
          26.9124,
          26.9124,
          26.9124,
          26.9124,
          26.9124,
          26.9124,
          26.9124,
          26.9124,
          26.9124,
          26.9124,
          26.9124,
          26.9124,
          26.9124,
          26.9124,
          26.9124,
          26.9124,
          26.9124,
          26.9124,
          26.9124,
          26.9124,
          26.9124,
          26.9124,
          26.9124,
          26.9124,
          26.9124,
          26.9124,
          26.9124,
          26.9124,
          26.9124,
          26.9124,
          26.9124,
          26.9124,
          26.9124,
          26.9124,
          26.9124,
          26.9124,
          26.9124,
          26.9124,
          26.9124,
          26.9124,
          26.9124,
          26.9124,
          26.9124,
          26.9124,
          26.9124,
          26.9124,
          26.9124,
          26.9124,
          26.9124,
          26.9124,
          26.9124,
          26.9124,
          26.9124,
          26.9124,
          26.9124,
          26.9124,
          26.9124,
          26.9124,
          26.9124,
          26.9124,
          26.9124,
          26.9124,
          26.9124,
          26.9124,
          26.9124,
          26.9124,
          26.9124,
          26.9124,
          26.9124,
          26.9124,
          26.9124,
          26.9124,
          26.9124,
          26.9124,
          26.9124,
          26.9124,
          26.9124,
          26.9124,
          26.9124,
          26.9124,
          26.9124,
          26.9124,
          26.9124,
          26.9124,
          26.9124,
          26.9124,
          26.9124,
          26.9124,
          26.9124,
          26.9124,
          26.9124,
          26.9124,
          26.9124,
          26.9124,
          26.9124,
          26.9124,
          26.9124,
          26.9124,
          26.9124,
          26.9124,
          26.9124,
          26.9124,
          26.9124,
          26.9124,
          26.9124,
          26.9124,
          26.9124,
          26.9124,
          26.9124,
          26.9124,
          26.9124,
          26.9124,
          26.9124,
          26.9124,
          26.9124,
          26.9124,
          26.9124,
          26.9124,
          26.9124,
          26.9124,
          26.9124,
          26.9124,
          26.9124,
          26.9124,
          26.9124,
          26.9124,
          26.9124,
          26.9124,
          26.9124,
          26.9124,
          26.9124,
          26.9124,
          26.9124,
          26.9124,
          26.9124,
          26.9124,
          26.9124,
          26.9124,
          26.9124,
          26.9124,
          26.9124,
          26.9124,
          26.9124,
          26.9124,
          26.9124,
          26.9124,
          26.9124,
          26.9124,
          26.9124,
          26.9124,
          26.9124,
          26.9124,
          26.9124,
          26.9124,
          26.9124,
          26.9124,
          26.9124,
          26.9124,
          26.9124,
          26.9124,
          26.9124,
          26.9124,
          26.9124,
          26.9124,
          26.9124,
          26.9124,
          26.9124,
          26.9124,
          26.9124,
          26.9124,
          26.9124,
          26.9124,
          26.9124,
          26.9124,
          26.9124,
          26.9124,
          26.9124,
          26.9124,
          26.9124,
          26.9124,
          26.9124,
          26.9124,
          26.9124,
          26.9124,
          26.9124,
          26.9124,
          26.9124,
          26.9124,
          26.9124,
          26.9124,
          26.9124,
          26.9124
         ],
         "legendgroup": "Jaipur",
         "lon": [
          75.7873,
          75.7873,
          75.7873,
          75.7873,
          75.7873,
          75.7873,
          75.7873,
          75.7873,
          75.7873,
          75.7873,
          75.7873,
          75.7873,
          75.7873,
          75.7873,
          75.7873,
          75.7873,
          75.7873,
          75.7873,
          75.7873,
          75.7873,
          75.7873,
          75.7873,
          75.7873,
          75.7873,
          75.7873,
          75.7873,
          75.7873,
          75.7873,
          75.7873,
          75.7873,
          75.7873,
          75.7873,
          75.7873,
          75.7873,
          75.7873,
          75.7873,
          75.7873,
          75.7873,
          75.7873,
          75.7873,
          75.7873,
          75.7873,
          75.7873,
          75.7873,
          75.7873,
          75.7873,
          75.7873,
          75.7873,
          75.7873,
          75.7873,
          75.7873,
          75.7873,
          75.7873,
          75.7873,
          75.7873,
          75.7873,
          75.7873,
          75.7873,
          75.7873,
          75.7873,
          75.7873,
          75.7873,
          75.7873,
          75.7873,
          75.7873,
          75.7873,
          75.7873,
          75.7873,
          75.7873,
          75.7873,
          75.7873,
          75.7873,
          75.7873,
          75.7873,
          75.7873,
          75.7873,
          75.7873,
          75.7873,
          75.7873,
          75.7873,
          75.7873,
          75.7873,
          75.7873,
          75.7873,
          75.7873,
          75.7873,
          75.7873,
          75.7873,
          75.7873,
          75.7873,
          75.7873,
          75.7873,
          75.7873,
          75.7873,
          75.7873,
          75.7873,
          75.7873,
          75.7873,
          75.7873,
          75.7873,
          75.7873,
          75.7873,
          75.7873,
          75.7873,
          75.7873,
          75.7873,
          75.7873,
          75.7873,
          75.7873,
          75.7873,
          75.7873,
          75.7873,
          75.7873,
          75.7873,
          75.7873,
          75.7873,
          75.7873,
          75.7873,
          75.7873,
          75.7873,
          75.7873,
          75.7873,
          75.7873,
          75.7873,
          75.7873,
          75.7873,
          75.7873,
          75.7873,
          75.7873,
          75.7873,
          75.7873,
          75.7873,
          75.7873,
          75.7873,
          75.7873,
          75.7873,
          75.7873,
          75.7873,
          75.7873,
          75.7873,
          75.7873,
          75.7873,
          75.7873,
          75.7873,
          75.7873,
          75.7873,
          75.7873,
          75.7873,
          75.7873,
          75.7873,
          75.7873,
          75.7873,
          75.7873,
          75.7873,
          75.7873,
          75.7873,
          75.7873,
          75.7873,
          75.7873,
          75.7873,
          75.7873,
          75.7873,
          75.7873,
          75.7873,
          75.7873,
          75.7873,
          75.7873,
          75.7873,
          75.7873,
          75.7873,
          75.7873,
          75.7873,
          75.7873,
          75.7873,
          75.7873,
          75.7873,
          75.7873,
          75.7873,
          75.7873,
          75.7873,
          75.7873,
          75.7873,
          75.7873,
          75.7873,
          75.7873,
          75.7873,
          75.7873,
          75.7873,
          75.7873,
          75.7873,
          75.7873,
          75.7873,
          75.7873,
          75.7873,
          75.7873,
          75.7873,
          75.7873,
          75.7873,
          75.7873,
          75.7873,
          75.7873,
          75.7873,
          75.7873
         ],
         "marker": {
          "color": "#B6E880",
          "size": [
           405,
           317,
           371,
           481,
           177,
           290,
           160,
           498,
           63,
           95,
           119,
           345,
           425,
           176,
           249,
           422,
           375,
           248,
           375,
           57,
           430,
           364,
           38,
           293,
           83,
           449,
           475,
           396,
           278,
           98,
           194,
           398,
           263,
           441,
           134,
           383,
           104,
           368,
           98,
           447,
           457,
           279,
           135,
           58,
           410,
           243,
           442,
           450,
           334,
           248,
           354,
           105,
           360,
           228,
           306,
           37,
           338,
           460,
           418,
           470,
           411,
           292,
           20,
           95,
           359,
           451,
           142,
           304,
           426,
           283,
           419,
           413,
           330,
           300,
           156,
           389,
           388,
           88,
           467,
           159,
           307,
           408,
           453,
           176,
           155,
           210,
           72,
           58,
           252,
           492,
           341,
           301,
           447,
           106,
           24,
           475,
           323,
           113,
           362,
           319,
           57,
           114,
           116,
           22,
           75,
           417,
           397,
           229,
           180,
           31,
           216,
           275,
           16,
           91,
           36,
           298,
           31,
           396,
           343,
           150,
           47,
           388,
           241,
           47,
           257,
           430,
           460,
           459,
           18,
           476,
           305,
           122,
           270,
           457,
           14,
           154,
           318,
           136,
           112,
           425,
           366,
           242,
           78,
           368,
           85,
           375,
           433,
           499,
           110,
           420,
           322,
           371,
           243,
           113,
           361,
           466,
           356,
           421,
           379,
           65,
           80,
           53,
           404,
           234,
           18,
           487,
           213,
           55,
           77,
           189,
           198,
           377,
           307,
           313,
           196,
           410,
           495,
           336,
           262,
           383,
           281,
           405,
           223,
           144,
           204,
           320,
           401,
           307,
           25,
           39,
           300,
           317,
           163,
           171,
           274,
           220,
           426,
           491,
           364,
           480,
           41,
           436,
           130
          ],
          "sizemode": "area",
          "sizeref": 0.2
         },
         "mode": "markers",
         "name": "Jaipur",
         "showlegend": true,
         "subplot": "mapbox",
         "type": "scattermapbox"
        },
        {
         "customdata": [
          [
           "Software Engineer",
           253
          ],
          [
           "Software Engineer",
           38
          ],
          [
           "Software Engineer",
           160
          ],
          [
           "Software Engineer",
           259
          ],
          [
           "Software Engineer",
           222
          ],
          [
           "Software Engineer",
           356
          ],
          [
           "Software Engineer",
           21
          ],
          [
           "Software Engineer",
           23
          ],
          [
           "Software Engineer",
           120
          ],
          [
           "Software Engineer",
           416
          ],
          [
           "Software Engineer",
           115
          ],
          [
           "Software Engineer",
           456
          ],
          [
           "Software Engineer",
           289
          ],
          [
           "Software Engineer",
           137
          ],
          [
           "Software Engineer",
           104
          ],
          [
           "Software Engineer",
           343
          ],
          [
           "Software Engineer",
           354
          ],
          [
           "Software Engineer",
           116
          ],
          [
           "Software Engineer",
           476
          ],
          [
           "Software Engineer",
           403
          ],
          [
           "Software Engineer",
           253
          ],
          [
           "Software Engineer",
           406
          ],
          [
           "Software Engineer",
           232
          ],
          [
           "Software Engineer",
           281
          ],
          [
           "Software Engineer",
           25
          ],
          [
           "Software Engineer",
           351
          ],
          [
           "Software Engineer",
           393
          ],
          [
           "Software Engineer",
           413
          ],
          [
           "Software Engineer",
           79
          ],
          [
           "Software Engineer",
           445
          ],
          [
           "Software Engineer",
           460
          ],
          [
           "Software Engineer",
           147
          ],
          [
           "Software Engineer",
           139
          ],
          [
           "Software Engineer",
           175
          ],
          [
           "Software Engineer",
           239
          ],
          [
           "Software Engineer",
           440
          ],
          [
           "Software Engineer",
           479
          ],
          [
           "Software Engineer",
           258
          ],
          [
           "Software Engineer",
           260
          ],
          [
           "Software Engineer",
           244
          ],
          [
           "Software Engineer",
           121
          ],
          [
           "Software Engineer",
           90
          ],
          [
           "Software Engineer",
           300
          ],
          [
           "Software Engineer",
           323
          ],
          [
           "Software Engineer",
           204
          ],
          [
           "Software Engineer",
           116
          ],
          [
           "Software Engineer",
           97
          ],
          [
           "Software Engineer",
           167
          ],
          [
           "Software Engineer",
           129
          ],
          [
           "Software Engineer",
           419
          ],
          [
           "Software Engineer",
           389
          ],
          [
           "Software Engineer",
           471
          ],
          [
           "Software Engineer",
           376
          ],
          [
           "Software Engineer",
           248
          ],
          [
           "Software Engineer",
           457
          ],
          [
           "Software Engineer",
           409
          ],
          [
           "Software Engineer",
           498
          ],
          [
           "Software Engineer",
           292
          ],
          [
           "Software Engineer",
           216
          ],
          [
           "Software Engineer",
           455
          ],
          [
           "Software Engineer",
           244
          ],
          [
           "Software Engineer",
           120
          ],
          [
           "Software Engineer",
           207
          ],
          [
           "Software Engineer",
           226
          ],
          [
           "Software Engineer",
           492
          ],
          [
           "Software Engineer",
           225
          ],
          [
           "Software Engineer",
           408
          ],
          [
           "Software Engineer",
           142
          ],
          [
           "Software Engineer",
           154
          ],
          [
           "Software Engineer",
           128
          ],
          [
           "Software Engineer",
           117
          ],
          [
           "Software Engineer",
           298
          ],
          [
           "Software Engineer",
           120
          ],
          [
           "Software Engineer",
           81
          ],
          [
           "Software Engineer",
           247
          ],
          [
           "Software Engineer",
           44
          ],
          [
           "Software Engineer",
           190
          ],
          [
           "Software Engineer",
           218
          ],
          [
           "Software Engineer",
           67
          ],
          [
           "Software Engineer",
           112
          ],
          [
           "Software Engineer",
           350
          ],
          [
           "Software Engineer",
           116
          ],
          [
           "Software Engineer",
           277
          ],
          [
           "Software Engineer",
           56
          ],
          [
           "Software Engineer",
           219
          ],
          [
           "Software Engineer",
           219
          ],
          [
           "Software Engineer",
           486
          ],
          [
           "Software Engineer",
           52
          ],
          [
           "Software Engineer",
           349
          ],
          [
           "Software Engineer",
           186
          ],
          [
           "Software Engineer",
           379
          ],
          [
           "Software Engineer",
           125
          ],
          [
           "Software Engineer",
           241
          ],
          [
           "Software Engineer",
           24
          ],
          [
           "Software Engineer",
           141
          ],
          [
           "Software Engineer",
           376
          ],
          [
           "Software Engineer",
           178
          ],
          [
           "Software Engineer",
           11
          ],
          [
           "Software Engineer",
           287
          ],
          [
           "Software Engineer",
           290
          ],
          [
           "Software Engineer",
           17
          ],
          [
           "Software Engineer",
           448
          ],
          [
           "Software Engineer",
           422
          ],
          [
           "Software Engineer",
           141
          ],
          [
           "Software Engineer",
           219
          ],
          [
           "Software Engineer",
           441
          ],
          [
           "Software Engineer",
           284
          ],
          [
           "Software Engineer",
           83
          ],
          [
           "Software Engineer",
           440
          ],
          [
           "Software Engineer",
           64
          ],
          [
           "Software Engineer",
           278
          ],
          [
           "Software Engineer",
           250
          ],
          [
           "Software Engineer",
           177
          ],
          [
           "Software Engineer",
           213
          ],
          [
           "Software Engineer",
           388
          ],
          [
           "Software Engineer",
           178
          ],
          [
           "Software Engineer",
           239
          ],
          [
           "Software Engineer",
           355
          ],
          [
           "Software Engineer",
           493
          ],
          [
           "Software Engineer",
           456
          ],
          [
           "Software Engineer",
           47
          ],
          [
           "Software Engineer",
           331
          ],
          [
           "Software Engineer",
           373
          ],
          [
           "Software Engineer",
           140
          ],
          [
           "Software Engineer",
           99
          ],
          [
           "Software Engineer",
           246
          ],
          [
           "Software Engineer",
           155
          ],
          [
           "Software Engineer",
           12
          ],
          [
           "Software Engineer",
           132
          ],
          [
           "Software Engineer",
           180
          ],
          [
           "Software Engineer",
           293
          ],
          [
           "Software Engineer",
           378
          ],
          [
           "Software Engineer",
           326
          ],
          [
           "Software Engineer",
           327
          ],
          [
           "Software Engineer",
           293
          ],
          [
           "Software Engineer",
           301
          ],
          [
           "Software Engineer",
           479
          ],
          [
           "Software Engineer",
           56
          ],
          [
           "Software Engineer",
           201
          ],
          [
           "Software Engineer",
           358
          ],
          [
           "Software Engineer",
           141
          ],
          [
           "Software Engineer",
           350
          ],
          [
           "Software Engineer",
           472
          ],
          [
           "Software Engineer",
           398
          ],
          [
           "Software Engineer",
           163
          ],
          [
           "Software Engineer",
           18
          ],
          [
           "Software Engineer",
           298
          ],
          [
           "Software Engineer",
           146
          ],
          [
           "Software Engineer",
           452
          ],
          [
           "Software Engineer",
           53
          ],
          [
           "Software Engineer",
           393
          ],
          [
           "Software Engineer",
           209
          ],
          [
           "Software Engineer",
           418
          ],
          [
           "Software Engineer",
           281
          ],
          [
           "Software Engineer",
           91
          ],
          [
           "Software Engineer",
           35
          ],
          [
           "Software Engineer",
           291
          ],
          [
           "Software Engineer",
           89
          ],
          [
           "Software Engineer",
           458
          ],
          [
           "Software Engineer",
           46
          ],
          [
           "Software Engineer",
           265
          ],
          [
           "Software Engineer",
           464
          ],
          [
           "Software Engineer",
           418
          ],
          [
           "Software Engineer",
           49
          ],
          [
           "Software Engineer",
           428
          ],
          [
           "Software Engineer",
           18
          ],
          [
           "Software Engineer",
           38
          ],
          [
           "Software Engineer",
           32
          ],
          [
           "Software Engineer",
           362
          ],
          [
           "Software Engineer",
           454
          ],
          [
           "Software Engineer",
           347
          ],
          [
           "Software Engineer",
           463
          ]
         ],
         "hovertemplate": "<b>%{hovertext}</b><br><br>Job Location=Kolkata<br>Number of Applicants=%{customdata[1]}<br>Latitude=%{lat}<br>Longitude=%{lon}<br>Job Title=%{customdata[0]}<extra></extra>",
         "hovertext": [
          "Kolkata",
          "Kolkata",
          "Kolkata",
          "Kolkata",
          "Kolkata",
          "Kolkata",
          "Kolkata",
          "Kolkata",
          "Kolkata",
          "Kolkata",
          "Kolkata",
          "Kolkata",
          "Kolkata",
          "Kolkata",
          "Kolkata",
          "Kolkata",
          "Kolkata",
          "Kolkata",
          "Kolkata",
          "Kolkata",
          "Kolkata",
          "Kolkata",
          "Kolkata",
          "Kolkata",
          "Kolkata",
          "Kolkata",
          "Kolkata",
          "Kolkata",
          "Kolkata",
          "Kolkata",
          "Kolkata",
          "Kolkata",
          "Kolkata",
          "Kolkata",
          "Kolkata",
          "Kolkata",
          "Kolkata",
          "Kolkata",
          "Kolkata",
          "Kolkata",
          "Kolkata",
          "Kolkata",
          "Kolkata",
          "Kolkata",
          "Kolkata",
          "Kolkata",
          "Kolkata",
          "Kolkata",
          "Kolkata",
          "Kolkata",
          "Kolkata",
          "Kolkata",
          "Kolkata",
          "Kolkata",
          "Kolkata",
          "Kolkata",
          "Kolkata",
          "Kolkata",
          "Kolkata",
          "Kolkata",
          "Kolkata",
          "Kolkata",
          "Kolkata",
          "Kolkata",
          "Kolkata",
          "Kolkata",
          "Kolkata",
          "Kolkata",
          "Kolkata",
          "Kolkata",
          "Kolkata",
          "Kolkata",
          "Kolkata",
          "Kolkata",
          "Kolkata",
          "Kolkata",
          "Kolkata",
          "Kolkata",
          "Kolkata",
          "Kolkata",
          "Kolkata",
          "Kolkata",
          "Kolkata",
          "Kolkata",
          "Kolkata",
          "Kolkata",
          "Kolkata",
          "Kolkata",
          "Kolkata",
          "Kolkata",
          "Kolkata",
          "Kolkata",
          "Kolkata",
          "Kolkata",
          "Kolkata",
          "Kolkata",
          "Kolkata",
          "Kolkata",
          "Kolkata",
          "Kolkata",
          "Kolkata",
          "Kolkata",
          "Kolkata",
          "Kolkata",
          "Kolkata",
          "Kolkata",
          "Kolkata",
          "Kolkata",
          "Kolkata",
          "Kolkata",
          "Kolkata",
          "Kolkata",
          "Kolkata",
          "Kolkata",
          "Kolkata",
          "Kolkata",
          "Kolkata",
          "Kolkata",
          "Kolkata",
          "Kolkata",
          "Kolkata",
          "Kolkata",
          "Kolkata",
          "Kolkata",
          "Kolkata",
          "Kolkata",
          "Kolkata",
          "Kolkata",
          "Kolkata",
          "Kolkata",
          "Kolkata",
          "Kolkata",
          "Kolkata",
          "Kolkata",
          "Kolkata",
          "Kolkata",
          "Kolkata",
          "Kolkata",
          "Kolkata",
          "Kolkata",
          "Kolkata",
          "Kolkata",
          "Kolkata",
          "Kolkata",
          "Kolkata",
          "Kolkata",
          "Kolkata",
          "Kolkata",
          "Kolkata",
          "Kolkata",
          "Kolkata",
          "Kolkata",
          "Kolkata",
          "Kolkata",
          "Kolkata",
          "Kolkata",
          "Kolkata",
          "Kolkata",
          "Kolkata",
          "Kolkata",
          "Kolkata",
          "Kolkata",
          "Kolkata",
          "Kolkata",
          "Kolkata",
          "Kolkata",
          "Kolkata",
          "Kolkata",
          "Kolkata",
          "Kolkata",
          "Kolkata",
          "Kolkata"
         ],
         "lat": [
          22.5726,
          22.5726,
          22.5726,
          22.5726,
          22.5726,
          22.5726,
          22.5726,
          22.5726,
          22.5726,
          22.5726,
          22.5726,
          22.5726,
          22.5726,
          22.5726,
          22.5726,
          22.5726,
          22.5726,
          22.5726,
          22.5726,
          22.5726,
          22.5726,
          22.5726,
          22.5726,
          22.5726,
          22.5726,
          22.5726,
          22.5726,
          22.5726,
          22.5726,
          22.5726,
          22.5726,
          22.5726,
          22.5726,
          22.5726,
          22.5726,
          22.5726,
          22.5726,
          22.5726,
          22.5726,
          22.5726,
          22.5726,
          22.5726,
          22.5726,
          22.5726,
          22.5726,
          22.5726,
          22.5726,
          22.5726,
          22.5726,
          22.5726,
          22.5726,
          22.5726,
          22.5726,
          22.5726,
          22.5726,
          22.5726,
          22.5726,
          22.5726,
          22.5726,
          22.5726,
          22.5726,
          22.5726,
          22.5726,
          22.5726,
          22.5726,
          22.5726,
          22.5726,
          22.5726,
          22.5726,
          22.5726,
          22.5726,
          22.5726,
          22.5726,
          22.5726,
          22.5726,
          22.5726,
          22.5726,
          22.5726,
          22.5726,
          22.5726,
          22.5726,
          22.5726,
          22.5726,
          22.5726,
          22.5726,
          22.5726,
          22.5726,
          22.5726,
          22.5726,
          22.5726,
          22.5726,
          22.5726,
          22.5726,
          22.5726,
          22.5726,
          22.5726,
          22.5726,
          22.5726,
          22.5726,
          22.5726,
          22.5726,
          22.5726,
          22.5726,
          22.5726,
          22.5726,
          22.5726,
          22.5726,
          22.5726,
          22.5726,
          22.5726,
          22.5726,
          22.5726,
          22.5726,
          22.5726,
          22.5726,
          22.5726,
          22.5726,
          22.5726,
          22.5726,
          22.5726,
          22.5726,
          22.5726,
          22.5726,
          22.5726,
          22.5726,
          22.5726,
          22.5726,
          22.5726,
          22.5726,
          22.5726,
          22.5726,
          22.5726,
          22.5726,
          22.5726,
          22.5726,
          22.5726,
          22.5726,
          22.5726,
          22.5726,
          22.5726,
          22.5726,
          22.5726,
          22.5726,
          22.5726,
          22.5726,
          22.5726,
          22.5726,
          22.5726,
          22.5726,
          22.5726,
          22.5726,
          22.5726,
          22.5726,
          22.5726,
          22.5726,
          22.5726,
          22.5726,
          22.5726,
          22.5726,
          22.5726,
          22.5726,
          22.5726,
          22.5726,
          22.5726,
          22.5726,
          22.5726,
          22.5726,
          22.5726,
          22.5726,
          22.5726,
          22.5726,
          22.5726
         ],
         "legendgroup": "Kolkata",
         "lon": [
          88.3639,
          88.3639,
          88.3639,
          88.3639,
          88.3639,
          88.3639,
          88.3639,
          88.3639,
          88.3639,
          88.3639,
          88.3639,
          88.3639,
          88.3639,
          88.3639,
          88.3639,
          88.3639,
          88.3639,
          88.3639,
          88.3639,
          88.3639,
          88.3639,
          88.3639,
          88.3639,
          88.3639,
          88.3639,
          88.3639,
          88.3639,
          88.3639,
          88.3639,
          88.3639,
          88.3639,
          88.3639,
          88.3639,
          88.3639,
          88.3639,
          88.3639,
          88.3639,
          88.3639,
          88.3639,
          88.3639,
          88.3639,
          88.3639,
          88.3639,
          88.3639,
          88.3639,
          88.3639,
          88.3639,
          88.3639,
          88.3639,
          88.3639,
          88.3639,
          88.3639,
          88.3639,
          88.3639,
          88.3639,
          88.3639,
          88.3639,
          88.3639,
          88.3639,
          88.3639,
          88.3639,
          88.3639,
          88.3639,
          88.3639,
          88.3639,
          88.3639,
          88.3639,
          88.3639,
          88.3639,
          88.3639,
          88.3639,
          88.3639,
          88.3639,
          88.3639,
          88.3639,
          88.3639,
          88.3639,
          88.3639,
          88.3639,
          88.3639,
          88.3639,
          88.3639,
          88.3639,
          88.3639,
          88.3639,
          88.3639,
          88.3639,
          88.3639,
          88.3639,
          88.3639,
          88.3639,
          88.3639,
          88.3639,
          88.3639,
          88.3639,
          88.3639,
          88.3639,
          88.3639,
          88.3639,
          88.3639,
          88.3639,
          88.3639,
          88.3639,
          88.3639,
          88.3639,
          88.3639,
          88.3639,
          88.3639,
          88.3639,
          88.3639,
          88.3639,
          88.3639,
          88.3639,
          88.3639,
          88.3639,
          88.3639,
          88.3639,
          88.3639,
          88.3639,
          88.3639,
          88.3639,
          88.3639,
          88.3639,
          88.3639,
          88.3639,
          88.3639,
          88.3639,
          88.3639,
          88.3639,
          88.3639,
          88.3639,
          88.3639,
          88.3639,
          88.3639,
          88.3639,
          88.3639,
          88.3639,
          88.3639,
          88.3639,
          88.3639,
          88.3639,
          88.3639,
          88.3639,
          88.3639,
          88.3639,
          88.3639,
          88.3639,
          88.3639,
          88.3639,
          88.3639,
          88.3639,
          88.3639,
          88.3639,
          88.3639,
          88.3639,
          88.3639,
          88.3639,
          88.3639,
          88.3639,
          88.3639,
          88.3639,
          88.3639,
          88.3639,
          88.3639,
          88.3639,
          88.3639,
          88.3639,
          88.3639,
          88.3639,
          88.3639,
          88.3639,
          88.3639
         ],
         "marker": {
          "color": "#FF97FF",
          "size": [
           253,
           38,
           160,
           259,
           222,
           356,
           21,
           23,
           120,
           416,
           115,
           456,
           289,
           137,
           104,
           343,
           354,
           116,
           476,
           403,
           253,
           406,
           232,
           281,
           25,
           351,
           393,
           413,
           79,
           445,
           460,
           147,
           139,
           175,
           239,
           440,
           479,
           258,
           260,
           244,
           121,
           90,
           300,
           323,
           204,
           116,
           97,
           167,
           129,
           419,
           389,
           471,
           376,
           248,
           457,
           409,
           498,
           292,
           216,
           455,
           244,
           120,
           207,
           226,
           492,
           225,
           408,
           142,
           154,
           128,
           117,
           298,
           120,
           81,
           247,
           44,
           190,
           218,
           67,
           112,
           350,
           116,
           277,
           56,
           219,
           219,
           486,
           52,
           349,
           186,
           379,
           125,
           241,
           24,
           141,
           376,
           178,
           11,
           287,
           290,
           17,
           448,
           422,
           141,
           219,
           441,
           284,
           83,
           440,
           64,
           278,
           250,
           177,
           213,
           388,
           178,
           239,
           355,
           493,
           456,
           47,
           331,
           373,
           140,
           99,
           246,
           155,
           12,
           132,
           180,
           293,
           378,
           326,
           327,
           293,
           301,
           479,
           56,
           201,
           358,
           141,
           350,
           472,
           398,
           163,
           18,
           298,
           146,
           452,
           53,
           393,
           209,
           418,
           281,
           91,
           35,
           291,
           89,
           458,
           46,
           265,
           464,
           418,
           49,
           428,
           18,
           38,
           32,
           362,
           454,
           347,
           463
          ],
          "sizemode": "area",
          "sizeref": 0.2
         },
         "mode": "markers",
         "name": "Kolkata",
         "showlegend": true,
         "subplot": "mapbox",
         "type": "scattermapbox"
        },
        {
         "customdata": [
          [
           "Software Engineer",
           430
          ],
          [
           "Software Engineer",
           224
          ],
          [
           "Software Engineer",
           64
          ],
          [
           "Software Engineer",
           465
          ],
          [
           "Software Engineer",
           128
          ],
          [
           "Software Engineer",
           107
          ],
          [
           "Software Engineer",
           168
          ],
          [
           "Software Engineer",
           305
          ],
          [
           "Software Engineer",
           405
          ],
          [
           "Software Engineer",
           272
          ],
          [
           "Software Engineer",
           302
          ],
          [
           "Software Engineer",
           138
          ],
          [
           "Software Engineer",
           339
          ],
          [
           "Software Engineer",
           85
          ],
          [
           "Software Engineer",
           255
          ],
          [
           "Software Engineer",
           446
          ],
          [
           "Software Engineer",
           212
          ],
          [
           "Software Engineer",
           159
          ],
          [
           "Software Engineer",
           331
          ],
          [
           "Software Engineer",
           232
          ],
          [
           "Software Engineer",
           226
          ],
          [
           "Software Engineer",
           255
          ],
          [
           "Software Engineer",
           477
          ],
          [
           "Software Engineer",
           346
          ],
          [
           "Software Engineer",
           398
          ],
          [
           "Software Engineer",
           71
          ],
          [
           "Software Engineer",
           272
          ],
          [
           "Software Engineer",
           350
          ],
          [
           "Software Engineer",
           220
          ],
          [
           "Software Engineer",
           231
          ],
          [
           "Software Engineer",
           63
          ],
          [
           "Software Engineer",
           421
          ],
          [
           "Software Engineer",
           268
          ],
          [
           "Software Engineer",
           323
          ],
          [
           "Software Engineer",
           79
          ],
          [
           "Software Engineer",
           346
          ],
          [
           "Software Engineer",
           125
          ],
          [
           "Software Engineer",
           20
          ],
          [
           "Software Engineer",
           458
          ],
          [
           "Software Engineer",
           215
          ],
          [
           "Software Engineer",
           396
          ],
          [
           "Software Engineer",
           87
          ],
          [
           "Software Engineer",
           486
          ],
          [
           "Software Engineer",
           464
          ],
          [
           "Software Engineer",
           194
          ],
          [
           "Software Engineer",
           290
          ],
          [
           "Software Engineer",
           378
          ],
          [
           "Software Engineer",
           215
          ],
          [
           "Software Engineer",
           373
          ],
          [
           "Software Engineer",
           350
          ],
          [
           "Software Engineer",
           119
          ],
          [
           "Software Engineer",
           460
          ],
          [
           "Software Engineer",
           443
          ],
          [
           "Software Engineer",
           51
          ],
          [
           "Software Engineer",
           275
          ],
          [
           "Software Engineer",
           231
          ],
          [
           "Software Engineer",
           149
          ],
          [
           "Software Engineer",
           388
          ],
          [
           "Software Engineer",
           321
          ],
          [
           "Software Engineer",
           282
          ],
          [
           "Software Engineer",
           71
          ],
          [
           "Software Engineer",
           342
          ],
          [
           "Software Engineer",
           292
          ],
          [
           "Software Engineer",
           76
          ],
          [
           "Software Engineer",
           179
          ],
          [
           "Software Engineer",
           463
          ],
          [
           "Software Engineer",
           156
          ],
          [
           "Software Engineer",
           46
          ],
          [
           "Software Engineer",
           290
          ],
          [
           "Software Engineer",
           146
          ],
          [
           "Software Engineer",
           139
          ],
          [
           "Software Engineer",
           332
          ],
          [
           "Software Engineer",
           434
          ],
          [
           "Software Engineer",
           390
          ],
          [
           "Software Engineer",
           158
          ],
          [
           "Software Engineer",
           488
          ],
          [
           "Software Engineer",
           134
          ],
          [
           "Software Engineer",
           166
          ],
          [
           "Software Engineer",
           371
          ],
          [
           "Software Engineer",
           311
          ],
          [
           "Software Engineer",
           189
          ],
          [
           "Software Engineer",
           35
          ],
          [
           "Software Engineer",
           441
          ],
          [
           "Software Engineer",
           480
          ],
          [
           "Software Engineer",
           284
          ],
          [
           "Software Engineer",
           68
          ],
          [
           "Software Engineer",
           499
          ],
          [
           "Software Engineer",
           366
          ],
          [
           "Software Engineer",
           369
          ],
          [
           "Software Engineer",
           492
          ],
          [
           "Software Engineer",
           454
          ],
          [
           "Software Engineer",
           97
          ],
          [
           "Software Engineer",
           258
          ],
          [
           "Software Engineer",
           359
          ],
          [
           "Software Engineer",
           119
          ],
          [
           "Software Engineer",
           86
          ],
          [
           "Software Engineer",
           38
          ],
          [
           "Software Engineer",
           79
          ],
          [
           "Software Engineer",
           215
          ],
          [
           "Software Engineer",
           349
          ],
          [
           "Software Engineer",
           464
          ],
          [
           "Software Engineer",
           442
          ],
          [
           "Software Engineer",
           223
          ],
          [
           "Software Engineer",
           436
          ],
          [
           "Software Engineer",
           179
          ],
          [
           "Software Engineer",
           110
          ],
          [
           "Software Engineer",
           153
          ],
          [
           "Software Engineer",
           308
          ],
          [
           "Software Engineer",
           207
          ],
          [
           "Software Engineer",
           408
          ],
          [
           "Software Engineer",
           64
          ],
          [
           "Software Engineer",
           178
          ],
          [
           "Software Engineer",
           255
          ],
          [
           "Software Engineer",
           32
          ],
          [
           "Software Engineer",
           170
          ],
          [
           "Software Engineer",
           423
          ],
          [
           "Software Engineer",
           305
          ],
          [
           "Software Engineer",
           396
          ],
          [
           "Software Engineer",
           418
          ],
          [
           "Software Engineer",
           175
          ],
          [
           "Software Engineer",
           170
          ],
          [
           "Software Engineer",
           447
          ],
          [
           "Software Engineer",
           199
          ],
          [
           "Software Engineer",
           58
          ],
          [
           "Software Engineer",
           488
          ],
          [
           "Software Engineer",
           367
          ],
          [
           "Software Engineer",
           46
          ],
          [
           "Software Engineer",
           266
          ],
          [
           "Software Engineer",
           466
          ],
          [
           "Software Engineer",
           409
          ],
          [
           "Software Engineer",
           31
          ],
          [
           "Software Engineer",
           27
          ],
          [
           "Software Engineer",
           240
          ],
          [
           "Software Engineer",
           16
          ],
          [
           "Software Engineer",
           84
          ],
          [
           "Software Engineer",
           462
          ],
          [
           "Software Engineer",
           206
          ],
          [
           "Software Engineer",
           131
          ],
          [
           "Software Engineer",
           437
          ],
          [
           "Software Engineer",
           485
          ],
          [
           "Software Engineer",
           113
          ],
          [
           "Software Engineer",
           32
          ],
          [
           "Software Engineer",
           464
          ],
          [
           "Software Engineer",
           263
          ],
          [
           "Software Engineer",
           301
          ],
          [
           "Software Engineer",
           292
          ],
          [
           "Software Engineer",
           416
          ],
          [
           "Software Engineer",
           99
          ],
          [
           "Software Engineer",
           191
          ],
          [
           "Software Engineer",
           434
          ],
          [
           "Software Engineer",
           427
          ],
          [
           "Software Engineer",
           89
          ],
          [
           "Software Engineer",
           281
          ],
          [
           "Software Engineer",
           423
          ],
          [
           "Software Engineer",
           323
          ],
          [
           "Software Engineer",
           131
          ],
          [
           "Software Engineer",
           392
          ],
          [
           "Software Engineer",
           450
          ],
          [
           "Software Engineer",
           299
          ],
          [
           "Software Engineer",
           382
          ],
          [
           "Software Engineer",
           33
          ],
          [
           "Software Engineer",
           299
          ],
          [
           "Software Engineer",
           415
          ],
          [
           "Software Engineer",
           63
          ],
          [
           "Software Engineer",
           345
          ],
          [
           "Software Engineer",
           197
          ],
          [
           "Software Engineer",
           390
          ],
          [
           "Software Engineer",
           312
          ],
          [
           "Software Engineer",
           126
          ],
          [
           "Software Engineer",
           350
          ],
          [
           "Software Engineer",
           454
          ],
          [
           "Software Engineer",
           409
          ],
          [
           "Software Engineer",
           378
          ],
          [
           "Software Engineer",
           346
          ],
          [
           "Software Engineer",
           452
          ],
          [
           "Software Engineer",
           351
          ],
          [
           "Software Engineer",
           406
          ],
          [
           "Software Engineer",
           384
          ],
          [
           "Software Engineer",
           416
          ],
          [
           "Software Engineer",
           305
          ],
          [
           "Software Engineer",
           169
          ],
          [
           "Software Engineer",
           296
          ],
          [
           "Software Engineer",
           419
          ],
          [
           "Software Engineer",
           240
          ],
          [
           "Software Engineer",
           406
          ],
          [
           "Software Engineer",
           428
          ],
          [
           "Software Engineer",
           239
          ],
          [
           "Software Engineer",
           11
          ],
          [
           "Software Engineer",
           62
          ],
          [
           "Software Engineer",
           237
          ],
          [
           "Software Engineer",
           121
          ],
          [
           "Software Engineer",
           124
          ],
          [
           "Software Engineer",
           478
          ],
          [
           "Software Engineer",
           299
          ],
          [
           "Software Engineer",
           468
          ],
          [
           "Software Engineer",
           51
          ],
          [
           "Software Engineer",
           230
          ],
          [
           "Software Engineer",
           494
          ],
          [
           "Software Engineer",
           108
          ],
          [
           "Software Engineer",
           225
          ],
          [
           "Software Engineer",
           318
          ],
          [
           "Software Engineer",
           333
          ],
          [
           "Software Engineer",
           306
          ],
          [
           "Software Engineer",
           14
          ],
          [
           "Software Engineer",
           104
          ],
          [
           "Software Engineer",
           184
          ],
          [
           "Software Engineer",
           163
          ],
          [
           "Software Engineer",
           225
          ],
          [
           "Software Engineer",
           70
          ],
          [
           "Software Engineer",
           294
          ],
          [
           "Software Engineer",
           117
          ],
          [
           "Software Engineer",
           26
          ],
          [
           "Software Engineer",
           191
          ],
          [
           "Software Engineer",
           83
          ],
          [
           "Software Engineer",
           134
          ],
          [
           "Software Engineer",
           153
          ],
          [
           "Software Engineer",
           310
          ]
         ],
         "hovertemplate": "<b>%{hovertext}</b><br><br>Job Location=Bangalore<br>Number of Applicants=%{customdata[1]}<br>Latitude=%{lat}<br>Longitude=%{lon}<br>Job Title=%{customdata[0]}<extra></extra>",
         "hovertext": [
          "Bangalore",
          "Bangalore",
          "Bangalore",
          "Bangalore",
          "Bangalore",
          "Bangalore",
          "Bangalore",
          "Bangalore",
          "Bangalore",
          "Bangalore",
          "Bangalore",
          "Bangalore",
          "Bangalore",
          "Bangalore",
          "Bangalore",
          "Bangalore",
          "Bangalore",
          "Bangalore",
          "Bangalore",
          "Bangalore",
          "Bangalore",
          "Bangalore",
          "Bangalore",
          "Bangalore",
          "Bangalore",
          "Bangalore",
          "Bangalore",
          "Bangalore",
          "Bangalore",
          "Bangalore",
          "Bangalore",
          "Bangalore",
          "Bangalore",
          "Bangalore",
          "Bangalore",
          "Bangalore",
          "Bangalore",
          "Bangalore",
          "Bangalore",
          "Bangalore",
          "Bangalore",
          "Bangalore",
          "Bangalore",
          "Bangalore",
          "Bangalore",
          "Bangalore",
          "Bangalore",
          "Bangalore",
          "Bangalore",
          "Bangalore",
          "Bangalore",
          "Bangalore",
          "Bangalore",
          "Bangalore",
          "Bangalore",
          "Bangalore",
          "Bangalore",
          "Bangalore",
          "Bangalore",
          "Bangalore",
          "Bangalore",
          "Bangalore",
          "Bangalore",
          "Bangalore",
          "Bangalore",
          "Bangalore",
          "Bangalore",
          "Bangalore",
          "Bangalore",
          "Bangalore",
          "Bangalore",
          "Bangalore",
          "Bangalore",
          "Bangalore",
          "Bangalore",
          "Bangalore",
          "Bangalore",
          "Bangalore",
          "Bangalore",
          "Bangalore",
          "Bangalore",
          "Bangalore",
          "Bangalore",
          "Bangalore",
          "Bangalore",
          "Bangalore",
          "Bangalore",
          "Bangalore",
          "Bangalore",
          "Bangalore",
          "Bangalore",
          "Bangalore",
          "Bangalore",
          "Bangalore",
          "Bangalore",
          "Bangalore",
          "Bangalore",
          "Bangalore",
          "Bangalore",
          "Bangalore",
          "Bangalore",
          "Bangalore",
          "Bangalore",
          "Bangalore",
          "Bangalore",
          "Bangalore",
          "Bangalore",
          "Bangalore",
          "Bangalore",
          "Bangalore",
          "Bangalore",
          "Bangalore",
          "Bangalore",
          "Bangalore",
          "Bangalore",
          "Bangalore",
          "Bangalore",
          "Bangalore",
          "Bangalore",
          "Bangalore",
          "Bangalore",
          "Bangalore",
          "Bangalore",
          "Bangalore",
          "Bangalore",
          "Bangalore",
          "Bangalore",
          "Bangalore",
          "Bangalore",
          "Bangalore",
          "Bangalore",
          "Bangalore",
          "Bangalore",
          "Bangalore",
          "Bangalore",
          "Bangalore",
          "Bangalore",
          "Bangalore",
          "Bangalore",
          "Bangalore",
          "Bangalore",
          "Bangalore",
          "Bangalore",
          "Bangalore",
          "Bangalore",
          "Bangalore",
          "Bangalore",
          "Bangalore",
          "Bangalore",
          "Bangalore",
          "Bangalore",
          "Bangalore",
          "Bangalore",
          "Bangalore",
          "Bangalore",
          "Bangalore",
          "Bangalore",
          "Bangalore",
          "Bangalore",
          "Bangalore",
          "Bangalore",
          "Bangalore",
          "Bangalore",
          "Bangalore",
          "Bangalore",
          "Bangalore",
          "Bangalore",
          "Bangalore",
          "Bangalore",
          "Bangalore",
          "Bangalore",
          "Bangalore",
          "Bangalore",
          "Bangalore",
          "Bangalore",
          "Bangalore",
          "Bangalore",
          "Bangalore",
          "Bangalore",
          "Bangalore",
          "Bangalore",
          "Bangalore",
          "Bangalore",
          "Bangalore",
          "Bangalore",
          "Bangalore",
          "Bangalore",
          "Bangalore",
          "Bangalore",
          "Bangalore",
          "Bangalore",
          "Bangalore",
          "Bangalore",
          "Bangalore",
          "Bangalore",
          "Bangalore",
          "Bangalore",
          "Bangalore",
          "Bangalore",
          "Bangalore",
          "Bangalore",
          "Bangalore",
          "Bangalore",
          "Bangalore",
          "Bangalore",
          "Bangalore",
          "Bangalore",
          "Bangalore",
          "Bangalore",
          "Bangalore",
          "Bangalore",
          "Bangalore",
          "Bangalore",
          "Bangalore",
          "Bangalore",
          "Bangalore",
          "Bangalore"
         ],
         "lat": [
          12.9716,
          12.9716,
          12.9716,
          12.9716,
          12.9716,
          12.9716,
          12.9716,
          12.9716,
          12.9716,
          12.9716,
          12.9716,
          12.9716,
          12.9716,
          12.9716,
          12.9716,
          12.9716,
          12.9716,
          12.9716,
          12.9716,
          12.9716,
          12.9716,
          12.9716,
          12.9716,
          12.9716,
          12.9716,
          12.9716,
          12.9716,
          12.9716,
          12.9716,
          12.9716,
          12.9716,
          12.9716,
          12.9716,
          12.9716,
          12.9716,
          12.9716,
          12.9716,
          12.9716,
          12.9716,
          12.9716,
          12.9716,
          12.9716,
          12.9716,
          12.9716,
          12.9716,
          12.9716,
          12.9716,
          12.9716,
          12.9716,
          12.9716,
          12.9716,
          12.9716,
          12.9716,
          12.9716,
          12.9716,
          12.9716,
          12.9716,
          12.9716,
          12.9716,
          12.9716,
          12.9716,
          12.9716,
          12.9716,
          12.9716,
          12.9716,
          12.9716,
          12.9716,
          12.9716,
          12.9716,
          12.9716,
          12.9716,
          12.9716,
          12.9716,
          12.9716,
          12.9716,
          12.9716,
          12.9716,
          12.9716,
          12.9716,
          12.9716,
          12.9716,
          12.9716,
          12.9716,
          12.9716,
          12.9716,
          12.9716,
          12.9716,
          12.9716,
          12.9716,
          12.9716,
          12.9716,
          12.9716,
          12.9716,
          12.9716,
          12.9716,
          12.9716,
          12.9716,
          12.9716,
          12.9716,
          12.9716,
          12.9716,
          12.9716,
          12.9716,
          12.9716,
          12.9716,
          12.9716,
          12.9716,
          12.9716,
          12.9716,
          12.9716,
          12.9716,
          12.9716,
          12.9716,
          12.9716,
          12.9716,
          12.9716,
          12.9716,
          12.9716,
          12.9716,
          12.9716,
          12.9716,
          12.9716,
          12.9716,
          12.9716,
          12.9716,
          12.9716,
          12.9716,
          12.9716,
          12.9716,
          12.9716,
          12.9716,
          12.9716,
          12.9716,
          12.9716,
          12.9716,
          12.9716,
          12.9716,
          12.9716,
          12.9716,
          12.9716,
          12.9716,
          12.9716,
          12.9716,
          12.9716,
          12.9716,
          12.9716,
          12.9716,
          12.9716,
          12.9716,
          12.9716,
          12.9716,
          12.9716,
          12.9716,
          12.9716,
          12.9716,
          12.9716,
          12.9716,
          12.9716,
          12.9716,
          12.9716,
          12.9716,
          12.9716,
          12.9716,
          12.9716,
          12.9716,
          12.9716,
          12.9716,
          12.9716,
          12.9716,
          12.9716,
          12.9716,
          12.9716,
          12.9716,
          12.9716,
          12.9716,
          12.9716,
          12.9716,
          12.9716,
          12.9716,
          12.9716,
          12.9716,
          12.9716,
          12.9716,
          12.9716,
          12.9716,
          12.9716,
          12.9716,
          12.9716,
          12.9716,
          12.9716,
          12.9716,
          12.9716,
          12.9716,
          12.9716,
          12.9716,
          12.9716,
          12.9716,
          12.9716,
          12.9716,
          12.9716,
          12.9716,
          12.9716,
          12.9716,
          12.9716,
          12.9716,
          12.9716,
          12.9716,
          12.9716,
          12.9716,
          12.9716,
          12.9716,
          12.9716,
          12.9716,
          12.9716,
          12.9716,
          12.9716,
          12.9716
         ],
         "legendgroup": "Bangalore",
         "lon": [
          77.5946,
          77.5946,
          77.5946,
          77.5946,
          77.5946,
          77.5946,
          77.5946,
          77.5946,
          77.5946,
          77.5946,
          77.5946,
          77.5946,
          77.5946,
          77.5946,
          77.5946,
          77.5946,
          77.5946,
          77.5946,
          77.5946,
          77.5946,
          77.5946,
          77.5946,
          77.5946,
          77.5946,
          77.5946,
          77.5946,
          77.5946,
          77.5946,
          77.5946,
          77.5946,
          77.5946,
          77.5946,
          77.5946,
          77.5946,
          77.5946,
          77.5946,
          77.5946,
          77.5946,
          77.5946,
          77.5946,
          77.5946,
          77.5946,
          77.5946,
          77.5946,
          77.5946,
          77.5946,
          77.5946,
          77.5946,
          77.5946,
          77.5946,
          77.5946,
          77.5946,
          77.5946,
          77.5946,
          77.5946,
          77.5946,
          77.5946,
          77.5946,
          77.5946,
          77.5946,
          77.5946,
          77.5946,
          77.5946,
          77.5946,
          77.5946,
          77.5946,
          77.5946,
          77.5946,
          77.5946,
          77.5946,
          77.5946,
          77.5946,
          77.5946,
          77.5946,
          77.5946,
          77.5946,
          77.5946,
          77.5946,
          77.5946,
          77.5946,
          77.5946,
          77.5946,
          77.5946,
          77.5946,
          77.5946,
          77.5946,
          77.5946,
          77.5946,
          77.5946,
          77.5946,
          77.5946,
          77.5946,
          77.5946,
          77.5946,
          77.5946,
          77.5946,
          77.5946,
          77.5946,
          77.5946,
          77.5946,
          77.5946,
          77.5946,
          77.5946,
          77.5946,
          77.5946,
          77.5946,
          77.5946,
          77.5946,
          77.5946,
          77.5946,
          77.5946,
          77.5946,
          77.5946,
          77.5946,
          77.5946,
          77.5946,
          77.5946,
          77.5946,
          77.5946,
          77.5946,
          77.5946,
          77.5946,
          77.5946,
          77.5946,
          77.5946,
          77.5946,
          77.5946,
          77.5946,
          77.5946,
          77.5946,
          77.5946,
          77.5946,
          77.5946,
          77.5946,
          77.5946,
          77.5946,
          77.5946,
          77.5946,
          77.5946,
          77.5946,
          77.5946,
          77.5946,
          77.5946,
          77.5946,
          77.5946,
          77.5946,
          77.5946,
          77.5946,
          77.5946,
          77.5946,
          77.5946,
          77.5946,
          77.5946,
          77.5946,
          77.5946,
          77.5946,
          77.5946,
          77.5946,
          77.5946,
          77.5946,
          77.5946,
          77.5946,
          77.5946,
          77.5946,
          77.5946,
          77.5946,
          77.5946,
          77.5946,
          77.5946,
          77.5946,
          77.5946,
          77.5946,
          77.5946,
          77.5946,
          77.5946,
          77.5946,
          77.5946,
          77.5946,
          77.5946,
          77.5946,
          77.5946,
          77.5946,
          77.5946,
          77.5946,
          77.5946,
          77.5946,
          77.5946,
          77.5946,
          77.5946,
          77.5946,
          77.5946,
          77.5946,
          77.5946,
          77.5946,
          77.5946,
          77.5946,
          77.5946,
          77.5946,
          77.5946,
          77.5946,
          77.5946,
          77.5946,
          77.5946,
          77.5946,
          77.5946,
          77.5946,
          77.5946,
          77.5946,
          77.5946,
          77.5946,
          77.5946,
          77.5946,
          77.5946,
          77.5946,
          77.5946,
          77.5946,
          77.5946
         ],
         "marker": {
          "color": "#FECB52",
          "size": [
           430,
           224,
           64,
           465,
           128,
           107,
           168,
           305,
           405,
           272,
           302,
           138,
           339,
           85,
           255,
           446,
           212,
           159,
           331,
           232,
           226,
           255,
           477,
           346,
           398,
           71,
           272,
           350,
           220,
           231,
           63,
           421,
           268,
           323,
           79,
           346,
           125,
           20,
           458,
           215,
           396,
           87,
           486,
           464,
           194,
           290,
           378,
           215,
           373,
           350,
           119,
           460,
           443,
           51,
           275,
           231,
           149,
           388,
           321,
           282,
           71,
           342,
           292,
           76,
           179,
           463,
           156,
           46,
           290,
           146,
           139,
           332,
           434,
           390,
           158,
           488,
           134,
           166,
           371,
           311,
           189,
           35,
           441,
           480,
           284,
           68,
           499,
           366,
           369,
           492,
           454,
           97,
           258,
           359,
           119,
           86,
           38,
           79,
           215,
           349,
           464,
           442,
           223,
           436,
           179,
           110,
           153,
           308,
           207,
           408,
           64,
           178,
           255,
           32,
           170,
           423,
           305,
           396,
           418,
           175,
           170,
           447,
           199,
           58,
           488,
           367,
           46,
           266,
           466,
           409,
           31,
           27,
           240,
           16,
           84,
           462,
           206,
           131,
           437,
           485,
           113,
           32,
           464,
           263,
           301,
           292,
           416,
           99,
           191,
           434,
           427,
           89,
           281,
           423,
           323,
           131,
           392,
           450,
           299,
           382,
           33,
           299,
           415,
           63,
           345,
           197,
           390,
           312,
           126,
           350,
           454,
           409,
           378,
           346,
           452,
           351,
           406,
           384,
           416,
           305,
           169,
           296,
           419,
           240,
           406,
           428,
           239,
           11,
           62,
           237,
           121,
           124,
           478,
           299,
           468,
           51,
           230,
           494,
           108,
           225,
           318,
           333,
           306,
           14,
           104,
           184,
           163,
           225,
           70,
           294,
           117,
           26,
           191,
           83,
           134,
           153,
           310
          ],
          "sizemode": "area",
          "sizeref": 0.2
         },
         "mode": "markers",
         "name": "Bangalore",
         "showlegend": true,
         "subplot": "mapbox",
         "type": "scattermapbox"
        }
       ],
       "layout": {
        "legend": {
         "itemsizing": "constant",
         "title": {
          "text": "Job Location"
         },
         "tracegroupgap": 0
        },
        "mapbox": {
         "center": {
          "lat": 20.5937,
          "lon": 78.9629
         },
         "domain": {
          "x": [
           0,
           1
          ],
          "y": [
           0,
           1
          ]
         },
         "style": "carto-positron",
         "zoom": 4
        },
        "margin": {
         "b": 0,
         "l": 0,
         "r": 0,
         "t": 0
        },
        "template": {
         "data": {
          "bar": [
           {
            "error_x": {
             "color": "#2a3f5f"
            },
            "error_y": {
             "color": "#2a3f5f"
            },
            "marker": {
             "line": {
              "color": "#E5ECF6",
              "width": 0.5
             },
             "pattern": {
              "fillmode": "overlay",
              "size": 10,
              "solidity": 0.2
             }
            },
            "type": "bar"
           }
          ],
          "barpolar": [
           {
            "marker": {
             "line": {
              "color": "#E5ECF6",
              "width": 0.5
             },
             "pattern": {
              "fillmode": "overlay",
              "size": 10,
              "solidity": 0.2
             }
            },
            "type": "barpolar"
           }
          ],
          "carpet": [
           {
            "aaxis": {
             "endlinecolor": "#2a3f5f",
             "gridcolor": "white",
             "linecolor": "white",
             "minorgridcolor": "white",
             "startlinecolor": "#2a3f5f"
            },
            "baxis": {
             "endlinecolor": "#2a3f5f",
             "gridcolor": "white",
             "linecolor": "white",
             "minorgridcolor": "white",
             "startlinecolor": "#2a3f5f"
            },
            "type": "carpet"
           }
          ],
          "choropleth": [
           {
            "colorbar": {
             "outlinewidth": 0,
             "ticks": ""
            },
            "type": "choropleth"
           }
          ],
          "contour": [
           {
            "colorbar": {
             "outlinewidth": 0,
             "ticks": ""
            },
            "colorscale": [
             [
              0,
              "#0d0887"
             ],
             [
              0.1111111111111111,
              "#46039f"
             ],
             [
              0.2222222222222222,
              "#7201a8"
             ],
             [
              0.3333333333333333,
              "#9c179e"
             ],
             [
              0.4444444444444444,
              "#bd3786"
             ],
             [
              0.5555555555555556,
              "#d8576b"
             ],
             [
              0.6666666666666666,
              "#ed7953"
             ],
             [
              0.7777777777777778,
              "#fb9f3a"
             ],
             [
              0.8888888888888888,
              "#fdca26"
             ],
             [
              1,
              "#f0f921"
             ]
            ],
            "type": "contour"
           }
          ],
          "contourcarpet": [
           {
            "colorbar": {
             "outlinewidth": 0,
             "ticks": ""
            },
            "type": "contourcarpet"
           }
          ],
          "heatmap": [
           {
            "colorbar": {
             "outlinewidth": 0,
             "ticks": ""
            },
            "colorscale": [
             [
              0,
              "#0d0887"
             ],
             [
              0.1111111111111111,
              "#46039f"
             ],
             [
              0.2222222222222222,
              "#7201a8"
             ],
             [
              0.3333333333333333,
              "#9c179e"
             ],
             [
              0.4444444444444444,
              "#bd3786"
             ],
             [
              0.5555555555555556,
              "#d8576b"
             ],
             [
              0.6666666666666666,
              "#ed7953"
             ],
             [
              0.7777777777777778,
              "#fb9f3a"
             ],
             [
              0.8888888888888888,
              "#fdca26"
             ],
             [
              1,
              "#f0f921"
             ]
            ],
            "type": "heatmap"
           }
          ],
          "heatmapgl": [
           {
            "colorbar": {
             "outlinewidth": 0,
             "ticks": ""
            },
            "colorscale": [
             [
              0,
              "#0d0887"
             ],
             [
              0.1111111111111111,
              "#46039f"
             ],
             [
              0.2222222222222222,
              "#7201a8"
             ],
             [
              0.3333333333333333,
              "#9c179e"
             ],
             [
              0.4444444444444444,
              "#bd3786"
             ],
             [
              0.5555555555555556,
              "#d8576b"
             ],
             [
              0.6666666666666666,
              "#ed7953"
             ],
             [
              0.7777777777777778,
              "#fb9f3a"
             ],
             [
              0.8888888888888888,
              "#fdca26"
             ],
             [
              1,
              "#f0f921"
             ]
            ],
            "type": "heatmapgl"
           }
          ],
          "histogram": [
           {
            "marker": {
             "pattern": {
              "fillmode": "overlay",
              "size": 10,
              "solidity": 0.2
             }
            },
            "type": "histogram"
           }
          ],
          "histogram2d": [
           {
            "colorbar": {
             "outlinewidth": 0,
             "ticks": ""
            },
            "colorscale": [
             [
              0,
              "#0d0887"
             ],
             [
              0.1111111111111111,
              "#46039f"
             ],
             [
              0.2222222222222222,
              "#7201a8"
             ],
             [
              0.3333333333333333,
              "#9c179e"
             ],
             [
              0.4444444444444444,
              "#bd3786"
             ],
             [
              0.5555555555555556,
              "#d8576b"
             ],
             [
              0.6666666666666666,
              "#ed7953"
             ],
             [
              0.7777777777777778,
              "#fb9f3a"
             ],
             [
              0.8888888888888888,
              "#fdca26"
             ],
             [
              1,
              "#f0f921"
             ]
            ],
            "type": "histogram2d"
           }
          ],
          "histogram2dcontour": [
           {
            "colorbar": {
             "outlinewidth": 0,
             "ticks": ""
            },
            "colorscale": [
             [
              0,
              "#0d0887"
             ],
             [
              0.1111111111111111,
              "#46039f"
             ],
             [
              0.2222222222222222,
              "#7201a8"
             ],
             [
              0.3333333333333333,
              "#9c179e"
             ],
             [
              0.4444444444444444,
              "#bd3786"
             ],
             [
              0.5555555555555556,
              "#d8576b"
             ],
             [
              0.6666666666666666,
              "#ed7953"
             ],
             [
              0.7777777777777778,
              "#fb9f3a"
             ],
             [
              0.8888888888888888,
              "#fdca26"
             ],
             [
              1,
              "#f0f921"
             ]
            ],
            "type": "histogram2dcontour"
           }
          ],
          "mesh3d": [
           {
            "colorbar": {
             "outlinewidth": 0,
             "ticks": ""
            },
            "type": "mesh3d"
           }
          ],
          "parcoords": [
           {
            "line": {
             "colorbar": {
              "outlinewidth": 0,
              "ticks": ""
             }
            },
            "type": "parcoords"
           }
          ],
          "pie": [
           {
            "automargin": true,
            "type": "pie"
           }
          ],
          "scatter": [
           {
            "fillpattern": {
             "fillmode": "overlay",
             "size": 10,
             "solidity": 0.2
            },
            "type": "scatter"
           }
          ],
          "scatter3d": [
           {
            "line": {
             "colorbar": {
              "outlinewidth": 0,
              "ticks": ""
             }
            },
            "marker": {
             "colorbar": {
              "outlinewidth": 0,
              "ticks": ""
             }
            },
            "type": "scatter3d"
           }
          ],
          "scattercarpet": [
           {
            "marker": {
             "colorbar": {
              "outlinewidth": 0,
              "ticks": ""
             }
            },
            "type": "scattercarpet"
           }
          ],
          "scattergeo": [
           {
            "marker": {
             "colorbar": {
              "outlinewidth": 0,
              "ticks": ""
             }
            },
            "type": "scattergeo"
           }
          ],
          "scattergl": [
           {
            "marker": {
             "colorbar": {
              "outlinewidth": 0,
              "ticks": ""
             }
            },
            "type": "scattergl"
           }
          ],
          "scattermapbox": [
           {
            "marker": {
             "colorbar": {
              "outlinewidth": 0,
              "ticks": ""
             }
            },
            "type": "scattermapbox"
           }
          ],
          "scatterpolar": [
           {
            "marker": {
             "colorbar": {
              "outlinewidth": 0,
              "ticks": ""
             }
            },
            "type": "scatterpolar"
           }
          ],
          "scatterpolargl": [
           {
            "marker": {
             "colorbar": {
              "outlinewidth": 0,
              "ticks": ""
             }
            },
            "type": "scatterpolargl"
           }
          ],
          "scatterternary": [
           {
            "marker": {
             "colorbar": {
              "outlinewidth": 0,
              "ticks": ""
             }
            },
            "type": "scatterternary"
           }
          ],
          "surface": [
           {
            "colorbar": {
             "outlinewidth": 0,
             "ticks": ""
            },
            "colorscale": [
             [
              0,
              "#0d0887"
             ],
             [
              0.1111111111111111,
              "#46039f"
             ],
             [
              0.2222222222222222,
              "#7201a8"
             ],
             [
              0.3333333333333333,
              "#9c179e"
             ],
             [
              0.4444444444444444,
              "#bd3786"
             ],
             [
              0.5555555555555556,
              "#d8576b"
             ],
             [
              0.6666666666666666,
              "#ed7953"
             ],
             [
              0.7777777777777778,
              "#fb9f3a"
             ],
             [
              0.8888888888888888,
              "#fdca26"
             ],
             [
              1,
              "#f0f921"
             ]
            ],
            "type": "surface"
           }
          ],
          "table": [
           {
            "cells": {
             "fill": {
              "color": "#EBF0F8"
             },
             "line": {
              "color": "white"
             }
            },
            "header": {
             "fill": {
              "color": "#C8D4E3"
             },
             "line": {
              "color": "white"
             }
            },
            "type": "table"
           }
          ]
         },
         "layout": {
          "annotationdefaults": {
           "arrowcolor": "#2a3f5f",
           "arrowhead": 0,
           "arrowwidth": 1
          },
          "autotypenumbers": "strict",
          "coloraxis": {
           "colorbar": {
            "outlinewidth": 0,
            "ticks": ""
           }
          },
          "colorscale": {
           "diverging": [
            [
             0,
             "#8e0152"
            ],
            [
             0.1,
             "#c51b7d"
            ],
            [
             0.2,
             "#de77ae"
            ],
            [
             0.3,
             "#f1b6da"
            ],
            [
             0.4,
             "#fde0ef"
            ],
            [
             0.5,
             "#f7f7f7"
            ],
            [
             0.6,
             "#e6f5d0"
            ],
            [
             0.7,
             "#b8e186"
            ],
            [
             0.8,
             "#7fbc41"
            ],
            [
             0.9,
             "#4d9221"
            ],
            [
             1,
             "#276419"
            ]
           ],
           "sequential": [
            [
             0,
             "#0d0887"
            ],
            [
             0.1111111111111111,
             "#46039f"
            ],
            [
             0.2222222222222222,
             "#7201a8"
            ],
            [
             0.3333333333333333,
             "#9c179e"
            ],
            [
             0.4444444444444444,
             "#bd3786"
            ],
            [
             0.5555555555555556,
             "#d8576b"
            ],
            [
             0.6666666666666666,
             "#ed7953"
            ],
            [
             0.7777777777777778,
             "#fb9f3a"
            ],
            [
             0.8888888888888888,
             "#fdca26"
            ],
            [
             1,
             "#f0f921"
            ]
           ],
           "sequentialminus": [
            [
             0,
             "#0d0887"
            ],
            [
             0.1111111111111111,
             "#46039f"
            ],
            [
             0.2222222222222222,
             "#7201a8"
            ],
            [
             0.3333333333333333,
             "#9c179e"
            ],
            [
             0.4444444444444444,
             "#bd3786"
            ],
            [
             0.5555555555555556,
             "#d8576b"
            ],
            [
             0.6666666666666666,
             "#ed7953"
            ],
            [
             0.7777777777777778,
             "#fb9f3a"
            ],
            [
             0.8888888888888888,
             "#fdca26"
            ],
            [
             1,
             "#f0f921"
            ]
           ]
          },
          "colorway": [
           "#636efa",
           "#EF553B",
           "#00cc96",
           "#ab63fa",
           "#FFA15A",
           "#19d3f3",
           "#FF6692",
           "#B6E880",
           "#FF97FF",
           "#FECB52"
          ],
          "font": {
           "color": "#2a3f5f"
          },
          "geo": {
           "bgcolor": "white",
           "lakecolor": "white",
           "landcolor": "#E5ECF6",
           "showlakes": true,
           "showland": true,
           "subunitcolor": "white"
          },
          "hoverlabel": {
           "align": "left"
          },
          "hovermode": "closest",
          "mapbox": {
           "style": "light"
          },
          "paper_bgcolor": "white",
          "plot_bgcolor": "#E5ECF6",
          "polar": {
           "angularaxis": {
            "gridcolor": "white",
            "linecolor": "white",
            "ticks": ""
           },
           "bgcolor": "#E5ECF6",
           "radialaxis": {
            "gridcolor": "white",
            "linecolor": "white",
            "ticks": ""
           }
          },
          "scene": {
           "xaxis": {
            "backgroundcolor": "#E5ECF6",
            "gridcolor": "white",
            "gridwidth": 2,
            "linecolor": "white",
            "showbackground": true,
            "ticks": "",
            "zerolinecolor": "white"
           },
           "yaxis": {
            "backgroundcolor": "#E5ECF6",
            "gridcolor": "white",
            "gridwidth": 2,
            "linecolor": "white",
            "showbackground": true,
            "ticks": "",
            "zerolinecolor": "white"
           },
           "zaxis": {
            "backgroundcolor": "#E5ECF6",
            "gridcolor": "white",
            "gridwidth": 2,
            "linecolor": "white",
            "showbackground": true,
            "ticks": "",
            "zerolinecolor": "white"
           }
          },
          "shapedefaults": {
           "line": {
            "color": "#2a3f5f"
           }
          },
          "ternary": {
           "aaxis": {
            "gridcolor": "white",
            "linecolor": "white",
            "ticks": ""
           },
           "baxis": {
            "gridcolor": "white",
            "linecolor": "white",
            "ticks": ""
           },
           "bgcolor": "#E5ECF6",
           "caxis": {
            "gridcolor": "white",
            "linecolor": "white",
            "ticks": ""
           }
          },
          "title": {
           "x": 0.05
          },
          "xaxis": {
           "automargin": true,
           "gridcolor": "white",
           "linecolor": "white",
           "ticks": "",
           "title": {
            "standoff": 15
           },
           "zerolinecolor": "white",
           "zerolinewidth": 2
          },
          "yaxis": {
           "automargin": true,
           "gridcolor": "white",
           "linecolor": "white",
           "ticks": "",
           "title": {
            "standoff": 15
           },
           "zerolinecolor": "white",
           "zerolinewidth": 2
          }
         }
        },
        "title": {
         "text": "Jobs for Software Engineer Across India"
        }
       }
      },
      "text/html": [
       "<div>                            <div id=\"0ac77c9f-3d69-45e9-9c7b-077ee8c12da2\" class=\"plotly-graph-div\" style=\"height:525px; width:100%;\"></div>            <script type=\"text/javascript\">                require([\"plotly\"], function(Plotly) {                    window.PLOTLYENV=window.PLOTLYENV || {};                                    if (document.getElementById(\"0ac77c9f-3d69-45e9-9c7b-077ee8c12da2\")) {                    Plotly.newPlot(                        \"0ac77c9f-3d69-45e9-9c7b-077ee8c12da2\",                        [{\"customdata\":[[\"Software Engineer\",23],[\"Software Engineer\",410],[\"Software Engineer\",85],[\"Software Engineer\",100],[\"Software Engineer\",56],[\"Software Engineer\",265],[\"Software Engineer\",27],[\"Software Engineer\",447],[\"Software Engineer\",49],[\"Software Engineer\",130],[\"Software Engineer\",15],[\"Software Engineer\",116],[\"Software Engineer\",225],[\"Software Engineer\",17],[\"Software Engineer\",55],[\"Software Engineer\",438],[\"Software Engineer\",269],[\"Software Engineer\",316],[\"Software Engineer\",167],[\"Software Engineer\",89],[\"Software Engineer\",483],[\"Software Engineer\",481],[\"Software Engineer\",257],[\"Software Engineer\",71],[\"Software Engineer\",414],[\"Software Engineer\",437],[\"Software Engineer\",13],[\"Software Engineer\",96],[\"Software Engineer\",281],[\"Software Engineer\",100],[\"Software Engineer\",164],[\"Software Engineer\",168],[\"Software Engineer\",433],[\"Software Engineer\",428],[\"Software Engineer\",311],[\"Software Engineer\",203],[\"Software Engineer\",228],[\"Software Engineer\",376],[\"Software Engineer\",457],[\"Software Engineer\",460],[\"Software Engineer\",102],[\"Software Engineer\",254],[\"Software Engineer\",226],[\"Software Engineer\",437],[\"Software Engineer\",221],[\"Software Engineer\",344],[\"Software Engineer\",302],[\"Software Engineer\",406],[\"Software Engineer\",145],[\"Software Engineer\",426],[\"Software Engineer\",221],[\"Software Engineer\",161],[\"Software Engineer\",274],[\"Software Engineer\",46],[\"Software Engineer\",243],[\"Software Engineer\",95],[\"Software Engineer\",448],[\"Software Engineer\",336],[\"Software Engineer\",78],[\"Software Engineer\",303],[\"Software Engineer\",338],[\"Software Engineer\",99],[\"Software Engineer\",76],[\"Software Engineer\",48],[\"Software Engineer\",63],[\"Software Engineer\",464],[\"Software Engineer\",429],[\"Software Engineer\",158],[\"Software Engineer\",201],[\"Software Engineer\",224],[\"Software Engineer\",488],[\"Software Engineer\",416],[\"Software Engineer\",495],[\"Software Engineer\",48],[\"Software Engineer\",202],[\"Software Engineer\",345],[\"Software Engineer\",366],[\"Software Engineer\",210],[\"Software Engineer\",142],[\"Software Engineer\",399],[\"Software Engineer\",107],[\"Software Engineer\",242],[\"Software Engineer\",283],[\"Software Engineer\",304],[\"Software Engineer\",330],[\"Software Engineer\",422],[\"Software Engineer\",132],[\"Software Engineer\",90],[\"Software Engineer\",149],[\"Software Engineer\",457],[\"Software Engineer\",158],[\"Software Engineer\",50],[\"Software Engineer\",497],[\"Software Engineer\",91],[\"Software Engineer\",329],[\"Software Engineer\",276],[\"Software Engineer\",393],[\"Software Engineer\",392],[\"Software Engineer\",150],[\"Software Engineer\",369],[\"Software Engineer\",31],[\"Software Engineer\",345],[\"Software Engineer\",367],[\"Software Engineer\",405],[\"Software Engineer\",93],[\"Software Engineer\",174],[\"Software Engineer\",196],[\"Software Engineer\",419],[\"Software Engineer\",317],[\"Software Engineer\",454],[\"Software Engineer\",437],[\"Software Engineer\",278],[\"Software Engineer\",151],[\"Software Engineer\",163],[\"Software Engineer\",129],[\"Software Engineer\",171],[\"Software Engineer\",296],[\"Software Engineer\",28],[\"Software Engineer\",231],[\"Software Engineer\",285],[\"Software Engineer\",11],[\"Software Engineer\",430],[\"Software Engineer\",295],[\"Software Engineer\",298],[\"Software Engineer\",106],[\"Software Engineer\",281],[\"Software Engineer\",442],[\"Software Engineer\",88],[\"Software Engineer\",421],[\"Software Engineer\",344],[\"Software Engineer\",395],[\"Software Engineer\",10],[\"Software Engineer\",218],[\"Software Engineer\",435],[\"Software Engineer\",404],[\"Software Engineer\",332],[\"Software Engineer\",181],[\"Software Engineer\",389],[\"Software Engineer\",427],[\"Software Engineer\",340],[\"Software Engineer\",96],[\"Software Engineer\",271],[\"Software Engineer\",162],[\"Software Engineer\",378],[\"Software Engineer\",148],[\"Software Engineer\",457],[\"Software Engineer\",77],[\"Software Engineer\",52],[\"Software Engineer\",225],[\"Software Engineer\",338],[\"Software Engineer\",295],[\"Software Engineer\",270],[\"Software Engineer\",466],[\"Software Engineer\",79],[\"Software Engineer\",162],[\"Software Engineer\",40],[\"Software Engineer\",433],[\"Software Engineer\",377],[\"Software Engineer\",15],[\"Software Engineer\",150],[\"Software Engineer\",124],[\"Software Engineer\",454],[\"Software Engineer\",489],[\"Software Engineer\",353],[\"Software Engineer\",173],[\"Software Engineer\",358],[\"Software Engineer\",79],[\"Software Engineer\",108],[\"Software Engineer\",305],[\"Software Engineer\",167],[\"Software Engineer\",488],[\"Software Engineer\",460],[\"Software Engineer\",448],[\"Software Engineer\",38],[\"Software Engineer\",171],[\"Software Engineer\",59],[\"Software Engineer\",118],[\"Software Engineer\",196],[\"Software Engineer\",193],[\"Software Engineer\",371],[\"Software Engineer\",21],[\"Software Engineer\",346],[\"Software Engineer\",469],[\"Software Engineer\",43],[\"Software Engineer\",462],[\"Software Engineer\",278],[\"Software Engineer\",87],[\"Software Engineer\",357],[\"Software Engineer\",291],[\"Software Engineer\",88],[\"Software Engineer\",290],[\"Software Engineer\",279],[\"Software Engineer\",403],[\"Software Engineer\",196],[\"Software Engineer\",280],[\"Software Engineer\",319],[\"Software Engineer\",427],[\"Software Engineer\",104],[\"Software Engineer\",62],[\"Software Engineer\",276],[\"Software Engineer\",70],[\"Software Engineer\",112],[\"Software Engineer\",227],[\"Software Engineer\",227],[\"Software Engineer\",436],[\"Software Engineer\",451],[\"Software Engineer\",48],[\"Software Engineer\",428],[\"Software Engineer\",428]],\"hovertemplate\":\"<b>%{hovertext}</b><br><br>Job Location=Ahmedabad<br>Number of Applicants=%{customdata[1]}<br>Latitude=%{lat}<br>Longitude=%{lon}<br>Job Title=%{customdata[0]}<extra></extra>\",\"hovertext\":[\"Ahmedabad\",\"Ahmedabad\",\"Ahmedabad\",\"Ahmedabad\",\"Ahmedabad\",\"Ahmedabad\",\"Ahmedabad\",\"Ahmedabad\",\"Ahmedabad\",\"Ahmedabad\",\"Ahmedabad\",\"Ahmedabad\",\"Ahmedabad\",\"Ahmedabad\",\"Ahmedabad\",\"Ahmedabad\",\"Ahmedabad\",\"Ahmedabad\",\"Ahmedabad\",\"Ahmedabad\",\"Ahmedabad\",\"Ahmedabad\",\"Ahmedabad\",\"Ahmedabad\",\"Ahmedabad\",\"Ahmedabad\",\"Ahmedabad\",\"Ahmedabad\",\"Ahmedabad\",\"Ahmedabad\",\"Ahmedabad\",\"Ahmedabad\",\"Ahmedabad\",\"Ahmedabad\",\"Ahmedabad\",\"Ahmedabad\",\"Ahmedabad\",\"Ahmedabad\",\"Ahmedabad\",\"Ahmedabad\",\"Ahmedabad\",\"Ahmedabad\",\"Ahmedabad\",\"Ahmedabad\",\"Ahmedabad\",\"Ahmedabad\",\"Ahmedabad\",\"Ahmedabad\",\"Ahmedabad\",\"Ahmedabad\",\"Ahmedabad\",\"Ahmedabad\",\"Ahmedabad\",\"Ahmedabad\",\"Ahmedabad\",\"Ahmedabad\",\"Ahmedabad\",\"Ahmedabad\",\"Ahmedabad\",\"Ahmedabad\",\"Ahmedabad\",\"Ahmedabad\",\"Ahmedabad\",\"Ahmedabad\",\"Ahmedabad\",\"Ahmedabad\",\"Ahmedabad\",\"Ahmedabad\",\"Ahmedabad\",\"Ahmedabad\",\"Ahmedabad\",\"Ahmedabad\",\"Ahmedabad\",\"Ahmedabad\",\"Ahmedabad\",\"Ahmedabad\",\"Ahmedabad\",\"Ahmedabad\",\"Ahmedabad\",\"Ahmedabad\",\"Ahmedabad\",\"Ahmedabad\",\"Ahmedabad\",\"Ahmedabad\",\"Ahmedabad\",\"Ahmedabad\",\"Ahmedabad\",\"Ahmedabad\",\"Ahmedabad\",\"Ahmedabad\",\"Ahmedabad\",\"Ahmedabad\",\"Ahmedabad\",\"Ahmedabad\",\"Ahmedabad\",\"Ahmedabad\",\"Ahmedabad\",\"Ahmedabad\",\"Ahmedabad\",\"Ahmedabad\",\"Ahmedabad\",\"Ahmedabad\",\"Ahmedabad\",\"Ahmedabad\",\"Ahmedabad\",\"Ahmedabad\",\"Ahmedabad\",\"Ahmedabad\",\"Ahmedabad\",\"Ahmedabad\",\"Ahmedabad\",\"Ahmedabad\",\"Ahmedabad\",\"Ahmedabad\",\"Ahmedabad\",\"Ahmedabad\",\"Ahmedabad\",\"Ahmedabad\",\"Ahmedabad\",\"Ahmedabad\",\"Ahmedabad\",\"Ahmedabad\",\"Ahmedabad\",\"Ahmedabad\",\"Ahmedabad\",\"Ahmedabad\",\"Ahmedabad\",\"Ahmedabad\",\"Ahmedabad\",\"Ahmedabad\",\"Ahmedabad\",\"Ahmedabad\",\"Ahmedabad\",\"Ahmedabad\",\"Ahmedabad\",\"Ahmedabad\",\"Ahmedabad\",\"Ahmedabad\",\"Ahmedabad\",\"Ahmedabad\",\"Ahmedabad\",\"Ahmedabad\",\"Ahmedabad\",\"Ahmedabad\",\"Ahmedabad\",\"Ahmedabad\",\"Ahmedabad\",\"Ahmedabad\",\"Ahmedabad\",\"Ahmedabad\",\"Ahmedabad\",\"Ahmedabad\",\"Ahmedabad\",\"Ahmedabad\",\"Ahmedabad\",\"Ahmedabad\",\"Ahmedabad\",\"Ahmedabad\",\"Ahmedabad\",\"Ahmedabad\",\"Ahmedabad\",\"Ahmedabad\",\"Ahmedabad\",\"Ahmedabad\",\"Ahmedabad\",\"Ahmedabad\",\"Ahmedabad\",\"Ahmedabad\",\"Ahmedabad\",\"Ahmedabad\",\"Ahmedabad\",\"Ahmedabad\",\"Ahmedabad\",\"Ahmedabad\",\"Ahmedabad\",\"Ahmedabad\",\"Ahmedabad\",\"Ahmedabad\",\"Ahmedabad\",\"Ahmedabad\",\"Ahmedabad\",\"Ahmedabad\",\"Ahmedabad\",\"Ahmedabad\",\"Ahmedabad\",\"Ahmedabad\",\"Ahmedabad\",\"Ahmedabad\",\"Ahmedabad\",\"Ahmedabad\",\"Ahmedabad\",\"Ahmedabad\",\"Ahmedabad\",\"Ahmedabad\",\"Ahmedabad\",\"Ahmedabad\",\"Ahmedabad\",\"Ahmedabad\",\"Ahmedabad\",\"Ahmedabad\",\"Ahmedabad\",\"Ahmedabad\",\"Ahmedabad\",\"Ahmedabad\",\"Ahmedabad\",\"Ahmedabad\",\"Ahmedabad\",\"Ahmedabad\",\"Ahmedabad\"],\"lat\":[23.0225,23.0225,23.0225,23.0225,23.0225,23.0225,23.0225,23.0225,23.0225,23.0225,23.0225,23.0225,23.0225,23.0225,23.0225,23.0225,23.0225,23.0225,23.0225,23.0225,23.0225,23.0225,23.0225,23.0225,23.0225,23.0225,23.0225,23.0225,23.0225,23.0225,23.0225,23.0225,23.0225,23.0225,23.0225,23.0225,23.0225,23.0225,23.0225,23.0225,23.0225,23.0225,23.0225,23.0225,23.0225,23.0225,23.0225,23.0225,23.0225,23.0225,23.0225,23.0225,23.0225,23.0225,23.0225,23.0225,23.0225,23.0225,23.0225,23.0225,23.0225,23.0225,23.0225,23.0225,23.0225,23.0225,23.0225,23.0225,23.0225,23.0225,23.0225,23.0225,23.0225,23.0225,23.0225,23.0225,23.0225,23.0225,23.0225,23.0225,23.0225,23.0225,23.0225,23.0225,23.0225,23.0225,23.0225,23.0225,23.0225,23.0225,23.0225,23.0225,23.0225,23.0225,23.0225,23.0225,23.0225,23.0225,23.0225,23.0225,23.0225,23.0225,23.0225,23.0225,23.0225,23.0225,23.0225,23.0225,23.0225,23.0225,23.0225,23.0225,23.0225,23.0225,23.0225,23.0225,23.0225,23.0225,23.0225,23.0225,23.0225,23.0225,23.0225,23.0225,23.0225,23.0225,23.0225,23.0225,23.0225,23.0225,23.0225,23.0225,23.0225,23.0225,23.0225,23.0225,23.0225,23.0225,23.0225,23.0225,23.0225,23.0225,23.0225,23.0225,23.0225,23.0225,23.0225,23.0225,23.0225,23.0225,23.0225,23.0225,23.0225,23.0225,23.0225,23.0225,23.0225,23.0225,23.0225,23.0225,23.0225,23.0225,23.0225,23.0225,23.0225,23.0225,23.0225,23.0225,23.0225,23.0225,23.0225,23.0225,23.0225,23.0225,23.0225,23.0225,23.0225,23.0225,23.0225,23.0225,23.0225,23.0225,23.0225,23.0225,23.0225,23.0225,23.0225,23.0225,23.0225,23.0225,23.0225,23.0225,23.0225,23.0225,23.0225,23.0225,23.0225,23.0225,23.0225,23.0225,23.0225,23.0225,23.0225,23.0225,23.0225,23.0225,23.0225,23.0225,23.0225],\"legendgroup\":\"Ahmedabad\",\"lon\":[72.5714,72.5714,72.5714,72.5714,72.5714,72.5714,72.5714,72.5714,72.5714,72.5714,72.5714,72.5714,72.5714,72.5714,72.5714,72.5714,72.5714,72.5714,72.5714,72.5714,72.5714,72.5714,72.5714,72.5714,72.5714,72.5714,72.5714,72.5714,72.5714,72.5714,72.5714,72.5714,72.5714,72.5714,72.5714,72.5714,72.5714,72.5714,72.5714,72.5714,72.5714,72.5714,72.5714,72.5714,72.5714,72.5714,72.5714,72.5714,72.5714,72.5714,72.5714,72.5714,72.5714,72.5714,72.5714,72.5714,72.5714,72.5714,72.5714,72.5714,72.5714,72.5714,72.5714,72.5714,72.5714,72.5714,72.5714,72.5714,72.5714,72.5714,72.5714,72.5714,72.5714,72.5714,72.5714,72.5714,72.5714,72.5714,72.5714,72.5714,72.5714,72.5714,72.5714,72.5714,72.5714,72.5714,72.5714,72.5714,72.5714,72.5714,72.5714,72.5714,72.5714,72.5714,72.5714,72.5714,72.5714,72.5714,72.5714,72.5714,72.5714,72.5714,72.5714,72.5714,72.5714,72.5714,72.5714,72.5714,72.5714,72.5714,72.5714,72.5714,72.5714,72.5714,72.5714,72.5714,72.5714,72.5714,72.5714,72.5714,72.5714,72.5714,72.5714,72.5714,72.5714,72.5714,72.5714,72.5714,72.5714,72.5714,72.5714,72.5714,72.5714,72.5714,72.5714,72.5714,72.5714,72.5714,72.5714,72.5714,72.5714,72.5714,72.5714,72.5714,72.5714,72.5714,72.5714,72.5714,72.5714,72.5714,72.5714,72.5714,72.5714,72.5714,72.5714,72.5714,72.5714,72.5714,72.5714,72.5714,72.5714,72.5714,72.5714,72.5714,72.5714,72.5714,72.5714,72.5714,72.5714,72.5714,72.5714,72.5714,72.5714,72.5714,72.5714,72.5714,72.5714,72.5714,72.5714,72.5714,72.5714,72.5714,72.5714,72.5714,72.5714,72.5714,72.5714,72.5714,72.5714,72.5714,72.5714,72.5714,72.5714,72.5714,72.5714,72.5714,72.5714,72.5714,72.5714,72.5714,72.5714,72.5714,72.5714,72.5714,72.5714,72.5714,72.5714,72.5714,72.5714],\"marker\":{\"color\":\"#636efa\",\"size\":[23,410,85,100,56,265,27,447,49,130,15,116,225,17,55,438,269,316,167,89,483,481,257,71,414,437,13,96,281,100,164,168,433,428,311,203,228,376,457,460,102,254,226,437,221,344,302,406,145,426,221,161,274,46,243,95,448,336,78,303,338,99,76,48,63,464,429,158,201,224,488,416,495,48,202,345,366,210,142,399,107,242,283,304,330,422,132,90,149,457,158,50,497,91,329,276,393,392,150,369,31,345,367,405,93,174,196,419,317,454,437,278,151,163,129,171,296,28,231,285,11,430,295,298,106,281,442,88,421,344,395,10,218,435,404,332,181,389,427,340,96,271,162,378,148,457,77,52,225,338,295,270,466,79,162,40,433,377,15,150,124,454,489,353,173,358,79,108,305,167,488,460,448,38,171,59,118,196,193,371,21,346,469,43,462,278,87,357,291,88,290,279,403,196,280,319,427,104,62,276,70,112,227,227,436,451,48,428,428],\"sizemode\":\"area\",\"sizeref\":0.2},\"mode\":\"markers\",\"name\":\"Ahmedabad\",\"showlegend\":true,\"subplot\":\"mapbox\",\"type\":\"scattermapbox\"},{\"customdata\":[[\"Software Engineer\",199],[\"Software Engineer\",265],[\"Software Engineer\",158],[\"Software Engineer\",10],[\"Software Engineer\",370],[\"Software Engineer\",358],[\"Software Engineer\",33],[\"Software Engineer\",128],[\"Software Engineer\",13],[\"Software Engineer\",163],[\"Software Engineer\",436],[\"Software Engineer\",108],[\"Software Engineer\",248],[\"Software Engineer\",268],[\"Software Engineer\",321],[\"Software Engineer\",475],[\"Software Engineer\",420],[\"Software Engineer\",232],[\"Software Engineer\",444],[\"Software Engineer\",225],[\"Software Engineer\",339],[\"Software Engineer\",97],[\"Software Engineer\",418],[\"Software Engineer\",23],[\"Software Engineer\",332],[\"Software Engineer\",144],[\"Software Engineer\",490],[\"Software Engineer\",325],[\"Software Engineer\",25],[\"Software Engineer\",271],[\"Software Engineer\",286],[\"Software Engineer\",224],[\"Software Engineer\",421],[\"Software Engineer\",427],[\"Software Engineer\",277],[\"Software Engineer\",292],[\"Software Engineer\",338],[\"Software Engineer\",217],[\"Software Engineer\",239],[\"Software Engineer\",395],[\"Software Engineer\",117],[\"Software Engineer\",490],[\"Software Engineer\",319],[\"Software Engineer\",467],[\"Software Engineer\",34],[\"Software Engineer\",473],[\"Software Engineer\",84],[\"Software Engineer\",132],[\"Software Engineer\",397],[\"Software Engineer\",454],[\"Software Engineer\",353],[\"Software Engineer\",140],[\"Software Engineer\",145],[\"Software Engineer\",46],[\"Software Engineer\",373],[\"Software Engineer\",191],[\"Software Engineer\",267],[\"Software Engineer\",72],[\"Software Engineer\",421],[\"Software Engineer\",124],[\"Software Engineer\",418],[\"Software Engineer\",258],[\"Software Engineer\",468],[\"Software Engineer\",456],[\"Software Engineer\",12],[\"Software Engineer\",253],[\"Software Engineer\",138],[\"Software Engineer\",54],[\"Software Engineer\",494],[\"Software Engineer\",243],[\"Software Engineer\",463],[\"Software Engineer\",212],[\"Software Engineer\",27],[\"Software Engineer\",277],[\"Software Engineer\",276],[\"Software Engineer\",251],[\"Software Engineer\",189],[\"Software Engineer\",133],[\"Software Engineer\",400],[\"Software Engineer\",314],[\"Software Engineer\",253],[\"Software Engineer\",62],[\"Software Engineer\",479],[\"Software Engineer\",250],[\"Software Engineer\",425],[\"Software Engineer\",470],[\"Software Engineer\",424],[\"Software Engineer\",30],[\"Software Engineer\",145],[\"Software Engineer\",217],[\"Software Engineer\",164],[\"Software Engineer\",270],[\"Software Engineer\",47],[\"Software Engineer\",39],[\"Software Engineer\",401],[\"Software Engineer\",147],[\"Software Engineer\",314],[\"Software Engineer\",403],[\"Software Engineer\",198],[\"Software Engineer\",355],[\"Software Engineer\",215],[\"Software Engineer\",480],[\"Software Engineer\",125],[\"Software Engineer\",138],[\"Software Engineer\",486],[\"Software Engineer\",299],[\"Software Engineer\",279],[\"Software Engineer\",372],[\"Software Engineer\",42],[\"Software Engineer\",120],[\"Software Engineer\",478],[\"Software Engineer\",63],[\"Software Engineer\",301],[\"Software Engineer\",347],[\"Software Engineer\",220],[\"Software Engineer\",87],[\"Software Engineer\",485],[\"Software Engineer\",28],[\"Software Engineer\",133],[\"Software Engineer\",229],[\"Software Engineer\",380],[\"Software Engineer\",371],[\"Software Engineer\",290],[\"Software Engineer\",20],[\"Software Engineer\",451],[\"Software Engineer\",271],[\"Software Engineer\",388],[\"Software Engineer\",305],[\"Software Engineer\",381],[\"Software Engineer\",135],[\"Software Engineer\",500],[\"Software Engineer\",192],[\"Software Engineer\",219],[\"Software Engineer\",99],[\"Software Engineer\",12],[\"Software Engineer\",204],[\"Software Engineer\",408],[\"Software Engineer\",240],[\"Software Engineer\",43],[\"Software Engineer\",140],[\"Software Engineer\",26],[\"Software Engineer\",417],[\"Software Engineer\",158],[\"Software Engineer\",20],[\"Software Engineer\",10],[\"Software Engineer\",161],[\"Software Engineer\",350],[\"Software Engineer\",204],[\"Software Engineer\",72],[\"Software Engineer\",47],[\"Software Engineer\",18],[\"Software Engineer\",56],[\"Software Engineer\",436],[\"Software Engineer\",146],[\"Software Engineer\",195],[\"Software Engineer\",150],[\"Software Engineer\",440],[\"Software Engineer\",338],[\"Software Engineer\",263],[\"Software Engineer\",439],[\"Software Engineer\",440],[\"Software Engineer\",363],[\"Software Engineer\",420],[\"Software Engineer\",451],[\"Software Engineer\",298],[\"Software Engineer\",252],[\"Software Engineer\",122],[\"Software Engineer\",327],[\"Software Engineer\",159],[\"Software Engineer\",378],[\"Software Engineer\",128],[\"Software Engineer\",466],[\"Software Engineer\",322],[\"Software Engineer\",474],[\"Software Engineer\",281],[\"Software Engineer\",185],[\"Software Engineer\",490],[\"Software Engineer\",473],[\"Software Engineer\",356],[\"Software Engineer\",374],[\"Software Engineer\",177],[\"Software Engineer\",30],[\"Software Engineer\",209],[\"Software Engineer\",237],[\"Software Engineer\",20],[\"Software Engineer\",60]],\"hovertemplate\":\"<b>%{hovertext}</b><br><br>Job Location=Delhi<br>Number of Applicants=%{customdata[1]}<br>Latitude=%{lat}<br>Longitude=%{lon}<br>Job Title=%{customdata[0]}<extra></extra>\",\"hovertext\":[\"Delhi\",\"Delhi\",\"Delhi\",\"Delhi\",\"Delhi\",\"Delhi\",\"Delhi\",\"Delhi\",\"Delhi\",\"Delhi\",\"Delhi\",\"Delhi\",\"Delhi\",\"Delhi\",\"Delhi\",\"Delhi\",\"Delhi\",\"Delhi\",\"Delhi\",\"Delhi\",\"Delhi\",\"Delhi\",\"Delhi\",\"Delhi\",\"Delhi\",\"Delhi\",\"Delhi\",\"Delhi\",\"Delhi\",\"Delhi\",\"Delhi\",\"Delhi\",\"Delhi\",\"Delhi\",\"Delhi\",\"Delhi\",\"Delhi\",\"Delhi\",\"Delhi\",\"Delhi\",\"Delhi\",\"Delhi\",\"Delhi\",\"Delhi\",\"Delhi\",\"Delhi\",\"Delhi\",\"Delhi\",\"Delhi\",\"Delhi\",\"Delhi\",\"Delhi\",\"Delhi\",\"Delhi\",\"Delhi\",\"Delhi\",\"Delhi\",\"Delhi\",\"Delhi\",\"Delhi\",\"Delhi\",\"Delhi\",\"Delhi\",\"Delhi\",\"Delhi\",\"Delhi\",\"Delhi\",\"Delhi\",\"Delhi\",\"Delhi\",\"Delhi\",\"Delhi\",\"Delhi\",\"Delhi\",\"Delhi\",\"Delhi\",\"Delhi\",\"Delhi\",\"Delhi\",\"Delhi\",\"Delhi\",\"Delhi\",\"Delhi\",\"Delhi\",\"Delhi\",\"Delhi\",\"Delhi\",\"Delhi\",\"Delhi\",\"Delhi\",\"Delhi\",\"Delhi\",\"Delhi\",\"Delhi\",\"Delhi\",\"Delhi\",\"Delhi\",\"Delhi\",\"Delhi\",\"Delhi\",\"Delhi\",\"Delhi\",\"Delhi\",\"Delhi\",\"Delhi\",\"Delhi\",\"Delhi\",\"Delhi\",\"Delhi\",\"Delhi\",\"Delhi\",\"Delhi\",\"Delhi\",\"Delhi\",\"Delhi\",\"Delhi\",\"Delhi\",\"Delhi\",\"Delhi\",\"Delhi\",\"Delhi\",\"Delhi\",\"Delhi\",\"Delhi\",\"Delhi\",\"Delhi\",\"Delhi\",\"Delhi\",\"Delhi\",\"Delhi\",\"Delhi\",\"Delhi\",\"Delhi\",\"Delhi\",\"Delhi\",\"Delhi\",\"Delhi\",\"Delhi\",\"Delhi\",\"Delhi\",\"Delhi\",\"Delhi\",\"Delhi\",\"Delhi\",\"Delhi\",\"Delhi\",\"Delhi\",\"Delhi\",\"Delhi\",\"Delhi\",\"Delhi\",\"Delhi\",\"Delhi\",\"Delhi\",\"Delhi\",\"Delhi\",\"Delhi\",\"Delhi\",\"Delhi\",\"Delhi\",\"Delhi\",\"Delhi\",\"Delhi\",\"Delhi\",\"Delhi\",\"Delhi\",\"Delhi\",\"Delhi\",\"Delhi\",\"Delhi\",\"Delhi\",\"Delhi\",\"Delhi\",\"Delhi\",\"Delhi\",\"Delhi\",\"Delhi\",\"Delhi\",\"Delhi\",\"Delhi\",\"Delhi\",\"Delhi\",\"Delhi\",\"Delhi\",\"Delhi\",\"Delhi\"],\"lat\":[28.7041,28.7041,28.7041,28.7041,28.7041,28.7041,28.7041,28.7041,28.7041,28.7041,28.7041,28.7041,28.7041,28.7041,28.7041,28.7041,28.7041,28.7041,28.7041,28.7041,28.7041,28.7041,28.7041,28.7041,28.7041,28.7041,28.7041,28.7041,28.7041,28.7041,28.7041,28.7041,28.7041,28.7041,28.7041,28.7041,28.7041,28.7041,28.7041,28.7041,28.7041,28.7041,28.7041,28.7041,28.7041,28.7041,28.7041,28.7041,28.7041,28.7041,28.7041,28.7041,28.7041,28.7041,28.7041,28.7041,28.7041,28.7041,28.7041,28.7041,28.7041,28.7041,28.7041,28.7041,28.7041,28.7041,28.7041,28.7041,28.7041,28.7041,28.7041,28.7041,28.7041,28.7041,28.7041,28.7041,28.7041,28.7041,28.7041,28.7041,28.7041,28.7041,28.7041,28.7041,28.7041,28.7041,28.7041,28.7041,28.7041,28.7041,28.7041,28.7041,28.7041,28.7041,28.7041,28.7041,28.7041,28.7041,28.7041,28.7041,28.7041,28.7041,28.7041,28.7041,28.7041,28.7041,28.7041,28.7041,28.7041,28.7041,28.7041,28.7041,28.7041,28.7041,28.7041,28.7041,28.7041,28.7041,28.7041,28.7041,28.7041,28.7041,28.7041,28.7041,28.7041,28.7041,28.7041,28.7041,28.7041,28.7041,28.7041,28.7041,28.7041,28.7041,28.7041,28.7041,28.7041,28.7041,28.7041,28.7041,28.7041,28.7041,28.7041,28.7041,28.7041,28.7041,28.7041,28.7041,28.7041,28.7041,28.7041,28.7041,28.7041,28.7041,28.7041,28.7041,28.7041,28.7041,28.7041,28.7041,28.7041,28.7041,28.7041,28.7041,28.7041,28.7041,28.7041,28.7041,28.7041,28.7041,28.7041,28.7041,28.7041,28.7041,28.7041,28.7041,28.7041,28.7041,28.7041,28.7041,28.7041,28.7041,28.7041,28.7041,28.7041,28.7041],\"legendgroup\":\"Delhi\",\"lon\":[77.1025,77.1025,77.1025,77.1025,77.1025,77.1025,77.1025,77.1025,77.1025,77.1025,77.1025,77.1025,77.1025,77.1025,77.1025,77.1025,77.1025,77.1025,77.1025,77.1025,77.1025,77.1025,77.1025,77.1025,77.1025,77.1025,77.1025,77.1025,77.1025,77.1025,77.1025,77.1025,77.1025,77.1025,77.1025,77.1025,77.1025,77.1025,77.1025,77.1025,77.1025,77.1025,77.1025,77.1025,77.1025,77.1025,77.1025,77.1025,77.1025,77.1025,77.1025,77.1025,77.1025,77.1025,77.1025,77.1025,77.1025,77.1025,77.1025,77.1025,77.1025,77.1025,77.1025,77.1025,77.1025,77.1025,77.1025,77.1025,77.1025,77.1025,77.1025,77.1025,77.1025,77.1025,77.1025,77.1025,77.1025,77.1025,77.1025,77.1025,77.1025,77.1025,77.1025,77.1025,77.1025,77.1025,77.1025,77.1025,77.1025,77.1025,77.1025,77.1025,77.1025,77.1025,77.1025,77.1025,77.1025,77.1025,77.1025,77.1025,77.1025,77.1025,77.1025,77.1025,77.1025,77.1025,77.1025,77.1025,77.1025,77.1025,77.1025,77.1025,77.1025,77.1025,77.1025,77.1025,77.1025,77.1025,77.1025,77.1025,77.1025,77.1025,77.1025,77.1025,77.1025,77.1025,77.1025,77.1025,77.1025,77.1025,77.1025,77.1025,77.1025,77.1025,77.1025,77.1025,77.1025,77.1025,77.1025,77.1025,77.1025,77.1025,77.1025,77.1025,77.1025,77.1025,77.1025,77.1025,77.1025,77.1025,77.1025,77.1025,77.1025,77.1025,77.1025,77.1025,77.1025,77.1025,77.1025,77.1025,77.1025,77.1025,77.1025,77.1025,77.1025,77.1025,77.1025,77.1025,77.1025,77.1025,77.1025,77.1025,77.1025,77.1025,77.1025,77.1025,77.1025,77.1025,77.1025,77.1025,77.1025,77.1025,77.1025,77.1025,77.1025,77.1025],\"marker\":{\"color\":\"#EF553B\",\"size\":[199,265,158,10,370,358,33,128,13,163,436,108,248,268,321,475,420,232,444,225,339,97,418,23,332,144,490,325,25,271,286,224,421,427,277,292,338,217,239,395,117,490,319,467,34,473,84,132,397,454,353,140,145,46,373,191,267,72,421,124,418,258,468,456,12,253,138,54,494,243,463,212,27,277,276,251,189,133,400,314,253,62,479,250,425,470,424,30,145,217,164,270,47,39,401,147,314,403,198,355,215,480,125,138,486,299,279,372,42,120,478,63,301,347,220,87,485,28,133,229,380,371,290,20,451,271,388,305,381,135,500,192,219,99,12,204,408,240,43,140,26,417,158,20,10,161,350,204,72,47,18,56,436,146,195,150,440,338,263,439,440,363,420,451,298,252,122,327,159,378,128,466,322,474,281,185,490,473,356,374,177,30,209,237,20,60],\"sizemode\":\"area\",\"sizeref\":0.2},\"mode\":\"markers\",\"name\":\"Delhi\",\"showlegend\":true,\"subplot\":\"mapbox\",\"type\":\"scattermapbox\"},{\"customdata\":[[\"Software Engineer\",489],[\"Software Engineer\",311],[\"Software Engineer\",234],[\"Software Engineer\",85],[\"Software Engineer\",409],[\"Software Engineer\",304],[\"Software Engineer\",154],[\"Software Engineer\",269],[\"Software Engineer\",31],[\"Software Engineer\",406],[\"Software Engineer\",312],[\"Software Engineer\",346],[\"Software Engineer\",472],[\"Software Engineer\",156],[\"Software Engineer\",194],[\"Software Engineer\",151],[\"Software Engineer\",125],[\"Software Engineer\",172],[\"Software Engineer\",72],[\"Software Engineer\",249],[\"Software Engineer\",46],[\"Software Engineer\",145],[\"Software Engineer\",324],[\"Software Engineer\",271],[\"Software Engineer\",330],[\"Software Engineer\",139],[\"Software Engineer\",481],[\"Software Engineer\",199],[\"Software Engineer\",75],[\"Software Engineer\",356],[\"Software Engineer\",469],[\"Software Engineer\",411],[\"Software Engineer\",371],[\"Software Engineer\",395],[\"Software Engineer\",344],[\"Software Engineer\",346],[\"Software Engineer\",230],[\"Software Engineer\",139],[\"Software Engineer\",121],[\"Software Engineer\",285],[\"Software Engineer\",42],[\"Software Engineer\",164],[\"Software Engineer\",168],[\"Software Engineer\",54],[\"Software Engineer\",298],[\"Software Engineer\",12],[\"Software Engineer\",439],[\"Software Engineer\",36],[\"Software Engineer\",468],[\"Software Engineer\",445],[\"Software Engineer\",441],[\"Software Engineer\",446],[\"Software Engineer\",358],[\"Software Engineer\",382],[\"Software Engineer\",261],[\"Software Engineer\",137],[\"Software Engineer\",467],[\"Software Engineer\",404],[\"Software Engineer\",88],[\"Software Engineer\",302],[\"Software Engineer\",123],[\"Software Engineer\",270],[\"Software Engineer\",364],[\"Software Engineer\",467],[\"Software Engineer\",49],[\"Software Engineer\",294],[\"Software Engineer\",342],[\"Software Engineer\",293],[\"Software Engineer\",92],[\"Software Engineer\",187],[\"Software Engineer\",226],[\"Software Engineer\",404],[\"Software Engineer\",70],[\"Software Engineer\",218],[\"Software Engineer\",212],[\"Software Engineer\",53],[\"Software Engineer\",326],[\"Software Engineer\",56],[\"Software Engineer\",135],[\"Software Engineer\",89],[\"Software Engineer\",173],[\"Software Engineer\",310],[\"Software Engineer\",412],[\"Software Engineer\",110],[\"Software Engineer\",138],[\"Software Engineer\",191],[\"Software Engineer\",284],[\"Software Engineer\",41],[\"Software Engineer\",138],[\"Software Engineer\",235],[\"Software Engineer\",310],[\"Software Engineer\",248],[\"Software Engineer\",240],[\"Software Engineer\",469],[\"Software Engineer\",56],[\"Software Engineer\",468],[\"Software Engineer\",351],[\"Software Engineer\",393],[\"Software Engineer\",377],[\"Software Engineer\",145],[\"Software Engineer\",476],[\"Software Engineer\",386],[\"Software Engineer\",64],[\"Software Engineer\",111],[\"Software Engineer\",122],[\"Software Engineer\",18],[\"Software Engineer\",215],[\"Software Engineer\",409],[\"Software Engineer\",67],[\"Software Engineer\",71],[\"Software Engineer\",364],[\"Software Engineer\",469],[\"Software Engineer\",380],[\"Software Engineer\",450],[\"Software Engineer\",99],[\"Software Engineer\",168],[\"Software Engineer\",295],[\"Software Engineer\",437],[\"Software Engineer\",454],[\"Software Engineer\",485],[\"Software Engineer\",204],[\"Software Engineer\",138],[\"Software Engineer\",298],[\"Software Engineer\",383],[\"Software Engineer\",312],[\"Software Engineer\",353],[\"Software Engineer\",174],[\"Software Engineer\",473],[\"Software Engineer\",43],[\"Software Engineer\",206],[\"Software Engineer\",375],[\"Software Engineer\",408],[\"Software Engineer\",147],[\"Software Engineer\",54],[\"Software Engineer\",444],[\"Software Engineer\",306],[\"Software Engineer\",299],[\"Software Engineer\",459],[\"Software Engineer\",417],[\"Software Engineer\",80],[\"Software Engineer\",387],[\"Software Engineer\",311],[\"Software Engineer\",385],[\"Software Engineer\",402],[\"Software Engineer\",289],[\"Software Engineer\",218],[\"Software Engineer\",426],[\"Software Engineer\",283],[\"Software Engineer\",409],[\"Software Engineer\",220],[\"Software Engineer\",151],[\"Software Engineer\",370],[\"Software Engineer\",302],[\"Software Engineer\",43],[\"Software Engineer\",460],[\"Software Engineer\",73],[\"Software Engineer\",208],[\"Software Engineer\",406],[\"Software Engineer\",323],[\"Software Engineer\",127],[\"Software Engineer\",320],[\"Software Engineer\",500],[\"Software Engineer\",71],[\"Software Engineer\",447],[\"Software Engineer\",126],[\"Software Engineer\",366],[\"Software Engineer\",425],[\"Software Engineer\",266],[\"Software Engineer\",161],[\"Software Engineer\",354],[\"Software Engineer\",157],[\"Software Engineer\",280],[\"Software Engineer\",295],[\"Software Engineer\",215],[\"Software Engineer\",275],[\"Software Engineer\",81],[\"Software Engineer\",253],[\"Software Engineer\",121],[\"Software Engineer\",59],[\"Software Engineer\",473],[\"Software Engineer\",301],[\"Software Engineer\",191],[\"Software Engineer\",332],[\"Software Engineer\",399],[\"Software Engineer\",142],[\"Software Engineer\",335],[\"Software Engineer\",126],[\"Software Engineer\",488],[\"Software Engineer\",204],[\"Software Engineer\",378],[\"Software Engineer\",278],[\"Software Engineer\",147],[\"Software Engineer\",419],[\"Software Engineer\",425],[\"Software Engineer\",337],[\"Software Engineer\",227],[\"Software Engineer\",185],[\"Software Engineer\",38],[\"Software Engineer\",272],[\"Software Engineer\",156],[\"Software Engineer\",167],[\"Software Engineer\",289],[\"Software Engineer\",335],[\"Software Engineer\",479],[\"Software Engineer\",88],[\"Software Engineer\",266],[\"Software Engineer\",388],[\"Software Engineer\",189],[\"Software Engineer\",486]],\"hovertemplate\":\"<b>%{hovertext}</b><br><br>Job Location=Noida<br>Number of Applicants=%{customdata[1]}<br>Latitude=%{lat}<br>Longitude=%{lon}<br>Job Title=%{customdata[0]}<extra></extra>\",\"hovertext\":[\"Noida\",\"Noida\",\"Noida\",\"Noida\",\"Noida\",\"Noida\",\"Noida\",\"Noida\",\"Noida\",\"Noida\",\"Noida\",\"Noida\",\"Noida\",\"Noida\",\"Noida\",\"Noida\",\"Noida\",\"Noida\",\"Noida\",\"Noida\",\"Noida\",\"Noida\",\"Noida\",\"Noida\",\"Noida\",\"Noida\",\"Noida\",\"Noida\",\"Noida\",\"Noida\",\"Noida\",\"Noida\",\"Noida\",\"Noida\",\"Noida\",\"Noida\",\"Noida\",\"Noida\",\"Noida\",\"Noida\",\"Noida\",\"Noida\",\"Noida\",\"Noida\",\"Noida\",\"Noida\",\"Noida\",\"Noida\",\"Noida\",\"Noida\",\"Noida\",\"Noida\",\"Noida\",\"Noida\",\"Noida\",\"Noida\",\"Noida\",\"Noida\",\"Noida\",\"Noida\",\"Noida\",\"Noida\",\"Noida\",\"Noida\",\"Noida\",\"Noida\",\"Noida\",\"Noida\",\"Noida\",\"Noida\",\"Noida\",\"Noida\",\"Noida\",\"Noida\",\"Noida\",\"Noida\",\"Noida\",\"Noida\",\"Noida\",\"Noida\",\"Noida\",\"Noida\",\"Noida\",\"Noida\",\"Noida\",\"Noida\",\"Noida\",\"Noida\",\"Noida\",\"Noida\",\"Noida\",\"Noida\",\"Noida\",\"Noida\",\"Noida\",\"Noida\",\"Noida\",\"Noida\",\"Noida\",\"Noida\",\"Noida\",\"Noida\",\"Noida\",\"Noida\",\"Noida\",\"Noida\",\"Noida\",\"Noida\",\"Noida\",\"Noida\",\"Noida\",\"Noida\",\"Noida\",\"Noida\",\"Noida\",\"Noida\",\"Noida\",\"Noida\",\"Noida\",\"Noida\",\"Noida\",\"Noida\",\"Noida\",\"Noida\",\"Noida\",\"Noida\",\"Noida\",\"Noida\",\"Noida\",\"Noida\",\"Noida\",\"Noida\",\"Noida\",\"Noida\",\"Noida\",\"Noida\",\"Noida\",\"Noida\",\"Noida\",\"Noida\",\"Noida\",\"Noida\",\"Noida\",\"Noida\",\"Noida\",\"Noida\",\"Noida\",\"Noida\",\"Noida\",\"Noida\",\"Noida\",\"Noida\",\"Noida\",\"Noida\",\"Noida\",\"Noida\",\"Noida\",\"Noida\",\"Noida\",\"Noida\",\"Noida\",\"Noida\",\"Noida\",\"Noida\",\"Noida\",\"Noida\",\"Noida\",\"Noida\",\"Noida\",\"Noida\",\"Noida\",\"Noida\",\"Noida\",\"Noida\",\"Noida\",\"Noida\",\"Noida\",\"Noida\",\"Noida\",\"Noida\",\"Noida\",\"Noida\",\"Noida\",\"Noida\",\"Noida\",\"Noida\",\"Noida\",\"Noida\",\"Noida\",\"Noida\",\"Noida\",\"Noida\",\"Noida\",\"Noida\",\"Noida\",\"Noida\",\"Noida\",\"Noida\",\"Noida\",\"Noida\",\"Noida\",\"Noida\",\"Noida\",\"Noida\",\"Noida\",\"Noida\",\"Noida\",\"Noida\",\"Noida\"],\"lat\":[28.5355,28.5355,28.5355,28.5355,28.5355,28.5355,28.5355,28.5355,28.5355,28.5355,28.5355,28.5355,28.5355,28.5355,28.5355,28.5355,28.5355,28.5355,28.5355,28.5355,28.5355,28.5355,28.5355,28.5355,28.5355,28.5355,28.5355,28.5355,28.5355,28.5355,28.5355,28.5355,28.5355,28.5355,28.5355,28.5355,28.5355,28.5355,28.5355,28.5355,28.5355,28.5355,28.5355,28.5355,28.5355,28.5355,28.5355,28.5355,28.5355,28.5355,28.5355,28.5355,28.5355,28.5355,28.5355,28.5355,28.5355,28.5355,28.5355,28.5355,28.5355,28.5355,28.5355,28.5355,28.5355,28.5355,28.5355,28.5355,28.5355,28.5355,28.5355,28.5355,28.5355,28.5355,28.5355,28.5355,28.5355,28.5355,28.5355,28.5355,28.5355,28.5355,28.5355,28.5355,28.5355,28.5355,28.5355,28.5355,28.5355,28.5355,28.5355,28.5355,28.5355,28.5355,28.5355,28.5355,28.5355,28.5355,28.5355,28.5355,28.5355,28.5355,28.5355,28.5355,28.5355,28.5355,28.5355,28.5355,28.5355,28.5355,28.5355,28.5355,28.5355,28.5355,28.5355,28.5355,28.5355,28.5355,28.5355,28.5355,28.5355,28.5355,28.5355,28.5355,28.5355,28.5355,28.5355,28.5355,28.5355,28.5355,28.5355,28.5355,28.5355,28.5355,28.5355,28.5355,28.5355,28.5355,28.5355,28.5355,28.5355,28.5355,28.5355,28.5355,28.5355,28.5355,28.5355,28.5355,28.5355,28.5355,28.5355,28.5355,28.5355,28.5355,28.5355,28.5355,28.5355,28.5355,28.5355,28.5355,28.5355,28.5355,28.5355,28.5355,28.5355,28.5355,28.5355,28.5355,28.5355,28.5355,28.5355,28.5355,28.5355,28.5355,28.5355,28.5355,28.5355,28.5355,28.5355,28.5355,28.5355,28.5355,28.5355,28.5355,28.5355,28.5355,28.5355,28.5355,28.5355,28.5355,28.5355,28.5355,28.5355,28.5355,28.5355,28.5355,28.5355,28.5355,28.5355,28.5355,28.5355,28.5355,28.5355,28.5355,28.5355,28.5355,28.5355,28.5355,28.5355],\"legendgroup\":\"Noida\",\"lon\":[77.391,77.391,77.391,77.391,77.391,77.391,77.391,77.391,77.391,77.391,77.391,77.391,77.391,77.391,77.391,77.391,77.391,77.391,77.391,77.391,77.391,77.391,77.391,77.391,77.391,77.391,77.391,77.391,77.391,77.391,77.391,77.391,77.391,77.391,77.391,77.391,77.391,77.391,77.391,77.391,77.391,77.391,77.391,77.391,77.391,77.391,77.391,77.391,77.391,77.391,77.391,77.391,77.391,77.391,77.391,77.391,77.391,77.391,77.391,77.391,77.391,77.391,77.391,77.391,77.391,77.391,77.391,77.391,77.391,77.391,77.391,77.391,77.391,77.391,77.391,77.391,77.391,77.391,77.391,77.391,77.391,77.391,77.391,77.391,77.391,77.391,77.391,77.391,77.391,77.391,77.391,77.391,77.391,77.391,77.391,77.391,77.391,77.391,77.391,77.391,77.391,77.391,77.391,77.391,77.391,77.391,77.391,77.391,77.391,77.391,77.391,77.391,77.391,77.391,77.391,77.391,77.391,77.391,77.391,77.391,77.391,77.391,77.391,77.391,77.391,77.391,77.391,77.391,77.391,77.391,77.391,77.391,77.391,77.391,77.391,77.391,77.391,77.391,77.391,77.391,77.391,77.391,77.391,77.391,77.391,77.391,77.391,77.391,77.391,77.391,77.391,77.391,77.391,77.391,77.391,77.391,77.391,77.391,77.391,77.391,77.391,77.391,77.391,77.391,77.391,77.391,77.391,77.391,77.391,77.391,77.391,77.391,77.391,77.391,77.391,77.391,77.391,77.391,77.391,77.391,77.391,77.391,77.391,77.391,77.391,77.391,77.391,77.391,77.391,77.391,77.391,77.391,77.391,77.391,77.391,77.391,77.391,77.391,77.391,77.391,77.391,77.391,77.391,77.391,77.391,77.391,77.391,77.391,77.391],\"marker\":{\"color\":\"#00cc96\",\"size\":[489,311,234,85,409,304,154,269,31,406,312,346,472,156,194,151,125,172,72,249,46,145,324,271,330,139,481,199,75,356,469,411,371,395,344,346,230,139,121,285,42,164,168,54,298,12,439,36,468,445,441,446,358,382,261,137,467,404,88,302,123,270,364,467,49,294,342,293,92,187,226,404,70,218,212,53,326,56,135,89,173,310,412,110,138,191,284,41,138,235,310,248,240,469,56,468,351,393,377,145,476,386,64,111,122,18,215,409,67,71,364,469,380,450,99,168,295,437,454,485,204,138,298,383,312,353,174,473,43,206,375,408,147,54,444,306,299,459,417,80,387,311,385,402,289,218,426,283,409,220,151,370,302,43,460,73,208,406,323,127,320,500,71,447,126,366,425,266,161,354,157,280,295,215,275,81,253,121,59,473,301,191,332,399,142,335,126,488,204,378,278,147,419,425,337,227,185,38,272,156,167,289,335,479,88,266,388,189,486],\"sizemode\":\"area\",\"sizeref\":0.2},\"mode\":\"markers\",\"name\":\"Noida\",\"showlegend\":true,\"subplot\":\"mapbox\",\"type\":\"scattermapbox\"},{\"customdata\":[[\"Software Engineer\",24],[\"Software Engineer\",384],[\"Software Engineer\",45],[\"Software Engineer\",197],[\"Software Engineer\",410],[\"Software Engineer\",18],[\"Software Engineer\",468],[\"Software Engineer\",180],[\"Software Engineer\",485],[\"Software Engineer\",39],[\"Software Engineer\",239],[\"Software Engineer\",150],[\"Software Engineer\",121],[\"Software Engineer\",92],[\"Software Engineer\",455],[\"Software Engineer\",128],[\"Software Engineer\",267],[\"Software Engineer\",97],[\"Software Engineer\",346],[\"Software Engineer\",262],[\"Software Engineer\",27],[\"Software Engineer\",230],[\"Software Engineer\",453],[\"Software Engineer\",338],[\"Software Engineer\",422],[\"Software Engineer\",438],[\"Software Engineer\",26],[\"Software Engineer\",94],[\"Software Engineer\",27],[\"Software Engineer\",163],[\"Software Engineer\",298],[\"Software Engineer\",159],[\"Software Engineer\",29],[\"Software Engineer\",213],[\"Software Engineer\",220],[\"Software Engineer\",120],[\"Software Engineer\",433],[\"Software Engineer\",396],[\"Software Engineer\",394],[\"Software Engineer\",248],[\"Software Engineer\",493],[\"Software Engineer\",326],[\"Software Engineer\",357],[\"Software Engineer\",441],[\"Software Engineer\",327],[\"Software Engineer\",249],[\"Software Engineer\",287],[\"Software Engineer\",216],[\"Software Engineer\",116],[\"Software Engineer\",448],[\"Software Engineer\",440],[\"Software Engineer\",384],[\"Software Engineer\",452],[\"Software Engineer\",126],[\"Software Engineer\",332],[\"Software Engineer\",87],[\"Software Engineer\",14],[\"Software Engineer\",319],[\"Software Engineer\",126],[\"Software Engineer\",204],[\"Software Engineer\",479],[\"Software Engineer\",17],[\"Software Engineer\",216],[\"Software Engineer\",309],[\"Software Engineer\",379],[\"Software Engineer\",29],[\"Software Engineer\",35],[\"Software Engineer\",463],[\"Software Engineer\",241],[\"Software Engineer\",464],[\"Software Engineer\",129],[\"Software Engineer\",51],[\"Software Engineer\",412],[\"Software Engineer\",114],[\"Software Engineer\",53],[\"Software Engineer\",174],[\"Software Engineer\",153],[\"Software Engineer\",220],[\"Software Engineer\",423],[\"Software Engineer\",342],[\"Software Engineer\",174],[\"Software Engineer\",24],[\"Software Engineer\",422],[\"Software Engineer\",448],[\"Software Engineer\",90],[\"Software Engineer\",238],[\"Software Engineer\",83],[\"Software Engineer\",412],[\"Software Engineer\",334],[\"Software Engineer\",196],[\"Software Engineer\",120],[\"Software Engineer\",300],[\"Software Engineer\",169],[\"Software Engineer\",372],[\"Software Engineer\",427],[\"Software Engineer\",172],[\"Software Engineer\",161],[\"Software Engineer\",375],[\"Software Engineer\",301],[\"Software Engineer\",283],[\"Software Engineer\",426],[\"Software Engineer\",360],[\"Software Engineer\",269],[\"Software Engineer\",368],[\"Software Engineer\",87],[\"Software Engineer\",216],[\"Software Engineer\",397],[\"Software Engineer\",308],[\"Software Engineer\",55],[\"Software Engineer\",199],[\"Software Engineer\",55],[\"Software Engineer\",144],[\"Software Engineer\",349],[\"Software Engineer\",10],[\"Software Engineer\",251],[\"Software Engineer\",452],[\"Software Engineer\",458],[\"Software Engineer\",233],[\"Software Engineer\",423],[\"Software Engineer\",91],[\"Software Engineer\",290],[\"Software Engineer\",17],[\"Software Engineer\",260],[\"Software Engineer\",226],[\"Software Engineer\",262],[\"Software Engineer\",376],[\"Software Engineer\",170],[\"Software Engineer\",103],[\"Software Engineer\",67],[\"Software Engineer\",410],[\"Software Engineer\",131],[\"Software Engineer\",25],[\"Software Engineer\",113],[\"Software Engineer\",147],[\"Software Engineer\",54],[\"Software Engineer\",318],[\"Software Engineer\",68],[\"Software Engineer\",372],[\"Software Engineer\",468],[\"Software Engineer\",28],[\"Software Engineer\",253],[\"Software Engineer\",26],[\"Software Engineer\",435],[\"Software Engineer\",100],[\"Software Engineer\",118],[\"Software Engineer\",170],[\"Software Engineer\",69],[\"Software Engineer\",345],[\"Software Engineer\",297],[\"Software Engineer\",117],[\"Software Engineer\",111],[\"Software Engineer\",88],[\"Software Engineer\",272],[\"Software Engineer\",83],[\"Software Engineer\",177],[\"Software Engineer\",84],[\"Software Engineer\",211],[\"Software Engineer\",389],[\"Software Engineer\",72],[\"Software Engineer\",107],[\"Software Engineer\",393],[\"Software Engineer\",317],[\"Software Engineer\",439],[\"Software Engineer\",297],[\"Software Engineer\",355],[\"Software Engineer\",292],[\"Software Engineer\",409],[\"Software Engineer\",432],[\"Software Engineer\",116],[\"Software Engineer\",139],[\"Software Engineer\",484],[\"Software Engineer\",350],[\"Software Engineer\",480],[\"Software Engineer\",35],[\"Software Engineer\",497],[\"Software Engineer\",138],[\"Software Engineer\",88],[\"Software Engineer\",251],[\"Software Engineer\",60],[\"Software Engineer\",130],[\"Software Engineer\",473],[\"Software Engineer\",88],[\"Software Engineer\",478],[\"Software Engineer\",226],[\"Software Engineer\",408],[\"Software Engineer\",273],[\"Software Engineer\",122],[\"Software Engineer\",276],[\"Software Engineer\",359],[\"Software Engineer\",378],[\"Software Engineer\",246],[\"Software Engineer\",311],[\"Software Engineer\",235],[\"Software Engineer\",314],[\"Software Engineer\",144],[\"Software Engineer\",119],[\"Software Engineer\",471],[\"Software Engineer\",477],[\"Software Engineer\",385],[\"Software Engineer\",346],[\"Software Engineer\",128],[\"Software Engineer\",306],[\"Software Engineer\",365]],\"hovertemplate\":\"<b>%{hovertext}</b><br><br>Job Location=Pune<br>Number of Applicants=%{customdata[1]}<br>Latitude=%{lat}<br>Longitude=%{lon}<br>Job Title=%{customdata[0]}<extra></extra>\",\"hovertext\":[\"Pune\",\"Pune\",\"Pune\",\"Pune\",\"Pune\",\"Pune\",\"Pune\",\"Pune\",\"Pune\",\"Pune\",\"Pune\",\"Pune\",\"Pune\",\"Pune\",\"Pune\",\"Pune\",\"Pune\",\"Pune\",\"Pune\",\"Pune\",\"Pune\",\"Pune\",\"Pune\",\"Pune\",\"Pune\",\"Pune\",\"Pune\",\"Pune\",\"Pune\",\"Pune\",\"Pune\",\"Pune\",\"Pune\",\"Pune\",\"Pune\",\"Pune\",\"Pune\",\"Pune\",\"Pune\",\"Pune\",\"Pune\",\"Pune\",\"Pune\",\"Pune\",\"Pune\",\"Pune\",\"Pune\",\"Pune\",\"Pune\",\"Pune\",\"Pune\",\"Pune\",\"Pune\",\"Pune\",\"Pune\",\"Pune\",\"Pune\",\"Pune\",\"Pune\",\"Pune\",\"Pune\",\"Pune\",\"Pune\",\"Pune\",\"Pune\",\"Pune\",\"Pune\",\"Pune\",\"Pune\",\"Pune\",\"Pune\",\"Pune\",\"Pune\",\"Pune\",\"Pune\",\"Pune\",\"Pune\",\"Pune\",\"Pune\",\"Pune\",\"Pune\",\"Pune\",\"Pune\",\"Pune\",\"Pune\",\"Pune\",\"Pune\",\"Pune\",\"Pune\",\"Pune\",\"Pune\",\"Pune\",\"Pune\",\"Pune\",\"Pune\",\"Pune\",\"Pune\",\"Pune\",\"Pune\",\"Pune\",\"Pune\",\"Pune\",\"Pune\",\"Pune\",\"Pune\",\"Pune\",\"Pune\",\"Pune\",\"Pune\",\"Pune\",\"Pune\",\"Pune\",\"Pune\",\"Pune\",\"Pune\",\"Pune\",\"Pune\",\"Pune\",\"Pune\",\"Pune\",\"Pune\",\"Pune\",\"Pune\",\"Pune\",\"Pune\",\"Pune\",\"Pune\",\"Pune\",\"Pune\",\"Pune\",\"Pune\",\"Pune\",\"Pune\",\"Pune\",\"Pune\",\"Pune\",\"Pune\",\"Pune\",\"Pune\",\"Pune\",\"Pune\",\"Pune\",\"Pune\",\"Pune\",\"Pune\",\"Pune\",\"Pune\",\"Pune\",\"Pune\",\"Pune\",\"Pune\",\"Pune\",\"Pune\",\"Pune\",\"Pune\",\"Pune\",\"Pune\",\"Pune\",\"Pune\",\"Pune\",\"Pune\",\"Pune\",\"Pune\",\"Pune\",\"Pune\",\"Pune\",\"Pune\",\"Pune\",\"Pune\",\"Pune\",\"Pune\",\"Pune\",\"Pune\",\"Pune\",\"Pune\",\"Pune\",\"Pune\",\"Pune\",\"Pune\",\"Pune\",\"Pune\",\"Pune\",\"Pune\",\"Pune\",\"Pune\",\"Pune\",\"Pune\",\"Pune\",\"Pune\",\"Pune\",\"Pune\",\"Pune\",\"Pune\",\"Pune\",\"Pune\",\"Pune\",\"Pune\",\"Pune\",\"Pune\",\"Pune\",\"Pune\",\"Pune\",\"Pune\"],\"lat\":[18.5204,18.5204,18.5204,18.5204,18.5204,18.5204,18.5204,18.5204,18.5204,18.5204,18.5204,18.5204,18.5204,18.5204,18.5204,18.5204,18.5204,18.5204,18.5204,18.5204,18.5204,18.5204,18.5204,18.5204,18.5204,18.5204,18.5204,18.5204,18.5204,18.5204,18.5204,18.5204,18.5204,18.5204,18.5204,18.5204,18.5204,18.5204,18.5204,18.5204,18.5204,18.5204,18.5204,18.5204,18.5204,18.5204,18.5204,18.5204,18.5204,18.5204,18.5204,18.5204,18.5204,18.5204,18.5204,18.5204,18.5204,18.5204,18.5204,18.5204,18.5204,18.5204,18.5204,18.5204,18.5204,18.5204,18.5204,18.5204,18.5204,18.5204,18.5204,18.5204,18.5204,18.5204,18.5204,18.5204,18.5204,18.5204,18.5204,18.5204,18.5204,18.5204,18.5204,18.5204,18.5204,18.5204,18.5204,18.5204,18.5204,18.5204,18.5204,18.5204,18.5204,18.5204,18.5204,18.5204,18.5204,18.5204,18.5204,18.5204,18.5204,18.5204,18.5204,18.5204,18.5204,18.5204,18.5204,18.5204,18.5204,18.5204,18.5204,18.5204,18.5204,18.5204,18.5204,18.5204,18.5204,18.5204,18.5204,18.5204,18.5204,18.5204,18.5204,18.5204,18.5204,18.5204,18.5204,18.5204,18.5204,18.5204,18.5204,18.5204,18.5204,18.5204,18.5204,18.5204,18.5204,18.5204,18.5204,18.5204,18.5204,18.5204,18.5204,18.5204,18.5204,18.5204,18.5204,18.5204,18.5204,18.5204,18.5204,18.5204,18.5204,18.5204,18.5204,18.5204,18.5204,18.5204,18.5204,18.5204,18.5204,18.5204,18.5204,18.5204,18.5204,18.5204,18.5204,18.5204,18.5204,18.5204,18.5204,18.5204,18.5204,18.5204,18.5204,18.5204,18.5204,18.5204,18.5204,18.5204,18.5204,18.5204,18.5204,18.5204,18.5204,18.5204,18.5204,18.5204,18.5204,18.5204,18.5204,18.5204,18.5204,18.5204,18.5204,18.5204,18.5204,18.5204,18.5204,18.5204,18.5204,18.5204,18.5204],\"legendgroup\":\"Pune\",\"lon\":[73.8567,73.8567,73.8567,73.8567,73.8567,73.8567,73.8567,73.8567,73.8567,73.8567,73.8567,73.8567,73.8567,73.8567,73.8567,73.8567,73.8567,73.8567,73.8567,73.8567,73.8567,73.8567,73.8567,73.8567,73.8567,73.8567,73.8567,73.8567,73.8567,73.8567,73.8567,73.8567,73.8567,73.8567,73.8567,73.8567,73.8567,73.8567,73.8567,73.8567,73.8567,73.8567,73.8567,73.8567,73.8567,73.8567,73.8567,73.8567,73.8567,73.8567,73.8567,73.8567,73.8567,73.8567,73.8567,73.8567,73.8567,73.8567,73.8567,73.8567,73.8567,73.8567,73.8567,73.8567,73.8567,73.8567,73.8567,73.8567,73.8567,73.8567,73.8567,73.8567,73.8567,73.8567,73.8567,73.8567,73.8567,73.8567,73.8567,73.8567,73.8567,73.8567,73.8567,73.8567,73.8567,73.8567,73.8567,73.8567,73.8567,73.8567,73.8567,73.8567,73.8567,73.8567,73.8567,73.8567,73.8567,73.8567,73.8567,73.8567,73.8567,73.8567,73.8567,73.8567,73.8567,73.8567,73.8567,73.8567,73.8567,73.8567,73.8567,73.8567,73.8567,73.8567,73.8567,73.8567,73.8567,73.8567,73.8567,73.8567,73.8567,73.8567,73.8567,73.8567,73.8567,73.8567,73.8567,73.8567,73.8567,73.8567,73.8567,73.8567,73.8567,73.8567,73.8567,73.8567,73.8567,73.8567,73.8567,73.8567,73.8567,73.8567,73.8567,73.8567,73.8567,73.8567,73.8567,73.8567,73.8567,73.8567,73.8567,73.8567,73.8567,73.8567,73.8567,73.8567,73.8567,73.8567,73.8567,73.8567,73.8567,73.8567,73.8567,73.8567,73.8567,73.8567,73.8567,73.8567,73.8567,73.8567,73.8567,73.8567,73.8567,73.8567,73.8567,73.8567,73.8567,73.8567,73.8567,73.8567,73.8567,73.8567,73.8567,73.8567,73.8567,73.8567,73.8567,73.8567,73.8567,73.8567,73.8567,73.8567,73.8567,73.8567,73.8567,73.8567,73.8567,73.8567,73.8567,73.8567,73.8567,73.8567,73.8567],\"marker\":{\"color\":\"#ab63fa\",\"size\":[24,384,45,197,410,18,468,180,485,39,239,150,121,92,455,128,267,97,346,262,27,230,453,338,422,438,26,94,27,163,298,159,29,213,220,120,433,396,394,248,493,326,357,441,327,249,287,216,116,448,440,384,452,126,332,87,14,319,126,204,479,17,216,309,379,29,35,463,241,464,129,51,412,114,53,174,153,220,423,342,174,24,422,448,90,238,83,412,334,196,120,300,169,372,427,172,161,375,301,283,426,360,269,368,87,216,397,308,55,199,55,144,349,10,251,452,458,233,423,91,290,17,260,226,262,376,170,103,67,410,131,25,113,147,54,318,68,372,468,28,253,26,435,100,118,170,69,345,297,117,111,88,272,83,177,84,211,389,72,107,393,317,439,297,355,292,409,432,116,139,484,350,480,35,497,138,88,251,60,130,473,88,478,226,408,273,122,276,359,378,246,311,235,314,144,119,471,477,385,346,128,306,365],\"sizemode\":\"area\",\"sizeref\":0.2},\"mode\":\"markers\",\"name\":\"Pune\",\"showlegend\":true,\"subplot\":\"mapbox\",\"type\":\"scattermapbox\"},{\"customdata\":[[\"Software Engineer\",129],[\"Software Engineer\",128],[\"Software Engineer\",215],[\"Software Engineer\",290],[\"Software Engineer\",481],[\"Software Engineer\",198],[\"Software Engineer\",400],[\"Software Engineer\",486],[\"Software Engineer\",371],[\"Software Engineer\",220],[\"Software Engineer\",261],[\"Software Engineer\",171],[\"Software Engineer\",292],[\"Software Engineer\",306],[\"Software Engineer\",128],[\"Software Engineer\",446],[\"Software Engineer\",161],[\"Software Engineer\",185],[\"Software Engineer\",26],[\"Software Engineer\",99],[\"Software Engineer\",81],[\"Software Engineer\",438],[\"Software Engineer\",392],[\"Software Engineer\",185],[\"Software Engineer\",197],[\"Software Engineer\",266],[\"Software Engineer\",209],[\"Software Engineer\",225],[\"Software Engineer\",321],[\"Software Engineer\",432],[\"Software Engineer\",105],[\"Software Engineer\",140],[\"Software Engineer\",456],[\"Software Engineer\",300],[\"Software Engineer\",220],[\"Software Engineer\",17],[\"Software Engineer\",110],[\"Software Engineer\",256],[\"Software Engineer\",452],[\"Software Engineer\",214],[\"Software Engineer\",35],[\"Software Engineer\",381],[\"Software Engineer\",238],[\"Software Engineer\",142],[\"Software Engineer\",401],[\"Software Engineer\",283],[\"Software Engineer\",299],[\"Software Engineer\",373],[\"Software Engineer\",353],[\"Software Engineer\",259],[\"Software Engineer\",308],[\"Software Engineer\",29],[\"Software Engineer\",99],[\"Software Engineer\",456],[\"Software Engineer\",494],[\"Software Engineer\",118],[\"Software Engineer\",78],[\"Software Engineer\",164],[\"Software Engineer\",18],[\"Software Engineer\",154],[\"Software Engineer\",211],[\"Software Engineer\",210],[\"Software Engineer\",316],[\"Software Engineer\",342],[\"Software Engineer\",189],[\"Software Engineer\",246],[\"Software Engineer\",458],[\"Software Engineer\",380],[\"Software Engineer\",221],[\"Software Engineer\",47],[\"Software Engineer\",200],[\"Software Engineer\",208],[\"Software Engineer\",39],[\"Software Engineer\",443],[\"Software Engineer\",296],[\"Software Engineer\",167],[\"Software Engineer\",180],[\"Software Engineer\",457],[\"Software Engineer\",251],[\"Software Engineer\",164],[\"Software Engineer\",325],[\"Software Engineer\",360],[\"Software Engineer\",207],[\"Software Engineer\",87],[\"Software Engineer\",136],[\"Software Engineer\",399],[\"Software Engineer\",189],[\"Software Engineer\",171],[\"Software Engineer\",388],[\"Software Engineer\",221],[\"Software Engineer\",41],[\"Software Engineer\",332],[\"Software Engineer\",104],[\"Software Engineer\",221],[\"Software Engineer\",217],[\"Software Engineer\",90],[\"Software Engineer\",460],[\"Software Engineer\",52],[\"Software Engineer\",38],[\"Software Engineer\",409],[\"Software Engineer\",461],[\"Software Engineer\",182],[\"Software Engineer\",314],[\"Software Engineer\",404],[\"Software Engineer\",80],[\"Software Engineer\",17],[\"Software Engineer\",157],[\"Software Engineer\",325],[\"Software Engineer\",468],[\"Software Engineer\",207],[\"Software Engineer\",280],[\"Software Engineer\",398],[\"Software Engineer\",349],[\"Software Engineer\",37],[\"Software Engineer\",407],[\"Software Engineer\",409],[\"Software Engineer\",286],[\"Software Engineer\",180],[\"Software Engineer\",104],[\"Software Engineer\",331],[\"Software Engineer\",488],[\"Software Engineer\",433],[\"Software Engineer\",12],[\"Software Engineer\",280],[\"Software Engineer\",86],[\"Software Engineer\",41],[\"Software Engineer\",44],[\"Software Engineer\",74],[\"Software Engineer\",89],[\"Software Engineer\",339],[\"Software Engineer\",164],[\"Software Engineer\",180],[\"Software Engineer\",179],[\"Software Engineer\",363],[\"Software Engineer\",361],[\"Software Engineer\",399],[\"Software Engineer\",213],[\"Software Engineer\",339],[\"Software Engineer\",332],[\"Software Engineer\",347],[\"Software Engineer\",367],[\"Software Engineer\",60],[\"Software Engineer\",412],[\"Software Engineer\",205],[\"Software Engineer\",141],[\"Software Engineer\",123],[\"Software Engineer\",244],[\"Software Engineer\",246],[\"Software Engineer\",20],[\"Software Engineer\",366],[\"Software Engineer\",24],[\"Software Engineer\",266],[\"Software Engineer\",169],[\"Software Engineer\",272],[\"Software Engineer\",313],[\"Software Engineer\",482],[\"Software Engineer\",413],[\"Software Engineer\",245],[\"Software Engineer\",64],[\"Software Engineer\",99],[\"Software Engineer\",451],[\"Software Engineer\",273],[\"Software Engineer\",378],[\"Software Engineer\",327],[\"Software Engineer\",179],[\"Software Engineer\",365],[\"Software Engineer\",258],[\"Software Engineer\",50],[\"Software Engineer\",417],[\"Software Engineer\",271],[\"Software Engineer\",335],[\"Software Engineer\",398]],\"hovertemplate\":\"<b>%{hovertext}</b><br><br>Job Location=Mumbai<br>Number of Applicants=%{customdata[1]}<br>Latitude=%{lat}<br>Longitude=%{lon}<br>Job Title=%{customdata[0]}<extra></extra>\",\"hovertext\":[\"Mumbai\",\"Mumbai\",\"Mumbai\",\"Mumbai\",\"Mumbai\",\"Mumbai\",\"Mumbai\",\"Mumbai\",\"Mumbai\",\"Mumbai\",\"Mumbai\",\"Mumbai\",\"Mumbai\",\"Mumbai\",\"Mumbai\",\"Mumbai\",\"Mumbai\",\"Mumbai\",\"Mumbai\",\"Mumbai\",\"Mumbai\",\"Mumbai\",\"Mumbai\",\"Mumbai\",\"Mumbai\",\"Mumbai\",\"Mumbai\",\"Mumbai\",\"Mumbai\",\"Mumbai\",\"Mumbai\",\"Mumbai\",\"Mumbai\",\"Mumbai\",\"Mumbai\",\"Mumbai\",\"Mumbai\",\"Mumbai\",\"Mumbai\",\"Mumbai\",\"Mumbai\",\"Mumbai\",\"Mumbai\",\"Mumbai\",\"Mumbai\",\"Mumbai\",\"Mumbai\",\"Mumbai\",\"Mumbai\",\"Mumbai\",\"Mumbai\",\"Mumbai\",\"Mumbai\",\"Mumbai\",\"Mumbai\",\"Mumbai\",\"Mumbai\",\"Mumbai\",\"Mumbai\",\"Mumbai\",\"Mumbai\",\"Mumbai\",\"Mumbai\",\"Mumbai\",\"Mumbai\",\"Mumbai\",\"Mumbai\",\"Mumbai\",\"Mumbai\",\"Mumbai\",\"Mumbai\",\"Mumbai\",\"Mumbai\",\"Mumbai\",\"Mumbai\",\"Mumbai\",\"Mumbai\",\"Mumbai\",\"Mumbai\",\"Mumbai\",\"Mumbai\",\"Mumbai\",\"Mumbai\",\"Mumbai\",\"Mumbai\",\"Mumbai\",\"Mumbai\",\"Mumbai\",\"Mumbai\",\"Mumbai\",\"Mumbai\",\"Mumbai\",\"Mumbai\",\"Mumbai\",\"Mumbai\",\"Mumbai\",\"Mumbai\",\"Mumbai\",\"Mumbai\",\"Mumbai\",\"Mumbai\",\"Mumbai\",\"Mumbai\",\"Mumbai\",\"Mumbai\",\"Mumbai\",\"Mumbai\",\"Mumbai\",\"Mumbai\",\"Mumbai\",\"Mumbai\",\"Mumbai\",\"Mumbai\",\"Mumbai\",\"Mumbai\",\"Mumbai\",\"Mumbai\",\"Mumbai\",\"Mumbai\",\"Mumbai\",\"Mumbai\",\"Mumbai\",\"Mumbai\",\"Mumbai\",\"Mumbai\",\"Mumbai\",\"Mumbai\",\"Mumbai\",\"Mumbai\",\"Mumbai\",\"Mumbai\",\"Mumbai\",\"Mumbai\",\"Mumbai\",\"Mumbai\",\"Mumbai\",\"Mumbai\",\"Mumbai\",\"Mumbai\",\"Mumbai\",\"Mumbai\",\"Mumbai\",\"Mumbai\",\"Mumbai\",\"Mumbai\",\"Mumbai\",\"Mumbai\",\"Mumbai\",\"Mumbai\",\"Mumbai\",\"Mumbai\",\"Mumbai\",\"Mumbai\",\"Mumbai\",\"Mumbai\",\"Mumbai\",\"Mumbai\",\"Mumbai\",\"Mumbai\",\"Mumbai\",\"Mumbai\",\"Mumbai\",\"Mumbai\",\"Mumbai\",\"Mumbai\",\"Mumbai\",\"Mumbai\",\"Mumbai\",\"Mumbai\",\"Mumbai\",\"Mumbai\",\"Mumbai\"],\"lat\":[19.076,19.076,19.076,19.076,19.076,19.076,19.076,19.076,19.076,19.076,19.076,19.076,19.076,19.076,19.076,19.076,19.076,19.076,19.076,19.076,19.076,19.076,19.076,19.076,19.076,19.076,19.076,19.076,19.076,19.076,19.076,19.076,19.076,19.076,19.076,19.076,19.076,19.076,19.076,19.076,19.076,19.076,19.076,19.076,19.076,19.076,19.076,19.076,19.076,19.076,19.076,19.076,19.076,19.076,19.076,19.076,19.076,19.076,19.076,19.076,19.076,19.076,19.076,19.076,19.076,19.076,19.076,19.076,19.076,19.076,19.076,19.076,19.076,19.076,19.076,19.076,19.076,19.076,19.076,19.076,19.076,19.076,19.076,19.076,19.076,19.076,19.076,19.076,19.076,19.076,19.076,19.076,19.076,19.076,19.076,19.076,19.076,19.076,19.076,19.076,19.076,19.076,19.076,19.076,19.076,19.076,19.076,19.076,19.076,19.076,19.076,19.076,19.076,19.076,19.076,19.076,19.076,19.076,19.076,19.076,19.076,19.076,19.076,19.076,19.076,19.076,19.076,19.076,19.076,19.076,19.076,19.076,19.076,19.076,19.076,19.076,19.076,19.076,19.076,19.076,19.076,19.076,19.076,19.076,19.076,19.076,19.076,19.076,19.076,19.076,19.076,19.076,19.076,19.076,19.076,19.076,19.076,19.076,19.076,19.076,19.076,19.076,19.076,19.076,19.076,19.076,19.076,19.076,19.076,19.076,19.076,19.076],\"legendgroup\":\"Mumbai\",\"lon\":[72.8777,72.8777,72.8777,72.8777,72.8777,72.8777,72.8777,72.8777,72.8777,72.8777,72.8777,72.8777,72.8777,72.8777,72.8777,72.8777,72.8777,72.8777,72.8777,72.8777,72.8777,72.8777,72.8777,72.8777,72.8777,72.8777,72.8777,72.8777,72.8777,72.8777,72.8777,72.8777,72.8777,72.8777,72.8777,72.8777,72.8777,72.8777,72.8777,72.8777,72.8777,72.8777,72.8777,72.8777,72.8777,72.8777,72.8777,72.8777,72.8777,72.8777,72.8777,72.8777,72.8777,72.8777,72.8777,72.8777,72.8777,72.8777,72.8777,72.8777,72.8777,72.8777,72.8777,72.8777,72.8777,72.8777,72.8777,72.8777,72.8777,72.8777,72.8777,72.8777,72.8777,72.8777,72.8777,72.8777,72.8777,72.8777,72.8777,72.8777,72.8777,72.8777,72.8777,72.8777,72.8777,72.8777,72.8777,72.8777,72.8777,72.8777,72.8777,72.8777,72.8777,72.8777,72.8777,72.8777,72.8777,72.8777,72.8777,72.8777,72.8777,72.8777,72.8777,72.8777,72.8777,72.8777,72.8777,72.8777,72.8777,72.8777,72.8777,72.8777,72.8777,72.8777,72.8777,72.8777,72.8777,72.8777,72.8777,72.8777,72.8777,72.8777,72.8777,72.8777,72.8777,72.8777,72.8777,72.8777,72.8777,72.8777,72.8777,72.8777,72.8777,72.8777,72.8777,72.8777,72.8777,72.8777,72.8777,72.8777,72.8777,72.8777,72.8777,72.8777,72.8777,72.8777,72.8777,72.8777,72.8777,72.8777,72.8777,72.8777,72.8777,72.8777,72.8777,72.8777,72.8777,72.8777,72.8777,72.8777,72.8777,72.8777,72.8777,72.8777,72.8777,72.8777,72.8777,72.8777,72.8777,72.8777,72.8777,72.8777],\"marker\":{\"color\":\"#FFA15A\",\"size\":[129,128,215,290,481,198,400,486,371,220,261,171,292,306,128,446,161,185,26,99,81,438,392,185,197,266,209,225,321,432,105,140,456,300,220,17,110,256,452,214,35,381,238,142,401,283,299,373,353,259,308,29,99,456,494,118,78,164,18,154,211,210,316,342,189,246,458,380,221,47,200,208,39,443,296,167,180,457,251,164,325,360,207,87,136,399,189,171,388,221,41,332,104,221,217,90,460,52,38,409,461,182,314,404,80,17,157,325,468,207,280,398,349,37,407,409,286,180,104,331,488,433,12,280,86,41,44,74,89,339,164,180,179,363,361,399,213,339,332,347,367,60,412,205,141,123,244,246,20,366,24,266,169,272,313,482,413,245,64,99,451,273,378,327,179,365,258,50,417,271,335,398],\"sizemode\":\"area\",\"sizeref\":0.2},\"mode\":\"markers\",\"name\":\"Mumbai\",\"showlegend\":true,\"subplot\":\"mapbox\",\"type\":\"scattermapbox\"},{\"customdata\":[[\"Software Engineer\",319],[\"Software Engineer\",496],[\"Software Engineer\",218],[\"Software Engineer\",425],[\"Software Engineer\",24],[\"Software Engineer\",65],[\"Software Engineer\",413],[\"Software Engineer\",286],[\"Software Engineer\",324],[\"Software Engineer\",100],[\"Software Engineer\",42],[\"Software Engineer\",467],[\"Software Engineer\",14],[\"Software Engineer\",74],[\"Software Engineer\",284],[\"Software Engineer\",83],[\"Software Engineer\",283],[\"Software Engineer\",473],[\"Software Engineer\",390],[\"Software Engineer\",307],[\"Software Engineer\",488],[\"Software Engineer\",84],[\"Software Engineer\",339],[\"Software Engineer\",362],[\"Software Engineer\",130],[\"Software Engineer\",88],[\"Software Engineer\",308],[\"Software Engineer\",288],[\"Software Engineer\",141],[\"Software Engineer\",92],[\"Software Engineer\",259],[\"Software Engineer\",240],[\"Software Engineer\",256],[\"Software Engineer\",493],[\"Software Engineer\",96],[\"Software Engineer\",471],[\"Software Engineer\",218],[\"Software Engineer\",410],[\"Software Engineer\",353],[\"Software Engineer\",416],[\"Software Engineer\",208],[\"Software Engineer\",299],[\"Software Engineer\",320],[\"Software Engineer\",291],[\"Software Engineer\",384],[\"Software Engineer\",18],[\"Software Engineer\",27],[\"Software Engineer\",213],[\"Software Engineer\",222],[\"Software Engineer\",159],[\"Software Engineer\",101],[\"Software Engineer\",108],[\"Software Engineer\",386],[\"Software Engineer\",389],[\"Software Engineer\",16],[\"Software Engineer\",82],[\"Software Engineer\",383],[\"Software Engineer\",103],[\"Software Engineer\",245],[\"Software Engineer\",428],[\"Software Engineer\",251],[\"Software Engineer\",442],[\"Software Engineer\",193],[\"Software Engineer\",386],[\"Software Engineer\",45],[\"Software Engineer\",401],[\"Software Engineer\",268],[\"Software Engineer\",272],[\"Software Engineer\",244],[\"Software Engineer\",492],[\"Software Engineer\",466],[\"Software Engineer\",186],[\"Software Engineer\",465],[\"Software Engineer\",334],[\"Software Engineer\",186],[\"Software Engineer\",390],[\"Software Engineer\",236],[\"Software Engineer\",141],[\"Software Engineer\",251],[\"Software Engineer\",27],[\"Software Engineer\",346],[\"Software Engineer\",176],[\"Software Engineer\",299],[\"Software Engineer\",312],[\"Software Engineer\",99],[\"Software Engineer\",267],[\"Software Engineer\",372],[\"Software Engineer\",282],[\"Software Engineer\",48],[\"Software Engineer\",36],[\"Software Engineer\",63],[\"Software Engineer\",41],[\"Software Engineer\",97],[\"Software Engineer\",147],[\"Software Engineer\",215],[\"Software Engineer\",261],[\"Software Engineer\",416],[\"Software Engineer\",486],[\"Software Engineer\",113],[\"Software Engineer\",65],[\"Software Engineer\",40],[\"Software Engineer\",268],[\"Software Engineer\",184],[\"Software Engineer\",357],[\"Software Engineer\",198],[\"Software Engineer\",30],[\"Software Engineer\",445],[\"Software Engineer\",135],[\"Software Engineer\",315],[\"Software Engineer\",85],[\"Software Engineer\",201],[\"Software Engineer\",38],[\"Software Engineer\",369],[\"Software Engineer\",244],[\"Software Engineer\",331],[\"Software Engineer\",441],[\"Software Engineer\",367],[\"Software Engineer\",32],[\"Software Engineer\",329],[\"Software Engineer\",206],[\"Software Engineer\",160],[\"Software Engineer\",56],[\"Software Engineer\",168],[\"Software Engineer\",18],[\"Software Engineer\",127],[\"Software Engineer\",477],[\"Software Engineer\",193],[\"Software Engineer\",307],[\"Software Engineer\",443],[\"Software Engineer\",481],[\"Software Engineer\",354],[\"Software Engineer\",108],[\"Software Engineer\",276],[\"Software Engineer\",209],[\"Software Engineer\",213],[\"Software Engineer\",474],[\"Software Engineer\",500],[\"Software Engineer\",25],[\"Software Engineer\",58],[\"Software Engineer\",89],[\"Software Engineer\",163],[\"Software Engineer\",371],[\"Software Engineer\",159],[\"Software Engineer\",52],[\"Software Engineer\",336],[\"Software Engineer\",286],[\"Software Engineer\",440],[\"Software Engineer\",410],[\"Software Engineer\",419],[\"Software Engineer\",39],[\"Software Engineer\",421],[\"Software Engineer\",476],[\"Software Engineer\",48],[\"Software Engineer\",414],[\"Software Engineer\",194],[\"Software Engineer\",71],[\"Software Engineer\",495],[\"Software Engineer\",48],[\"Software Engineer\",115],[\"Software Engineer\",465],[\"Software Engineer\",97],[\"Software Engineer\",298],[\"Software Engineer\",213],[\"Software Engineer\",101],[\"Software Engineer\",297],[\"Software Engineer\",104],[\"Software Engineer\",340],[\"Software Engineer\",44],[\"Software Engineer\",499],[\"Software Engineer\",273],[\"Software Engineer\",184],[\"Software Engineer\",273],[\"Software Engineer\",10],[\"Software Engineer\",227],[\"Software Engineer\",247],[\"Software Engineer\",19],[\"Software Engineer\",425],[\"Software Engineer\",299],[\"Software Engineer\",174],[\"Software Engineer\",493],[\"Software Engineer\",298],[\"Software Engineer\",22],[\"Software Engineer\",295],[\"Software Engineer\",43],[\"Software Engineer\",279],[\"Software Engineer\",246],[\"Software Engineer\",343],[\"Software Engineer\",244],[\"Software Engineer\",247],[\"Software Engineer\",154],[\"Software Engineer\",278],[\"Software Engineer\",310],[\"Software Engineer\",500],[\"Software Engineer\",418],[\"Software Engineer\",484],[\"Software Engineer\",240],[\"Software Engineer\",296],[\"Software Engineer\",173],[\"Software Engineer\",319],[\"Software Engineer\",312],[\"Software Engineer\",45],[\"Software Engineer\",162]],\"hovertemplate\":\"<b>%{hovertext}</b><br><br>Job Location=Hyderabad<br>Number of Applicants=%{customdata[1]}<br>Latitude=%{lat}<br>Longitude=%{lon}<br>Job Title=%{customdata[0]}<extra></extra>\",\"hovertext\":[\"Hyderabad\",\"Hyderabad\",\"Hyderabad\",\"Hyderabad\",\"Hyderabad\",\"Hyderabad\",\"Hyderabad\",\"Hyderabad\",\"Hyderabad\",\"Hyderabad\",\"Hyderabad\",\"Hyderabad\",\"Hyderabad\",\"Hyderabad\",\"Hyderabad\",\"Hyderabad\",\"Hyderabad\",\"Hyderabad\",\"Hyderabad\",\"Hyderabad\",\"Hyderabad\",\"Hyderabad\",\"Hyderabad\",\"Hyderabad\",\"Hyderabad\",\"Hyderabad\",\"Hyderabad\",\"Hyderabad\",\"Hyderabad\",\"Hyderabad\",\"Hyderabad\",\"Hyderabad\",\"Hyderabad\",\"Hyderabad\",\"Hyderabad\",\"Hyderabad\",\"Hyderabad\",\"Hyderabad\",\"Hyderabad\",\"Hyderabad\",\"Hyderabad\",\"Hyderabad\",\"Hyderabad\",\"Hyderabad\",\"Hyderabad\",\"Hyderabad\",\"Hyderabad\",\"Hyderabad\",\"Hyderabad\",\"Hyderabad\",\"Hyderabad\",\"Hyderabad\",\"Hyderabad\",\"Hyderabad\",\"Hyderabad\",\"Hyderabad\",\"Hyderabad\",\"Hyderabad\",\"Hyderabad\",\"Hyderabad\",\"Hyderabad\",\"Hyderabad\",\"Hyderabad\",\"Hyderabad\",\"Hyderabad\",\"Hyderabad\",\"Hyderabad\",\"Hyderabad\",\"Hyderabad\",\"Hyderabad\",\"Hyderabad\",\"Hyderabad\",\"Hyderabad\",\"Hyderabad\",\"Hyderabad\",\"Hyderabad\",\"Hyderabad\",\"Hyderabad\",\"Hyderabad\",\"Hyderabad\",\"Hyderabad\",\"Hyderabad\",\"Hyderabad\",\"Hyderabad\",\"Hyderabad\",\"Hyderabad\",\"Hyderabad\",\"Hyderabad\",\"Hyderabad\",\"Hyderabad\",\"Hyderabad\",\"Hyderabad\",\"Hyderabad\",\"Hyderabad\",\"Hyderabad\",\"Hyderabad\",\"Hyderabad\",\"Hyderabad\",\"Hyderabad\",\"Hyderabad\",\"Hyderabad\",\"Hyderabad\",\"Hyderabad\",\"Hyderabad\",\"Hyderabad\",\"Hyderabad\",\"Hyderabad\",\"Hyderabad\",\"Hyderabad\",\"Hyderabad\",\"Hyderabad\",\"Hyderabad\",\"Hyderabad\",\"Hyderabad\",\"Hyderabad\",\"Hyderabad\",\"Hyderabad\",\"Hyderabad\",\"Hyderabad\",\"Hyderabad\",\"Hyderabad\",\"Hyderabad\",\"Hyderabad\",\"Hyderabad\",\"Hyderabad\",\"Hyderabad\",\"Hyderabad\",\"Hyderabad\",\"Hyderabad\",\"Hyderabad\",\"Hyderabad\",\"Hyderabad\",\"Hyderabad\",\"Hyderabad\",\"Hyderabad\",\"Hyderabad\",\"Hyderabad\",\"Hyderabad\",\"Hyderabad\",\"Hyderabad\",\"Hyderabad\",\"Hyderabad\",\"Hyderabad\",\"Hyderabad\",\"Hyderabad\",\"Hyderabad\",\"Hyderabad\",\"Hyderabad\",\"Hyderabad\",\"Hyderabad\",\"Hyderabad\",\"Hyderabad\",\"Hyderabad\",\"Hyderabad\",\"Hyderabad\",\"Hyderabad\",\"Hyderabad\",\"Hyderabad\",\"Hyderabad\",\"Hyderabad\",\"Hyderabad\",\"Hyderabad\",\"Hyderabad\",\"Hyderabad\",\"Hyderabad\",\"Hyderabad\",\"Hyderabad\",\"Hyderabad\",\"Hyderabad\",\"Hyderabad\",\"Hyderabad\",\"Hyderabad\",\"Hyderabad\",\"Hyderabad\",\"Hyderabad\",\"Hyderabad\",\"Hyderabad\",\"Hyderabad\",\"Hyderabad\",\"Hyderabad\",\"Hyderabad\",\"Hyderabad\",\"Hyderabad\",\"Hyderabad\",\"Hyderabad\",\"Hyderabad\",\"Hyderabad\",\"Hyderabad\",\"Hyderabad\",\"Hyderabad\",\"Hyderabad\",\"Hyderabad\",\"Hyderabad\",\"Hyderabad\",\"Hyderabad\",\"Hyderabad\",\"Hyderabad\",\"Hyderabad\",\"Hyderabad\",\"Hyderabad\",\"Hyderabad\",\"Hyderabad\"],\"lat\":[17.385,17.385,17.385,17.385,17.385,17.385,17.385,17.385,17.385,17.385,17.385,17.385,17.385,17.385,17.385,17.385,17.385,17.385,17.385,17.385,17.385,17.385,17.385,17.385,17.385,17.385,17.385,17.385,17.385,17.385,17.385,17.385,17.385,17.385,17.385,17.385,17.385,17.385,17.385,17.385,17.385,17.385,17.385,17.385,17.385,17.385,17.385,17.385,17.385,17.385,17.385,17.385,17.385,17.385,17.385,17.385,17.385,17.385,17.385,17.385,17.385,17.385,17.385,17.385,17.385,17.385,17.385,17.385,17.385,17.385,17.385,17.385,17.385,17.385,17.385,17.385,17.385,17.385,17.385,17.385,17.385,17.385,17.385,17.385,17.385,17.385,17.385,17.385,17.385,17.385,17.385,17.385,17.385,17.385,17.385,17.385,17.385,17.385,17.385,17.385,17.385,17.385,17.385,17.385,17.385,17.385,17.385,17.385,17.385,17.385,17.385,17.385,17.385,17.385,17.385,17.385,17.385,17.385,17.385,17.385,17.385,17.385,17.385,17.385,17.385,17.385,17.385,17.385,17.385,17.385,17.385,17.385,17.385,17.385,17.385,17.385,17.385,17.385,17.385,17.385,17.385,17.385,17.385,17.385,17.385,17.385,17.385,17.385,17.385,17.385,17.385,17.385,17.385,17.385,17.385,17.385,17.385,17.385,17.385,17.385,17.385,17.385,17.385,17.385,17.385,17.385,17.385,17.385,17.385,17.385,17.385,17.385,17.385,17.385,17.385,17.385,17.385,17.385,17.385,17.385,17.385,17.385,17.385,17.385,17.385,17.385,17.385,17.385,17.385,17.385,17.385,17.385,17.385,17.385,17.385,17.385,17.385,17.385,17.385,17.385,17.385,17.385],\"legendgroup\":\"Hyderabad\",\"lon\":[78.4867,78.4867,78.4867,78.4867,78.4867,78.4867,78.4867,78.4867,78.4867,78.4867,78.4867,78.4867,78.4867,78.4867,78.4867,78.4867,78.4867,78.4867,78.4867,78.4867,78.4867,78.4867,78.4867,78.4867,78.4867,78.4867,78.4867,78.4867,78.4867,78.4867,78.4867,78.4867,78.4867,78.4867,78.4867,78.4867,78.4867,78.4867,78.4867,78.4867,78.4867,78.4867,78.4867,78.4867,78.4867,78.4867,78.4867,78.4867,78.4867,78.4867,78.4867,78.4867,78.4867,78.4867,78.4867,78.4867,78.4867,78.4867,78.4867,78.4867,78.4867,78.4867,78.4867,78.4867,78.4867,78.4867,78.4867,78.4867,78.4867,78.4867,78.4867,78.4867,78.4867,78.4867,78.4867,78.4867,78.4867,78.4867,78.4867,78.4867,78.4867,78.4867,78.4867,78.4867,78.4867,78.4867,78.4867,78.4867,78.4867,78.4867,78.4867,78.4867,78.4867,78.4867,78.4867,78.4867,78.4867,78.4867,78.4867,78.4867,78.4867,78.4867,78.4867,78.4867,78.4867,78.4867,78.4867,78.4867,78.4867,78.4867,78.4867,78.4867,78.4867,78.4867,78.4867,78.4867,78.4867,78.4867,78.4867,78.4867,78.4867,78.4867,78.4867,78.4867,78.4867,78.4867,78.4867,78.4867,78.4867,78.4867,78.4867,78.4867,78.4867,78.4867,78.4867,78.4867,78.4867,78.4867,78.4867,78.4867,78.4867,78.4867,78.4867,78.4867,78.4867,78.4867,78.4867,78.4867,78.4867,78.4867,78.4867,78.4867,78.4867,78.4867,78.4867,78.4867,78.4867,78.4867,78.4867,78.4867,78.4867,78.4867,78.4867,78.4867,78.4867,78.4867,78.4867,78.4867,78.4867,78.4867,78.4867,78.4867,78.4867,78.4867,78.4867,78.4867,78.4867,78.4867,78.4867,78.4867,78.4867,78.4867,78.4867,78.4867,78.4867,78.4867,78.4867,78.4867,78.4867,78.4867,78.4867,78.4867,78.4867,78.4867,78.4867,78.4867,78.4867,78.4867,78.4867,78.4867,78.4867,78.4867],\"marker\":{\"color\":\"#19d3f3\",\"size\":[319,496,218,425,24,65,413,286,324,100,42,467,14,74,284,83,283,473,390,307,488,84,339,362,130,88,308,288,141,92,259,240,256,493,96,471,218,410,353,416,208,299,320,291,384,18,27,213,222,159,101,108,386,389,16,82,383,103,245,428,251,442,193,386,45,401,268,272,244,492,466,186,465,334,186,390,236,141,251,27,346,176,299,312,99,267,372,282,48,36,63,41,97,147,215,261,416,486,113,65,40,268,184,357,198,30,445,135,315,85,201,38,369,244,331,441,367,32,329,206,160,56,168,18,127,477,193,307,443,481,354,108,276,209,213,474,500,25,58,89,163,371,159,52,336,286,440,410,419,39,421,476,48,414,194,71,495,48,115,465,97,298,213,101,297,104,340,44,499,273,184,273,10,227,247,19,425,299,174,493,298,22,295,43,279,246,343,244,247,154,278,310,500,418,484,240,296,173,319,312,45,162],\"sizemode\":\"area\",\"sizeref\":0.2},\"mode\":\"markers\",\"name\":\"Hyderabad\",\"showlegend\":true,\"subplot\":\"mapbox\",\"type\":\"scattermapbox\"},{\"customdata\":[[\"Software Engineer\",412],[\"Software Engineer\",371],[\"Software Engineer\",462],[\"Software Engineer\",361],[\"Software Engineer\",278],[\"Software Engineer\",233],[\"Software Engineer\",400],[\"Software Engineer\",329],[\"Software Engineer\",241],[\"Software Engineer\",68],[\"Software Engineer\",431],[\"Software Engineer\",212],[\"Software Engineer\",225],[\"Software Engineer\",192],[\"Software Engineer\",369],[\"Software Engineer\",131],[\"Software Engineer\",214],[\"Software Engineer\",362],[\"Software Engineer\",146],[\"Software Engineer\",119],[\"Software Engineer\",131],[\"Software Engineer\",35],[\"Software Engineer\",182],[\"Software Engineer\",255],[\"Software Engineer\",61],[\"Software Engineer\",441],[\"Software Engineer\",147],[\"Software Engineer\",463],[\"Software Engineer\",356],[\"Software Engineer\",264],[\"Software Engineer\",398],[\"Software Engineer\",243],[\"Software Engineer\",398],[\"Software Engineer\",312],[\"Software Engineer\",254],[\"Software Engineer\",328],[\"Software Engineer\",333],[\"Software Engineer\",180],[\"Software Engineer\",42],[\"Software Engineer\",90],[\"Software Engineer\",28],[\"Software Engineer\",297],[\"Software Engineer\",445],[\"Software Engineer\",432],[\"Software Engineer\",115],[\"Software Engineer\",90],[\"Software Engineer\",466],[\"Software Engineer\",28],[\"Software Engineer\",447],[\"Software Engineer\",374],[\"Software Engineer\",204],[\"Software Engineer\",297],[\"Software Engineer\",450],[\"Software Engineer\",141],[\"Software Engineer\",271],[\"Software Engineer\",410],[\"Software Engineer\",381],[\"Software Engineer\",30],[\"Software Engineer\",119],[\"Software Engineer\",236],[\"Software Engineer\",416],[\"Software Engineer\",259],[\"Software Engineer\",198],[\"Software Engineer\",12],[\"Software Engineer\",71],[\"Software Engineer\",186],[\"Software Engineer\",228],[\"Software Engineer\",166],[\"Software Engineer\",293],[\"Software Engineer\",488],[\"Software Engineer\",151],[\"Software Engineer\",80],[\"Software Engineer\",24],[\"Software Engineer\",208],[\"Software Engineer\",316],[\"Software Engineer\",30],[\"Software Engineer\",202],[\"Software Engineer\",174],[\"Software Engineer\",85],[\"Software Engineer\",269],[\"Software Engineer\",222],[\"Software Engineer\",275],[\"Software Engineer\",422],[\"Software Engineer\",179],[\"Software Engineer\",416],[\"Software Engineer\",457],[\"Software Engineer\",440],[\"Software Engineer\",467],[\"Software Engineer\",208],[\"Software Engineer\",149],[\"Software Engineer\",490],[\"Software Engineer\",90],[\"Software Engineer\",436],[\"Software Engineer\",66],[\"Software Engineer\",130],[\"Software Engineer\",254],[\"Software Engineer\",270],[\"Software Engineer\",124],[\"Software Engineer\",38],[\"Software Engineer\",22],[\"Software Engineer\",379],[\"Software Engineer\",286],[\"Software Engineer\",294],[\"Software Engineer\",325],[\"Software Engineer\",203],[\"Software Engineer\",92],[\"Software Engineer\",412],[\"Software Engineer\",313],[\"Software Engineer\",447],[\"Software Engineer\",239],[\"Software Engineer\",84],[\"Software Engineer\",58],[\"Software Engineer\",297],[\"Software Engineer\",232],[\"Software Engineer\",494],[\"Software Engineer\",291],[\"Software Engineer\",469],[\"Software Engineer\",206],[\"Software Engineer\",356],[\"Software Engineer\",258],[\"Software Engineer\",78],[\"Software Engineer\",42],[\"Software Engineer\",74],[\"Software Engineer\",408],[\"Software Engineer\",444],[\"Software Engineer\",250],[\"Software Engineer\",316],[\"Software Engineer\",33],[\"Software Engineer\",108],[\"Software Engineer\",24],[\"Software Engineer\",444],[\"Software Engineer\",460],[\"Software Engineer\",408],[\"Software Engineer\",425],[\"Software Engineer\",416],[\"Software Engineer\",111],[\"Software Engineer\",427],[\"Software Engineer\",146],[\"Software Engineer\",181],[\"Software Engineer\",133],[\"Software Engineer\",352],[\"Software Engineer\",392],[\"Software Engineer\",465],[\"Software Engineer\",444],[\"Software Engineer\",373],[\"Software Engineer\",96],[\"Software Engineer\",267],[\"Software Engineer\",205],[\"Software Engineer\",151],[\"Software Engineer\",84],[\"Software Engineer\",490],[\"Software Engineer\",301],[\"Software Engineer\",291],[\"Software Engineer\",110],[\"Software Engineer\",219],[\"Software Engineer\",70],[\"Software Engineer\",198],[\"Software Engineer\",172],[\"Software Engineer\",88],[\"Software Engineer\",407],[\"Software Engineer\",183],[\"Software Engineer\",174],[\"Software Engineer\",433],[\"Software Engineer\",270],[\"Software Engineer\",292],[\"Software Engineer\",84],[\"Software Engineer\",329],[\"Software Engineer\",430],[\"Software Engineer\",29],[\"Software Engineer\",71],[\"Software Engineer\",29],[\"Software Engineer\",177],[\"Software Engineer\",302],[\"Software Engineer\",15],[\"Software Engineer\",283],[\"Software Engineer\",457],[\"Software Engineer\",31],[\"Software Engineer\",186],[\"Software Engineer\",88],[\"Software Engineer\",86],[\"Software Engineer\",353],[\"Software Engineer\",377],[\"Software Engineer\",132],[\"Software Engineer\",334],[\"Software Engineer\",125],[\"Software Engineer\",453],[\"Software Engineer\",261],[\"Software Engineer\",495],[\"Software Engineer\",182],[\"Software Engineer\",102],[\"Software Engineer\",472],[\"Software Engineer\",352],[\"Software Engineer\",40],[\"Software Engineer\",246],[\"Software Engineer\",39],[\"Software Engineer\",442],[\"Software Engineer\",422],[\"Software Engineer\",367]],\"hovertemplate\":\"<b>%{hovertext}</b><br><br>Job Location=Chennai<br>Number of Applicants=%{customdata[1]}<br>Latitude=%{lat}<br>Longitude=%{lon}<br>Job Title=%{customdata[0]}<extra></extra>\",\"hovertext\":[\"Chennai\",\"Chennai\",\"Chennai\",\"Chennai\",\"Chennai\",\"Chennai\",\"Chennai\",\"Chennai\",\"Chennai\",\"Chennai\",\"Chennai\",\"Chennai\",\"Chennai\",\"Chennai\",\"Chennai\",\"Chennai\",\"Chennai\",\"Chennai\",\"Chennai\",\"Chennai\",\"Chennai\",\"Chennai\",\"Chennai\",\"Chennai\",\"Chennai\",\"Chennai\",\"Chennai\",\"Chennai\",\"Chennai\",\"Chennai\",\"Chennai\",\"Chennai\",\"Chennai\",\"Chennai\",\"Chennai\",\"Chennai\",\"Chennai\",\"Chennai\",\"Chennai\",\"Chennai\",\"Chennai\",\"Chennai\",\"Chennai\",\"Chennai\",\"Chennai\",\"Chennai\",\"Chennai\",\"Chennai\",\"Chennai\",\"Chennai\",\"Chennai\",\"Chennai\",\"Chennai\",\"Chennai\",\"Chennai\",\"Chennai\",\"Chennai\",\"Chennai\",\"Chennai\",\"Chennai\",\"Chennai\",\"Chennai\",\"Chennai\",\"Chennai\",\"Chennai\",\"Chennai\",\"Chennai\",\"Chennai\",\"Chennai\",\"Chennai\",\"Chennai\",\"Chennai\",\"Chennai\",\"Chennai\",\"Chennai\",\"Chennai\",\"Chennai\",\"Chennai\",\"Chennai\",\"Chennai\",\"Chennai\",\"Chennai\",\"Chennai\",\"Chennai\",\"Chennai\",\"Chennai\",\"Chennai\",\"Chennai\",\"Chennai\",\"Chennai\",\"Chennai\",\"Chennai\",\"Chennai\",\"Chennai\",\"Chennai\",\"Chennai\",\"Chennai\",\"Chennai\",\"Chennai\",\"Chennai\",\"Chennai\",\"Chennai\",\"Chennai\",\"Chennai\",\"Chennai\",\"Chennai\",\"Chennai\",\"Chennai\",\"Chennai\",\"Chennai\",\"Chennai\",\"Chennai\",\"Chennai\",\"Chennai\",\"Chennai\",\"Chennai\",\"Chennai\",\"Chennai\",\"Chennai\",\"Chennai\",\"Chennai\",\"Chennai\",\"Chennai\",\"Chennai\",\"Chennai\",\"Chennai\",\"Chennai\",\"Chennai\",\"Chennai\",\"Chennai\",\"Chennai\",\"Chennai\",\"Chennai\",\"Chennai\",\"Chennai\",\"Chennai\",\"Chennai\",\"Chennai\",\"Chennai\",\"Chennai\",\"Chennai\",\"Chennai\",\"Chennai\",\"Chennai\",\"Chennai\",\"Chennai\",\"Chennai\",\"Chennai\",\"Chennai\",\"Chennai\",\"Chennai\",\"Chennai\",\"Chennai\",\"Chennai\",\"Chennai\",\"Chennai\",\"Chennai\",\"Chennai\",\"Chennai\",\"Chennai\",\"Chennai\",\"Chennai\",\"Chennai\",\"Chennai\",\"Chennai\",\"Chennai\",\"Chennai\",\"Chennai\",\"Chennai\",\"Chennai\",\"Chennai\",\"Chennai\",\"Chennai\",\"Chennai\",\"Chennai\",\"Chennai\",\"Chennai\",\"Chennai\",\"Chennai\",\"Chennai\",\"Chennai\",\"Chennai\",\"Chennai\",\"Chennai\",\"Chennai\",\"Chennai\",\"Chennai\",\"Chennai\",\"Chennai\",\"Chennai\",\"Chennai\",\"Chennai\",\"Chennai\",\"Chennai\",\"Chennai\",\"Chennai\",\"Chennai\",\"Chennai\"],\"lat\":[13.0827,13.0827,13.0827,13.0827,13.0827,13.0827,13.0827,13.0827,13.0827,13.0827,13.0827,13.0827,13.0827,13.0827,13.0827,13.0827,13.0827,13.0827,13.0827,13.0827,13.0827,13.0827,13.0827,13.0827,13.0827,13.0827,13.0827,13.0827,13.0827,13.0827,13.0827,13.0827,13.0827,13.0827,13.0827,13.0827,13.0827,13.0827,13.0827,13.0827,13.0827,13.0827,13.0827,13.0827,13.0827,13.0827,13.0827,13.0827,13.0827,13.0827,13.0827,13.0827,13.0827,13.0827,13.0827,13.0827,13.0827,13.0827,13.0827,13.0827,13.0827,13.0827,13.0827,13.0827,13.0827,13.0827,13.0827,13.0827,13.0827,13.0827,13.0827,13.0827,13.0827,13.0827,13.0827,13.0827,13.0827,13.0827,13.0827,13.0827,13.0827,13.0827,13.0827,13.0827,13.0827,13.0827,13.0827,13.0827,13.0827,13.0827,13.0827,13.0827,13.0827,13.0827,13.0827,13.0827,13.0827,13.0827,13.0827,13.0827,13.0827,13.0827,13.0827,13.0827,13.0827,13.0827,13.0827,13.0827,13.0827,13.0827,13.0827,13.0827,13.0827,13.0827,13.0827,13.0827,13.0827,13.0827,13.0827,13.0827,13.0827,13.0827,13.0827,13.0827,13.0827,13.0827,13.0827,13.0827,13.0827,13.0827,13.0827,13.0827,13.0827,13.0827,13.0827,13.0827,13.0827,13.0827,13.0827,13.0827,13.0827,13.0827,13.0827,13.0827,13.0827,13.0827,13.0827,13.0827,13.0827,13.0827,13.0827,13.0827,13.0827,13.0827,13.0827,13.0827,13.0827,13.0827,13.0827,13.0827,13.0827,13.0827,13.0827,13.0827,13.0827,13.0827,13.0827,13.0827,13.0827,13.0827,13.0827,13.0827,13.0827,13.0827,13.0827,13.0827,13.0827,13.0827,13.0827,13.0827,13.0827,13.0827,13.0827,13.0827,13.0827,13.0827,13.0827,13.0827,13.0827,13.0827,13.0827,13.0827,13.0827,13.0827,13.0827,13.0827,13.0827,13.0827],\"legendgroup\":\"Chennai\",\"lon\":[80.2707,80.2707,80.2707,80.2707,80.2707,80.2707,80.2707,80.2707,80.2707,80.2707,80.2707,80.2707,80.2707,80.2707,80.2707,80.2707,80.2707,80.2707,80.2707,80.2707,80.2707,80.2707,80.2707,80.2707,80.2707,80.2707,80.2707,80.2707,80.2707,80.2707,80.2707,80.2707,80.2707,80.2707,80.2707,80.2707,80.2707,80.2707,80.2707,80.2707,80.2707,80.2707,80.2707,80.2707,80.2707,80.2707,80.2707,80.2707,80.2707,80.2707,80.2707,80.2707,80.2707,80.2707,80.2707,80.2707,80.2707,80.2707,80.2707,80.2707,80.2707,80.2707,80.2707,80.2707,80.2707,80.2707,80.2707,80.2707,80.2707,80.2707,80.2707,80.2707,80.2707,80.2707,80.2707,80.2707,80.2707,80.2707,80.2707,80.2707,80.2707,80.2707,80.2707,80.2707,80.2707,80.2707,80.2707,80.2707,80.2707,80.2707,80.2707,80.2707,80.2707,80.2707,80.2707,80.2707,80.2707,80.2707,80.2707,80.2707,80.2707,80.2707,80.2707,80.2707,80.2707,80.2707,80.2707,80.2707,80.2707,80.2707,80.2707,80.2707,80.2707,80.2707,80.2707,80.2707,80.2707,80.2707,80.2707,80.2707,80.2707,80.2707,80.2707,80.2707,80.2707,80.2707,80.2707,80.2707,80.2707,80.2707,80.2707,80.2707,80.2707,80.2707,80.2707,80.2707,80.2707,80.2707,80.2707,80.2707,80.2707,80.2707,80.2707,80.2707,80.2707,80.2707,80.2707,80.2707,80.2707,80.2707,80.2707,80.2707,80.2707,80.2707,80.2707,80.2707,80.2707,80.2707,80.2707,80.2707,80.2707,80.2707,80.2707,80.2707,80.2707,80.2707,80.2707,80.2707,80.2707,80.2707,80.2707,80.2707,80.2707,80.2707,80.2707,80.2707,80.2707,80.2707,80.2707,80.2707,80.2707,80.2707,80.2707,80.2707,80.2707,80.2707,80.2707,80.2707,80.2707,80.2707,80.2707,80.2707,80.2707,80.2707,80.2707,80.2707,80.2707,80.2707],\"marker\":{\"color\":\"#FF6692\",\"size\":[412,371,462,361,278,233,400,329,241,68,431,212,225,192,369,131,214,362,146,119,131,35,182,255,61,441,147,463,356,264,398,243,398,312,254,328,333,180,42,90,28,297,445,432,115,90,466,28,447,374,204,297,450,141,271,410,381,30,119,236,416,259,198,12,71,186,228,166,293,488,151,80,24,208,316,30,202,174,85,269,222,275,422,179,416,457,440,467,208,149,490,90,436,66,130,254,270,124,38,22,379,286,294,325,203,92,412,313,447,239,84,58,297,232,494,291,469,206,356,258,78,42,74,408,444,250,316,33,108,24,444,460,408,425,416,111,427,146,181,133,352,392,465,444,373,96,267,205,151,84,490,301,291,110,219,70,198,172,88,407,183,174,433,270,292,84,329,430,29,71,29,177,302,15,283,457,31,186,88,86,353,377,132,334,125,453,261,495,182,102,472,352,40,246,39,442,422,367],\"sizemode\":\"area\",\"sizeref\":0.2},\"mode\":\"markers\",\"name\":\"Chennai\",\"showlegend\":true,\"subplot\":\"mapbox\",\"type\":\"scattermapbox\"},{\"customdata\":[[\"Software Engineer\",405],[\"Software Engineer\",317],[\"Software Engineer\",371],[\"Software Engineer\",481],[\"Software Engineer\",177],[\"Software Engineer\",290],[\"Software Engineer\",160],[\"Software Engineer\",498],[\"Software Engineer\",63],[\"Software Engineer\",95],[\"Software Engineer\",119],[\"Software Engineer\",345],[\"Software Engineer\",425],[\"Software Engineer\",176],[\"Software Engineer\",249],[\"Software Engineer\",422],[\"Software Engineer\",375],[\"Software Engineer\",248],[\"Software Engineer\",375],[\"Software Engineer\",57],[\"Software Engineer\",430],[\"Software Engineer\",364],[\"Software Engineer\",38],[\"Software Engineer\",293],[\"Software Engineer\",83],[\"Software Engineer\",449],[\"Software Engineer\",475],[\"Software Engineer\",396],[\"Software Engineer\",278],[\"Software Engineer\",98],[\"Software Engineer\",194],[\"Software Engineer\",398],[\"Software Engineer\",263],[\"Software Engineer\",441],[\"Software Engineer\",134],[\"Software Engineer\",383],[\"Software Engineer\",104],[\"Software Engineer\",368],[\"Software Engineer\",98],[\"Software Engineer\",447],[\"Software Engineer\",457],[\"Software Engineer\",279],[\"Software Engineer\",135],[\"Software Engineer\",58],[\"Software Engineer\",410],[\"Software Engineer\",243],[\"Software Engineer\",442],[\"Software Engineer\",450],[\"Software Engineer\",334],[\"Software Engineer\",248],[\"Software Engineer\",354],[\"Software Engineer\",105],[\"Software Engineer\",360],[\"Software Engineer\",228],[\"Software Engineer\",306],[\"Software Engineer\",37],[\"Software Engineer\",338],[\"Software Engineer\",460],[\"Software Engineer\",418],[\"Software Engineer\",470],[\"Software Engineer\",411],[\"Software Engineer\",292],[\"Software Engineer\",20],[\"Software Engineer\",95],[\"Software Engineer\",359],[\"Software Engineer\",451],[\"Software Engineer\",142],[\"Software Engineer\",304],[\"Software Engineer\",426],[\"Software Engineer\",283],[\"Software Engineer\",419],[\"Software Engineer\",413],[\"Software Engineer\",330],[\"Software Engineer\",300],[\"Software Engineer\",156],[\"Software Engineer\",389],[\"Software Engineer\",388],[\"Software Engineer\",88],[\"Software Engineer\",467],[\"Software Engineer\",159],[\"Software Engineer\",307],[\"Software Engineer\",408],[\"Software Engineer\",453],[\"Software Engineer\",176],[\"Software Engineer\",155],[\"Software Engineer\",210],[\"Software Engineer\",72],[\"Software Engineer\",58],[\"Software Engineer\",252],[\"Software Engineer\",492],[\"Software Engineer\",341],[\"Software Engineer\",301],[\"Software Engineer\",447],[\"Software Engineer\",106],[\"Software Engineer\",24],[\"Software Engineer\",475],[\"Software Engineer\",323],[\"Software Engineer\",113],[\"Software Engineer\",362],[\"Software Engineer\",319],[\"Software Engineer\",57],[\"Software Engineer\",114],[\"Software Engineer\",116],[\"Software Engineer\",22],[\"Software Engineer\",75],[\"Software Engineer\",417],[\"Software Engineer\",397],[\"Software Engineer\",229],[\"Software Engineer\",180],[\"Software Engineer\",31],[\"Software Engineer\",216],[\"Software Engineer\",275],[\"Software Engineer\",16],[\"Software Engineer\",91],[\"Software Engineer\",36],[\"Software Engineer\",298],[\"Software Engineer\",31],[\"Software Engineer\",396],[\"Software Engineer\",343],[\"Software Engineer\",150],[\"Software Engineer\",47],[\"Software Engineer\",388],[\"Software Engineer\",241],[\"Software Engineer\",47],[\"Software Engineer\",257],[\"Software Engineer\",430],[\"Software Engineer\",460],[\"Software Engineer\",459],[\"Software Engineer\",18],[\"Software Engineer\",476],[\"Software Engineer\",305],[\"Software Engineer\",122],[\"Software Engineer\",270],[\"Software Engineer\",457],[\"Software Engineer\",14],[\"Software Engineer\",154],[\"Software Engineer\",318],[\"Software Engineer\",136],[\"Software Engineer\",112],[\"Software Engineer\",425],[\"Software Engineer\",366],[\"Software Engineer\",242],[\"Software Engineer\",78],[\"Software Engineer\",368],[\"Software Engineer\",85],[\"Software Engineer\",375],[\"Software Engineer\",433],[\"Software Engineer\",499],[\"Software Engineer\",110],[\"Software Engineer\",420],[\"Software Engineer\",322],[\"Software Engineer\",371],[\"Software Engineer\",243],[\"Software Engineer\",113],[\"Software Engineer\",361],[\"Software Engineer\",466],[\"Software Engineer\",356],[\"Software Engineer\",421],[\"Software Engineer\",379],[\"Software Engineer\",65],[\"Software Engineer\",80],[\"Software Engineer\",53],[\"Software Engineer\",404],[\"Software Engineer\",234],[\"Software Engineer\",18],[\"Software Engineer\",487],[\"Software Engineer\",213],[\"Software Engineer\",55],[\"Software Engineer\",77],[\"Software Engineer\",189],[\"Software Engineer\",198],[\"Software Engineer\",377],[\"Software Engineer\",307],[\"Software Engineer\",313],[\"Software Engineer\",196],[\"Software Engineer\",410],[\"Software Engineer\",495],[\"Software Engineer\",336],[\"Software Engineer\",262],[\"Software Engineer\",383],[\"Software Engineer\",281],[\"Software Engineer\",405],[\"Software Engineer\",223],[\"Software Engineer\",144],[\"Software Engineer\",204],[\"Software Engineer\",320],[\"Software Engineer\",401],[\"Software Engineer\",307],[\"Software Engineer\",25],[\"Software Engineer\",39],[\"Software Engineer\",300],[\"Software Engineer\",317],[\"Software Engineer\",163],[\"Software Engineer\",171],[\"Software Engineer\",274],[\"Software Engineer\",220],[\"Software Engineer\",426],[\"Software Engineer\",491],[\"Software Engineer\",364],[\"Software Engineer\",480],[\"Software Engineer\",41],[\"Software Engineer\",436],[\"Software Engineer\",130]],\"hovertemplate\":\"<b>%{hovertext}</b><br><br>Job Location=Jaipur<br>Number of Applicants=%{customdata[1]}<br>Latitude=%{lat}<br>Longitude=%{lon}<br>Job Title=%{customdata[0]}<extra></extra>\",\"hovertext\":[\"Jaipur\",\"Jaipur\",\"Jaipur\",\"Jaipur\",\"Jaipur\",\"Jaipur\",\"Jaipur\",\"Jaipur\",\"Jaipur\",\"Jaipur\",\"Jaipur\",\"Jaipur\",\"Jaipur\",\"Jaipur\",\"Jaipur\",\"Jaipur\",\"Jaipur\",\"Jaipur\",\"Jaipur\",\"Jaipur\",\"Jaipur\",\"Jaipur\",\"Jaipur\",\"Jaipur\",\"Jaipur\",\"Jaipur\",\"Jaipur\",\"Jaipur\",\"Jaipur\",\"Jaipur\",\"Jaipur\",\"Jaipur\",\"Jaipur\",\"Jaipur\",\"Jaipur\",\"Jaipur\",\"Jaipur\",\"Jaipur\",\"Jaipur\",\"Jaipur\",\"Jaipur\",\"Jaipur\",\"Jaipur\",\"Jaipur\",\"Jaipur\",\"Jaipur\",\"Jaipur\",\"Jaipur\",\"Jaipur\",\"Jaipur\",\"Jaipur\",\"Jaipur\",\"Jaipur\",\"Jaipur\",\"Jaipur\",\"Jaipur\",\"Jaipur\",\"Jaipur\",\"Jaipur\",\"Jaipur\",\"Jaipur\",\"Jaipur\",\"Jaipur\",\"Jaipur\",\"Jaipur\",\"Jaipur\",\"Jaipur\",\"Jaipur\",\"Jaipur\",\"Jaipur\",\"Jaipur\",\"Jaipur\",\"Jaipur\",\"Jaipur\",\"Jaipur\",\"Jaipur\",\"Jaipur\",\"Jaipur\",\"Jaipur\",\"Jaipur\",\"Jaipur\",\"Jaipur\",\"Jaipur\",\"Jaipur\",\"Jaipur\",\"Jaipur\",\"Jaipur\",\"Jaipur\",\"Jaipur\",\"Jaipur\",\"Jaipur\",\"Jaipur\",\"Jaipur\",\"Jaipur\",\"Jaipur\",\"Jaipur\",\"Jaipur\",\"Jaipur\",\"Jaipur\",\"Jaipur\",\"Jaipur\",\"Jaipur\",\"Jaipur\",\"Jaipur\",\"Jaipur\",\"Jaipur\",\"Jaipur\",\"Jaipur\",\"Jaipur\",\"Jaipur\",\"Jaipur\",\"Jaipur\",\"Jaipur\",\"Jaipur\",\"Jaipur\",\"Jaipur\",\"Jaipur\",\"Jaipur\",\"Jaipur\",\"Jaipur\",\"Jaipur\",\"Jaipur\",\"Jaipur\",\"Jaipur\",\"Jaipur\",\"Jaipur\",\"Jaipur\",\"Jaipur\",\"Jaipur\",\"Jaipur\",\"Jaipur\",\"Jaipur\",\"Jaipur\",\"Jaipur\",\"Jaipur\",\"Jaipur\",\"Jaipur\",\"Jaipur\",\"Jaipur\",\"Jaipur\",\"Jaipur\",\"Jaipur\",\"Jaipur\",\"Jaipur\",\"Jaipur\",\"Jaipur\",\"Jaipur\",\"Jaipur\",\"Jaipur\",\"Jaipur\",\"Jaipur\",\"Jaipur\",\"Jaipur\",\"Jaipur\",\"Jaipur\",\"Jaipur\",\"Jaipur\",\"Jaipur\",\"Jaipur\",\"Jaipur\",\"Jaipur\",\"Jaipur\",\"Jaipur\",\"Jaipur\",\"Jaipur\",\"Jaipur\",\"Jaipur\",\"Jaipur\",\"Jaipur\",\"Jaipur\",\"Jaipur\",\"Jaipur\",\"Jaipur\",\"Jaipur\",\"Jaipur\",\"Jaipur\",\"Jaipur\",\"Jaipur\",\"Jaipur\",\"Jaipur\",\"Jaipur\",\"Jaipur\",\"Jaipur\",\"Jaipur\",\"Jaipur\",\"Jaipur\",\"Jaipur\",\"Jaipur\",\"Jaipur\",\"Jaipur\",\"Jaipur\",\"Jaipur\",\"Jaipur\",\"Jaipur\",\"Jaipur\",\"Jaipur\",\"Jaipur\",\"Jaipur\",\"Jaipur\",\"Jaipur\",\"Jaipur\",\"Jaipur\",\"Jaipur\"],\"lat\":[26.9124,26.9124,26.9124,26.9124,26.9124,26.9124,26.9124,26.9124,26.9124,26.9124,26.9124,26.9124,26.9124,26.9124,26.9124,26.9124,26.9124,26.9124,26.9124,26.9124,26.9124,26.9124,26.9124,26.9124,26.9124,26.9124,26.9124,26.9124,26.9124,26.9124,26.9124,26.9124,26.9124,26.9124,26.9124,26.9124,26.9124,26.9124,26.9124,26.9124,26.9124,26.9124,26.9124,26.9124,26.9124,26.9124,26.9124,26.9124,26.9124,26.9124,26.9124,26.9124,26.9124,26.9124,26.9124,26.9124,26.9124,26.9124,26.9124,26.9124,26.9124,26.9124,26.9124,26.9124,26.9124,26.9124,26.9124,26.9124,26.9124,26.9124,26.9124,26.9124,26.9124,26.9124,26.9124,26.9124,26.9124,26.9124,26.9124,26.9124,26.9124,26.9124,26.9124,26.9124,26.9124,26.9124,26.9124,26.9124,26.9124,26.9124,26.9124,26.9124,26.9124,26.9124,26.9124,26.9124,26.9124,26.9124,26.9124,26.9124,26.9124,26.9124,26.9124,26.9124,26.9124,26.9124,26.9124,26.9124,26.9124,26.9124,26.9124,26.9124,26.9124,26.9124,26.9124,26.9124,26.9124,26.9124,26.9124,26.9124,26.9124,26.9124,26.9124,26.9124,26.9124,26.9124,26.9124,26.9124,26.9124,26.9124,26.9124,26.9124,26.9124,26.9124,26.9124,26.9124,26.9124,26.9124,26.9124,26.9124,26.9124,26.9124,26.9124,26.9124,26.9124,26.9124,26.9124,26.9124,26.9124,26.9124,26.9124,26.9124,26.9124,26.9124,26.9124,26.9124,26.9124,26.9124,26.9124,26.9124,26.9124,26.9124,26.9124,26.9124,26.9124,26.9124,26.9124,26.9124,26.9124,26.9124,26.9124,26.9124,26.9124,26.9124,26.9124,26.9124,26.9124,26.9124,26.9124,26.9124,26.9124,26.9124,26.9124,26.9124,26.9124,26.9124,26.9124,26.9124,26.9124,26.9124,26.9124,26.9124,26.9124,26.9124,26.9124,26.9124,26.9124,26.9124,26.9124,26.9124,26.9124,26.9124,26.9124],\"legendgroup\":\"Jaipur\",\"lon\":[75.7873,75.7873,75.7873,75.7873,75.7873,75.7873,75.7873,75.7873,75.7873,75.7873,75.7873,75.7873,75.7873,75.7873,75.7873,75.7873,75.7873,75.7873,75.7873,75.7873,75.7873,75.7873,75.7873,75.7873,75.7873,75.7873,75.7873,75.7873,75.7873,75.7873,75.7873,75.7873,75.7873,75.7873,75.7873,75.7873,75.7873,75.7873,75.7873,75.7873,75.7873,75.7873,75.7873,75.7873,75.7873,75.7873,75.7873,75.7873,75.7873,75.7873,75.7873,75.7873,75.7873,75.7873,75.7873,75.7873,75.7873,75.7873,75.7873,75.7873,75.7873,75.7873,75.7873,75.7873,75.7873,75.7873,75.7873,75.7873,75.7873,75.7873,75.7873,75.7873,75.7873,75.7873,75.7873,75.7873,75.7873,75.7873,75.7873,75.7873,75.7873,75.7873,75.7873,75.7873,75.7873,75.7873,75.7873,75.7873,75.7873,75.7873,75.7873,75.7873,75.7873,75.7873,75.7873,75.7873,75.7873,75.7873,75.7873,75.7873,75.7873,75.7873,75.7873,75.7873,75.7873,75.7873,75.7873,75.7873,75.7873,75.7873,75.7873,75.7873,75.7873,75.7873,75.7873,75.7873,75.7873,75.7873,75.7873,75.7873,75.7873,75.7873,75.7873,75.7873,75.7873,75.7873,75.7873,75.7873,75.7873,75.7873,75.7873,75.7873,75.7873,75.7873,75.7873,75.7873,75.7873,75.7873,75.7873,75.7873,75.7873,75.7873,75.7873,75.7873,75.7873,75.7873,75.7873,75.7873,75.7873,75.7873,75.7873,75.7873,75.7873,75.7873,75.7873,75.7873,75.7873,75.7873,75.7873,75.7873,75.7873,75.7873,75.7873,75.7873,75.7873,75.7873,75.7873,75.7873,75.7873,75.7873,75.7873,75.7873,75.7873,75.7873,75.7873,75.7873,75.7873,75.7873,75.7873,75.7873,75.7873,75.7873,75.7873,75.7873,75.7873,75.7873,75.7873,75.7873,75.7873,75.7873,75.7873,75.7873,75.7873,75.7873,75.7873,75.7873,75.7873,75.7873,75.7873,75.7873,75.7873,75.7873,75.7873],\"marker\":{\"color\":\"#B6E880\",\"size\":[405,317,371,481,177,290,160,498,63,95,119,345,425,176,249,422,375,248,375,57,430,364,38,293,83,449,475,396,278,98,194,398,263,441,134,383,104,368,98,447,457,279,135,58,410,243,442,450,334,248,354,105,360,228,306,37,338,460,418,470,411,292,20,95,359,451,142,304,426,283,419,413,330,300,156,389,388,88,467,159,307,408,453,176,155,210,72,58,252,492,341,301,447,106,24,475,323,113,362,319,57,114,116,22,75,417,397,229,180,31,216,275,16,91,36,298,31,396,343,150,47,388,241,47,257,430,460,459,18,476,305,122,270,457,14,154,318,136,112,425,366,242,78,368,85,375,433,499,110,420,322,371,243,113,361,466,356,421,379,65,80,53,404,234,18,487,213,55,77,189,198,377,307,313,196,410,495,336,262,383,281,405,223,144,204,320,401,307,25,39,300,317,163,171,274,220,426,491,364,480,41,436,130],\"sizemode\":\"area\",\"sizeref\":0.2},\"mode\":\"markers\",\"name\":\"Jaipur\",\"showlegend\":true,\"subplot\":\"mapbox\",\"type\":\"scattermapbox\"},{\"customdata\":[[\"Software Engineer\",253],[\"Software Engineer\",38],[\"Software Engineer\",160],[\"Software Engineer\",259],[\"Software Engineer\",222],[\"Software Engineer\",356],[\"Software Engineer\",21],[\"Software Engineer\",23],[\"Software Engineer\",120],[\"Software Engineer\",416],[\"Software Engineer\",115],[\"Software Engineer\",456],[\"Software Engineer\",289],[\"Software Engineer\",137],[\"Software Engineer\",104],[\"Software Engineer\",343],[\"Software Engineer\",354],[\"Software Engineer\",116],[\"Software Engineer\",476],[\"Software Engineer\",403],[\"Software Engineer\",253],[\"Software Engineer\",406],[\"Software Engineer\",232],[\"Software Engineer\",281],[\"Software Engineer\",25],[\"Software Engineer\",351],[\"Software Engineer\",393],[\"Software Engineer\",413],[\"Software Engineer\",79],[\"Software Engineer\",445],[\"Software Engineer\",460],[\"Software Engineer\",147],[\"Software Engineer\",139],[\"Software Engineer\",175],[\"Software Engineer\",239],[\"Software Engineer\",440],[\"Software Engineer\",479],[\"Software Engineer\",258],[\"Software Engineer\",260],[\"Software Engineer\",244],[\"Software Engineer\",121],[\"Software Engineer\",90],[\"Software Engineer\",300],[\"Software Engineer\",323],[\"Software Engineer\",204],[\"Software Engineer\",116],[\"Software Engineer\",97],[\"Software Engineer\",167],[\"Software Engineer\",129],[\"Software Engineer\",419],[\"Software Engineer\",389],[\"Software Engineer\",471],[\"Software Engineer\",376],[\"Software Engineer\",248],[\"Software Engineer\",457],[\"Software Engineer\",409],[\"Software Engineer\",498],[\"Software Engineer\",292],[\"Software Engineer\",216],[\"Software Engineer\",455],[\"Software Engineer\",244],[\"Software Engineer\",120],[\"Software Engineer\",207],[\"Software Engineer\",226],[\"Software Engineer\",492],[\"Software Engineer\",225],[\"Software Engineer\",408],[\"Software Engineer\",142],[\"Software Engineer\",154],[\"Software Engineer\",128],[\"Software Engineer\",117],[\"Software Engineer\",298],[\"Software Engineer\",120],[\"Software Engineer\",81],[\"Software Engineer\",247],[\"Software Engineer\",44],[\"Software Engineer\",190],[\"Software Engineer\",218],[\"Software Engineer\",67],[\"Software Engineer\",112],[\"Software Engineer\",350],[\"Software Engineer\",116],[\"Software Engineer\",277],[\"Software Engineer\",56],[\"Software Engineer\",219],[\"Software Engineer\",219],[\"Software Engineer\",486],[\"Software Engineer\",52],[\"Software Engineer\",349],[\"Software Engineer\",186],[\"Software Engineer\",379],[\"Software Engineer\",125],[\"Software Engineer\",241],[\"Software Engineer\",24],[\"Software Engineer\",141],[\"Software Engineer\",376],[\"Software Engineer\",178],[\"Software Engineer\",11],[\"Software Engineer\",287],[\"Software Engineer\",290],[\"Software Engineer\",17],[\"Software Engineer\",448],[\"Software Engineer\",422],[\"Software Engineer\",141],[\"Software Engineer\",219],[\"Software Engineer\",441],[\"Software Engineer\",284],[\"Software Engineer\",83],[\"Software Engineer\",440],[\"Software Engineer\",64],[\"Software Engineer\",278],[\"Software Engineer\",250],[\"Software Engineer\",177],[\"Software Engineer\",213],[\"Software Engineer\",388],[\"Software Engineer\",178],[\"Software Engineer\",239],[\"Software Engineer\",355],[\"Software Engineer\",493],[\"Software Engineer\",456],[\"Software Engineer\",47],[\"Software Engineer\",331],[\"Software Engineer\",373],[\"Software Engineer\",140],[\"Software Engineer\",99],[\"Software Engineer\",246],[\"Software Engineer\",155],[\"Software Engineer\",12],[\"Software Engineer\",132],[\"Software Engineer\",180],[\"Software Engineer\",293],[\"Software Engineer\",378],[\"Software Engineer\",326],[\"Software Engineer\",327],[\"Software Engineer\",293],[\"Software Engineer\",301],[\"Software Engineer\",479],[\"Software Engineer\",56],[\"Software Engineer\",201],[\"Software Engineer\",358],[\"Software Engineer\",141],[\"Software Engineer\",350],[\"Software Engineer\",472],[\"Software Engineer\",398],[\"Software Engineer\",163],[\"Software Engineer\",18],[\"Software Engineer\",298],[\"Software Engineer\",146],[\"Software Engineer\",452],[\"Software Engineer\",53],[\"Software Engineer\",393],[\"Software Engineer\",209],[\"Software Engineer\",418],[\"Software Engineer\",281],[\"Software Engineer\",91],[\"Software Engineer\",35],[\"Software Engineer\",291],[\"Software Engineer\",89],[\"Software Engineer\",458],[\"Software Engineer\",46],[\"Software Engineer\",265],[\"Software Engineer\",464],[\"Software Engineer\",418],[\"Software Engineer\",49],[\"Software Engineer\",428],[\"Software Engineer\",18],[\"Software Engineer\",38],[\"Software Engineer\",32],[\"Software Engineer\",362],[\"Software Engineer\",454],[\"Software Engineer\",347],[\"Software Engineer\",463]],\"hovertemplate\":\"<b>%{hovertext}</b><br><br>Job Location=Kolkata<br>Number of Applicants=%{customdata[1]}<br>Latitude=%{lat}<br>Longitude=%{lon}<br>Job Title=%{customdata[0]}<extra></extra>\",\"hovertext\":[\"Kolkata\",\"Kolkata\",\"Kolkata\",\"Kolkata\",\"Kolkata\",\"Kolkata\",\"Kolkata\",\"Kolkata\",\"Kolkata\",\"Kolkata\",\"Kolkata\",\"Kolkata\",\"Kolkata\",\"Kolkata\",\"Kolkata\",\"Kolkata\",\"Kolkata\",\"Kolkata\",\"Kolkata\",\"Kolkata\",\"Kolkata\",\"Kolkata\",\"Kolkata\",\"Kolkata\",\"Kolkata\",\"Kolkata\",\"Kolkata\",\"Kolkata\",\"Kolkata\",\"Kolkata\",\"Kolkata\",\"Kolkata\",\"Kolkata\",\"Kolkata\",\"Kolkata\",\"Kolkata\",\"Kolkata\",\"Kolkata\",\"Kolkata\",\"Kolkata\",\"Kolkata\",\"Kolkata\",\"Kolkata\",\"Kolkata\",\"Kolkata\",\"Kolkata\",\"Kolkata\",\"Kolkata\",\"Kolkata\",\"Kolkata\",\"Kolkata\",\"Kolkata\",\"Kolkata\",\"Kolkata\",\"Kolkata\",\"Kolkata\",\"Kolkata\",\"Kolkata\",\"Kolkata\",\"Kolkata\",\"Kolkata\",\"Kolkata\",\"Kolkata\",\"Kolkata\",\"Kolkata\",\"Kolkata\",\"Kolkata\",\"Kolkata\",\"Kolkata\",\"Kolkata\",\"Kolkata\",\"Kolkata\",\"Kolkata\",\"Kolkata\",\"Kolkata\",\"Kolkata\",\"Kolkata\",\"Kolkata\",\"Kolkata\",\"Kolkata\",\"Kolkata\",\"Kolkata\",\"Kolkata\",\"Kolkata\",\"Kolkata\",\"Kolkata\",\"Kolkata\",\"Kolkata\",\"Kolkata\",\"Kolkata\",\"Kolkata\",\"Kolkata\",\"Kolkata\",\"Kolkata\",\"Kolkata\",\"Kolkata\",\"Kolkata\",\"Kolkata\",\"Kolkata\",\"Kolkata\",\"Kolkata\",\"Kolkata\",\"Kolkata\",\"Kolkata\",\"Kolkata\",\"Kolkata\",\"Kolkata\",\"Kolkata\",\"Kolkata\",\"Kolkata\",\"Kolkata\",\"Kolkata\",\"Kolkata\",\"Kolkata\",\"Kolkata\",\"Kolkata\",\"Kolkata\",\"Kolkata\",\"Kolkata\",\"Kolkata\",\"Kolkata\",\"Kolkata\",\"Kolkata\",\"Kolkata\",\"Kolkata\",\"Kolkata\",\"Kolkata\",\"Kolkata\",\"Kolkata\",\"Kolkata\",\"Kolkata\",\"Kolkata\",\"Kolkata\",\"Kolkata\",\"Kolkata\",\"Kolkata\",\"Kolkata\",\"Kolkata\",\"Kolkata\",\"Kolkata\",\"Kolkata\",\"Kolkata\",\"Kolkata\",\"Kolkata\",\"Kolkata\",\"Kolkata\",\"Kolkata\",\"Kolkata\",\"Kolkata\",\"Kolkata\",\"Kolkata\",\"Kolkata\",\"Kolkata\",\"Kolkata\",\"Kolkata\",\"Kolkata\",\"Kolkata\",\"Kolkata\",\"Kolkata\",\"Kolkata\",\"Kolkata\",\"Kolkata\",\"Kolkata\",\"Kolkata\",\"Kolkata\",\"Kolkata\",\"Kolkata\",\"Kolkata\",\"Kolkata\",\"Kolkata\",\"Kolkata\",\"Kolkata\"],\"lat\":[22.5726,22.5726,22.5726,22.5726,22.5726,22.5726,22.5726,22.5726,22.5726,22.5726,22.5726,22.5726,22.5726,22.5726,22.5726,22.5726,22.5726,22.5726,22.5726,22.5726,22.5726,22.5726,22.5726,22.5726,22.5726,22.5726,22.5726,22.5726,22.5726,22.5726,22.5726,22.5726,22.5726,22.5726,22.5726,22.5726,22.5726,22.5726,22.5726,22.5726,22.5726,22.5726,22.5726,22.5726,22.5726,22.5726,22.5726,22.5726,22.5726,22.5726,22.5726,22.5726,22.5726,22.5726,22.5726,22.5726,22.5726,22.5726,22.5726,22.5726,22.5726,22.5726,22.5726,22.5726,22.5726,22.5726,22.5726,22.5726,22.5726,22.5726,22.5726,22.5726,22.5726,22.5726,22.5726,22.5726,22.5726,22.5726,22.5726,22.5726,22.5726,22.5726,22.5726,22.5726,22.5726,22.5726,22.5726,22.5726,22.5726,22.5726,22.5726,22.5726,22.5726,22.5726,22.5726,22.5726,22.5726,22.5726,22.5726,22.5726,22.5726,22.5726,22.5726,22.5726,22.5726,22.5726,22.5726,22.5726,22.5726,22.5726,22.5726,22.5726,22.5726,22.5726,22.5726,22.5726,22.5726,22.5726,22.5726,22.5726,22.5726,22.5726,22.5726,22.5726,22.5726,22.5726,22.5726,22.5726,22.5726,22.5726,22.5726,22.5726,22.5726,22.5726,22.5726,22.5726,22.5726,22.5726,22.5726,22.5726,22.5726,22.5726,22.5726,22.5726,22.5726,22.5726,22.5726,22.5726,22.5726,22.5726,22.5726,22.5726,22.5726,22.5726,22.5726,22.5726,22.5726,22.5726,22.5726,22.5726,22.5726,22.5726,22.5726,22.5726,22.5726,22.5726,22.5726,22.5726,22.5726,22.5726,22.5726,22.5726],\"legendgroup\":\"Kolkata\",\"lon\":[88.3639,88.3639,88.3639,88.3639,88.3639,88.3639,88.3639,88.3639,88.3639,88.3639,88.3639,88.3639,88.3639,88.3639,88.3639,88.3639,88.3639,88.3639,88.3639,88.3639,88.3639,88.3639,88.3639,88.3639,88.3639,88.3639,88.3639,88.3639,88.3639,88.3639,88.3639,88.3639,88.3639,88.3639,88.3639,88.3639,88.3639,88.3639,88.3639,88.3639,88.3639,88.3639,88.3639,88.3639,88.3639,88.3639,88.3639,88.3639,88.3639,88.3639,88.3639,88.3639,88.3639,88.3639,88.3639,88.3639,88.3639,88.3639,88.3639,88.3639,88.3639,88.3639,88.3639,88.3639,88.3639,88.3639,88.3639,88.3639,88.3639,88.3639,88.3639,88.3639,88.3639,88.3639,88.3639,88.3639,88.3639,88.3639,88.3639,88.3639,88.3639,88.3639,88.3639,88.3639,88.3639,88.3639,88.3639,88.3639,88.3639,88.3639,88.3639,88.3639,88.3639,88.3639,88.3639,88.3639,88.3639,88.3639,88.3639,88.3639,88.3639,88.3639,88.3639,88.3639,88.3639,88.3639,88.3639,88.3639,88.3639,88.3639,88.3639,88.3639,88.3639,88.3639,88.3639,88.3639,88.3639,88.3639,88.3639,88.3639,88.3639,88.3639,88.3639,88.3639,88.3639,88.3639,88.3639,88.3639,88.3639,88.3639,88.3639,88.3639,88.3639,88.3639,88.3639,88.3639,88.3639,88.3639,88.3639,88.3639,88.3639,88.3639,88.3639,88.3639,88.3639,88.3639,88.3639,88.3639,88.3639,88.3639,88.3639,88.3639,88.3639,88.3639,88.3639,88.3639,88.3639,88.3639,88.3639,88.3639,88.3639,88.3639,88.3639,88.3639,88.3639,88.3639,88.3639,88.3639,88.3639,88.3639,88.3639,88.3639],\"marker\":{\"color\":\"#FF97FF\",\"size\":[253,38,160,259,222,356,21,23,120,416,115,456,289,137,104,343,354,116,476,403,253,406,232,281,25,351,393,413,79,445,460,147,139,175,239,440,479,258,260,244,121,90,300,323,204,116,97,167,129,419,389,471,376,248,457,409,498,292,216,455,244,120,207,226,492,225,408,142,154,128,117,298,120,81,247,44,190,218,67,112,350,116,277,56,219,219,486,52,349,186,379,125,241,24,141,376,178,11,287,290,17,448,422,141,219,441,284,83,440,64,278,250,177,213,388,178,239,355,493,456,47,331,373,140,99,246,155,12,132,180,293,378,326,327,293,301,479,56,201,358,141,350,472,398,163,18,298,146,452,53,393,209,418,281,91,35,291,89,458,46,265,464,418,49,428,18,38,32,362,454,347,463],\"sizemode\":\"area\",\"sizeref\":0.2},\"mode\":\"markers\",\"name\":\"Kolkata\",\"showlegend\":true,\"subplot\":\"mapbox\",\"type\":\"scattermapbox\"},{\"customdata\":[[\"Software Engineer\",430],[\"Software Engineer\",224],[\"Software Engineer\",64],[\"Software Engineer\",465],[\"Software Engineer\",128],[\"Software Engineer\",107],[\"Software Engineer\",168],[\"Software Engineer\",305],[\"Software Engineer\",405],[\"Software Engineer\",272],[\"Software Engineer\",302],[\"Software Engineer\",138],[\"Software Engineer\",339],[\"Software Engineer\",85],[\"Software Engineer\",255],[\"Software Engineer\",446],[\"Software Engineer\",212],[\"Software Engineer\",159],[\"Software Engineer\",331],[\"Software Engineer\",232],[\"Software Engineer\",226],[\"Software Engineer\",255],[\"Software Engineer\",477],[\"Software Engineer\",346],[\"Software Engineer\",398],[\"Software Engineer\",71],[\"Software Engineer\",272],[\"Software Engineer\",350],[\"Software Engineer\",220],[\"Software Engineer\",231],[\"Software Engineer\",63],[\"Software Engineer\",421],[\"Software Engineer\",268],[\"Software Engineer\",323],[\"Software Engineer\",79],[\"Software Engineer\",346],[\"Software Engineer\",125],[\"Software Engineer\",20],[\"Software Engineer\",458],[\"Software Engineer\",215],[\"Software Engineer\",396],[\"Software Engineer\",87],[\"Software Engineer\",486],[\"Software Engineer\",464],[\"Software Engineer\",194],[\"Software Engineer\",290],[\"Software Engineer\",378],[\"Software Engineer\",215],[\"Software Engineer\",373],[\"Software Engineer\",350],[\"Software Engineer\",119],[\"Software Engineer\",460],[\"Software Engineer\",443],[\"Software Engineer\",51],[\"Software Engineer\",275],[\"Software Engineer\",231],[\"Software Engineer\",149],[\"Software Engineer\",388],[\"Software Engineer\",321],[\"Software Engineer\",282],[\"Software Engineer\",71],[\"Software Engineer\",342],[\"Software Engineer\",292],[\"Software Engineer\",76],[\"Software Engineer\",179],[\"Software Engineer\",463],[\"Software Engineer\",156],[\"Software Engineer\",46],[\"Software Engineer\",290],[\"Software Engineer\",146],[\"Software Engineer\",139],[\"Software Engineer\",332],[\"Software Engineer\",434],[\"Software Engineer\",390],[\"Software Engineer\",158],[\"Software Engineer\",488],[\"Software Engineer\",134],[\"Software Engineer\",166],[\"Software Engineer\",371],[\"Software Engineer\",311],[\"Software Engineer\",189],[\"Software Engineer\",35],[\"Software Engineer\",441],[\"Software Engineer\",480],[\"Software Engineer\",284],[\"Software Engineer\",68],[\"Software Engineer\",499],[\"Software Engineer\",366],[\"Software Engineer\",369],[\"Software Engineer\",492],[\"Software Engineer\",454],[\"Software Engineer\",97],[\"Software Engineer\",258],[\"Software Engineer\",359],[\"Software Engineer\",119],[\"Software Engineer\",86],[\"Software Engineer\",38],[\"Software Engineer\",79],[\"Software Engineer\",215],[\"Software Engineer\",349],[\"Software Engineer\",464],[\"Software Engineer\",442],[\"Software Engineer\",223],[\"Software Engineer\",436],[\"Software Engineer\",179],[\"Software Engineer\",110],[\"Software Engineer\",153],[\"Software Engineer\",308],[\"Software Engineer\",207],[\"Software Engineer\",408],[\"Software Engineer\",64],[\"Software Engineer\",178],[\"Software Engineer\",255],[\"Software Engineer\",32],[\"Software Engineer\",170],[\"Software Engineer\",423],[\"Software Engineer\",305],[\"Software Engineer\",396],[\"Software Engineer\",418],[\"Software Engineer\",175],[\"Software Engineer\",170],[\"Software Engineer\",447],[\"Software Engineer\",199],[\"Software Engineer\",58],[\"Software Engineer\",488],[\"Software Engineer\",367],[\"Software Engineer\",46],[\"Software Engineer\",266],[\"Software Engineer\",466],[\"Software Engineer\",409],[\"Software Engineer\",31],[\"Software Engineer\",27],[\"Software Engineer\",240],[\"Software Engineer\",16],[\"Software Engineer\",84],[\"Software Engineer\",462],[\"Software Engineer\",206],[\"Software Engineer\",131],[\"Software Engineer\",437],[\"Software Engineer\",485],[\"Software Engineer\",113],[\"Software Engineer\",32],[\"Software Engineer\",464],[\"Software Engineer\",263],[\"Software Engineer\",301],[\"Software Engineer\",292],[\"Software Engineer\",416],[\"Software Engineer\",99],[\"Software Engineer\",191],[\"Software Engineer\",434],[\"Software Engineer\",427],[\"Software Engineer\",89],[\"Software Engineer\",281],[\"Software Engineer\",423],[\"Software Engineer\",323],[\"Software Engineer\",131],[\"Software Engineer\",392],[\"Software Engineer\",450],[\"Software Engineer\",299],[\"Software Engineer\",382],[\"Software Engineer\",33],[\"Software Engineer\",299],[\"Software Engineer\",415],[\"Software Engineer\",63],[\"Software Engineer\",345],[\"Software Engineer\",197],[\"Software Engineer\",390],[\"Software Engineer\",312],[\"Software Engineer\",126],[\"Software Engineer\",350],[\"Software Engineer\",454],[\"Software Engineer\",409],[\"Software Engineer\",378],[\"Software Engineer\",346],[\"Software Engineer\",452],[\"Software Engineer\",351],[\"Software Engineer\",406],[\"Software Engineer\",384],[\"Software Engineer\",416],[\"Software Engineer\",305],[\"Software Engineer\",169],[\"Software Engineer\",296],[\"Software Engineer\",419],[\"Software Engineer\",240],[\"Software Engineer\",406],[\"Software Engineer\",428],[\"Software Engineer\",239],[\"Software Engineer\",11],[\"Software Engineer\",62],[\"Software Engineer\",237],[\"Software Engineer\",121],[\"Software Engineer\",124],[\"Software Engineer\",478],[\"Software Engineer\",299],[\"Software Engineer\",468],[\"Software Engineer\",51],[\"Software Engineer\",230],[\"Software Engineer\",494],[\"Software Engineer\",108],[\"Software Engineer\",225],[\"Software Engineer\",318],[\"Software Engineer\",333],[\"Software Engineer\",306],[\"Software Engineer\",14],[\"Software Engineer\",104],[\"Software Engineer\",184],[\"Software Engineer\",163],[\"Software Engineer\",225],[\"Software Engineer\",70],[\"Software Engineer\",294],[\"Software Engineer\",117],[\"Software Engineer\",26],[\"Software Engineer\",191],[\"Software Engineer\",83],[\"Software Engineer\",134],[\"Software Engineer\",153],[\"Software Engineer\",310]],\"hovertemplate\":\"<b>%{hovertext}</b><br><br>Job Location=Bangalore<br>Number of Applicants=%{customdata[1]}<br>Latitude=%{lat}<br>Longitude=%{lon}<br>Job Title=%{customdata[0]}<extra></extra>\",\"hovertext\":[\"Bangalore\",\"Bangalore\",\"Bangalore\",\"Bangalore\",\"Bangalore\",\"Bangalore\",\"Bangalore\",\"Bangalore\",\"Bangalore\",\"Bangalore\",\"Bangalore\",\"Bangalore\",\"Bangalore\",\"Bangalore\",\"Bangalore\",\"Bangalore\",\"Bangalore\",\"Bangalore\",\"Bangalore\",\"Bangalore\",\"Bangalore\",\"Bangalore\",\"Bangalore\",\"Bangalore\",\"Bangalore\",\"Bangalore\",\"Bangalore\",\"Bangalore\",\"Bangalore\",\"Bangalore\",\"Bangalore\",\"Bangalore\",\"Bangalore\",\"Bangalore\",\"Bangalore\",\"Bangalore\",\"Bangalore\",\"Bangalore\",\"Bangalore\",\"Bangalore\",\"Bangalore\",\"Bangalore\",\"Bangalore\",\"Bangalore\",\"Bangalore\",\"Bangalore\",\"Bangalore\",\"Bangalore\",\"Bangalore\",\"Bangalore\",\"Bangalore\",\"Bangalore\",\"Bangalore\",\"Bangalore\",\"Bangalore\",\"Bangalore\",\"Bangalore\",\"Bangalore\",\"Bangalore\",\"Bangalore\",\"Bangalore\",\"Bangalore\",\"Bangalore\",\"Bangalore\",\"Bangalore\",\"Bangalore\",\"Bangalore\",\"Bangalore\",\"Bangalore\",\"Bangalore\",\"Bangalore\",\"Bangalore\",\"Bangalore\",\"Bangalore\",\"Bangalore\",\"Bangalore\",\"Bangalore\",\"Bangalore\",\"Bangalore\",\"Bangalore\",\"Bangalore\",\"Bangalore\",\"Bangalore\",\"Bangalore\",\"Bangalore\",\"Bangalore\",\"Bangalore\",\"Bangalore\",\"Bangalore\",\"Bangalore\",\"Bangalore\",\"Bangalore\",\"Bangalore\",\"Bangalore\",\"Bangalore\",\"Bangalore\",\"Bangalore\",\"Bangalore\",\"Bangalore\",\"Bangalore\",\"Bangalore\",\"Bangalore\",\"Bangalore\",\"Bangalore\",\"Bangalore\",\"Bangalore\",\"Bangalore\",\"Bangalore\",\"Bangalore\",\"Bangalore\",\"Bangalore\",\"Bangalore\",\"Bangalore\",\"Bangalore\",\"Bangalore\",\"Bangalore\",\"Bangalore\",\"Bangalore\",\"Bangalore\",\"Bangalore\",\"Bangalore\",\"Bangalore\",\"Bangalore\",\"Bangalore\",\"Bangalore\",\"Bangalore\",\"Bangalore\",\"Bangalore\",\"Bangalore\",\"Bangalore\",\"Bangalore\",\"Bangalore\",\"Bangalore\",\"Bangalore\",\"Bangalore\",\"Bangalore\",\"Bangalore\",\"Bangalore\",\"Bangalore\",\"Bangalore\",\"Bangalore\",\"Bangalore\",\"Bangalore\",\"Bangalore\",\"Bangalore\",\"Bangalore\",\"Bangalore\",\"Bangalore\",\"Bangalore\",\"Bangalore\",\"Bangalore\",\"Bangalore\",\"Bangalore\",\"Bangalore\",\"Bangalore\",\"Bangalore\",\"Bangalore\",\"Bangalore\",\"Bangalore\",\"Bangalore\",\"Bangalore\",\"Bangalore\",\"Bangalore\",\"Bangalore\",\"Bangalore\",\"Bangalore\",\"Bangalore\",\"Bangalore\",\"Bangalore\",\"Bangalore\",\"Bangalore\",\"Bangalore\",\"Bangalore\",\"Bangalore\",\"Bangalore\",\"Bangalore\",\"Bangalore\",\"Bangalore\",\"Bangalore\",\"Bangalore\",\"Bangalore\",\"Bangalore\",\"Bangalore\",\"Bangalore\",\"Bangalore\",\"Bangalore\",\"Bangalore\",\"Bangalore\",\"Bangalore\",\"Bangalore\",\"Bangalore\",\"Bangalore\",\"Bangalore\",\"Bangalore\",\"Bangalore\",\"Bangalore\",\"Bangalore\",\"Bangalore\",\"Bangalore\",\"Bangalore\",\"Bangalore\",\"Bangalore\",\"Bangalore\",\"Bangalore\",\"Bangalore\",\"Bangalore\",\"Bangalore\",\"Bangalore\",\"Bangalore\",\"Bangalore\",\"Bangalore\",\"Bangalore\",\"Bangalore\",\"Bangalore\",\"Bangalore\",\"Bangalore\",\"Bangalore\"],\"lat\":[12.9716,12.9716,12.9716,12.9716,12.9716,12.9716,12.9716,12.9716,12.9716,12.9716,12.9716,12.9716,12.9716,12.9716,12.9716,12.9716,12.9716,12.9716,12.9716,12.9716,12.9716,12.9716,12.9716,12.9716,12.9716,12.9716,12.9716,12.9716,12.9716,12.9716,12.9716,12.9716,12.9716,12.9716,12.9716,12.9716,12.9716,12.9716,12.9716,12.9716,12.9716,12.9716,12.9716,12.9716,12.9716,12.9716,12.9716,12.9716,12.9716,12.9716,12.9716,12.9716,12.9716,12.9716,12.9716,12.9716,12.9716,12.9716,12.9716,12.9716,12.9716,12.9716,12.9716,12.9716,12.9716,12.9716,12.9716,12.9716,12.9716,12.9716,12.9716,12.9716,12.9716,12.9716,12.9716,12.9716,12.9716,12.9716,12.9716,12.9716,12.9716,12.9716,12.9716,12.9716,12.9716,12.9716,12.9716,12.9716,12.9716,12.9716,12.9716,12.9716,12.9716,12.9716,12.9716,12.9716,12.9716,12.9716,12.9716,12.9716,12.9716,12.9716,12.9716,12.9716,12.9716,12.9716,12.9716,12.9716,12.9716,12.9716,12.9716,12.9716,12.9716,12.9716,12.9716,12.9716,12.9716,12.9716,12.9716,12.9716,12.9716,12.9716,12.9716,12.9716,12.9716,12.9716,12.9716,12.9716,12.9716,12.9716,12.9716,12.9716,12.9716,12.9716,12.9716,12.9716,12.9716,12.9716,12.9716,12.9716,12.9716,12.9716,12.9716,12.9716,12.9716,12.9716,12.9716,12.9716,12.9716,12.9716,12.9716,12.9716,12.9716,12.9716,12.9716,12.9716,12.9716,12.9716,12.9716,12.9716,12.9716,12.9716,12.9716,12.9716,12.9716,12.9716,12.9716,12.9716,12.9716,12.9716,12.9716,12.9716,12.9716,12.9716,12.9716,12.9716,12.9716,12.9716,12.9716,12.9716,12.9716,12.9716,12.9716,12.9716,12.9716,12.9716,12.9716,12.9716,12.9716,12.9716,12.9716,12.9716,12.9716,12.9716,12.9716,12.9716,12.9716,12.9716,12.9716,12.9716,12.9716,12.9716,12.9716,12.9716,12.9716,12.9716,12.9716,12.9716,12.9716,12.9716,12.9716,12.9716,12.9716,12.9716,12.9716,12.9716,12.9716],\"legendgroup\":\"Bangalore\",\"lon\":[77.5946,77.5946,77.5946,77.5946,77.5946,77.5946,77.5946,77.5946,77.5946,77.5946,77.5946,77.5946,77.5946,77.5946,77.5946,77.5946,77.5946,77.5946,77.5946,77.5946,77.5946,77.5946,77.5946,77.5946,77.5946,77.5946,77.5946,77.5946,77.5946,77.5946,77.5946,77.5946,77.5946,77.5946,77.5946,77.5946,77.5946,77.5946,77.5946,77.5946,77.5946,77.5946,77.5946,77.5946,77.5946,77.5946,77.5946,77.5946,77.5946,77.5946,77.5946,77.5946,77.5946,77.5946,77.5946,77.5946,77.5946,77.5946,77.5946,77.5946,77.5946,77.5946,77.5946,77.5946,77.5946,77.5946,77.5946,77.5946,77.5946,77.5946,77.5946,77.5946,77.5946,77.5946,77.5946,77.5946,77.5946,77.5946,77.5946,77.5946,77.5946,77.5946,77.5946,77.5946,77.5946,77.5946,77.5946,77.5946,77.5946,77.5946,77.5946,77.5946,77.5946,77.5946,77.5946,77.5946,77.5946,77.5946,77.5946,77.5946,77.5946,77.5946,77.5946,77.5946,77.5946,77.5946,77.5946,77.5946,77.5946,77.5946,77.5946,77.5946,77.5946,77.5946,77.5946,77.5946,77.5946,77.5946,77.5946,77.5946,77.5946,77.5946,77.5946,77.5946,77.5946,77.5946,77.5946,77.5946,77.5946,77.5946,77.5946,77.5946,77.5946,77.5946,77.5946,77.5946,77.5946,77.5946,77.5946,77.5946,77.5946,77.5946,77.5946,77.5946,77.5946,77.5946,77.5946,77.5946,77.5946,77.5946,77.5946,77.5946,77.5946,77.5946,77.5946,77.5946,77.5946,77.5946,77.5946,77.5946,77.5946,77.5946,77.5946,77.5946,77.5946,77.5946,77.5946,77.5946,77.5946,77.5946,77.5946,77.5946,77.5946,77.5946,77.5946,77.5946,77.5946,77.5946,77.5946,77.5946,77.5946,77.5946,77.5946,77.5946,77.5946,77.5946,77.5946,77.5946,77.5946,77.5946,77.5946,77.5946,77.5946,77.5946,77.5946,77.5946,77.5946,77.5946,77.5946,77.5946,77.5946,77.5946,77.5946,77.5946,77.5946,77.5946,77.5946,77.5946,77.5946,77.5946,77.5946,77.5946,77.5946,77.5946,77.5946,77.5946,77.5946],\"marker\":{\"color\":\"#FECB52\",\"size\":[430,224,64,465,128,107,168,305,405,272,302,138,339,85,255,446,212,159,331,232,226,255,477,346,398,71,272,350,220,231,63,421,268,323,79,346,125,20,458,215,396,87,486,464,194,290,378,215,373,350,119,460,443,51,275,231,149,388,321,282,71,342,292,76,179,463,156,46,290,146,139,332,434,390,158,488,134,166,371,311,189,35,441,480,284,68,499,366,369,492,454,97,258,359,119,86,38,79,215,349,464,442,223,436,179,110,153,308,207,408,64,178,255,32,170,423,305,396,418,175,170,447,199,58,488,367,46,266,466,409,31,27,240,16,84,462,206,131,437,485,113,32,464,263,301,292,416,99,191,434,427,89,281,423,323,131,392,450,299,382,33,299,415,63,345,197,390,312,126,350,454,409,378,346,452,351,406,384,416,305,169,296,419,240,406,428,239,11,62,237,121,124,478,299,468,51,230,494,108,225,318,333,306,14,104,184,163,225,70,294,117,26,191,83,134,153,310],\"sizemode\":\"area\",\"sizeref\":0.2},\"mode\":\"markers\",\"name\":\"Bangalore\",\"showlegend\":true,\"subplot\":\"mapbox\",\"type\":\"scattermapbox\"}],                        {\"template\":{\"data\":{\"histogram2dcontour\":[{\"type\":\"histogram2dcontour\",\"colorbar\":{\"outlinewidth\":0,\"ticks\":\"\"},\"colorscale\":[[0.0,\"#0d0887\"],[0.1111111111111111,\"#46039f\"],[0.2222222222222222,\"#7201a8\"],[0.3333333333333333,\"#9c179e\"],[0.4444444444444444,\"#bd3786\"],[0.5555555555555556,\"#d8576b\"],[0.6666666666666666,\"#ed7953\"],[0.7777777777777778,\"#fb9f3a\"],[0.8888888888888888,\"#fdca26\"],[1.0,\"#f0f921\"]]}],\"choropleth\":[{\"type\":\"choropleth\",\"colorbar\":{\"outlinewidth\":0,\"ticks\":\"\"}}],\"histogram2d\":[{\"type\":\"histogram2d\",\"colorbar\":{\"outlinewidth\":0,\"ticks\":\"\"},\"colorscale\":[[0.0,\"#0d0887\"],[0.1111111111111111,\"#46039f\"],[0.2222222222222222,\"#7201a8\"],[0.3333333333333333,\"#9c179e\"],[0.4444444444444444,\"#bd3786\"],[0.5555555555555556,\"#d8576b\"],[0.6666666666666666,\"#ed7953\"],[0.7777777777777778,\"#fb9f3a\"],[0.8888888888888888,\"#fdca26\"],[1.0,\"#f0f921\"]]}],\"heatmap\":[{\"type\":\"heatmap\",\"colorbar\":{\"outlinewidth\":0,\"ticks\":\"\"},\"colorscale\":[[0.0,\"#0d0887\"],[0.1111111111111111,\"#46039f\"],[0.2222222222222222,\"#7201a8\"],[0.3333333333333333,\"#9c179e\"],[0.4444444444444444,\"#bd3786\"],[0.5555555555555556,\"#d8576b\"],[0.6666666666666666,\"#ed7953\"],[0.7777777777777778,\"#fb9f3a\"],[0.8888888888888888,\"#fdca26\"],[1.0,\"#f0f921\"]]}],\"heatmapgl\":[{\"type\":\"heatmapgl\",\"colorbar\":{\"outlinewidth\":0,\"ticks\":\"\"},\"colorscale\":[[0.0,\"#0d0887\"],[0.1111111111111111,\"#46039f\"],[0.2222222222222222,\"#7201a8\"],[0.3333333333333333,\"#9c179e\"],[0.4444444444444444,\"#bd3786\"],[0.5555555555555556,\"#d8576b\"],[0.6666666666666666,\"#ed7953\"],[0.7777777777777778,\"#fb9f3a\"],[0.8888888888888888,\"#fdca26\"],[1.0,\"#f0f921\"]]}],\"contourcarpet\":[{\"type\":\"contourcarpet\",\"colorbar\":{\"outlinewidth\":0,\"ticks\":\"\"}}],\"contour\":[{\"type\":\"contour\",\"colorbar\":{\"outlinewidth\":0,\"ticks\":\"\"},\"colorscale\":[[0.0,\"#0d0887\"],[0.1111111111111111,\"#46039f\"],[0.2222222222222222,\"#7201a8\"],[0.3333333333333333,\"#9c179e\"],[0.4444444444444444,\"#bd3786\"],[0.5555555555555556,\"#d8576b\"],[0.6666666666666666,\"#ed7953\"],[0.7777777777777778,\"#fb9f3a\"],[0.8888888888888888,\"#fdca26\"],[1.0,\"#f0f921\"]]}],\"surface\":[{\"type\":\"surface\",\"colorbar\":{\"outlinewidth\":0,\"ticks\":\"\"},\"colorscale\":[[0.0,\"#0d0887\"],[0.1111111111111111,\"#46039f\"],[0.2222222222222222,\"#7201a8\"],[0.3333333333333333,\"#9c179e\"],[0.4444444444444444,\"#bd3786\"],[0.5555555555555556,\"#d8576b\"],[0.6666666666666666,\"#ed7953\"],[0.7777777777777778,\"#fb9f3a\"],[0.8888888888888888,\"#fdca26\"],[1.0,\"#f0f921\"]]}],\"mesh3d\":[{\"type\":\"mesh3d\",\"colorbar\":{\"outlinewidth\":0,\"ticks\":\"\"}}],\"scatter\":[{\"fillpattern\":{\"fillmode\":\"overlay\",\"size\":10,\"solidity\":0.2},\"type\":\"scatter\"}],\"parcoords\":[{\"type\":\"parcoords\",\"line\":{\"colorbar\":{\"outlinewidth\":0,\"ticks\":\"\"}}}],\"scatterpolargl\":[{\"type\":\"scatterpolargl\",\"marker\":{\"colorbar\":{\"outlinewidth\":0,\"ticks\":\"\"}}}],\"bar\":[{\"error_x\":{\"color\":\"#2a3f5f\"},\"error_y\":{\"color\":\"#2a3f5f\"},\"marker\":{\"line\":{\"color\":\"#E5ECF6\",\"width\":0.5},\"pattern\":{\"fillmode\":\"overlay\",\"size\":10,\"solidity\":0.2}},\"type\":\"bar\"}],\"scattergeo\":[{\"type\":\"scattergeo\",\"marker\":{\"colorbar\":{\"outlinewidth\":0,\"ticks\":\"\"}}}],\"scatterpolar\":[{\"type\":\"scatterpolar\",\"marker\":{\"colorbar\":{\"outlinewidth\":0,\"ticks\":\"\"}}}],\"histogram\":[{\"marker\":{\"pattern\":{\"fillmode\":\"overlay\",\"size\":10,\"solidity\":0.2}},\"type\":\"histogram\"}],\"scattergl\":[{\"type\":\"scattergl\",\"marker\":{\"colorbar\":{\"outlinewidth\":0,\"ticks\":\"\"}}}],\"scatter3d\":[{\"type\":\"scatter3d\",\"line\":{\"colorbar\":{\"outlinewidth\":0,\"ticks\":\"\"}},\"marker\":{\"colorbar\":{\"outlinewidth\":0,\"ticks\":\"\"}}}],\"scattermapbox\":[{\"type\":\"scattermapbox\",\"marker\":{\"colorbar\":{\"outlinewidth\":0,\"ticks\":\"\"}}}],\"scatterternary\":[{\"type\":\"scatterternary\",\"marker\":{\"colorbar\":{\"outlinewidth\":0,\"ticks\":\"\"}}}],\"scattercarpet\":[{\"type\":\"scattercarpet\",\"marker\":{\"colorbar\":{\"outlinewidth\":0,\"ticks\":\"\"}}}],\"carpet\":[{\"aaxis\":{\"endlinecolor\":\"#2a3f5f\",\"gridcolor\":\"white\",\"linecolor\":\"white\",\"minorgridcolor\":\"white\",\"startlinecolor\":\"#2a3f5f\"},\"baxis\":{\"endlinecolor\":\"#2a3f5f\",\"gridcolor\":\"white\",\"linecolor\":\"white\",\"minorgridcolor\":\"white\",\"startlinecolor\":\"#2a3f5f\"},\"type\":\"carpet\"}],\"table\":[{\"cells\":{\"fill\":{\"color\":\"#EBF0F8\"},\"line\":{\"color\":\"white\"}},\"header\":{\"fill\":{\"color\":\"#C8D4E3\"},\"line\":{\"color\":\"white\"}},\"type\":\"table\"}],\"barpolar\":[{\"marker\":{\"line\":{\"color\":\"#E5ECF6\",\"width\":0.5},\"pattern\":{\"fillmode\":\"overlay\",\"size\":10,\"solidity\":0.2}},\"type\":\"barpolar\"}],\"pie\":[{\"automargin\":true,\"type\":\"pie\"}]},\"layout\":{\"autotypenumbers\":\"strict\",\"colorway\":[\"#636efa\",\"#EF553B\",\"#00cc96\",\"#ab63fa\",\"#FFA15A\",\"#19d3f3\",\"#FF6692\",\"#B6E880\",\"#FF97FF\",\"#FECB52\"],\"font\":{\"color\":\"#2a3f5f\"},\"hovermode\":\"closest\",\"hoverlabel\":{\"align\":\"left\"},\"paper_bgcolor\":\"white\",\"plot_bgcolor\":\"#E5ECF6\",\"polar\":{\"bgcolor\":\"#E5ECF6\",\"angularaxis\":{\"gridcolor\":\"white\",\"linecolor\":\"white\",\"ticks\":\"\"},\"radialaxis\":{\"gridcolor\":\"white\",\"linecolor\":\"white\",\"ticks\":\"\"}},\"ternary\":{\"bgcolor\":\"#E5ECF6\",\"aaxis\":{\"gridcolor\":\"white\",\"linecolor\":\"white\",\"ticks\":\"\"},\"baxis\":{\"gridcolor\":\"white\",\"linecolor\":\"white\",\"ticks\":\"\"},\"caxis\":{\"gridcolor\":\"white\",\"linecolor\":\"white\",\"ticks\":\"\"}},\"coloraxis\":{\"colorbar\":{\"outlinewidth\":0,\"ticks\":\"\"}},\"colorscale\":{\"sequential\":[[0.0,\"#0d0887\"],[0.1111111111111111,\"#46039f\"],[0.2222222222222222,\"#7201a8\"],[0.3333333333333333,\"#9c179e\"],[0.4444444444444444,\"#bd3786\"],[0.5555555555555556,\"#d8576b\"],[0.6666666666666666,\"#ed7953\"],[0.7777777777777778,\"#fb9f3a\"],[0.8888888888888888,\"#fdca26\"],[1.0,\"#f0f921\"]],\"sequentialminus\":[[0.0,\"#0d0887\"],[0.1111111111111111,\"#46039f\"],[0.2222222222222222,\"#7201a8\"],[0.3333333333333333,\"#9c179e\"],[0.4444444444444444,\"#bd3786\"],[0.5555555555555556,\"#d8576b\"],[0.6666666666666666,\"#ed7953\"],[0.7777777777777778,\"#fb9f3a\"],[0.8888888888888888,\"#fdca26\"],[1.0,\"#f0f921\"]],\"diverging\":[[0,\"#8e0152\"],[0.1,\"#c51b7d\"],[0.2,\"#de77ae\"],[0.3,\"#f1b6da\"],[0.4,\"#fde0ef\"],[0.5,\"#f7f7f7\"],[0.6,\"#e6f5d0\"],[0.7,\"#b8e186\"],[0.8,\"#7fbc41\"],[0.9,\"#4d9221\"],[1,\"#276419\"]]},\"xaxis\":{\"gridcolor\":\"white\",\"linecolor\":\"white\",\"ticks\":\"\",\"title\":{\"standoff\":15},\"zerolinecolor\":\"white\",\"automargin\":true,\"zerolinewidth\":2},\"yaxis\":{\"gridcolor\":\"white\",\"linecolor\":\"white\",\"ticks\":\"\",\"title\":{\"standoff\":15},\"zerolinecolor\":\"white\",\"automargin\":true,\"zerolinewidth\":2},\"scene\":{\"xaxis\":{\"backgroundcolor\":\"#E5ECF6\",\"gridcolor\":\"white\",\"linecolor\":\"white\",\"showbackground\":true,\"ticks\":\"\",\"zerolinecolor\":\"white\",\"gridwidth\":2},\"yaxis\":{\"backgroundcolor\":\"#E5ECF6\",\"gridcolor\":\"white\",\"linecolor\":\"white\",\"showbackground\":true,\"ticks\":\"\",\"zerolinecolor\":\"white\",\"gridwidth\":2},\"zaxis\":{\"backgroundcolor\":\"#E5ECF6\",\"gridcolor\":\"white\",\"linecolor\":\"white\",\"showbackground\":true,\"ticks\":\"\",\"zerolinecolor\":\"white\",\"gridwidth\":2}},\"shapedefaults\":{\"line\":{\"color\":\"#2a3f5f\"}},\"annotationdefaults\":{\"arrowcolor\":\"#2a3f5f\",\"arrowhead\":0,\"arrowwidth\":1},\"geo\":{\"bgcolor\":\"white\",\"landcolor\":\"#E5ECF6\",\"subunitcolor\":\"white\",\"showland\":true,\"showlakes\":true,\"lakecolor\":\"white\"},\"title\":{\"x\":0.05},\"mapbox\":{\"style\":\"light\"}}},\"mapbox\":{\"domain\":{\"x\":[0.0,1.0],\"y\":[0.0,1.0]},\"center\":{\"lat\":20.5937,\"lon\":78.9629},\"zoom\":4,\"style\":\"carto-positron\"},\"legend\":{\"title\":{\"text\":\"Job Location\"},\"tracegroupgap\":0,\"itemsizing\":\"constant\"},\"title\":{\"text\":\"Jobs for Software Engineer Across India\"},\"margin\":{\"r\":0,\"t\":0,\"l\":0,\"b\":0}},                        {\"responsive\": true}                    ).then(function(){\n",
       "                            \n",
       "var gd = document.getElementById('0ac77c9f-3d69-45e9-9c7b-077ee8c12da2');\n",
       "var x = new MutationObserver(function (mutations, observer) {{\n",
       "        var display = window.getComputedStyle(gd).display;\n",
       "        if (!display || display === 'none') {{\n",
       "            console.log([gd, 'removed!']);\n",
       "            Plotly.purge(gd);\n",
       "            observer.disconnect();\n",
       "        }}\n",
       "}});\n",
       "\n",
       "// Listen for the removal of the full notebook cells\n",
       "var notebookContainer = gd.closest('#notebook-container');\n",
       "if (notebookContainer) {{\n",
       "    x.observe(notebookContainer, {childList: true});\n",
       "}}\n",
       "\n",
       "// Listen for the clearing of the current output cell\n",
       "var outputEl = gd.closest('.output');\n",
       "if (outputEl) {{\n",
       "    x.observe(outputEl, {childList: true});\n",
       "}}\n",
       "\n",
       "                        })                };                });            </script>        </div>"
      ]
     },
     "metadata": {},
     "output_type": "display_data"
    }
   ],
   "source": [
    "import plotly.express as px\n",
    "\n",
    "# Filter by role dynamically\n",
    "selected_role = \"Software Engineer\"\n",
    "filtered_df = df[df['Job Title'] == selected_role]\n",
    "\n",
    "# Create an interactive map\n",
    "fig = px.scatter_mapbox(\n",
    "    filtered_df,\n",
    "    lat=\"Latitude\",\n",
    "    lon=\"Longitude\",\n",
    "    size=\"Number of Applicants\",\n",
    "    color=\"Job Location\",\n",
    "    hover_name=\"Job Location\",\n",
    "    hover_data={\"Job Title\": True, \"Number of Applicants\": True},\n",
    "    size_max=50,\n",
    "    zoom=4,\n",
    "    title=f\"Jobs for {selected_role} Across India\"\n",
    ")\n",
    "\n",
    "# Mapbox style and center\n",
    "fig.update_layout(mapbox_style=\"carto-positron\", mapbox_zoom=4, mapbox_center={\"lat\": 20.5937, \"lon\": 78.9629})\n",
    "fig.update_layout(margin={\"r\":0,\"t\":0,\"l\":0,\"b\":0})\n",
    "\n",
    "fig.show()\n"
   ]
  }
 ],
 "metadata": {
  "kernelspec": {
   "display_name": "Python 3 (ipykernel)",
   "language": "python",
   "name": "python3"
  },
  "language_info": {
   "codemirror_mode": {
    "name": "ipython",
    "version": 3
   },
   "file_extension": ".py",
   "mimetype": "text/x-python",
   "name": "python",
   "nbconvert_exporter": "python",
   "pygments_lexer": "ipython3",
   "version": "3.9.13"
  }
 },
 "nbformat": 4,
 "nbformat_minor": 5
}
