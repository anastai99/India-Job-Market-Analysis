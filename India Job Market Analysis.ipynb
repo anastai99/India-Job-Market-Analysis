{
 "cells": [
  {
   "cell_type": "markdown",
   "id": "f5d6313a",
   "metadata": {},
   "source": [
    "# India's Market Analysis"
   ]
  },
  {
   "cell_type": "code",
   "execution_count": 60,
   "id": "c4c17881",
   "metadata": {},
   "outputs": [],
   "source": [
    "import pandas as pd\n",
    "import dash\n",
    "from dash import dcc, html, Input, Output\n",
    "from collections import Counter\n",
    "import matplotlib.pyplot as plt\n",
    "from wordcloud import WordCloud"
   ]
  },
  {
   "cell_type": "markdown",
   "id": "d990c872",
   "metadata": {},
   "source": [
    "# Part 1: Preprocessing Data"
   ]
  },
  {
   "cell_type": "markdown",
   "id": "a971e78f",
   "metadata": {},
   "source": [
    "## 1.1 Downloading Data"
   ]
  },
  {
   "cell_type": "code",
   "execution_count": 61,
   "id": "b683da37",
   "metadata": {
    "scrolled": true
   },
   "outputs": [
    {
     "name": "stdout",
     "output_type": "stream",
     "text": [
      "Dataset URL: https://www.kaggle.com/datasets/ashaychoudhary/india-job-market-dataset\n",
      "License(s): MIT\n",
      "Downloading india-job-market-dataset.zip to ./india_job_market\n",
      "  0%|                                                | 0.00/406k [00:00<?, ?B/s]\n",
      "100%|████████████████████████████████████████| 406k/406k [00:00<00:00, 4.23MB/s]\n"
     ]
    }
   ],
   "source": [
    "!kaggle datasets download -d ashaychoudhary/india-job-market-dataset --unzip -p ./india_job_market\n"
   ]
  },
  {
   "cell_type": "code",
   "execution_count": 62,
   "id": "8b7cecfd",
   "metadata": {},
   "outputs": [
    {
     "name": "stdout",
     "output_type": "stream",
     "text": [
      "India Job Market Analysis.ipynb  \u001b[34mindia_job_market\u001b[m\u001b[m/\r\n",
      "\u001b[34mIndia-Job-Market-Analysis\u001b[m\u001b[m/       kaggle.json\r\n",
      "README.md\r\n"
     ]
    }
   ],
   "source": [
    "ls"
   ]
  },
  {
   "cell_type": "markdown",
   "id": "47fe1a86",
   "metadata": {},
   "source": [
    "## 1.2 Reviewing the first couple of rows of dataset"
   ]
  },
  {
   "cell_type": "code",
   "execution_count": 63,
   "id": "235972b5",
   "metadata": {},
   "outputs": [
    {
     "data": {
      "text/html": [
       "<div>\n",
       "<style scoped>\n",
       "    .dataframe tbody tr th:only-of-type {\n",
       "        vertical-align: middle;\n",
       "    }\n",
       "\n",
       "    .dataframe tbody tr th {\n",
       "        vertical-align: top;\n",
       "    }\n",
       "\n",
       "    .dataframe thead th {\n",
       "        text-align: right;\n",
       "    }\n",
       "</style>\n",
       "<table border=\"1\" class=\"dataframe\">\n",
       "  <thead>\n",
       "    <tr style=\"text-align: right;\">\n",
       "      <th></th>\n",
       "      <th>Job ID</th>\n",
       "      <th>Job Title</th>\n",
       "      <th>Company Name</th>\n",
       "      <th>Job Location</th>\n",
       "      <th>Job Type</th>\n",
       "      <th>Salary Range</th>\n",
       "      <th>Experience Required</th>\n",
       "      <th>Posted Date</th>\n",
       "      <th>Application Deadline</th>\n",
       "      <th>Job Portal</th>\n",
       "      <th>Number of Applicants</th>\n",
       "      <th>Education Requirement</th>\n",
       "      <th>Skills Required</th>\n",
       "      <th>Remote/Onsite</th>\n",
       "      <th>Company Size</th>\n",
       "    </tr>\n",
       "  </thead>\n",
       "  <tbody>\n",
       "    <tr>\n",
       "      <th>0</th>\n",
       "      <td>JOB1</td>\n",
       "      <td>Software Engineer</td>\n",
       "      <td>Amazon</td>\n",
       "      <td>Ahmedabad</td>\n",
       "      <td>Full-time</td>\n",
       "      <td>5-8 LPA</td>\n",
       "      <td>2-5 years</td>\n",
       "      <td>2025-01-16</td>\n",
       "      <td>2025-01-25</td>\n",
       "      <td>LinkedIn</td>\n",
       "      <td>23</td>\n",
       "      <td>PhD</td>\n",
       "      <td>C++, SQL, Python</td>\n",
       "      <td>Remote</td>\n",
       "      <td>Small (1-50)</td>\n",
       "    </tr>\n",
       "    <tr>\n",
       "      <th>1</th>\n",
       "      <td>JOB2</td>\n",
       "      <td>Marketing Executive</td>\n",
       "      <td>Infosys</td>\n",
       "      <td>Ahmedabad</td>\n",
       "      <td>Internship</td>\n",
       "      <td>5-8 LPA</td>\n",
       "      <td>2-5 years</td>\n",
       "      <td>2024-12-25</td>\n",
       "      <td>2025-01-19</td>\n",
       "      <td>Indeed</td>\n",
       "      <td>462</td>\n",
       "      <td>MBA</td>\n",
       "      <td>SQL, C++, Python</td>\n",
       "      <td>Remote</td>\n",
       "      <td>Large (500+)</td>\n",
       "    </tr>\n",
       "    <tr>\n",
       "      <th>2</th>\n",
       "      <td>JOB3</td>\n",
       "      <td>Financial Analyst</td>\n",
       "      <td>Deloitte</td>\n",
       "      <td>Jaipur</td>\n",
       "      <td>Contract</td>\n",
       "      <td>20+ LPA</td>\n",
       "      <td>5-10 years</td>\n",
       "      <td>2025-01-22</td>\n",
       "      <td>2025-01-29</td>\n",
       "      <td>Naukri.com</td>\n",
       "      <td>430</td>\n",
       "      <td>M.Tech</td>\n",
       "      <td>Machine Learning, Excel, React</td>\n",
       "      <td>Remote</td>\n",
       "      <td>Large (500+)</td>\n",
       "    </tr>\n",
       "    <tr>\n",
       "      <th>3</th>\n",
       "      <td>JOB4</td>\n",
       "      <td>Business Analyst</td>\n",
       "      <td>Amazon</td>\n",
       "      <td>Delhi</td>\n",
       "      <td>Full-time</td>\n",
       "      <td>20+ LPA</td>\n",
       "      <td>2-5 years</td>\n",
       "      <td>2025-01-07</td>\n",
       "      <td>2025-02-06</td>\n",
       "      <td>LinkedIn</td>\n",
       "      <td>387</td>\n",
       "      <td>B.Tech</td>\n",
       "      <td>Machine Learning, Python, SQL</td>\n",
       "      <td>Hybrid</td>\n",
       "      <td>Small (1-50)</td>\n",
       "    </tr>\n",
       "    <tr>\n",
       "      <th>4</th>\n",
       "      <td>JOB5</td>\n",
       "      <td>Software Engineer</td>\n",
       "      <td>Infosys</td>\n",
       "      <td>Delhi</td>\n",
       "      <td>Full-time</td>\n",
       "      <td>12-20 LPA</td>\n",
       "      <td>10+ years</td>\n",
       "      <td>2024-12-26</td>\n",
       "      <td>2025-01-08</td>\n",
       "      <td>Indeed</td>\n",
       "      <td>199</td>\n",
       "      <td>MBA</td>\n",
       "      <td>UI/UX, C++, Java</td>\n",
       "      <td>Onsite</td>\n",
       "      <td>Small (1-50)</td>\n",
       "    </tr>\n",
       "  </tbody>\n",
       "</table>\n",
       "</div>"
      ],
      "text/plain": [
       "  Job ID            Job Title Company Name Job Location    Job Type  \\\n",
       "0   JOB1    Software Engineer       Amazon    Ahmedabad   Full-time   \n",
       "1   JOB2  Marketing Executive      Infosys    Ahmedabad  Internship   \n",
       "2   JOB3    Financial Analyst     Deloitte       Jaipur    Contract   \n",
       "3   JOB4     Business Analyst       Amazon        Delhi   Full-time   \n",
       "4   JOB5    Software Engineer      Infosys        Delhi   Full-time   \n",
       "\n",
       "  Salary Range Experience Required Posted Date Application Deadline  \\\n",
       "0      5-8 LPA           2-5 years  2025-01-16           2025-01-25   \n",
       "1      5-8 LPA           2-5 years  2024-12-25           2025-01-19   \n",
       "2      20+ LPA          5-10 years  2025-01-22           2025-01-29   \n",
       "3      20+ LPA           2-5 years  2025-01-07           2025-02-06   \n",
       "4    12-20 LPA           10+ years  2024-12-26           2025-01-08   \n",
       "\n",
       "   Job Portal  Number of Applicants Education Requirement  \\\n",
       "0    LinkedIn                    23                   PhD   \n",
       "1      Indeed                   462                   MBA   \n",
       "2  Naukri.com                   430                M.Tech   \n",
       "3    LinkedIn                   387                B.Tech   \n",
       "4      Indeed                   199                   MBA   \n",
       "\n",
       "                  Skills Required Remote/Onsite  Company Size  \n",
       "0                C++, SQL, Python        Remote  Small (1-50)  \n",
       "1                SQL, C++, Python        Remote  Large (500+)  \n",
       "2  Machine Learning, Excel, React        Remote  Large (500+)  \n",
       "3   Machine Learning, Python, SQL        Hybrid  Small (1-50)  \n",
       "4                UI/UX, C++, Java        Onsite  Small (1-50)  "
      ]
     },
     "execution_count": 63,
     "metadata": {},
     "output_type": "execute_result"
    }
   ],
   "source": [
    "df = pd.read_csv('./india_job_market/india_job_market_dataset.csv')  \n",
    "df.head()"
   ]
  },
  {
   "cell_type": "markdown",
   "id": "8a2987a8",
   "metadata": {},
   "source": [
    "## 1.3 Adding the coordinates for the unique cities used in this dataset to get a visual of the job location"
   ]
  },
  {
   "cell_type": "code",
   "execution_count": 78,
   "id": "c57ada09",
   "metadata": {},
   "outputs": [
    {
     "data": {
      "text/plain": [
       "['Ahmedabad',\n",
       " 'Jaipur',\n",
       " 'Delhi',\n",
       " 'Pune',\n",
       " 'Noida',\n",
       " 'Mumbai',\n",
       " 'Hyderabad',\n",
       " 'Kolkata',\n",
       " 'Bangalore',\n",
       " 'Chennai']"
      ]
     },
     "execution_count": 78,
     "metadata": {},
     "output_type": "execute_result"
    }
   ],
   "source": [
    "list(df['Job Location'].unique())"
   ]
  },
  {
   "cell_type": "code",
   "execution_count": 64,
   "id": "ecb87c47",
   "metadata": {},
   "outputs": [],
   "source": [
    "# City-to-coordinates mapping\n",
    "city_coordinates = {\n",
    "    \"Ahmedabad\": {\"lat\": 23.0225, \"lon\": 72.5714},\n",
    "    \"Jaipur\": {\"lat\": 26.9124, \"lon\": 75.7873},\n",
    "    \"Delhi\": {\"lat\": 28.7041, \"lon\": 77.1025},\n",
    "    \"Pune\": {\"lat\": 18.5204, \"lon\": 73.8567},\n",
    "    \"Noida\": {\"lat\": 28.5355, \"lon\": 77.3910},\n",
    "    \"Mumbai\": {\"lat\": 19.0760, \"lon\": 72.8777},\n",
    "    \"Hyderabad\": {\"lat\": 17.3850, \"lon\": 78.4867},\n",
    "    \"Kolkata\": {\"lat\": 22.5726, \"lon\": 88.3639},\n",
    "    \"Bangalore\": {\"lat\": 12.9716, \"lon\": 77.5946},\n",
    "    \"Chennai\": {\"lat\": 13.0827, \"lon\": 80.2707}\n",
    "}"
   ]
  },
  {
   "cell_type": "code",
   "execution_count": 65,
   "id": "a13d5c0b",
   "metadata": {},
   "outputs": [],
   "source": [
    "# Map latitude and longitude\n",
    "df[\"Latitude\"] = df[\"Job Location\"].map(lambda x: city_coordinates[x][\"lat\"])\n",
    "df[\"Longitude\"] = df[\"Job Location\"].map(lambda x: city_coordinates[x][\"lon\"])"
   ]
  },
  {
   "cell_type": "markdown",
   "id": "624cc336",
   "metadata": {},
   "source": [
    "# Part 2: Analysis of the Data"
   ]
  },
  {
   "cell_type": "markdown",
   "id": "8905ad75",
   "metadata": {},
   "source": [
    "## 2.1 Interactive map of India and the Job Market. "
   ]
  },
  {
   "cell_type": "markdown",
   "id": "0eac06a4",
   "metadata": {},
   "source": [
    "The provided code creates an interactive map to visualize job postings across Indian cities, based on the selected job role. This is implemented using the Dash framework, which enables dynamic updates and user-friendly interactivity."
   ]
  },
  {
   "cell_type": "markdown",
   "id": "916b1d0c",
   "metadata": {},
   "source": [
    "**Note: You can interact with the chart by toggling variables on or off. Simply click on any legend item (key) corresponding to a variable to hide it from the display. Clicking it again will bring it back. This allows you to focus on specific variables or compare selected ones more effectively.**"
   ]
  },
  {
   "cell_type": "code",
   "execution_count": 80,
   "id": "627bc4d1",
   "metadata": {},
   "outputs": [
    {
     "data": {
      "text/html": [
       "\n",
       "        <iframe\n",
       "            width=\"100%\"\n",
       "            height=\"650\"\n",
       "            src=\"http://127.0.0.1:8050/\"\n",
       "            frameborder=\"0\"\n",
       "            allowfullscreen\n",
       "            \n",
       "        ></iframe>\n",
       "        "
      ],
      "text/plain": [
       "<IPython.lib.display.IFrame at 0x7fd3d99cc610>"
      ]
     },
     "metadata": {},
     "output_type": "display_data"
    }
   ],
   "source": [
    "# Initialize Dash app\n",
    "app = dash.Dash(__name__, external_stylesheets=[\"https://cdn.jsdelivr.net/npm/bootstrap@5.1.3/dist/css/bootstrap.min.css\"])\n",
    "\n",
    "# App layout\n",
    "app.layout = html.Div([\n",
    "    html.H1(\"India Job Market Analysis\", style={'textAlign': 'center'}),\n",
    "    html.Div([\n",
    "        html.Label(\"Select Job Role:\"),\n",
    "        dcc.Dropdown(\n",
    "            id=\"role-dropdown\",\n",
    "            options=[{\"label\": role, \"value\": role} for role in df[\"Job Title\"].unique()],\n",
    "            value=\"Software Engineer\",\n",
    "            clearable=False\n",
    "        )\n",
    "    ], style={'width': '50%', 'margin': '0 auto', 'padding': '20px'}),\n",
    "    dcc.Graph(id=\"map\"),\n",
    "])\n",
    "\n",
    "\n",
    "# Callback to update map\n",
    "@app.callback(\n",
    "    Output(\"map\", \"figure\"),\n",
    "    Input(\"role-dropdown\", \"value\")\n",
    ")\n",
    "def update_map(selected_role):\n",
    "    # Filter dataset for the selected role\n",
    "    filtered_df = df[df[\"Job Title\"] == selected_role]\n",
    "    \n",
    "    # Group by city to calculate total jobs posted\n",
    "    city_job_counts = filtered_df.groupby(\"Job Location\").size().reset_index(name=\"Total Jobs\")\n",
    "    \n",
    "    # Merge the job counts with their corresponding lat/lon (if separate)\n",
    "    city_job_counts = city_job_counts.merge(filtered_df[[\"Job Location\", \"Latitude\", \"Longitude\"]].drop_duplicates(), on=\"Job Location\")\n",
    "    \n",
    "    # Create the map\n",
    "    fig = px.scatter_mapbox(\n",
    "        city_job_counts,\n",
    "        lat=\"Latitude\",\n",
    "        lon=\"Longitude\",\n",
    "        size=\"Total Jobs\",  # Use total jobs to determine circle size\n",
    "        color=\"Job Location\",\n",
    "        hover_name=\"Job Location\",\n",
    "        hover_data={\"Total Jobs\": True},\n",
    "        size_max=50,\n",
    "        zoom=4,\n",
    "        title=f\"Total Jobs for {selected_role} Across Indian Cities\"\n",
    "    )\n",
    "    fig.update_layout(mapbox_style=\"carto-positron\", mapbox_zoom=4, mapbox_center={\"lat\": 20.5937, \"lon\": 78.9629})\n",
    "    fig.update_layout(margin={\"r\": 0, \"t\": 0, \"l\": 0, \"b\": 0})\n",
    "    return fig\n",
    "\n",
    "# Run app\n",
    "if __name__ == \"__main__\":\n",
    "    app.run_server(debug=True)\n"
   ]
  },
  {
   "cell_type": "markdown",
   "id": "f67f7fa1",
   "metadata": {},
   "source": [
    "**The size of the circle indicates the number of jobs posted in the area given the job title in the toggle bar.**"
   ]
  },
  {
   "cell_type": "markdown",
   "id": "642ceaaa",
   "metadata": {},
   "source": [
    "## Part 2.2: Job Posting Trends Over Time"
   ]
  },
  {
   "cell_type": "markdown",
   "id": "3ae14537",
   "metadata": {},
   "source": [
    " This code creates an interactive line chart to visualize job posting trends over time, segmented by company. The dataset is grouped by Posted Date and Company Name, and the number of jobs is counted for each combination. The chart uses Plotly to display these trends, with separate lines for each company.\n"
   ]
  },
  {
   "cell_type": "code",
   "execution_count": 67,
   "id": "09444f01",
   "metadata": {},
   "outputs": [
    {
     "data": {
      "application/vnd.plotly.v1+json": {
       "config": {
        "plotlyServerURL": "https://plot.ly"
       },
       "data": [
        {
         "hovertemplate": "Company Name=Accenture<br>Date=%{x}<br>Number of Jobs=%{y}<extra></extra>",
         "legendgroup": "Accenture",
         "line": {
          "color": "#636efa",
          "dash": "solid"
         },
         "marker": {
          "symbol": "circle"
         },
         "mode": "lines+markers",
         "name": "Accenture",
         "orientation": "v",
         "showlegend": true,
         "type": "scatter",
         "x": [
          "2024-12-23T00:00:00",
          "2024-12-24T00:00:00",
          "2024-12-25T00:00:00",
          "2024-12-26T00:00:00",
          "2024-12-27T00:00:00",
          "2024-12-28T00:00:00",
          "2024-12-29T00:00:00",
          "2024-12-30T00:00:00",
          "2024-12-31T00:00:00",
          "2025-01-01T00:00:00",
          "2025-01-02T00:00:00",
          "2025-01-03T00:00:00",
          "2025-01-04T00:00:00",
          "2025-01-05T00:00:00",
          "2025-01-06T00:00:00",
          "2025-01-07T00:00:00",
          "2025-01-08T00:00:00",
          "2025-01-09T00:00:00",
          "2025-01-10T00:00:00",
          "2025-01-11T00:00:00",
          "2025-01-12T00:00:00",
          "2025-01-13T00:00:00",
          "2025-01-14T00:00:00",
          "2025-01-15T00:00:00",
          "2025-01-16T00:00:00",
          "2025-01-17T00:00:00",
          "2025-01-18T00:00:00",
          "2025-01-19T00:00:00",
          "2025-01-20T00:00:00",
          "2025-01-21T00:00:00",
          "2025-01-22T00:00:00"
         ],
         "xaxis": "x",
         "y": [
          47,
          68,
          53,
          56,
          59,
          69,
          54,
          68,
          57,
          69,
          70,
          54,
          64,
          70,
          77,
          67,
          59,
          67,
          44,
          68,
          57,
          60,
          75,
          68,
          75,
          68,
          74,
          67,
          53,
          69,
          48
         ],
         "yaxis": "y"
        },
        {
         "hovertemplate": "Company Name=Amazon<br>Date=%{x}<br>Number of Jobs=%{y}<extra></extra>",
         "legendgroup": "Amazon",
         "line": {
          "color": "#EF553B",
          "dash": "solid"
         },
         "marker": {
          "symbol": "circle"
         },
         "mode": "lines+markers",
         "name": "Amazon",
         "orientation": "v",
         "showlegend": true,
         "type": "scatter",
         "x": [
          "2024-12-23T00:00:00",
          "2024-12-24T00:00:00",
          "2024-12-25T00:00:00",
          "2024-12-26T00:00:00",
          "2024-12-27T00:00:00",
          "2024-12-28T00:00:00",
          "2024-12-29T00:00:00",
          "2024-12-30T00:00:00",
          "2024-12-31T00:00:00",
          "2025-01-01T00:00:00",
          "2025-01-02T00:00:00",
          "2025-01-03T00:00:00",
          "2025-01-04T00:00:00",
          "2025-01-05T00:00:00",
          "2025-01-06T00:00:00",
          "2025-01-07T00:00:00",
          "2025-01-08T00:00:00",
          "2025-01-09T00:00:00",
          "2025-01-10T00:00:00",
          "2025-01-11T00:00:00",
          "2025-01-12T00:00:00",
          "2025-01-13T00:00:00",
          "2025-01-14T00:00:00",
          "2025-01-15T00:00:00",
          "2025-01-16T00:00:00",
          "2025-01-17T00:00:00",
          "2025-01-18T00:00:00",
          "2025-01-19T00:00:00",
          "2025-01-20T00:00:00",
          "2025-01-21T00:00:00",
          "2025-01-22T00:00:00"
         ],
         "xaxis": "x",
         "y": [
          68,
          61,
          59,
          71,
          66,
          59,
          65,
          76,
          69,
          59,
          70,
          79,
          77,
          66,
          65,
          62,
          61,
          72,
          71,
          69,
          53,
          64,
          68,
          75,
          74,
          64,
          74,
          58,
          77,
          62,
          72
         ],
         "yaxis": "y"
        },
        {
         "hovertemplate": "Company Name=Deloitte<br>Date=%{x}<br>Number of Jobs=%{y}<extra></extra>",
         "legendgroup": "Deloitte",
         "line": {
          "color": "#00cc96",
          "dash": "solid"
         },
         "marker": {
          "symbol": "circle"
         },
         "mode": "lines+markers",
         "name": "Deloitte",
         "orientation": "v",
         "showlegend": true,
         "type": "scatter",
         "x": [
          "2024-12-23T00:00:00",
          "2024-12-24T00:00:00",
          "2024-12-25T00:00:00",
          "2024-12-26T00:00:00",
          "2024-12-27T00:00:00",
          "2024-12-28T00:00:00",
          "2024-12-29T00:00:00",
          "2024-12-30T00:00:00",
          "2024-12-31T00:00:00",
          "2025-01-01T00:00:00",
          "2025-01-02T00:00:00",
          "2025-01-03T00:00:00",
          "2025-01-04T00:00:00",
          "2025-01-05T00:00:00",
          "2025-01-06T00:00:00",
          "2025-01-07T00:00:00",
          "2025-01-08T00:00:00",
          "2025-01-09T00:00:00",
          "2025-01-10T00:00:00",
          "2025-01-11T00:00:00",
          "2025-01-12T00:00:00",
          "2025-01-13T00:00:00",
          "2025-01-14T00:00:00",
          "2025-01-15T00:00:00",
          "2025-01-16T00:00:00",
          "2025-01-17T00:00:00",
          "2025-01-18T00:00:00",
          "2025-01-19T00:00:00",
          "2025-01-20T00:00:00",
          "2025-01-21T00:00:00",
          "2025-01-22T00:00:00"
         ],
         "xaxis": "x",
         "y": [
          72,
          60,
          69,
          69,
          66,
          73,
          70,
          67,
          50,
          71,
          63,
          58,
          72,
          61,
          61,
          52,
          52,
          54,
          72,
          69,
          56,
          68,
          59,
          63,
          67,
          68,
          66,
          65,
          56,
          78,
          56
         ],
         "yaxis": "y"
        },
        {
         "hovertemplate": "Company Name=Google<br>Date=%{x}<br>Number of Jobs=%{y}<extra></extra>",
         "legendgroup": "Google",
         "line": {
          "color": "#ab63fa",
          "dash": "solid"
         },
         "marker": {
          "symbol": "circle"
         },
         "mode": "lines+markers",
         "name": "Google",
         "orientation": "v",
         "showlegend": true,
         "type": "scatter",
         "x": [
          "2024-12-23T00:00:00",
          "2024-12-24T00:00:00",
          "2024-12-25T00:00:00",
          "2024-12-26T00:00:00",
          "2024-12-27T00:00:00",
          "2024-12-28T00:00:00",
          "2024-12-29T00:00:00",
          "2024-12-30T00:00:00",
          "2024-12-31T00:00:00",
          "2025-01-01T00:00:00",
          "2025-01-02T00:00:00",
          "2025-01-03T00:00:00",
          "2025-01-04T00:00:00",
          "2025-01-05T00:00:00",
          "2025-01-06T00:00:00",
          "2025-01-07T00:00:00",
          "2025-01-08T00:00:00",
          "2025-01-09T00:00:00",
          "2025-01-10T00:00:00",
          "2025-01-11T00:00:00",
          "2025-01-12T00:00:00",
          "2025-01-13T00:00:00",
          "2025-01-14T00:00:00",
          "2025-01-15T00:00:00",
          "2025-01-16T00:00:00",
          "2025-01-17T00:00:00",
          "2025-01-18T00:00:00",
          "2025-01-19T00:00:00",
          "2025-01-20T00:00:00",
          "2025-01-21T00:00:00",
          "2025-01-22T00:00:00"
         ],
         "xaxis": "x",
         "y": [
          69,
          57,
          56,
          53,
          57,
          73,
          69,
          65,
          70,
          59,
          87,
          69,
          67,
          72,
          58,
          55,
          85,
          74,
          67,
          61,
          60,
          40,
          59,
          67,
          77,
          59,
          62,
          64,
          64,
          63,
          66
         ],
         "yaxis": "y"
        },
        {
         "hovertemplate": "Company Name=HCL<br>Date=%{x}<br>Number of Jobs=%{y}<extra></extra>",
         "legendgroup": "HCL",
         "line": {
          "color": "#FFA15A",
          "dash": "solid"
         },
         "marker": {
          "symbol": "circle"
         },
         "mode": "lines+markers",
         "name": "HCL",
         "orientation": "v",
         "showlegend": true,
         "type": "scatter",
         "x": [
          "2024-12-23T00:00:00",
          "2024-12-24T00:00:00",
          "2024-12-25T00:00:00",
          "2024-12-26T00:00:00",
          "2024-12-27T00:00:00",
          "2024-12-28T00:00:00",
          "2024-12-29T00:00:00",
          "2024-12-30T00:00:00",
          "2024-12-31T00:00:00",
          "2025-01-01T00:00:00",
          "2025-01-02T00:00:00",
          "2025-01-03T00:00:00",
          "2025-01-04T00:00:00",
          "2025-01-05T00:00:00",
          "2025-01-06T00:00:00",
          "2025-01-07T00:00:00",
          "2025-01-08T00:00:00",
          "2025-01-09T00:00:00",
          "2025-01-10T00:00:00",
          "2025-01-11T00:00:00",
          "2025-01-12T00:00:00",
          "2025-01-13T00:00:00",
          "2025-01-14T00:00:00",
          "2025-01-15T00:00:00",
          "2025-01-16T00:00:00",
          "2025-01-17T00:00:00",
          "2025-01-18T00:00:00",
          "2025-01-19T00:00:00",
          "2025-01-20T00:00:00",
          "2025-01-21T00:00:00",
          "2025-01-22T00:00:00"
         ],
         "xaxis": "x",
         "y": [
          69,
          57,
          61,
          62,
          73,
          58,
          73,
          71,
          57,
          62,
          58,
          75,
          69,
          63,
          59,
          60,
          68,
          63,
          69,
          53,
          75,
          70,
          51,
          63,
          70,
          61,
          73,
          69,
          69,
          69,
          73
         ],
         "yaxis": "y"
        },
        {
         "hovertemplate": "Company Name=IBM<br>Date=%{x}<br>Number of Jobs=%{y}<extra></extra>",
         "legendgroup": "IBM",
         "line": {
          "color": "#19d3f3",
          "dash": "solid"
         },
         "marker": {
          "symbol": "circle"
         },
         "mode": "lines+markers",
         "name": "IBM",
         "orientation": "v",
         "showlegend": true,
         "type": "scatter",
         "x": [
          "2024-12-23T00:00:00",
          "2024-12-24T00:00:00",
          "2024-12-25T00:00:00",
          "2024-12-26T00:00:00",
          "2024-12-27T00:00:00",
          "2024-12-28T00:00:00",
          "2024-12-29T00:00:00",
          "2024-12-30T00:00:00",
          "2024-12-31T00:00:00",
          "2025-01-01T00:00:00",
          "2025-01-02T00:00:00",
          "2025-01-03T00:00:00",
          "2025-01-04T00:00:00",
          "2025-01-05T00:00:00",
          "2025-01-06T00:00:00",
          "2025-01-07T00:00:00",
          "2025-01-08T00:00:00",
          "2025-01-09T00:00:00",
          "2025-01-10T00:00:00",
          "2025-01-11T00:00:00",
          "2025-01-12T00:00:00",
          "2025-01-13T00:00:00",
          "2025-01-14T00:00:00",
          "2025-01-15T00:00:00",
          "2025-01-16T00:00:00",
          "2025-01-17T00:00:00",
          "2025-01-18T00:00:00",
          "2025-01-19T00:00:00",
          "2025-01-20T00:00:00",
          "2025-01-21T00:00:00",
          "2025-01-22T00:00:00"
         ],
         "xaxis": "x",
         "y": [
          49,
          63,
          76,
          63,
          66,
          56,
          60,
          58,
          66,
          59,
          49,
          65,
          58,
          61,
          60,
          75,
          49,
          62,
          56,
          78,
          72,
          65,
          58,
          73,
          67,
          58,
          53,
          66,
          67,
          65,
          71
         ],
         "yaxis": "y"
        },
        {
         "hovertemplate": "Company Name=Infosys<br>Date=%{x}<br>Number of Jobs=%{y}<extra></extra>",
         "legendgroup": "Infosys",
         "line": {
          "color": "#FF6692",
          "dash": "solid"
         },
         "marker": {
          "symbol": "circle"
         },
         "mode": "lines+markers",
         "name": "Infosys",
         "orientation": "v",
         "showlegend": true,
         "type": "scatter",
         "x": [
          "2024-12-23T00:00:00",
          "2024-12-24T00:00:00",
          "2024-12-25T00:00:00",
          "2024-12-26T00:00:00",
          "2024-12-27T00:00:00",
          "2024-12-28T00:00:00",
          "2024-12-29T00:00:00",
          "2024-12-30T00:00:00",
          "2024-12-31T00:00:00",
          "2025-01-01T00:00:00",
          "2025-01-02T00:00:00",
          "2025-01-03T00:00:00",
          "2025-01-04T00:00:00",
          "2025-01-05T00:00:00",
          "2025-01-06T00:00:00",
          "2025-01-07T00:00:00",
          "2025-01-08T00:00:00",
          "2025-01-09T00:00:00",
          "2025-01-10T00:00:00",
          "2025-01-11T00:00:00",
          "2025-01-12T00:00:00",
          "2025-01-13T00:00:00",
          "2025-01-14T00:00:00",
          "2025-01-15T00:00:00",
          "2025-01-16T00:00:00",
          "2025-01-17T00:00:00",
          "2025-01-18T00:00:00",
          "2025-01-19T00:00:00",
          "2025-01-20T00:00:00",
          "2025-01-21T00:00:00",
          "2025-01-22T00:00:00"
         ],
         "xaxis": "x",
         "y": [
          65,
          75,
          68,
          76,
          62,
          53,
          65,
          65,
          64,
          56,
          55,
          63,
          60,
          63,
          74,
          60,
          58,
          69,
          60,
          67,
          58,
          61,
          62,
          74,
          75,
          70,
          56,
          63,
          62,
          54,
          68
         ],
         "yaxis": "y"
        },
        {
         "hovertemplate": "Company Name=Microsoft<br>Date=%{x}<br>Number of Jobs=%{y}<extra></extra>",
         "legendgroup": "Microsoft",
         "line": {
          "color": "#B6E880",
          "dash": "solid"
         },
         "marker": {
          "symbol": "circle"
         },
         "mode": "lines+markers",
         "name": "Microsoft",
         "orientation": "v",
         "showlegend": true,
         "type": "scatter",
         "x": [
          "2024-12-23T00:00:00",
          "2024-12-24T00:00:00",
          "2024-12-25T00:00:00",
          "2024-12-26T00:00:00",
          "2024-12-27T00:00:00",
          "2024-12-28T00:00:00",
          "2024-12-29T00:00:00",
          "2024-12-30T00:00:00",
          "2024-12-31T00:00:00",
          "2025-01-01T00:00:00",
          "2025-01-02T00:00:00",
          "2025-01-03T00:00:00",
          "2025-01-04T00:00:00",
          "2025-01-05T00:00:00",
          "2025-01-06T00:00:00",
          "2025-01-07T00:00:00",
          "2025-01-08T00:00:00",
          "2025-01-09T00:00:00",
          "2025-01-10T00:00:00",
          "2025-01-11T00:00:00",
          "2025-01-12T00:00:00",
          "2025-01-13T00:00:00",
          "2025-01-14T00:00:00",
          "2025-01-15T00:00:00",
          "2025-01-16T00:00:00",
          "2025-01-17T00:00:00",
          "2025-01-18T00:00:00",
          "2025-01-19T00:00:00",
          "2025-01-20T00:00:00",
          "2025-01-21T00:00:00",
          "2025-01-22T00:00:00"
         ],
         "xaxis": "x",
         "y": [
          61,
          70,
          58,
          74,
          53,
          50,
          71,
          67,
          68,
          52,
          65,
          75,
          63,
          63,
          66,
          69,
          65,
          51,
          64,
          63,
          59,
          65,
          63,
          72,
          61,
          52,
          69,
          78,
          58,
          73,
          59
         ],
         "yaxis": "y"
        },
        {
         "hovertemplate": "Company Name=TCS<br>Date=%{x}<br>Number of Jobs=%{y}<extra></extra>",
         "legendgroup": "TCS",
         "line": {
          "color": "#FF97FF",
          "dash": "solid"
         },
         "marker": {
          "symbol": "circle"
         },
         "mode": "lines+markers",
         "name": "TCS",
         "orientation": "v",
         "showlegend": true,
         "type": "scatter",
         "x": [
          "2024-12-23T00:00:00",
          "2024-12-24T00:00:00",
          "2024-12-25T00:00:00",
          "2024-12-26T00:00:00",
          "2024-12-27T00:00:00",
          "2024-12-28T00:00:00",
          "2024-12-29T00:00:00",
          "2024-12-30T00:00:00",
          "2024-12-31T00:00:00",
          "2025-01-01T00:00:00",
          "2025-01-02T00:00:00",
          "2025-01-03T00:00:00",
          "2025-01-04T00:00:00",
          "2025-01-05T00:00:00",
          "2025-01-06T00:00:00",
          "2025-01-07T00:00:00",
          "2025-01-08T00:00:00",
          "2025-01-09T00:00:00",
          "2025-01-10T00:00:00",
          "2025-01-11T00:00:00",
          "2025-01-12T00:00:00",
          "2025-01-13T00:00:00",
          "2025-01-14T00:00:00",
          "2025-01-15T00:00:00",
          "2025-01-16T00:00:00",
          "2025-01-17T00:00:00",
          "2025-01-18T00:00:00",
          "2025-01-19T00:00:00",
          "2025-01-20T00:00:00",
          "2025-01-21T00:00:00",
          "2025-01-22T00:00:00"
         ],
         "xaxis": "x",
         "y": [
          53,
          73,
          42,
          59,
          67,
          63,
          88,
          64,
          72,
          61,
          64,
          72,
          52,
          62,
          64,
          56,
          68,
          74,
          68,
          63,
          57,
          67,
          81,
          49,
          57,
          78,
          58,
          64,
          65,
          63,
          55
         ],
         "yaxis": "y"
        },
        {
         "hovertemplate": "Company Name=Wipro<br>Date=%{x}<br>Number of Jobs=%{y}<extra></extra>",
         "legendgroup": "Wipro",
         "line": {
          "color": "#FECB52",
          "dash": "solid"
         },
         "marker": {
          "symbol": "circle"
         },
         "mode": "lines+markers",
         "name": "Wipro",
         "orientation": "v",
         "showlegend": true,
         "type": "scatter",
         "x": [
          "2024-12-23T00:00:00",
          "2024-12-24T00:00:00",
          "2024-12-25T00:00:00",
          "2024-12-26T00:00:00",
          "2024-12-27T00:00:00",
          "2024-12-28T00:00:00",
          "2024-12-29T00:00:00",
          "2024-12-30T00:00:00",
          "2024-12-31T00:00:00",
          "2025-01-01T00:00:00",
          "2025-01-02T00:00:00",
          "2025-01-03T00:00:00",
          "2025-01-04T00:00:00",
          "2025-01-05T00:00:00",
          "2025-01-06T00:00:00",
          "2025-01-07T00:00:00",
          "2025-01-08T00:00:00",
          "2025-01-09T00:00:00",
          "2025-01-10T00:00:00",
          "2025-01-11T00:00:00",
          "2025-01-12T00:00:00",
          "2025-01-13T00:00:00",
          "2025-01-14T00:00:00",
          "2025-01-15T00:00:00",
          "2025-01-16T00:00:00",
          "2025-01-17T00:00:00",
          "2025-01-18T00:00:00",
          "2025-01-19T00:00:00",
          "2025-01-20T00:00:00",
          "2025-01-21T00:00:00",
          "2025-01-22T00:00:00"
         ],
         "xaxis": "x",
         "y": [
          62,
          79,
          63,
          74,
          68,
          63,
          70,
          64,
          65,
          68,
          71,
          65,
          64,
          68,
          71,
          58,
          73,
          77,
          55,
          60,
          69,
          62,
          67,
          83,
          58,
          62,
          71,
          66,
          75,
          62,
          56
         ],
         "yaxis": "y"
        }
       ],
       "layout": {
        "hovermode": "x unified",
        "legend": {
         "title": {
          "text": "Company Name"
         },
         "tracegroupgap": 0
        },
        "template": {
         "data": {
          "bar": [
           {
            "error_x": {
             "color": "#2a3f5f"
            },
            "error_y": {
             "color": "#2a3f5f"
            },
            "marker": {
             "line": {
              "color": "#E5ECF6",
              "width": 0.5
             },
             "pattern": {
              "fillmode": "overlay",
              "size": 10,
              "solidity": 0.2
             }
            },
            "type": "bar"
           }
          ],
          "barpolar": [
           {
            "marker": {
             "line": {
              "color": "#E5ECF6",
              "width": 0.5
             },
             "pattern": {
              "fillmode": "overlay",
              "size": 10,
              "solidity": 0.2
             }
            },
            "type": "barpolar"
           }
          ],
          "carpet": [
           {
            "aaxis": {
             "endlinecolor": "#2a3f5f",
             "gridcolor": "white",
             "linecolor": "white",
             "minorgridcolor": "white",
             "startlinecolor": "#2a3f5f"
            },
            "baxis": {
             "endlinecolor": "#2a3f5f",
             "gridcolor": "white",
             "linecolor": "white",
             "minorgridcolor": "white",
             "startlinecolor": "#2a3f5f"
            },
            "type": "carpet"
           }
          ],
          "choropleth": [
           {
            "colorbar": {
             "outlinewidth": 0,
             "ticks": ""
            },
            "type": "choropleth"
           }
          ],
          "contour": [
           {
            "colorbar": {
             "outlinewidth": 0,
             "ticks": ""
            },
            "colorscale": [
             [
              0,
              "#0d0887"
             ],
             [
              0.1111111111111111,
              "#46039f"
             ],
             [
              0.2222222222222222,
              "#7201a8"
             ],
             [
              0.3333333333333333,
              "#9c179e"
             ],
             [
              0.4444444444444444,
              "#bd3786"
             ],
             [
              0.5555555555555556,
              "#d8576b"
             ],
             [
              0.6666666666666666,
              "#ed7953"
             ],
             [
              0.7777777777777778,
              "#fb9f3a"
             ],
             [
              0.8888888888888888,
              "#fdca26"
             ],
             [
              1,
              "#f0f921"
             ]
            ],
            "type": "contour"
           }
          ],
          "contourcarpet": [
           {
            "colorbar": {
             "outlinewidth": 0,
             "ticks": ""
            },
            "type": "contourcarpet"
           }
          ],
          "heatmap": [
           {
            "colorbar": {
             "outlinewidth": 0,
             "ticks": ""
            },
            "colorscale": [
             [
              0,
              "#0d0887"
             ],
             [
              0.1111111111111111,
              "#46039f"
             ],
             [
              0.2222222222222222,
              "#7201a8"
             ],
             [
              0.3333333333333333,
              "#9c179e"
             ],
             [
              0.4444444444444444,
              "#bd3786"
             ],
             [
              0.5555555555555556,
              "#d8576b"
             ],
             [
              0.6666666666666666,
              "#ed7953"
             ],
             [
              0.7777777777777778,
              "#fb9f3a"
             ],
             [
              0.8888888888888888,
              "#fdca26"
             ],
             [
              1,
              "#f0f921"
             ]
            ],
            "type": "heatmap"
           }
          ],
          "heatmapgl": [
           {
            "colorbar": {
             "outlinewidth": 0,
             "ticks": ""
            },
            "colorscale": [
             [
              0,
              "#0d0887"
             ],
             [
              0.1111111111111111,
              "#46039f"
             ],
             [
              0.2222222222222222,
              "#7201a8"
             ],
             [
              0.3333333333333333,
              "#9c179e"
             ],
             [
              0.4444444444444444,
              "#bd3786"
             ],
             [
              0.5555555555555556,
              "#d8576b"
             ],
             [
              0.6666666666666666,
              "#ed7953"
             ],
             [
              0.7777777777777778,
              "#fb9f3a"
             ],
             [
              0.8888888888888888,
              "#fdca26"
             ],
             [
              1,
              "#f0f921"
             ]
            ],
            "type": "heatmapgl"
           }
          ],
          "histogram": [
           {
            "marker": {
             "pattern": {
              "fillmode": "overlay",
              "size": 10,
              "solidity": 0.2
             }
            },
            "type": "histogram"
           }
          ],
          "histogram2d": [
           {
            "colorbar": {
             "outlinewidth": 0,
             "ticks": ""
            },
            "colorscale": [
             [
              0,
              "#0d0887"
             ],
             [
              0.1111111111111111,
              "#46039f"
             ],
             [
              0.2222222222222222,
              "#7201a8"
             ],
             [
              0.3333333333333333,
              "#9c179e"
             ],
             [
              0.4444444444444444,
              "#bd3786"
             ],
             [
              0.5555555555555556,
              "#d8576b"
             ],
             [
              0.6666666666666666,
              "#ed7953"
             ],
             [
              0.7777777777777778,
              "#fb9f3a"
             ],
             [
              0.8888888888888888,
              "#fdca26"
             ],
             [
              1,
              "#f0f921"
             ]
            ],
            "type": "histogram2d"
           }
          ],
          "histogram2dcontour": [
           {
            "colorbar": {
             "outlinewidth": 0,
             "ticks": ""
            },
            "colorscale": [
             [
              0,
              "#0d0887"
             ],
             [
              0.1111111111111111,
              "#46039f"
             ],
             [
              0.2222222222222222,
              "#7201a8"
             ],
             [
              0.3333333333333333,
              "#9c179e"
             ],
             [
              0.4444444444444444,
              "#bd3786"
             ],
             [
              0.5555555555555556,
              "#d8576b"
             ],
             [
              0.6666666666666666,
              "#ed7953"
             ],
             [
              0.7777777777777778,
              "#fb9f3a"
             ],
             [
              0.8888888888888888,
              "#fdca26"
             ],
             [
              1,
              "#f0f921"
             ]
            ],
            "type": "histogram2dcontour"
           }
          ],
          "mesh3d": [
           {
            "colorbar": {
             "outlinewidth": 0,
             "ticks": ""
            },
            "type": "mesh3d"
           }
          ],
          "parcoords": [
           {
            "line": {
             "colorbar": {
              "outlinewidth": 0,
              "ticks": ""
             }
            },
            "type": "parcoords"
           }
          ],
          "pie": [
           {
            "automargin": true,
            "type": "pie"
           }
          ],
          "scatter": [
           {
            "fillpattern": {
             "fillmode": "overlay",
             "size": 10,
             "solidity": 0.2
            },
            "type": "scatter"
           }
          ],
          "scatter3d": [
           {
            "line": {
             "colorbar": {
              "outlinewidth": 0,
              "ticks": ""
             }
            },
            "marker": {
             "colorbar": {
              "outlinewidth": 0,
              "ticks": ""
             }
            },
            "type": "scatter3d"
           }
          ],
          "scattercarpet": [
           {
            "marker": {
             "colorbar": {
              "outlinewidth": 0,
              "ticks": ""
             }
            },
            "type": "scattercarpet"
           }
          ],
          "scattergeo": [
           {
            "marker": {
             "colorbar": {
              "outlinewidth": 0,
              "ticks": ""
             }
            },
            "type": "scattergeo"
           }
          ],
          "scattergl": [
           {
            "marker": {
             "colorbar": {
              "outlinewidth": 0,
              "ticks": ""
             }
            },
            "type": "scattergl"
           }
          ],
          "scattermapbox": [
           {
            "marker": {
             "colorbar": {
              "outlinewidth": 0,
              "ticks": ""
             }
            },
            "type": "scattermapbox"
           }
          ],
          "scatterpolar": [
           {
            "marker": {
             "colorbar": {
              "outlinewidth": 0,
              "ticks": ""
             }
            },
            "type": "scatterpolar"
           }
          ],
          "scatterpolargl": [
           {
            "marker": {
             "colorbar": {
              "outlinewidth": 0,
              "ticks": ""
             }
            },
            "type": "scatterpolargl"
           }
          ],
          "scatterternary": [
           {
            "marker": {
             "colorbar": {
              "outlinewidth": 0,
              "ticks": ""
             }
            },
            "type": "scatterternary"
           }
          ],
          "surface": [
           {
            "colorbar": {
             "outlinewidth": 0,
             "ticks": ""
            },
            "colorscale": [
             [
              0,
              "#0d0887"
             ],
             [
              0.1111111111111111,
              "#46039f"
             ],
             [
              0.2222222222222222,
              "#7201a8"
             ],
             [
              0.3333333333333333,
              "#9c179e"
             ],
             [
              0.4444444444444444,
              "#bd3786"
             ],
             [
              0.5555555555555556,
              "#d8576b"
             ],
             [
              0.6666666666666666,
              "#ed7953"
             ],
             [
              0.7777777777777778,
              "#fb9f3a"
             ],
             [
              0.8888888888888888,
              "#fdca26"
             ],
             [
              1,
              "#f0f921"
             ]
            ],
            "type": "surface"
           }
          ],
          "table": [
           {
            "cells": {
             "fill": {
              "color": "#EBF0F8"
             },
             "line": {
              "color": "white"
             }
            },
            "header": {
             "fill": {
              "color": "#C8D4E3"
             },
             "line": {
              "color": "white"
             }
            },
            "type": "table"
           }
          ]
         },
         "layout": {
          "annotationdefaults": {
           "arrowcolor": "#2a3f5f",
           "arrowhead": 0,
           "arrowwidth": 1
          },
          "autotypenumbers": "strict",
          "coloraxis": {
           "colorbar": {
            "outlinewidth": 0,
            "ticks": ""
           }
          },
          "colorscale": {
           "diverging": [
            [
             0,
             "#8e0152"
            ],
            [
             0.1,
             "#c51b7d"
            ],
            [
             0.2,
             "#de77ae"
            ],
            [
             0.3,
             "#f1b6da"
            ],
            [
             0.4,
             "#fde0ef"
            ],
            [
             0.5,
             "#f7f7f7"
            ],
            [
             0.6,
             "#e6f5d0"
            ],
            [
             0.7,
             "#b8e186"
            ],
            [
             0.8,
             "#7fbc41"
            ],
            [
             0.9,
             "#4d9221"
            ],
            [
             1,
             "#276419"
            ]
           ],
           "sequential": [
            [
             0,
             "#0d0887"
            ],
            [
             0.1111111111111111,
             "#46039f"
            ],
            [
             0.2222222222222222,
             "#7201a8"
            ],
            [
             0.3333333333333333,
             "#9c179e"
            ],
            [
             0.4444444444444444,
             "#bd3786"
            ],
            [
             0.5555555555555556,
             "#d8576b"
            ],
            [
             0.6666666666666666,
             "#ed7953"
            ],
            [
             0.7777777777777778,
             "#fb9f3a"
            ],
            [
             0.8888888888888888,
             "#fdca26"
            ],
            [
             1,
             "#f0f921"
            ]
           ],
           "sequentialminus": [
            [
             0,
             "#0d0887"
            ],
            [
             0.1111111111111111,
             "#46039f"
            ],
            [
             0.2222222222222222,
             "#7201a8"
            ],
            [
             0.3333333333333333,
             "#9c179e"
            ],
            [
             0.4444444444444444,
             "#bd3786"
            ],
            [
             0.5555555555555556,
             "#d8576b"
            ],
            [
             0.6666666666666666,
             "#ed7953"
            ],
            [
             0.7777777777777778,
             "#fb9f3a"
            ],
            [
             0.8888888888888888,
             "#fdca26"
            ],
            [
             1,
             "#f0f921"
            ]
           ]
          },
          "colorway": [
           "#636efa",
           "#EF553B",
           "#00cc96",
           "#ab63fa",
           "#FFA15A",
           "#19d3f3",
           "#FF6692",
           "#B6E880",
           "#FF97FF",
           "#FECB52"
          ],
          "font": {
           "color": "#2a3f5f"
          },
          "geo": {
           "bgcolor": "white",
           "lakecolor": "white",
           "landcolor": "#E5ECF6",
           "showlakes": true,
           "showland": true,
           "subunitcolor": "white"
          },
          "hoverlabel": {
           "align": "left"
          },
          "hovermode": "closest",
          "mapbox": {
           "style": "light"
          },
          "paper_bgcolor": "white",
          "plot_bgcolor": "#E5ECF6",
          "polar": {
           "angularaxis": {
            "gridcolor": "white",
            "linecolor": "white",
            "ticks": ""
           },
           "bgcolor": "#E5ECF6",
           "radialaxis": {
            "gridcolor": "white",
            "linecolor": "white",
            "ticks": ""
           }
          },
          "scene": {
           "xaxis": {
            "backgroundcolor": "#E5ECF6",
            "gridcolor": "white",
            "gridwidth": 2,
            "linecolor": "white",
            "showbackground": true,
            "ticks": "",
            "zerolinecolor": "white"
           },
           "yaxis": {
            "backgroundcolor": "#E5ECF6",
            "gridcolor": "white",
            "gridwidth": 2,
            "linecolor": "white",
            "showbackground": true,
            "ticks": "",
            "zerolinecolor": "white"
           },
           "zaxis": {
            "backgroundcolor": "#E5ECF6",
            "gridcolor": "white",
            "gridwidth": 2,
            "linecolor": "white",
            "showbackground": true,
            "ticks": "",
            "zerolinecolor": "white"
           }
          },
          "shapedefaults": {
           "line": {
            "color": "#2a3f5f"
           }
          },
          "ternary": {
           "aaxis": {
            "gridcolor": "white",
            "linecolor": "white",
            "ticks": ""
           },
           "baxis": {
            "gridcolor": "white",
            "linecolor": "white",
            "ticks": ""
           },
           "bgcolor": "#E5ECF6",
           "caxis": {
            "gridcolor": "white",
            "linecolor": "white",
            "ticks": ""
           }
          },
          "title": {
           "x": 0.05
          },
          "xaxis": {
           "automargin": true,
           "gridcolor": "white",
           "linecolor": "white",
           "ticks": "",
           "title": {
            "standoff": 15
           },
           "zerolinecolor": "white",
           "zerolinewidth": 2
          },
          "yaxis": {
           "automargin": true,
           "gridcolor": "white",
           "linecolor": "white",
           "ticks": "",
           "title": {
            "standoff": 15
           },
           "zerolinecolor": "white",
           "zerolinewidth": 2
          }
         }
        },
        "title": {
         "text": "Job Posting Trends Over Time by Company"
        },
        "xaxis": {
         "anchor": "y",
         "domain": [
          0,
          1
         ],
         "title": {
          "text": "Date"
         }
        },
        "yaxis": {
         "anchor": "x",
         "domain": [
          0,
          1
         ],
         "title": {
          "text": "Number of Jobs"
         }
        }
       }
      },
      "text/html": [
       "<div>                            <div id=\"8a84cb87-df22-4dbe-b7f6-e72590f3385a\" class=\"plotly-graph-div\" style=\"height:525px; width:100%;\"></div>            <script type=\"text/javascript\">                require([\"plotly\"], function(Plotly) {                    window.PLOTLYENV=window.PLOTLYENV || {};                                    if (document.getElementById(\"8a84cb87-df22-4dbe-b7f6-e72590f3385a\")) {                    Plotly.newPlot(                        \"8a84cb87-df22-4dbe-b7f6-e72590f3385a\",                        [{\"hovertemplate\":\"Company Name=Accenture<br>Date=%{x}<br>Number of Jobs=%{y}<extra></extra>\",\"legendgroup\":\"Accenture\",\"line\":{\"color\":\"#636efa\",\"dash\":\"solid\"},\"marker\":{\"symbol\":\"circle\"},\"mode\":\"lines+markers\",\"name\":\"Accenture\",\"orientation\":\"v\",\"showlegend\":true,\"x\":[\"2024-12-23T00:00:00\",\"2024-12-24T00:00:00\",\"2024-12-25T00:00:00\",\"2024-12-26T00:00:00\",\"2024-12-27T00:00:00\",\"2024-12-28T00:00:00\",\"2024-12-29T00:00:00\",\"2024-12-30T00:00:00\",\"2024-12-31T00:00:00\",\"2025-01-01T00:00:00\",\"2025-01-02T00:00:00\",\"2025-01-03T00:00:00\",\"2025-01-04T00:00:00\",\"2025-01-05T00:00:00\",\"2025-01-06T00:00:00\",\"2025-01-07T00:00:00\",\"2025-01-08T00:00:00\",\"2025-01-09T00:00:00\",\"2025-01-10T00:00:00\",\"2025-01-11T00:00:00\",\"2025-01-12T00:00:00\",\"2025-01-13T00:00:00\",\"2025-01-14T00:00:00\",\"2025-01-15T00:00:00\",\"2025-01-16T00:00:00\",\"2025-01-17T00:00:00\",\"2025-01-18T00:00:00\",\"2025-01-19T00:00:00\",\"2025-01-20T00:00:00\",\"2025-01-21T00:00:00\",\"2025-01-22T00:00:00\"],\"xaxis\":\"x\",\"y\":[47,68,53,56,59,69,54,68,57,69,70,54,64,70,77,67,59,67,44,68,57,60,75,68,75,68,74,67,53,69,48],\"yaxis\":\"y\",\"type\":\"scatter\"},{\"hovertemplate\":\"Company Name=Amazon<br>Date=%{x}<br>Number of Jobs=%{y}<extra></extra>\",\"legendgroup\":\"Amazon\",\"line\":{\"color\":\"#EF553B\",\"dash\":\"solid\"},\"marker\":{\"symbol\":\"circle\"},\"mode\":\"lines+markers\",\"name\":\"Amazon\",\"orientation\":\"v\",\"showlegend\":true,\"x\":[\"2024-12-23T00:00:00\",\"2024-12-24T00:00:00\",\"2024-12-25T00:00:00\",\"2024-12-26T00:00:00\",\"2024-12-27T00:00:00\",\"2024-12-28T00:00:00\",\"2024-12-29T00:00:00\",\"2024-12-30T00:00:00\",\"2024-12-31T00:00:00\",\"2025-01-01T00:00:00\",\"2025-01-02T00:00:00\",\"2025-01-03T00:00:00\",\"2025-01-04T00:00:00\",\"2025-01-05T00:00:00\",\"2025-01-06T00:00:00\",\"2025-01-07T00:00:00\",\"2025-01-08T00:00:00\",\"2025-01-09T00:00:00\",\"2025-01-10T00:00:00\",\"2025-01-11T00:00:00\",\"2025-01-12T00:00:00\",\"2025-01-13T00:00:00\",\"2025-01-14T00:00:00\",\"2025-01-15T00:00:00\",\"2025-01-16T00:00:00\",\"2025-01-17T00:00:00\",\"2025-01-18T00:00:00\",\"2025-01-19T00:00:00\",\"2025-01-20T00:00:00\",\"2025-01-21T00:00:00\",\"2025-01-22T00:00:00\"],\"xaxis\":\"x\",\"y\":[68,61,59,71,66,59,65,76,69,59,70,79,77,66,65,62,61,72,71,69,53,64,68,75,74,64,74,58,77,62,72],\"yaxis\":\"y\",\"type\":\"scatter\"},{\"hovertemplate\":\"Company Name=Deloitte<br>Date=%{x}<br>Number of Jobs=%{y}<extra></extra>\",\"legendgroup\":\"Deloitte\",\"line\":{\"color\":\"#00cc96\",\"dash\":\"solid\"},\"marker\":{\"symbol\":\"circle\"},\"mode\":\"lines+markers\",\"name\":\"Deloitte\",\"orientation\":\"v\",\"showlegend\":true,\"x\":[\"2024-12-23T00:00:00\",\"2024-12-24T00:00:00\",\"2024-12-25T00:00:00\",\"2024-12-26T00:00:00\",\"2024-12-27T00:00:00\",\"2024-12-28T00:00:00\",\"2024-12-29T00:00:00\",\"2024-12-30T00:00:00\",\"2024-12-31T00:00:00\",\"2025-01-01T00:00:00\",\"2025-01-02T00:00:00\",\"2025-01-03T00:00:00\",\"2025-01-04T00:00:00\",\"2025-01-05T00:00:00\",\"2025-01-06T00:00:00\",\"2025-01-07T00:00:00\",\"2025-01-08T00:00:00\",\"2025-01-09T00:00:00\",\"2025-01-10T00:00:00\",\"2025-01-11T00:00:00\",\"2025-01-12T00:00:00\",\"2025-01-13T00:00:00\",\"2025-01-14T00:00:00\",\"2025-01-15T00:00:00\",\"2025-01-16T00:00:00\",\"2025-01-17T00:00:00\",\"2025-01-18T00:00:00\",\"2025-01-19T00:00:00\",\"2025-01-20T00:00:00\",\"2025-01-21T00:00:00\",\"2025-01-22T00:00:00\"],\"xaxis\":\"x\",\"y\":[72,60,69,69,66,73,70,67,50,71,63,58,72,61,61,52,52,54,72,69,56,68,59,63,67,68,66,65,56,78,56],\"yaxis\":\"y\",\"type\":\"scatter\"},{\"hovertemplate\":\"Company Name=Google<br>Date=%{x}<br>Number of Jobs=%{y}<extra></extra>\",\"legendgroup\":\"Google\",\"line\":{\"color\":\"#ab63fa\",\"dash\":\"solid\"},\"marker\":{\"symbol\":\"circle\"},\"mode\":\"lines+markers\",\"name\":\"Google\",\"orientation\":\"v\",\"showlegend\":true,\"x\":[\"2024-12-23T00:00:00\",\"2024-12-24T00:00:00\",\"2024-12-25T00:00:00\",\"2024-12-26T00:00:00\",\"2024-12-27T00:00:00\",\"2024-12-28T00:00:00\",\"2024-12-29T00:00:00\",\"2024-12-30T00:00:00\",\"2024-12-31T00:00:00\",\"2025-01-01T00:00:00\",\"2025-01-02T00:00:00\",\"2025-01-03T00:00:00\",\"2025-01-04T00:00:00\",\"2025-01-05T00:00:00\",\"2025-01-06T00:00:00\",\"2025-01-07T00:00:00\",\"2025-01-08T00:00:00\",\"2025-01-09T00:00:00\",\"2025-01-10T00:00:00\",\"2025-01-11T00:00:00\",\"2025-01-12T00:00:00\",\"2025-01-13T00:00:00\",\"2025-01-14T00:00:00\",\"2025-01-15T00:00:00\",\"2025-01-16T00:00:00\",\"2025-01-17T00:00:00\",\"2025-01-18T00:00:00\",\"2025-01-19T00:00:00\",\"2025-01-20T00:00:00\",\"2025-01-21T00:00:00\",\"2025-01-22T00:00:00\"],\"xaxis\":\"x\",\"y\":[69,57,56,53,57,73,69,65,70,59,87,69,67,72,58,55,85,74,67,61,60,40,59,67,77,59,62,64,64,63,66],\"yaxis\":\"y\",\"type\":\"scatter\"},{\"hovertemplate\":\"Company Name=HCL<br>Date=%{x}<br>Number of Jobs=%{y}<extra></extra>\",\"legendgroup\":\"HCL\",\"line\":{\"color\":\"#FFA15A\",\"dash\":\"solid\"},\"marker\":{\"symbol\":\"circle\"},\"mode\":\"lines+markers\",\"name\":\"HCL\",\"orientation\":\"v\",\"showlegend\":true,\"x\":[\"2024-12-23T00:00:00\",\"2024-12-24T00:00:00\",\"2024-12-25T00:00:00\",\"2024-12-26T00:00:00\",\"2024-12-27T00:00:00\",\"2024-12-28T00:00:00\",\"2024-12-29T00:00:00\",\"2024-12-30T00:00:00\",\"2024-12-31T00:00:00\",\"2025-01-01T00:00:00\",\"2025-01-02T00:00:00\",\"2025-01-03T00:00:00\",\"2025-01-04T00:00:00\",\"2025-01-05T00:00:00\",\"2025-01-06T00:00:00\",\"2025-01-07T00:00:00\",\"2025-01-08T00:00:00\",\"2025-01-09T00:00:00\",\"2025-01-10T00:00:00\",\"2025-01-11T00:00:00\",\"2025-01-12T00:00:00\",\"2025-01-13T00:00:00\",\"2025-01-14T00:00:00\",\"2025-01-15T00:00:00\",\"2025-01-16T00:00:00\",\"2025-01-17T00:00:00\",\"2025-01-18T00:00:00\",\"2025-01-19T00:00:00\",\"2025-01-20T00:00:00\",\"2025-01-21T00:00:00\",\"2025-01-22T00:00:00\"],\"xaxis\":\"x\",\"y\":[69,57,61,62,73,58,73,71,57,62,58,75,69,63,59,60,68,63,69,53,75,70,51,63,70,61,73,69,69,69,73],\"yaxis\":\"y\",\"type\":\"scatter\"},{\"hovertemplate\":\"Company Name=IBM<br>Date=%{x}<br>Number of Jobs=%{y}<extra></extra>\",\"legendgroup\":\"IBM\",\"line\":{\"color\":\"#19d3f3\",\"dash\":\"solid\"},\"marker\":{\"symbol\":\"circle\"},\"mode\":\"lines+markers\",\"name\":\"IBM\",\"orientation\":\"v\",\"showlegend\":true,\"x\":[\"2024-12-23T00:00:00\",\"2024-12-24T00:00:00\",\"2024-12-25T00:00:00\",\"2024-12-26T00:00:00\",\"2024-12-27T00:00:00\",\"2024-12-28T00:00:00\",\"2024-12-29T00:00:00\",\"2024-12-30T00:00:00\",\"2024-12-31T00:00:00\",\"2025-01-01T00:00:00\",\"2025-01-02T00:00:00\",\"2025-01-03T00:00:00\",\"2025-01-04T00:00:00\",\"2025-01-05T00:00:00\",\"2025-01-06T00:00:00\",\"2025-01-07T00:00:00\",\"2025-01-08T00:00:00\",\"2025-01-09T00:00:00\",\"2025-01-10T00:00:00\",\"2025-01-11T00:00:00\",\"2025-01-12T00:00:00\",\"2025-01-13T00:00:00\",\"2025-01-14T00:00:00\",\"2025-01-15T00:00:00\",\"2025-01-16T00:00:00\",\"2025-01-17T00:00:00\",\"2025-01-18T00:00:00\",\"2025-01-19T00:00:00\",\"2025-01-20T00:00:00\",\"2025-01-21T00:00:00\",\"2025-01-22T00:00:00\"],\"xaxis\":\"x\",\"y\":[49,63,76,63,66,56,60,58,66,59,49,65,58,61,60,75,49,62,56,78,72,65,58,73,67,58,53,66,67,65,71],\"yaxis\":\"y\",\"type\":\"scatter\"},{\"hovertemplate\":\"Company Name=Infosys<br>Date=%{x}<br>Number of Jobs=%{y}<extra></extra>\",\"legendgroup\":\"Infosys\",\"line\":{\"color\":\"#FF6692\",\"dash\":\"solid\"},\"marker\":{\"symbol\":\"circle\"},\"mode\":\"lines+markers\",\"name\":\"Infosys\",\"orientation\":\"v\",\"showlegend\":true,\"x\":[\"2024-12-23T00:00:00\",\"2024-12-24T00:00:00\",\"2024-12-25T00:00:00\",\"2024-12-26T00:00:00\",\"2024-12-27T00:00:00\",\"2024-12-28T00:00:00\",\"2024-12-29T00:00:00\",\"2024-12-30T00:00:00\",\"2024-12-31T00:00:00\",\"2025-01-01T00:00:00\",\"2025-01-02T00:00:00\",\"2025-01-03T00:00:00\",\"2025-01-04T00:00:00\",\"2025-01-05T00:00:00\",\"2025-01-06T00:00:00\",\"2025-01-07T00:00:00\",\"2025-01-08T00:00:00\",\"2025-01-09T00:00:00\",\"2025-01-10T00:00:00\",\"2025-01-11T00:00:00\",\"2025-01-12T00:00:00\",\"2025-01-13T00:00:00\",\"2025-01-14T00:00:00\",\"2025-01-15T00:00:00\",\"2025-01-16T00:00:00\",\"2025-01-17T00:00:00\",\"2025-01-18T00:00:00\",\"2025-01-19T00:00:00\",\"2025-01-20T00:00:00\",\"2025-01-21T00:00:00\",\"2025-01-22T00:00:00\"],\"xaxis\":\"x\",\"y\":[65,75,68,76,62,53,65,65,64,56,55,63,60,63,74,60,58,69,60,67,58,61,62,74,75,70,56,63,62,54,68],\"yaxis\":\"y\",\"type\":\"scatter\"},{\"hovertemplate\":\"Company Name=Microsoft<br>Date=%{x}<br>Number of Jobs=%{y}<extra></extra>\",\"legendgroup\":\"Microsoft\",\"line\":{\"color\":\"#B6E880\",\"dash\":\"solid\"},\"marker\":{\"symbol\":\"circle\"},\"mode\":\"lines+markers\",\"name\":\"Microsoft\",\"orientation\":\"v\",\"showlegend\":true,\"x\":[\"2024-12-23T00:00:00\",\"2024-12-24T00:00:00\",\"2024-12-25T00:00:00\",\"2024-12-26T00:00:00\",\"2024-12-27T00:00:00\",\"2024-12-28T00:00:00\",\"2024-12-29T00:00:00\",\"2024-12-30T00:00:00\",\"2024-12-31T00:00:00\",\"2025-01-01T00:00:00\",\"2025-01-02T00:00:00\",\"2025-01-03T00:00:00\",\"2025-01-04T00:00:00\",\"2025-01-05T00:00:00\",\"2025-01-06T00:00:00\",\"2025-01-07T00:00:00\",\"2025-01-08T00:00:00\",\"2025-01-09T00:00:00\",\"2025-01-10T00:00:00\",\"2025-01-11T00:00:00\",\"2025-01-12T00:00:00\",\"2025-01-13T00:00:00\",\"2025-01-14T00:00:00\",\"2025-01-15T00:00:00\",\"2025-01-16T00:00:00\",\"2025-01-17T00:00:00\",\"2025-01-18T00:00:00\",\"2025-01-19T00:00:00\",\"2025-01-20T00:00:00\",\"2025-01-21T00:00:00\",\"2025-01-22T00:00:00\"],\"xaxis\":\"x\",\"y\":[61,70,58,74,53,50,71,67,68,52,65,75,63,63,66,69,65,51,64,63,59,65,63,72,61,52,69,78,58,73,59],\"yaxis\":\"y\",\"type\":\"scatter\"},{\"hovertemplate\":\"Company Name=TCS<br>Date=%{x}<br>Number of Jobs=%{y}<extra></extra>\",\"legendgroup\":\"TCS\",\"line\":{\"color\":\"#FF97FF\",\"dash\":\"solid\"},\"marker\":{\"symbol\":\"circle\"},\"mode\":\"lines+markers\",\"name\":\"TCS\",\"orientation\":\"v\",\"showlegend\":true,\"x\":[\"2024-12-23T00:00:00\",\"2024-12-24T00:00:00\",\"2024-12-25T00:00:00\",\"2024-12-26T00:00:00\",\"2024-12-27T00:00:00\",\"2024-12-28T00:00:00\",\"2024-12-29T00:00:00\",\"2024-12-30T00:00:00\",\"2024-12-31T00:00:00\",\"2025-01-01T00:00:00\",\"2025-01-02T00:00:00\",\"2025-01-03T00:00:00\",\"2025-01-04T00:00:00\",\"2025-01-05T00:00:00\",\"2025-01-06T00:00:00\",\"2025-01-07T00:00:00\",\"2025-01-08T00:00:00\",\"2025-01-09T00:00:00\",\"2025-01-10T00:00:00\",\"2025-01-11T00:00:00\",\"2025-01-12T00:00:00\",\"2025-01-13T00:00:00\",\"2025-01-14T00:00:00\",\"2025-01-15T00:00:00\",\"2025-01-16T00:00:00\",\"2025-01-17T00:00:00\",\"2025-01-18T00:00:00\",\"2025-01-19T00:00:00\",\"2025-01-20T00:00:00\",\"2025-01-21T00:00:00\",\"2025-01-22T00:00:00\"],\"xaxis\":\"x\",\"y\":[53,73,42,59,67,63,88,64,72,61,64,72,52,62,64,56,68,74,68,63,57,67,81,49,57,78,58,64,65,63,55],\"yaxis\":\"y\",\"type\":\"scatter\"},{\"hovertemplate\":\"Company Name=Wipro<br>Date=%{x}<br>Number of Jobs=%{y}<extra></extra>\",\"legendgroup\":\"Wipro\",\"line\":{\"color\":\"#FECB52\",\"dash\":\"solid\"},\"marker\":{\"symbol\":\"circle\"},\"mode\":\"lines+markers\",\"name\":\"Wipro\",\"orientation\":\"v\",\"showlegend\":true,\"x\":[\"2024-12-23T00:00:00\",\"2024-12-24T00:00:00\",\"2024-12-25T00:00:00\",\"2024-12-26T00:00:00\",\"2024-12-27T00:00:00\",\"2024-12-28T00:00:00\",\"2024-12-29T00:00:00\",\"2024-12-30T00:00:00\",\"2024-12-31T00:00:00\",\"2025-01-01T00:00:00\",\"2025-01-02T00:00:00\",\"2025-01-03T00:00:00\",\"2025-01-04T00:00:00\",\"2025-01-05T00:00:00\",\"2025-01-06T00:00:00\",\"2025-01-07T00:00:00\",\"2025-01-08T00:00:00\",\"2025-01-09T00:00:00\",\"2025-01-10T00:00:00\",\"2025-01-11T00:00:00\",\"2025-01-12T00:00:00\",\"2025-01-13T00:00:00\",\"2025-01-14T00:00:00\",\"2025-01-15T00:00:00\",\"2025-01-16T00:00:00\",\"2025-01-17T00:00:00\",\"2025-01-18T00:00:00\",\"2025-01-19T00:00:00\",\"2025-01-20T00:00:00\",\"2025-01-21T00:00:00\",\"2025-01-22T00:00:00\"],\"xaxis\":\"x\",\"y\":[62,79,63,74,68,63,70,64,65,68,71,65,64,68,71,58,73,77,55,60,69,62,67,83,58,62,71,66,75,62,56],\"yaxis\":\"y\",\"type\":\"scatter\"}],                        {\"template\":{\"data\":{\"histogram2dcontour\":[{\"type\":\"histogram2dcontour\",\"colorbar\":{\"outlinewidth\":0,\"ticks\":\"\"},\"colorscale\":[[0.0,\"#0d0887\"],[0.1111111111111111,\"#46039f\"],[0.2222222222222222,\"#7201a8\"],[0.3333333333333333,\"#9c179e\"],[0.4444444444444444,\"#bd3786\"],[0.5555555555555556,\"#d8576b\"],[0.6666666666666666,\"#ed7953\"],[0.7777777777777778,\"#fb9f3a\"],[0.8888888888888888,\"#fdca26\"],[1.0,\"#f0f921\"]]}],\"choropleth\":[{\"type\":\"choropleth\",\"colorbar\":{\"outlinewidth\":0,\"ticks\":\"\"}}],\"histogram2d\":[{\"type\":\"histogram2d\",\"colorbar\":{\"outlinewidth\":0,\"ticks\":\"\"},\"colorscale\":[[0.0,\"#0d0887\"],[0.1111111111111111,\"#46039f\"],[0.2222222222222222,\"#7201a8\"],[0.3333333333333333,\"#9c179e\"],[0.4444444444444444,\"#bd3786\"],[0.5555555555555556,\"#d8576b\"],[0.6666666666666666,\"#ed7953\"],[0.7777777777777778,\"#fb9f3a\"],[0.8888888888888888,\"#fdca26\"],[1.0,\"#f0f921\"]]}],\"heatmap\":[{\"type\":\"heatmap\",\"colorbar\":{\"outlinewidth\":0,\"ticks\":\"\"},\"colorscale\":[[0.0,\"#0d0887\"],[0.1111111111111111,\"#46039f\"],[0.2222222222222222,\"#7201a8\"],[0.3333333333333333,\"#9c179e\"],[0.4444444444444444,\"#bd3786\"],[0.5555555555555556,\"#d8576b\"],[0.6666666666666666,\"#ed7953\"],[0.7777777777777778,\"#fb9f3a\"],[0.8888888888888888,\"#fdca26\"],[1.0,\"#f0f921\"]]}],\"heatmapgl\":[{\"type\":\"heatmapgl\",\"colorbar\":{\"outlinewidth\":0,\"ticks\":\"\"},\"colorscale\":[[0.0,\"#0d0887\"],[0.1111111111111111,\"#46039f\"],[0.2222222222222222,\"#7201a8\"],[0.3333333333333333,\"#9c179e\"],[0.4444444444444444,\"#bd3786\"],[0.5555555555555556,\"#d8576b\"],[0.6666666666666666,\"#ed7953\"],[0.7777777777777778,\"#fb9f3a\"],[0.8888888888888888,\"#fdca26\"],[1.0,\"#f0f921\"]]}],\"contourcarpet\":[{\"type\":\"contourcarpet\",\"colorbar\":{\"outlinewidth\":0,\"ticks\":\"\"}}],\"contour\":[{\"type\":\"contour\",\"colorbar\":{\"outlinewidth\":0,\"ticks\":\"\"},\"colorscale\":[[0.0,\"#0d0887\"],[0.1111111111111111,\"#46039f\"],[0.2222222222222222,\"#7201a8\"],[0.3333333333333333,\"#9c179e\"],[0.4444444444444444,\"#bd3786\"],[0.5555555555555556,\"#d8576b\"],[0.6666666666666666,\"#ed7953\"],[0.7777777777777778,\"#fb9f3a\"],[0.8888888888888888,\"#fdca26\"],[1.0,\"#f0f921\"]]}],\"surface\":[{\"type\":\"surface\",\"colorbar\":{\"outlinewidth\":0,\"ticks\":\"\"},\"colorscale\":[[0.0,\"#0d0887\"],[0.1111111111111111,\"#46039f\"],[0.2222222222222222,\"#7201a8\"],[0.3333333333333333,\"#9c179e\"],[0.4444444444444444,\"#bd3786\"],[0.5555555555555556,\"#d8576b\"],[0.6666666666666666,\"#ed7953\"],[0.7777777777777778,\"#fb9f3a\"],[0.8888888888888888,\"#fdca26\"],[1.0,\"#f0f921\"]]}],\"mesh3d\":[{\"type\":\"mesh3d\",\"colorbar\":{\"outlinewidth\":0,\"ticks\":\"\"}}],\"scatter\":[{\"fillpattern\":{\"fillmode\":\"overlay\",\"size\":10,\"solidity\":0.2},\"type\":\"scatter\"}],\"parcoords\":[{\"type\":\"parcoords\",\"line\":{\"colorbar\":{\"outlinewidth\":0,\"ticks\":\"\"}}}],\"scatterpolargl\":[{\"type\":\"scatterpolargl\",\"marker\":{\"colorbar\":{\"outlinewidth\":0,\"ticks\":\"\"}}}],\"bar\":[{\"error_x\":{\"color\":\"#2a3f5f\"},\"error_y\":{\"color\":\"#2a3f5f\"},\"marker\":{\"line\":{\"color\":\"#E5ECF6\",\"width\":0.5},\"pattern\":{\"fillmode\":\"overlay\",\"size\":10,\"solidity\":0.2}},\"type\":\"bar\"}],\"scattergeo\":[{\"type\":\"scattergeo\",\"marker\":{\"colorbar\":{\"outlinewidth\":0,\"ticks\":\"\"}}}],\"scatterpolar\":[{\"type\":\"scatterpolar\",\"marker\":{\"colorbar\":{\"outlinewidth\":0,\"ticks\":\"\"}}}],\"histogram\":[{\"marker\":{\"pattern\":{\"fillmode\":\"overlay\",\"size\":10,\"solidity\":0.2}},\"type\":\"histogram\"}],\"scattergl\":[{\"type\":\"scattergl\",\"marker\":{\"colorbar\":{\"outlinewidth\":0,\"ticks\":\"\"}}}],\"scatter3d\":[{\"type\":\"scatter3d\",\"line\":{\"colorbar\":{\"outlinewidth\":0,\"ticks\":\"\"}},\"marker\":{\"colorbar\":{\"outlinewidth\":0,\"ticks\":\"\"}}}],\"scattermapbox\":[{\"type\":\"scattermapbox\",\"marker\":{\"colorbar\":{\"outlinewidth\":0,\"ticks\":\"\"}}}],\"scatterternary\":[{\"type\":\"scatterternary\",\"marker\":{\"colorbar\":{\"outlinewidth\":0,\"ticks\":\"\"}}}],\"scattercarpet\":[{\"type\":\"scattercarpet\",\"marker\":{\"colorbar\":{\"outlinewidth\":0,\"ticks\":\"\"}}}],\"carpet\":[{\"aaxis\":{\"endlinecolor\":\"#2a3f5f\",\"gridcolor\":\"white\",\"linecolor\":\"white\",\"minorgridcolor\":\"white\",\"startlinecolor\":\"#2a3f5f\"},\"baxis\":{\"endlinecolor\":\"#2a3f5f\",\"gridcolor\":\"white\",\"linecolor\":\"white\",\"minorgridcolor\":\"white\",\"startlinecolor\":\"#2a3f5f\"},\"type\":\"carpet\"}],\"table\":[{\"cells\":{\"fill\":{\"color\":\"#EBF0F8\"},\"line\":{\"color\":\"white\"}},\"header\":{\"fill\":{\"color\":\"#C8D4E3\"},\"line\":{\"color\":\"white\"}},\"type\":\"table\"}],\"barpolar\":[{\"marker\":{\"line\":{\"color\":\"#E5ECF6\",\"width\":0.5},\"pattern\":{\"fillmode\":\"overlay\",\"size\":10,\"solidity\":0.2}},\"type\":\"barpolar\"}],\"pie\":[{\"automargin\":true,\"type\":\"pie\"}]},\"layout\":{\"autotypenumbers\":\"strict\",\"colorway\":[\"#636efa\",\"#EF553B\",\"#00cc96\",\"#ab63fa\",\"#FFA15A\",\"#19d3f3\",\"#FF6692\",\"#B6E880\",\"#FF97FF\",\"#FECB52\"],\"font\":{\"color\":\"#2a3f5f\"},\"hovermode\":\"closest\",\"hoverlabel\":{\"align\":\"left\"},\"paper_bgcolor\":\"white\",\"plot_bgcolor\":\"#E5ECF6\",\"polar\":{\"bgcolor\":\"#E5ECF6\",\"angularaxis\":{\"gridcolor\":\"white\",\"linecolor\":\"white\",\"ticks\":\"\"},\"radialaxis\":{\"gridcolor\":\"white\",\"linecolor\":\"white\",\"ticks\":\"\"}},\"ternary\":{\"bgcolor\":\"#E5ECF6\",\"aaxis\":{\"gridcolor\":\"white\",\"linecolor\":\"white\",\"ticks\":\"\"},\"baxis\":{\"gridcolor\":\"white\",\"linecolor\":\"white\",\"ticks\":\"\"},\"caxis\":{\"gridcolor\":\"white\",\"linecolor\":\"white\",\"ticks\":\"\"}},\"coloraxis\":{\"colorbar\":{\"outlinewidth\":0,\"ticks\":\"\"}},\"colorscale\":{\"sequential\":[[0.0,\"#0d0887\"],[0.1111111111111111,\"#46039f\"],[0.2222222222222222,\"#7201a8\"],[0.3333333333333333,\"#9c179e\"],[0.4444444444444444,\"#bd3786\"],[0.5555555555555556,\"#d8576b\"],[0.6666666666666666,\"#ed7953\"],[0.7777777777777778,\"#fb9f3a\"],[0.8888888888888888,\"#fdca26\"],[1.0,\"#f0f921\"]],\"sequentialminus\":[[0.0,\"#0d0887\"],[0.1111111111111111,\"#46039f\"],[0.2222222222222222,\"#7201a8\"],[0.3333333333333333,\"#9c179e\"],[0.4444444444444444,\"#bd3786\"],[0.5555555555555556,\"#d8576b\"],[0.6666666666666666,\"#ed7953\"],[0.7777777777777778,\"#fb9f3a\"],[0.8888888888888888,\"#fdca26\"],[1.0,\"#f0f921\"]],\"diverging\":[[0,\"#8e0152\"],[0.1,\"#c51b7d\"],[0.2,\"#de77ae\"],[0.3,\"#f1b6da\"],[0.4,\"#fde0ef\"],[0.5,\"#f7f7f7\"],[0.6,\"#e6f5d0\"],[0.7,\"#b8e186\"],[0.8,\"#7fbc41\"],[0.9,\"#4d9221\"],[1,\"#276419\"]]},\"xaxis\":{\"gridcolor\":\"white\",\"linecolor\":\"white\",\"ticks\":\"\",\"title\":{\"standoff\":15},\"zerolinecolor\":\"white\",\"automargin\":true,\"zerolinewidth\":2},\"yaxis\":{\"gridcolor\":\"white\",\"linecolor\":\"white\",\"ticks\":\"\",\"title\":{\"standoff\":15},\"zerolinecolor\":\"white\",\"automargin\":true,\"zerolinewidth\":2},\"scene\":{\"xaxis\":{\"backgroundcolor\":\"#E5ECF6\",\"gridcolor\":\"white\",\"linecolor\":\"white\",\"showbackground\":true,\"ticks\":\"\",\"zerolinecolor\":\"white\",\"gridwidth\":2},\"yaxis\":{\"backgroundcolor\":\"#E5ECF6\",\"gridcolor\":\"white\",\"linecolor\":\"white\",\"showbackground\":true,\"ticks\":\"\",\"zerolinecolor\":\"white\",\"gridwidth\":2},\"zaxis\":{\"backgroundcolor\":\"#E5ECF6\",\"gridcolor\":\"white\",\"linecolor\":\"white\",\"showbackground\":true,\"ticks\":\"\",\"zerolinecolor\":\"white\",\"gridwidth\":2}},\"shapedefaults\":{\"line\":{\"color\":\"#2a3f5f\"}},\"annotationdefaults\":{\"arrowcolor\":\"#2a3f5f\",\"arrowhead\":0,\"arrowwidth\":1},\"geo\":{\"bgcolor\":\"white\",\"landcolor\":\"#E5ECF6\",\"subunitcolor\":\"white\",\"showland\":true,\"showlakes\":true,\"lakecolor\":\"white\"},\"title\":{\"x\":0.05},\"mapbox\":{\"style\":\"light\"}}},\"xaxis\":{\"anchor\":\"y\",\"domain\":[0.0,1.0],\"title\":{\"text\":\"Date\"}},\"yaxis\":{\"anchor\":\"x\",\"domain\":[0.0,1.0],\"title\":{\"text\":\"Number of Jobs\"}},\"legend\":{\"title\":{\"text\":\"Company Name\"},\"tracegroupgap\":0},\"title\":{\"text\":\"Job Posting Trends Over Time by Company\"},\"hovermode\":\"x unified\"},                        {\"responsive\": true}                    ).then(function(){\n",
       "                            \n",
       "var gd = document.getElementById('8a84cb87-df22-4dbe-b7f6-e72590f3385a');\n",
       "var x = new MutationObserver(function (mutations, observer) {{\n",
       "        var display = window.getComputedStyle(gd).display;\n",
       "        if (!display || display === 'none') {{\n",
       "            console.log([gd, 'removed!']);\n",
       "            Plotly.purge(gd);\n",
       "            observer.disconnect();\n",
       "        }}\n",
       "}});\n",
       "\n",
       "// Listen for the removal of the full notebook cells\n",
       "var notebookContainer = gd.closest('#notebook-container');\n",
       "if (notebookContainer) {{\n",
       "    x.observe(notebookContainer, {childList: true});\n",
       "}}\n",
       "\n",
       "// Listen for the clearing of the current output cell\n",
       "var outputEl = gd.closest('.output');\n",
       "if (outputEl) {{\n",
       "    x.observe(outputEl, {childList: true});\n",
       "}}\n",
       "\n",
       "                        })                };                });            </script>        </div>"
      ]
     },
     "metadata": {},
     "output_type": "display_data"
    }
   ],
   "source": [
    "df['Posted Date'] = pd.to_datetime(df['Posted Date'])\n",
    "\n",
    "\n",
    "# Group by date and company\n",
    "trend_df = df.groupby(['Posted Date', 'Company Name']).size().reset_index(name='Job Count')\n",
    "\n",
    "# Interactive line chart\n",
    "fig = px.line(\n",
    "    trend_df,\n",
    "    x='Posted Date',\n",
    "    y='Job Count',\n",
    "    color='Company Name',  # Different lines for each company\n",
    "    title='Job Posting Trends Over Time by Company',\n",
    "    labels={'Job Count': 'Number of Jobs', 'Posted Date': 'Date'}\n",
    ")\n",
    "\n",
    "fig.update_traces(mode='lines+markers')  # Add markers to the lines\n",
    "fig.update_layout(\n",
    "    hovermode='x unified',  # Unified hover for better comparison\n",
    "    legend_title=\"Company Name\"\n",
    ")\n",
    "fig.show()"
   ]
  },
  {
   "cell_type": "markdown",
   "id": "70ef053e",
   "metadata": {},
   "source": [
    "**How to Use**\n",
    "\n",
    "Hover over the chart to view the number of jobs posted by each company on a specific date.\n",
    "Click on a company's name in the legend to hide or display its trend line for focused analysis.\n",
    "Markers on the lines highlight individual data points for better readability.\n",
    "This visualization helps compare job posting patterns across companies over time."
   ]
  },
  {
   "cell_type": "markdown",
   "id": "36db8619",
   "metadata": {},
   "source": [
    "## Part 2.3: Skill Demand Analysis"
   ]
  },
  {
   "cell_type": "markdown",
   "id": "dd9d7511",
   "metadata": {},
   "source": [
    "This code generates a grouped bar chart to analyze skill demand across companies. The Skills Required column is split into individual skills, and the dataset is grouped by Company Name and Skills to count occurrences. The chart uses Plotly to display skill counts for each company, with bars grouped by skill."
   ]
  },
  {
   "cell_type": "code",
   "execution_count": 68,
   "id": "ff091c5b",
   "metadata": {},
   "outputs": [
    {
     "data": {
      "application/vnd.plotly.v1+json": {
       "config": {
        "plotlyServerURL": "https://plot.ly"
       },
       "data": [
        {
         "alignmentgroup": "True",
         "hovertemplate": "Company Name=Accenture<br>Skills=%{x}<br>Count=%{text}<extra></extra>",
         "legendgroup": "Accenture",
         "marker": {
          "color": "#636efa",
          "pattern": {
           "shape": ""
          }
         },
         "name": "Accenture",
         "offsetgroup": "Accenture",
         "orientation": "v",
         "showlegend": true,
         "text": [
          565,
          567,
          599,
          563,
          620,
          591,
          601,
          582,
          585,
          589
         ],
         "textposition": "outside",
         "type": "bar",
         "x": [
          "AWS",
          "C++",
          "Digital Marketing",
          "Excel",
          "Java",
          "Machine Learning",
          "Python",
          "React",
          "SQL",
          "UI/UX"
         ],
         "xaxis": "x",
         "y": [
          565,
          567,
          599,
          563,
          620,
          591,
          601,
          582,
          585,
          589
         ],
         "yaxis": "y"
        },
        {
         "alignmentgroup": "True",
         "hovertemplate": "Company Name=Amazon<br>Skills=%{x}<br>Count=%{text}<extra></extra>",
         "legendgroup": "Amazon",
         "marker": {
          "color": "#EF553B",
          "pattern": {
           "shape": ""
          }
         },
         "name": "Amazon",
         "offsetgroup": "Amazon",
         "orientation": "v",
         "showlegend": true,
         "text": [
          599,
          626,
          606,
          616,
          629,
          613,
          648,
          645,
          618,
          658
         ],
         "textposition": "outside",
         "type": "bar",
         "x": [
          "AWS",
          "C++",
          "Digital Marketing",
          "Excel",
          "Java",
          "Machine Learning",
          "Python",
          "React",
          "SQL",
          "UI/UX"
         ],
         "xaxis": "x",
         "y": [
          599,
          626,
          606,
          616,
          629,
          613,
          648,
          645,
          618,
          658
         ],
         "yaxis": "y"
        },
        {
         "alignmentgroup": "True",
         "hovertemplate": "Company Name=Deloitte<br>Skills=%{x}<br>Count=%{text}<extra></extra>",
         "legendgroup": "Deloitte",
         "marker": {
          "color": "#00cc96",
          "pattern": {
           "shape": ""
          }
         },
         "name": "Deloitte",
         "offsetgroup": "Deloitte",
         "orientation": "v",
         "showlegend": true,
         "text": [
          595,
          615,
          586,
          605,
          608,
          524,
          623,
          577,
          608,
          608
         ],
         "textposition": "outside",
         "type": "bar",
         "x": [
          "AWS",
          "C++",
          "Digital Marketing",
          "Excel",
          "Java",
          "Machine Learning",
          "Python",
          "React",
          "SQL",
          "UI/UX"
         ],
         "xaxis": "x",
         "y": [
          595,
          615,
          586,
          605,
          608,
          524,
          623,
          577,
          608,
          608
         ],
         "yaxis": "y"
        },
        {
         "alignmentgroup": "True",
         "hovertemplate": "Company Name=Google<br>Skills=%{x}<br>Count=%{text}<extra></extra>",
         "legendgroup": "Google",
         "marker": {
          "color": "#ab63fa",
          "pattern": {
           "shape": ""
          }
         },
         "name": "Google",
         "offsetgroup": "Google",
         "orientation": "v",
         "showlegend": true,
         "text": [
          598,
          623,
          606,
          581,
          610,
          606,
          612,
          614,
          557,
          605
         ],
         "textposition": "outside",
         "type": "bar",
         "x": [
          "AWS",
          "C++",
          "Digital Marketing",
          "Excel",
          "Java",
          "Machine Learning",
          "Python",
          "React",
          "SQL",
          "UI/UX"
         ],
         "xaxis": "x",
         "y": [
          598,
          623,
          606,
          581,
          610,
          606,
          612,
          614,
          557,
          605
         ],
         "yaxis": "y"
        },
        {
         "alignmentgroup": "True",
         "hovertemplate": "Company Name=HCL<br>Skills=%{x}<br>Count=%{text}<extra></extra>",
         "legendgroup": "HCL",
         "marker": {
          "color": "#FFA15A",
          "pattern": {
           "shape": ""
          }
         },
         "name": "HCL",
         "offsetgroup": "HCL",
         "orientation": "v",
         "showlegend": true,
         "text": [
          623,
          607,
          576,
          595,
          603,
          577,
          618,
          638,
          654,
          578
         ],
         "textposition": "outside",
         "type": "bar",
         "x": [
          "AWS",
          "C++",
          "Digital Marketing",
          "Excel",
          "Java",
          "Machine Learning",
          "Python",
          "React",
          "SQL",
          "UI/UX"
         ],
         "xaxis": "x",
         "y": [
          623,
          607,
          576,
          595,
          603,
          577,
          618,
          638,
          654,
          578
         ],
         "yaxis": "y"
        },
        {
         "alignmentgroup": "True",
         "hovertemplate": "Company Name=IBM<br>Skills=%{x}<br>Count=%{text}<extra></extra>",
         "legendgroup": "IBM",
         "marker": {
          "color": "#19d3f3",
          "pattern": {
           "shape": ""
          }
         },
         "name": "IBM",
         "offsetgroup": "IBM",
         "orientation": "v",
         "showlegend": true,
         "text": [
          562,
          577,
          564,
          617,
          588,
          592,
          588,
          585,
          568,
          591
         ],
         "textposition": "outside",
         "type": "bar",
         "x": [
          "AWS",
          "C++",
          "Digital Marketing",
          "Excel",
          "Java",
          "Machine Learning",
          "Python",
          "React",
          "SQL",
          "UI/UX"
         ],
         "xaxis": "x",
         "y": [
          562,
          577,
          564,
          617,
          588,
          592,
          588,
          585,
          568,
          591
         ],
         "yaxis": "y"
        },
        {
         "alignmentgroup": "True",
         "hovertemplate": "Company Name=Infosys<br>Skills=%{x}<br>Count=%{text}<extra></extra>",
         "legendgroup": "Infosys",
         "marker": {
          "color": "#FF6692",
          "pattern": {
           "shape": ""
          }
         },
         "name": "Infosys",
         "offsetgroup": "Infosys",
         "orientation": "v",
         "showlegend": true,
         "text": [
          605,
          582,
          585,
          617,
          603,
          565,
          613,
          560,
          609,
          604
         ],
         "textposition": "outside",
         "type": "bar",
         "x": [
          "AWS",
          "C++",
          "Digital Marketing",
          "Excel",
          "Java",
          "Machine Learning",
          "Python",
          "React",
          "SQL",
          "UI/UX"
         ],
         "xaxis": "x",
         "y": [
          605,
          582,
          585,
          617,
          603,
          565,
          613,
          560,
          609,
          604
         ],
         "yaxis": "y"
        },
        {
         "alignmentgroup": "True",
         "hovertemplate": "Company Name=Microsoft<br>Skills=%{x}<br>Count=%{text}<extra></extra>",
         "legendgroup": "Microsoft",
         "marker": {
          "color": "#B6E880",
          "pattern": {
           "shape": ""
          }
         },
         "name": "Microsoft",
         "offsetgroup": "Microsoft",
         "orientation": "v",
         "showlegend": true,
         "text": [
          570,
          595,
          551,
          555,
          605,
          579,
          618,
          626,
          585,
          647
         ],
         "textposition": "outside",
         "type": "bar",
         "x": [
          "AWS",
          "C++",
          "Digital Marketing",
          "Excel",
          "Java",
          "Machine Learning",
          "Python",
          "React",
          "SQL",
          "UI/UX"
         ],
         "xaxis": "x",
         "y": [
          570,
          595,
          551,
          555,
          605,
          579,
          618,
          626,
          585,
          647
         ],
         "yaxis": "y"
        },
        {
         "alignmentgroup": "True",
         "hovertemplate": "Company Name=TCS<br>Skills=%{x}<br>Count=%{text}<extra></extra>",
         "legendgroup": "TCS",
         "marker": {
          "color": "#FF97FF",
          "pattern": {
           "shape": ""
          }
         },
         "name": "TCS",
         "offsetgroup": "TCS",
         "orientation": "v",
         "showlegend": true,
         "text": [
          574,
          601,
          611,
          602,
          592,
          600,
          588,
          618,
          557,
          594
         ],
         "textposition": "outside",
         "type": "bar",
         "x": [
          "AWS",
          "C++",
          "Digital Marketing",
          "Excel",
          "Java",
          "Machine Learning",
          "Python",
          "React",
          "SQL",
          "UI/UX"
         ],
         "xaxis": "x",
         "y": [
          574,
          601,
          611,
          602,
          592,
          600,
          588,
          618,
          557,
          594
         ],
         "yaxis": "y"
        },
        {
         "alignmentgroup": "True",
         "hovertemplate": "Company Name=Wipro<br>Skills=%{x}<br>Count=%{text}<extra></extra>",
         "legendgroup": "Wipro",
         "marker": {
          "color": "#FECB52",
          "pattern": {
           "shape": ""
          }
         },
         "name": "Wipro",
         "offsetgroup": "Wipro",
         "orientation": "v",
         "showlegend": true,
         "text": [
          600,
          600,
          623,
          600,
          645,
          610,
          625,
          628,
          612,
          664
         ],
         "textposition": "outside",
         "type": "bar",
         "x": [
          "AWS",
          "C++",
          "Digital Marketing",
          "Excel",
          "Java",
          "Machine Learning",
          "Python",
          "React",
          "SQL",
          "UI/UX"
         ],
         "xaxis": "x",
         "y": [
          600,
          600,
          623,
          600,
          645,
          610,
          625,
          628,
          612,
          664
         ],
         "yaxis": "y"
        }
       ],
       "layout": {
        "barmode": "group",
        "legend": {
         "title": {
          "text": "Company Name"
         },
         "tracegroupgap": 0
        },
        "template": {
         "data": {
          "bar": [
           {
            "error_x": {
             "color": "#2a3f5f"
            },
            "error_y": {
             "color": "#2a3f5f"
            },
            "marker": {
             "line": {
              "color": "#E5ECF6",
              "width": 0.5
             },
             "pattern": {
              "fillmode": "overlay",
              "size": 10,
              "solidity": 0.2
             }
            },
            "type": "bar"
           }
          ],
          "barpolar": [
           {
            "marker": {
             "line": {
              "color": "#E5ECF6",
              "width": 0.5
             },
             "pattern": {
              "fillmode": "overlay",
              "size": 10,
              "solidity": 0.2
             }
            },
            "type": "barpolar"
           }
          ],
          "carpet": [
           {
            "aaxis": {
             "endlinecolor": "#2a3f5f",
             "gridcolor": "white",
             "linecolor": "white",
             "minorgridcolor": "white",
             "startlinecolor": "#2a3f5f"
            },
            "baxis": {
             "endlinecolor": "#2a3f5f",
             "gridcolor": "white",
             "linecolor": "white",
             "minorgridcolor": "white",
             "startlinecolor": "#2a3f5f"
            },
            "type": "carpet"
           }
          ],
          "choropleth": [
           {
            "colorbar": {
             "outlinewidth": 0,
             "ticks": ""
            },
            "type": "choropleth"
           }
          ],
          "contour": [
           {
            "colorbar": {
             "outlinewidth": 0,
             "ticks": ""
            },
            "colorscale": [
             [
              0,
              "#0d0887"
             ],
             [
              0.1111111111111111,
              "#46039f"
             ],
             [
              0.2222222222222222,
              "#7201a8"
             ],
             [
              0.3333333333333333,
              "#9c179e"
             ],
             [
              0.4444444444444444,
              "#bd3786"
             ],
             [
              0.5555555555555556,
              "#d8576b"
             ],
             [
              0.6666666666666666,
              "#ed7953"
             ],
             [
              0.7777777777777778,
              "#fb9f3a"
             ],
             [
              0.8888888888888888,
              "#fdca26"
             ],
             [
              1,
              "#f0f921"
             ]
            ],
            "type": "contour"
           }
          ],
          "contourcarpet": [
           {
            "colorbar": {
             "outlinewidth": 0,
             "ticks": ""
            },
            "type": "contourcarpet"
           }
          ],
          "heatmap": [
           {
            "colorbar": {
             "outlinewidth": 0,
             "ticks": ""
            },
            "colorscale": [
             [
              0,
              "#0d0887"
             ],
             [
              0.1111111111111111,
              "#46039f"
             ],
             [
              0.2222222222222222,
              "#7201a8"
             ],
             [
              0.3333333333333333,
              "#9c179e"
             ],
             [
              0.4444444444444444,
              "#bd3786"
             ],
             [
              0.5555555555555556,
              "#d8576b"
             ],
             [
              0.6666666666666666,
              "#ed7953"
             ],
             [
              0.7777777777777778,
              "#fb9f3a"
             ],
             [
              0.8888888888888888,
              "#fdca26"
             ],
             [
              1,
              "#f0f921"
             ]
            ],
            "type": "heatmap"
           }
          ],
          "heatmapgl": [
           {
            "colorbar": {
             "outlinewidth": 0,
             "ticks": ""
            },
            "colorscale": [
             [
              0,
              "#0d0887"
             ],
             [
              0.1111111111111111,
              "#46039f"
             ],
             [
              0.2222222222222222,
              "#7201a8"
             ],
             [
              0.3333333333333333,
              "#9c179e"
             ],
             [
              0.4444444444444444,
              "#bd3786"
             ],
             [
              0.5555555555555556,
              "#d8576b"
             ],
             [
              0.6666666666666666,
              "#ed7953"
             ],
             [
              0.7777777777777778,
              "#fb9f3a"
             ],
             [
              0.8888888888888888,
              "#fdca26"
             ],
             [
              1,
              "#f0f921"
             ]
            ],
            "type": "heatmapgl"
           }
          ],
          "histogram": [
           {
            "marker": {
             "pattern": {
              "fillmode": "overlay",
              "size": 10,
              "solidity": 0.2
             }
            },
            "type": "histogram"
           }
          ],
          "histogram2d": [
           {
            "colorbar": {
             "outlinewidth": 0,
             "ticks": ""
            },
            "colorscale": [
             [
              0,
              "#0d0887"
             ],
             [
              0.1111111111111111,
              "#46039f"
             ],
             [
              0.2222222222222222,
              "#7201a8"
             ],
             [
              0.3333333333333333,
              "#9c179e"
             ],
             [
              0.4444444444444444,
              "#bd3786"
             ],
             [
              0.5555555555555556,
              "#d8576b"
             ],
             [
              0.6666666666666666,
              "#ed7953"
             ],
             [
              0.7777777777777778,
              "#fb9f3a"
             ],
             [
              0.8888888888888888,
              "#fdca26"
             ],
             [
              1,
              "#f0f921"
             ]
            ],
            "type": "histogram2d"
           }
          ],
          "histogram2dcontour": [
           {
            "colorbar": {
             "outlinewidth": 0,
             "ticks": ""
            },
            "colorscale": [
             [
              0,
              "#0d0887"
             ],
             [
              0.1111111111111111,
              "#46039f"
             ],
             [
              0.2222222222222222,
              "#7201a8"
             ],
             [
              0.3333333333333333,
              "#9c179e"
             ],
             [
              0.4444444444444444,
              "#bd3786"
             ],
             [
              0.5555555555555556,
              "#d8576b"
             ],
             [
              0.6666666666666666,
              "#ed7953"
             ],
             [
              0.7777777777777778,
              "#fb9f3a"
             ],
             [
              0.8888888888888888,
              "#fdca26"
             ],
             [
              1,
              "#f0f921"
             ]
            ],
            "type": "histogram2dcontour"
           }
          ],
          "mesh3d": [
           {
            "colorbar": {
             "outlinewidth": 0,
             "ticks": ""
            },
            "type": "mesh3d"
           }
          ],
          "parcoords": [
           {
            "line": {
             "colorbar": {
              "outlinewidth": 0,
              "ticks": ""
             }
            },
            "type": "parcoords"
           }
          ],
          "pie": [
           {
            "automargin": true,
            "type": "pie"
           }
          ],
          "scatter": [
           {
            "fillpattern": {
             "fillmode": "overlay",
             "size": 10,
             "solidity": 0.2
            },
            "type": "scatter"
           }
          ],
          "scatter3d": [
           {
            "line": {
             "colorbar": {
              "outlinewidth": 0,
              "ticks": ""
             }
            },
            "marker": {
             "colorbar": {
              "outlinewidth": 0,
              "ticks": ""
             }
            },
            "type": "scatter3d"
           }
          ],
          "scattercarpet": [
           {
            "marker": {
             "colorbar": {
              "outlinewidth": 0,
              "ticks": ""
             }
            },
            "type": "scattercarpet"
           }
          ],
          "scattergeo": [
           {
            "marker": {
             "colorbar": {
              "outlinewidth": 0,
              "ticks": ""
             }
            },
            "type": "scattergeo"
           }
          ],
          "scattergl": [
           {
            "marker": {
             "colorbar": {
              "outlinewidth": 0,
              "ticks": ""
             }
            },
            "type": "scattergl"
           }
          ],
          "scattermapbox": [
           {
            "marker": {
             "colorbar": {
              "outlinewidth": 0,
              "ticks": ""
             }
            },
            "type": "scattermapbox"
           }
          ],
          "scatterpolar": [
           {
            "marker": {
             "colorbar": {
              "outlinewidth": 0,
              "ticks": ""
             }
            },
            "type": "scatterpolar"
           }
          ],
          "scatterpolargl": [
           {
            "marker": {
             "colorbar": {
              "outlinewidth": 0,
              "ticks": ""
             }
            },
            "type": "scatterpolargl"
           }
          ],
          "scatterternary": [
           {
            "marker": {
             "colorbar": {
              "outlinewidth": 0,
              "ticks": ""
             }
            },
            "type": "scatterternary"
           }
          ],
          "surface": [
           {
            "colorbar": {
             "outlinewidth": 0,
             "ticks": ""
            },
            "colorscale": [
             [
              0,
              "#0d0887"
             ],
             [
              0.1111111111111111,
              "#46039f"
             ],
             [
              0.2222222222222222,
              "#7201a8"
             ],
             [
              0.3333333333333333,
              "#9c179e"
             ],
             [
              0.4444444444444444,
              "#bd3786"
             ],
             [
              0.5555555555555556,
              "#d8576b"
             ],
             [
              0.6666666666666666,
              "#ed7953"
             ],
             [
              0.7777777777777778,
              "#fb9f3a"
             ],
             [
              0.8888888888888888,
              "#fdca26"
             ],
             [
              1,
              "#f0f921"
             ]
            ],
            "type": "surface"
           }
          ],
          "table": [
           {
            "cells": {
             "fill": {
              "color": "#EBF0F8"
             },
             "line": {
              "color": "white"
             }
            },
            "header": {
             "fill": {
              "color": "#C8D4E3"
             },
             "line": {
              "color": "white"
             }
            },
            "type": "table"
           }
          ]
         },
         "layout": {
          "annotationdefaults": {
           "arrowcolor": "#2a3f5f",
           "arrowhead": 0,
           "arrowwidth": 1
          },
          "autotypenumbers": "strict",
          "coloraxis": {
           "colorbar": {
            "outlinewidth": 0,
            "ticks": ""
           }
          },
          "colorscale": {
           "diverging": [
            [
             0,
             "#8e0152"
            ],
            [
             0.1,
             "#c51b7d"
            ],
            [
             0.2,
             "#de77ae"
            ],
            [
             0.3,
             "#f1b6da"
            ],
            [
             0.4,
             "#fde0ef"
            ],
            [
             0.5,
             "#f7f7f7"
            ],
            [
             0.6,
             "#e6f5d0"
            ],
            [
             0.7,
             "#b8e186"
            ],
            [
             0.8,
             "#7fbc41"
            ],
            [
             0.9,
             "#4d9221"
            ],
            [
             1,
             "#276419"
            ]
           ],
           "sequential": [
            [
             0,
             "#0d0887"
            ],
            [
             0.1111111111111111,
             "#46039f"
            ],
            [
             0.2222222222222222,
             "#7201a8"
            ],
            [
             0.3333333333333333,
             "#9c179e"
            ],
            [
             0.4444444444444444,
             "#bd3786"
            ],
            [
             0.5555555555555556,
             "#d8576b"
            ],
            [
             0.6666666666666666,
             "#ed7953"
            ],
            [
             0.7777777777777778,
             "#fb9f3a"
            ],
            [
             0.8888888888888888,
             "#fdca26"
            ],
            [
             1,
             "#f0f921"
            ]
           ],
           "sequentialminus": [
            [
             0,
             "#0d0887"
            ],
            [
             0.1111111111111111,
             "#46039f"
            ],
            [
             0.2222222222222222,
             "#7201a8"
            ],
            [
             0.3333333333333333,
             "#9c179e"
            ],
            [
             0.4444444444444444,
             "#bd3786"
            ],
            [
             0.5555555555555556,
             "#d8576b"
            ],
            [
             0.6666666666666666,
             "#ed7953"
            ],
            [
             0.7777777777777778,
             "#fb9f3a"
            ],
            [
             0.8888888888888888,
             "#fdca26"
            ],
            [
             1,
             "#f0f921"
            ]
           ]
          },
          "colorway": [
           "#636efa",
           "#EF553B",
           "#00cc96",
           "#ab63fa",
           "#FFA15A",
           "#19d3f3",
           "#FF6692",
           "#B6E880",
           "#FF97FF",
           "#FECB52"
          ],
          "font": {
           "color": "#2a3f5f"
          },
          "geo": {
           "bgcolor": "white",
           "lakecolor": "white",
           "landcolor": "#E5ECF6",
           "showlakes": true,
           "showland": true,
           "subunitcolor": "white"
          },
          "hoverlabel": {
           "align": "left"
          },
          "hovermode": "closest",
          "mapbox": {
           "style": "light"
          },
          "paper_bgcolor": "white",
          "plot_bgcolor": "#E5ECF6",
          "polar": {
           "angularaxis": {
            "gridcolor": "white",
            "linecolor": "white",
            "ticks": ""
           },
           "bgcolor": "#E5ECF6",
           "radialaxis": {
            "gridcolor": "white",
            "linecolor": "white",
            "ticks": ""
           }
          },
          "scene": {
           "xaxis": {
            "backgroundcolor": "#E5ECF6",
            "gridcolor": "white",
            "gridwidth": 2,
            "linecolor": "white",
            "showbackground": true,
            "ticks": "",
            "zerolinecolor": "white"
           },
           "yaxis": {
            "backgroundcolor": "#E5ECF6",
            "gridcolor": "white",
            "gridwidth": 2,
            "linecolor": "white",
            "showbackground": true,
            "ticks": "",
            "zerolinecolor": "white"
           },
           "zaxis": {
            "backgroundcolor": "#E5ECF6",
            "gridcolor": "white",
            "gridwidth": 2,
            "linecolor": "white",
            "showbackground": true,
            "ticks": "",
            "zerolinecolor": "white"
           }
          },
          "shapedefaults": {
           "line": {
            "color": "#2a3f5f"
           }
          },
          "ternary": {
           "aaxis": {
            "gridcolor": "white",
            "linecolor": "white",
            "ticks": ""
           },
           "baxis": {
            "gridcolor": "white",
            "linecolor": "white",
            "ticks": ""
           },
           "bgcolor": "#E5ECF6",
           "caxis": {
            "gridcolor": "white",
            "linecolor": "white",
            "ticks": ""
           }
          },
          "title": {
           "x": 0.05
          },
          "xaxis": {
           "automargin": true,
           "gridcolor": "white",
           "linecolor": "white",
           "ticks": "",
           "title": {
            "standoff": 15
           },
           "zerolinecolor": "white",
           "zerolinewidth": 2
          },
          "yaxis": {
           "automargin": true,
           "gridcolor": "white",
           "linecolor": "white",
           "ticks": "",
           "title": {
            "standoff": 15
           },
           "zerolinecolor": "white",
           "zerolinewidth": 2
          }
         }
        },
        "title": {
         "text": "Company-Wise Skill Demand Analysis"
        },
        "xaxis": {
         "anchor": "y",
         "domain": [
          0,
          1
         ],
         "title": {
          "text": "Skills"
         }
        },
        "yaxis": {
         "anchor": "x",
         "domain": [
          0,
          1
         ],
         "title": {
          "text": "Count"
         }
        }
       }
      },
      "text/html": [
       "<div>                            <div id=\"55cac24b-4ef1-4d55-a617-1ee71e825e7f\" class=\"plotly-graph-div\" style=\"height:525px; width:100%;\"></div>            <script type=\"text/javascript\">                require([\"plotly\"], function(Plotly) {                    window.PLOTLYENV=window.PLOTLYENV || {};                                    if (document.getElementById(\"55cac24b-4ef1-4d55-a617-1ee71e825e7f\")) {                    Plotly.newPlot(                        \"55cac24b-4ef1-4d55-a617-1ee71e825e7f\",                        [{\"alignmentgroup\":\"True\",\"hovertemplate\":\"Company Name=Accenture<br>Skills=%{x}<br>Count=%{text}<extra></extra>\",\"legendgroup\":\"Accenture\",\"marker\":{\"color\":\"#636efa\",\"pattern\":{\"shape\":\"\"}},\"name\":\"Accenture\",\"offsetgroup\":\"Accenture\",\"orientation\":\"v\",\"showlegend\":true,\"text\":[565.0,567.0,599.0,563.0,620.0,591.0,601.0,582.0,585.0,589.0],\"textposition\":\"outside\",\"x\":[\"AWS\",\"C++\",\"Digital Marketing\",\"Excel\",\"Java\",\"Machine Learning\",\"Python\",\"React\",\"SQL\",\"UI/UX\"],\"xaxis\":\"x\",\"y\":[565,567,599,563,620,591,601,582,585,589],\"yaxis\":\"y\",\"type\":\"bar\"},{\"alignmentgroup\":\"True\",\"hovertemplate\":\"Company Name=Amazon<br>Skills=%{x}<br>Count=%{text}<extra></extra>\",\"legendgroup\":\"Amazon\",\"marker\":{\"color\":\"#EF553B\",\"pattern\":{\"shape\":\"\"}},\"name\":\"Amazon\",\"offsetgroup\":\"Amazon\",\"orientation\":\"v\",\"showlegend\":true,\"text\":[599.0,626.0,606.0,616.0,629.0,613.0,648.0,645.0,618.0,658.0],\"textposition\":\"outside\",\"x\":[\"AWS\",\"C++\",\"Digital Marketing\",\"Excel\",\"Java\",\"Machine Learning\",\"Python\",\"React\",\"SQL\",\"UI/UX\"],\"xaxis\":\"x\",\"y\":[599,626,606,616,629,613,648,645,618,658],\"yaxis\":\"y\",\"type\":\"bar\"},{\"alignmentgroup\":\"True\",\"hovertemplate\":\"Company Name=Deloitte<br>Skills=%{x}<br>Count=%{text}<extra></extra>\",\"legendgroup\":\"Deloitte\",\"marker\":{\"color\":\"#00cc96\",\"pattern\":{\"shape\":\"\"}},\"name\":\"Deloitte\",\"offsetgroup\":\"Deloitte\",\"orientation\":\"v\",\"showlegend\":true,\"text\":[595.0,615.0,586.0,605.0,608.0,524.0,623.0,577.0,608.0,608.0],\"textposition\":\"outside\",\"x\":[\"AWS\",\"C++\",\"Digital Marketing\",\"Excel\",\"Java\",\"Machine Learning\",\"Python\",\"React\",\"SQL\",\"UI/UX\"],\"xaxis\":\"x\",\"y\":[595,615,586,605,608,524,623,577,608,608],\"yaxis\":\"y\",\"type\":\"bar\"},{\"alignmentgroup\":\"True\",\"hovertemplate\":\"Company Name=Google<br>Skills=%{x}<br>Count=%{text}<extra></extra>\",\"legendgroup\":\"Google\",\"marker\":{\"color\":\"#ab63fa\",\"pattern\":{\"shape\":\"\"}},\"name\":\"Google\",\"offsetgroup\":\"Google\",\"orientation\":\"v\",\"showlegend\":true,\"text\":[598.0,623.0,606.0,581.0,610.0,606.0,612.0,614.0,557.0,605.0],\"textposition\":\"outside\",\"x\":[\"AWS\",\"C++\",\"Digital Marketing\",\"Excel\",\"Java\",\"Machine Learning\",\"Python\",\"React\",\"SQL\",\"UI/UX\"],\"xaxis\":\"x\",\"y\":[598,623,606,581,610,606,612,614,557,605],\"yaxis\":\"y\",\"type\":\"bar\"},{\"alignmentgroup\":\"True\",\"hovertemplate\":\"Company Name=HCL<br>Skills=%{x}<br>Count=%{text}<extra></extra>\",\"legendgroup\":\"HCL\",\"marker\":{\"color\":\"#FFA15A\",\"pattern\":{\"shape\":\"\"}},\"name\":\"HCL\",\"offsetgroup\":\"HCL\",\"orientation\":\"v\",\"showlegend\":true,\"text\":[623.0,607.0,576.0,595.0,603.0,577.0,618.0,638.0,654.0,578.0],\"textposition\":\"outside\",\"x\":[\"AWS\",\"C++\",\"Digital Marketing\",\"Excel\",\"Java\",\"Machine Learning\",\"Python\",\"React\",\"SQL\",\"UI/UX\"],\"xaxis\":\"x\",\"y\":[623,607,576,595,603,577,618,638,654,578],\"yaxis\":\"y\",\"type\":\"bar\"},{\"alignmentgroup\":\"True\",\"hovertemplate\":\"Company Name=IBM<br>Skills=%{x}<br>Count=%{text}<extra></extra>\",\"legendgroup\":\"IBM\",\"marker\":{\"color\":\"#19d3f3\",\"pattern\":{\"shape\":\"\"}},\"name\":\"IBM\",\"offsetgroup\":\"IBM\",\"orientation\":\"v\",\"showlegend\":true,\"text\":[562.0,577.0,564.0,617.0,588.0,592.0,588.0,585.0,568.0,591.0],\"textposition\":\"outside\",\"x\":[\"AWS\",\"C++\",\"Digital Marketing\",\"Excel\",\"Java\",\"Machine Learning\",\"Python\",\"React\",\"SQL\",\"UI/UX\"],\"xaxis\":\"x\",\"y\":[562,577,564,617,588,592,588,585,568,591],\"yaxis\":\"y\",\"type\":\"bar\"},{\"alignmentgroup\":\"True\",\"hovertemplate\":\"Company Name=Infosys<br>Skills=%{x}<br>Count=%{text}<extra></extra>\",\"legendgroup\":\"Infosys\",\"marker\":{\"color\":\"#FF6692\",\"pattern\":{\"shape\":\"\"}},\"name\":\"Infosys\",\"offsetgroup\":\"Infosys\",\"orientation\":\"v\",\"showlegend\":true,\"text\":[605.0,582.0,585.0,617.0,603.0,565.0,613.0,560.0,609.0,604.0],\"textposition\":\"outside\",\"x\":[\"AWS\",\"C++\",\"Digital Marketing\",\"Excel\",\"Java\",\"Machine Learning\",\"Python\",\"React\",\"SQL\",\"UI/UX\"],\"xaxis\":\"x\",\"y\":[605,582,585,617,603,565,613,560,609,604],\"yaxis\":\"y\",\"type\":\"bar\"},{\"alignmentgroup\":\"True\",\"hovertemplate\":\"Company Name=Microsoft<br>Skills=%{x}<br>Count=%{text}<extra></extra>\",\"legendgroup\":\"Microsoft\",\"marker\":{\"color\":\"#B6E880\",\"pattern\":{\"shape\":\"\"}},\"name\":\"Microsoft\",\"offsetgroup\":\"Microsoft\",\"orientation\":\"v\",\"showlegend\":true,\"text\":[570.0,595.0,551.0,555.0,605.0,579.0,618.0,626.0,585.0,647.0],\"textposition\":\"outside\",\"x\":[\"AWS\",\"C++\",\"Digital Marketing\",\"Excel\",\"Java\",\"Machine Learning\",\"Python\",\"React\",\"SQL\",\"UI/UX\"],\"xaxis\":\"x\",\"y\":[570,595,551,555,605,579,618,626,585,647],\"yaxis\":\"y\",\"type\":\"bar\"},{\"alignmentgroup\":\"True\",\"hovertemplate\":\"Company Name=TCS<br>Skills=%{x}<br>Count=%{text}<extra></extra>\",\"legendgroup\":\"TCS\",\"marker\":{\"color\":\"#FF97FF\",\"pattern\":{\"shape\":\"\"}},\"name\":\"TCS\",\"offsetgroup\":\"TCS\",\"orientation\":\"v\",\"showlegend\":true,\"text\":[574.0,601.0,611.0,602.0,592.0,600.0,588.0,618.0,557.0,594.0],\"textposition\":\"outside\",\"x\":[\"AWS\",\"C++\",\"Digital Marketing\",\"Excel\",\"Java\",\"Machine Learning\",\"Python\",\"React\",\"SQL\",\"UI/UX\"],\"xaxis\":\"x\",\"y\":[574,601,611,602,592,600,588,618,557,594],\"yaxis\":\"y\",\"type\":\"bar\"},{\"alignmentgroup\":\"True\",\"hovertemplate\":\"Company Name=Wipro<br>Skills=%{x}<br>Count=%{text}<extra></extra>\",\"legendgroup\":\"Wipro\",\"marker\":{\"color\":\"#FECB52\",\"pattern\":{\"shape\":\"\"}},\"name\":\"Wipro\",\"offsetgroup\":\"Wipro\",\"orientation\":\"v\",\"showlegend\":true,\"text\":[600.0,600.0,623.0,600.0,645.0,610.0,625.0,628.0,612.0,664.0],\"textposition\":\"outside\",\"x\":[\"AWS\",\"C++\",\"Digital Marketing\",\"Excel\",\"Java\",\"Machine Learning\",\"Python\",\"React\",\"SQL\",\"UI/UX\"],\"xaxis\":\"x\",\"y\":[600,600,623,600,645,610,625,628,612,664],\"yaxis\":\"y\",\"type\":\"bar\"}],                        {\"template\":{\"data\":{\"histogram2dcontour\":[{\"type\":\"histogram2dcontour\",\"colorbar\":{\"outlinewidth\":0,\"ticks\":\"\"},\"colorscale\":[[0.0,\"#0d0887\"],[0.1111111111111111,\"#46039f\"],[0.2222222222222222,\"#7201a8\"],[0.3333333333333333,\"#9c179e\"],[0.4444444444444444,\"#bd3786\"],[0.5555555555555556,\"#d8576b\"],[0.6666666666666666,\"#ed7953\"],[0.7777777777777778,\"#fb9f3a\"],[0.8888888888888888,\"#fdca26\"],[1.0,\"#f0f921\"]]}],\"choropleth\":[{\"type\":\"choropleth\",\"colorbar\":{\"outlinewidth\":0,\"ticks\":\"\"}}],\"histogram2d\":[{\"type\":\"histogram2d\",\"colorbar\":{\"outlinewidth\":0,\"ticks\":\"\"},\"colorscale\":[[0.0,\"#0d0887\"],[0.1111111111111111,\"#46039f\"],[0.2222222222222222,\"#7201a8\"],[0.3333333333333333,\"#9c179e\"],[0.4444444444444444,\"#bd3786\"],[0.5555555555555556,\"#d8576b\"],[0.6666666666666666,\"#ed7953\"],[0.7777777777777778,\"#fb9f3a\"],[0.8888888888888888,\"#fdca26\"],[1.0,\"#f0f921\"]]}],\"heatmap\":[{\"type\":\"heatmap\",\"colorbar\":{\"outlinewidth\":0,\"ticks\":\"\"},\"colorscale\":[[0.0,\"#0d0887\"],[0.1111111111111111,\"#46039f\"],[0.2222222222222222,\"#7201a8\"],[0.3333333333333333,\"#9c179e\"],[0.4444444444444444,\"#bd3786\"],[0.5555555555555556,\"#d8576b\"],[0.6666666666666666,\"#ed7953\"],[0.7777777777777778,\"#fb9f3a\"],[0.8888888888888888,\"#fdca26\"],[1.0,\"#f0f921\"]]}],\"heatmapgl\":[{\"type\":\"heatmapgl\",\"colorbar\":{\"outlinewidth\":0,\"ticks\":\"\"},\"colorscale\":[[0.0,\"#0d0887\"],[0.1111111111111111,\"#46039f\"],[0.2222222222222222,\"#7201a8\"],[0.3333333333333333,\"#9c179e\"],[0.4444444444444444,\"#bd3786\"],[0.5555555555555556,\"#d8576b\"],[0.6666666666666666,\"#ed7953\"],[0.7777777777777778,\"#fb9f3a\"],[0.8888888888888888,\"#fdca26\"],[1.0,\"#f0f921\"]]}],\"contourcarpet\":[{\"type\":\"contourcarpet\",\"colorbar\":{\"outlinewidth\":0,\"ticks\":\"\"}}],\"contour\":[{\"type\":\"contour\",\"colorbar\":{\"outlinewidth\":0,\"ticks\":\"\"},\"colorscale\":[[0.0,\"#0d0887\"],[0.1111111111111111,\"#46039f\"],[0.2222222222222222,\"#7201a8\"],[0.3333333333333333,\"#9c179e\"],[0.4444444444444444,\"#bd3786\"],[0.5555555555555556,\"#d8576b\"],[0.6666666666666666,\"#ed7953\"],[0.7777777777777778,\"#fb9f3a\"],[0.8888888888888888,\"#fdca26\"],[1.0,\"#f0f921\"]]}],\"surface\":[{\"type\":\"surface\",\"colorbar\":{\"outlinewidth\":0,\"ticks\":\"\"},\"colorscale\":[[0.0,\"#0d0887\"],[0.1111111111111111,\"#46039f\"],[0.2222222222222222,\"#7201a8\"],[0.3333333333333333,\"#9c179e\"],[0.4444444444444444,\"#bd3786\"],[0.5555555555555556,\"#d8576b\"],[0.6666666666666666,\"#ed7953\"],[0.7777777777777778,\"#fb9f3a\"],[0.8888888888888888,\"#fdca26\"],[1.0,\"#f0f921\"]]}],\"mesh3d\":[{\"type\":\"mesh3d\",\"colorbar\":{\"outlinewidth\":0,\"ticks\":\"\"}}],\"scatter\":[{\"fillpattern\":{\"fillmode\":\"overlay\",\"size\":10,\"solidity\":0.2},\"type\":\"scatter\"}],\"parcoords\":[{\"type\":\"parcoords\",\"line\":{\"colorbar\":{\"outlinewidth\":0,\"ticks\":\"\"}}}],\"scatterpolargl\":[{\"type\":\"scatterpolargl\",\"marker\":{\"colorbar\":{\"outlinewidth\":0,\"ticks\":\"\"}}}],\"bar\":[{\"error_x\":{\"color\":\"#2a3f5f\"},\"error_y\":{\"color\":\"#2a3f5f\"},\"marker\":{\"line\":{\"color\":\"#E5ECF6\",\"width\":0.5},\"pattern\":{\"fillmode\":\"overlay\",\"size\":10,\"solidity\":0.2}},\"type\":\"bar\"}],\"scattergeo\":[{\"type\":\"scattergeo\",\"marker\":{\"colorbar\":{\"outlinewidth\":0,\"ticks\":\"\"}}}],\"scatterpolar\":[{\"type\":\"scatterpolar\",\"marker\":{\"colorbar\":{\"outlinewidth\":0,\"ticks\":\"\"}}}],\"histogram\":[{\"marker\":{\"pattern\":{\"fillmode\":\"overlay\",\"size\":10,\"solidity\":0.2}},\"type\":\"histogram\"}],\"scattergl\":[{\"type\":\"scattergl\",\"marker\":{\"colorbar\":{\"outlinewidth\":0,\"ticks\":\"\"}}}],\"scatter3d\":[{\"type\":\"scatter3d\",\"line\":{\"colorbar\":{\"outlinewidth\":0,\"ticks\":\"\"}},\"marker\":{\"colorbar\":{\"outlinewidth\":0,\"ticks\":\"\"}}}],\"scattermapbox\":[{\"type\":\"scattermapbox\",\"marker\":{\"colorbar\":{\"outlinewidth\":0,\"ticks\":\"\"}}}],\"scatterternary\":[{\"type\":\"scatterternary\",\"marker\":{\"colorbar\":{\"outlinewidth\":0,\"ticks\":\"\"}}}],\"scattercarpet\":[{\"type\":\"scattercarpet\",\"marker\":{\"colorbar\":{\"outlinewidth\":0,\"ticks\":\"\"}}}],\"carpet\":[{\"aaxis\":{\"endlinecolor\":\"#2a3f5f\",\"gridcolor\":\"white\",\"linecolor\":\"white\",\"minorgridcolor\":\"white\",\"startlinecolor\":\"#2a3f5f\"},\"baxis\":{\"endlinecolor\":\"#2a3f5f\",\"gridcolor\":\"white\",\"linecolor\":\"white\",\"minorgridcolor\":\"white\",\"startlinecolor\":\"#2a3f5f\"},\"type\":\"carpet\"}],\"table\":[{\"cells\":{\"fill\":{\"color\":\"#EBF0F8\"},\"line\":{\"color\":\"white\"}},\"header\":{\"fill\":{\"color\":\"#C8D4E3\"},\"line\":{\"color\":\"white\"}},\"type\":\"table\"}],\"barpolar\":[{\"marker\":{\"line\":{\"color\":\"#E5ECF6\",\"width\":0.5},\"pattern\":{\"fillmode\":\"overlay\",\"size\":10,\"solidity\":0.2}},\"type\":\"barpolar\"}],\"pie\":[{\"automargin\":true,\"type\":\"pie\"}]},\"layout\":{\"autotypenumbers\":\"strict\",\"colorway\":[\"#636efa\",\"#EF553B\",\"#00cc96\",\"#ab63fa\",\"#FFA15A\",\"#19d3f3\",\"#FF6692\",\"#B6E880\",\"#FF97FF\",\"#FECB52\"],\"font\":{\"color\":\"#2a3f5f\"},\"hovermode\":\"closest\",\"hoverlabel\":{\"align\":\"left\"},\"paper_bgcolor\":\"white\",\"plot_bgcolor\":\"#E5ECF6\",\"polar\":{\"bgcolor\":\"#E5ECF6\",\"angularaxis\":{\"gridcolor\":\"white\",\"linecolor\":\"white\",\"ticks\":\"\"},\"radialaxis\":{\"gridcolor\":\"white\",\"linecolor\":\"white\",\"ticks\":\"\"}},\"ternary\":{\"bgcolor\":\"#E5ECF6\",\"aaxis\":{\"gridcolor\":\"white\",\"linecolor\":\"white\",\"ticks\":\"\"},\"baxis\":{\"gridcolor\":\"white\",\"linecolor\":\"white\",\"ticks\":\"\"},\"caxis\":{\"gridcolor\":\"white\",\"linecolor\":\"white\",\"ticks\":\"\"}},\"coloraxis\":{\"colorbar\":{\"outlinewidth\":0,\"ticks\":\"\"}},\"colorscale\":{\"sequential\":[[0.0,\"#0d0887\"],[0.1111111111111111,\"#46039f\"],[0.2222222222222222,\"#7201a8\"],[0.3333333333333333,\"#9c179e\"],[0.4444444444444444,\"#bd3786\"],[0.5555555555555556,\"#d8576b\"],[0.6666666666666666,\"#ed7953\"],[0.7777777777777778,\"#fb9f3a\"],[0.8888888888888888,\"#fdca26\"],[1.0,\"#f0f921\"]],\"sequentialminus\":[[0.0,\"#0d0887\"],[0.1111111111111111,\"#46039f\"],[0.2222222222222222,\"#7201a8\"],[0.3333333333333333,\"#9c179e\"],[0.4444444444444444,\"#bd3786\"],[0.5555555555555556,\"#d8576b\"],[0.6666666666666666,\"#ed7953\"],[0.7777777777777778,\"#fb9f3a\"],[0.8888888888888888,\"#fdca26\"],[1.0,\"#f0f921\"]],\"diverging\":[[0,\"#8e0152\"],[0.1,\"#c51b7d\"],[0.2,\"#de77ae\"],[0.3,\"#f1b6da\"],[0.4,\"#fde0ef\"],[0.5,\"#f7f7f7\"],[0.6,\"#e6f5d0\"],[0.7,\"#b8e186\"],[0.8,\"#7fbc41\"],[0.9,\"#4d9221\"],[1,\"#276419\"]]},\"xaxis\":{\"gridcolor\":\"white\",\"linecolor\":\"white\",\"ticks\":\"\",\"title\":{\"standoff\":15},\"zerolinecolor\":\"white\",\"automargin\":true,\"zerolinewidth\":2},\"yaxis\":{\"gridcolor\":\"white\",\"linecolor\":\"white\",\"ticks\":\"\",\"title\":{\"standoff\":15},\"zerolinecolor\":\"white\",\"automargin\":true,\"zerolinewidth\":2},\"scene\":{\"xaxis\":{\"backgroundcolor\":\"#E5ECF6\",\"gridcolor\":\"white\",\"linecolor\":\"white\",\"showbackground\":true,\"ticks\":\"\",\"zerolinecolor\":\"white\",\"gridwidth\":2},\"yaxis\":{\"backgroundcolor\":\"#E5ECF6\",\"gridcolor\":\"white\",\"linecolor\":\"white\",\"showbackground\":true,\"ticks\":\"\",\"zerolinecolor\":\"white\",\"gridwidth\":2},\"zaxis\":{\"backgroundcolor\":\"#E5ECF6\",\"gridcolor\":\"white\",\"linecolor\":\"white\",\"showbackground\":true,\"ticks\":\"\",\"zerolinecolor\":\"white\",\"gridwidth\":2}},\"shapedefaults\":{\"line\":{\"color\":\"#2a3f5f\"}},\"annotationdefaults\":{\"arrowcolor\":\"#2a3f5f\",\"arrowhead\":0,\"arrowwidth\":1},\"geo\":{\"bgcolor\":\"white\",\"landcolor\":\"#E5ECF6\",\"subunitcolor\":\"white\",\"showland\":true,\"showlakes\":true,\"lakecolor\":\"white\"},\"title\":{\"x\":0.05},\"mapbox\":{\"style\":\"light\"}}},\"xaxis\":{\"anchor\":\"y\",\"domain\":[0.0,1.0],\"title\":{\"text\":\"Skills\"}},\"yaxis\":{\"anchor\":\"x\",\"domain\":[0.0,1.0],\"title\":{\"text\":\"Count\"}},\"legend\":{\"title\":{\"text\":\"Company Name\"},\"tracegroupgap\":0},\"title\":{\"text\":\"Company-Wise Skill Demand Analysis\"},\"barmode\":\"group\"},                        {\"responsive\": true}                    ).then(function(){\n",
       "                            \n",
       "var gd = document.getElementById('55cac24b-4ef1-4d55-a617-1ee71e825e7f');\n",
       "var x = new MutationObserver(function (mutations, observer) {{\n",
       "        var display = window.getComputedStyle(gd).display;\n",
       "        if (!display || display === 'none') {{\n",
       "            console.log([gd, 'removed!']);\n",
       "            Plotly.purge(gd);\n",
       "            observer.disconnect();\n",
       "        }}\n",
       "}});\n",
       "\n",
       "// Listen for the removal of the full notebook cells\n",
       "var notebookContainer = gd.closest('#notebook-container');\n",
       "if (notebookContainer) {{\n",
       "    x.observe(notebookContainer, {childList: true});\n",
       "}}\n",
       "\n",
       "// Listen for the clearing of the current output cell\n",
       "var outputEl = gd.closest('.output');\n",
       "if (outputEl) {{\n",
       "    x.observe(outputEl, {childList: true});\n",
       "}}\n",
       "\n",
       "                        })                };                });            </script>        </div>"
      ]
     },
     "metadata": {},
     "output_type": "display_data"
    }
   ],
   "source": [
    "# Explode skills into individual rows and add company information\n",
    "skills_df = df.assign(Skills=df['Skills Required'].str.split(', ')).explode('Skills')\n",
    "\n",
    "# Count skills per company\n",
    "skill_counts_by_company = skills_df.groupby(['Company Name', 'Skills']).size().reset_index(name='Count')\n",
    "\n",
    "# Grouped bar chart for company-wise skill demand\n",
    "fig = px.bar(\n",
    "    skill_counts_by_company,\n",
    "    x='Skills',\n",
    "    y='Count',\n",
    "    color='Company Name',\n",
    "    title=\"Company-Wise Skill Demand Analysis\",\n",
    "    barmode='group',\n",
    "    text='Count'\n",
    ")\n",
    "fig.update_traces(textposition='outside')\n",
    "fig.show()"
   ]
  },
  {
   "cell_type": "markdown",
   "id": "ee3b7598",
   "metadata": {},
   "source": [
    "**How to Use**\n",
    "\n",
    "Hover over bars to view the number of times a skill is required by each company.\n",
    "Use the legend to toggle specific companies on or off for clearer comparisons.\n",
    "Compare grouped bars to identify the most in-demand skills across companies.\n",
    "This chart highlights company-specific skill preferences, enabling targeted insights for job seekers or analysts."
   ]
  },
  {
   "cell_type": "markdown",
   "id": "6b1b5d7a",
   "metadata": {},
   "source": [
    "## Part 2.4: Industry-Wise Job Distribution by Type of Employment"
   ]
  },
  {
   "cell_type": "markdown",
   "id": "3e5e7ab4",
   "metadata": {},
   "source": [
    "This code creates a treemap to visualize job distribution hierarchically by job type, title, and location. Each rectangle represents a category, with nested rectangles showing subcategories. The chart uses Plotly for interactive exploration."
   ]
  },
  {
   "cell_type": "code",
   "execution_count": 82,
   "id": "d7d5518b",
   "metadata": {},
   "outputs": [
    {
     "data": {
      "application/vnd.plotly.v1+json": {
       "config": {
        "plotlyServerURL": "https://plot.ly"
       },
       "data": [
        {
         "branchvalues": "total",
         "domain": {
          "x": [
           0,
           1
          ],
          "y": [
           0,
           1
          ]
         },
         "hovertemplate": "labels=%{label}<br>count=%{value}<br>parent=%{parent}<br>id=%{id}<extra></extra>",
         "ids": [
          "Contract/Business Analyst/Ahmedabad",
          "Full-time/Business Analyst/Ahmedabad",
          "Internship/Business Analyst/Ahmedabad",
          "Part-time/Business Analyst/Ahmedabad",
          "Contract/Cyber Security Analyst/Ahmedabad",
          "Full-time/Cyber Security Analyst/Ahmedabad",
          "Internship/Cyber Security Analyst/Ahmedabad",
          "Part-time/Cyber Security Analyst/Ahmedabad",
          "Contract/Data Scientist/Ahmedabad",
          "Full-time/Data Scientist/Ahmedabad",
          "Internship/Data Scientist/Ahmedabad",
          "Part-time/Data Scientist/Ahmedabad",
          "Contract/Financial Analyst/Ahmedabad",
          "Full-time/Financial Analyst/Ahmedabad",
          "Internship/Financial Analyst/Ahmedabad",
          "Part-time/Financial Analyst/Ahmedabad",
          "Contract/Graphic Designer/Ahmedabad",
          "Full-time/Graphic Designer/Ahmedabad",
          "Internship/Graphic Designer/Ahmedabad",
          "Part-time/Graphic Designer/Ahmedabad",
          "Contract/HR Manager/Ahmedabad",
          "Full-time/HR Manager/Ahmedabad",
          "Internship/HR Manager/Ahmedabad",
          "Part-time/HR Manager/Ahmedabad",
          "Contract/Marketing Executive/Ahmedabad",
          "Full-time/Marketing Executive/Ahmedabad",
          "Internship/Marketing Executive/Ahmedabad",
          "Part-time/Marketing Executive/Ahmedabad",
          "Contract/Product Manager/Ahmedabad",
          "Full-time/Product Manager/Ahmedabad",
          "Internship/Product Manager/Ahmedabad",
          "Part-time/Product Manager/Ahmedabad",
          "Contract/Sales Representative/Ahmedabad",
          "Full-time/Sales Representative/Ahmedabad",
          "Internship/Sales Representative/Ahmedabad",
          "Part-time/Sales Representative/Ahmedabad",
          "Contract/Software Engineer/Ahmedabad",
          "Full-time/Software Engineer/Ahmedabad",
          "Internship/Software Engineer/Ahmedabad",
          "Part-time/Software Engineer/Ahmedabad",
          "Contract/Business Analyst/Bangalore",
          "Full-time/Business Analyst/Bangalore",
          "Internship/Business Analyst/Bangalore",
          "Part-time/Business Analyst/Bangalore",
          "Contract/Cyber Security Analyst/Bangalore",
          "Full-time/Cyber Security Analyst/Bangalore",
          "Internship/Cyber Security Analyst/Bangalore",
          "Part-time/Cyber Security Analyst/Bangalore",
          "Contract/Data Scientist/Bangalore",
          "Full-time/Data Scientist/Bangalore",
          "Internship/Data Scientist/Bangalore",
          "Part-time/Data Scientist/Bangalore",
          "Contract/Financial Analyst/Bangalore",
          "Full-time/Financial Analyst/Bangalore",
          "Internship/Financial Analyst/Bangalore",
          "Part-time/Financial Analyst/Bangalore",
          "Contract/Graphic Designer/Bangalore",
          "Full-time/Graphic Designer/Bangalore",
          "Internship/Graphic Designer/Bangalore",
          "Part-time/Graphic Designer/Bangalore",
          "Contract/HR Manager/Bangalore",
          "Full-time/HR Manager/Bangalore",
          "Internship/HR Manager/Bangalore",
          "Part-time/HR Manager/Bangalore",
          "Contract/Marketing Executive/Bangalore",
          "Full-time/Marketing Executive/Bangalore",
          "Internship/Marketing Executive/Bangalore",
          "Part-time/Marketing Executive/Bangalore",
          "Contract/Product Manager/Bangalore",
          "Full-time/Product Manager/Bangalore",
          "Internship/Product Manager/Bangalore",
          "Part-time/Product Manager/Bangalore",
          "Contract/Sales Representative/Bangalore",
          "Full-time/Sales Representative/Bangalore",
          "Internship/Sales Representative/Bangalore",
          "Part-time/Sales Representative/Bangalore",
          "Contract/Software Engineer/Bangalore",
          "Full-time/Software Engineer/Bangalore",
          "Internship/Software Engineer/Bangalore",
          "Part-time/Software Engineer/Bangalore",
          "Contract/Business Analyst/Chennai",
          "Full-time/Business Analyst/Chennai",
          "Internship/Business Analyst/Chennai",
          "Part-time/Business Analyst/Chennai",
          "Contract/Cyber Security Analyst/Chennai",
          "Full-time/Cyber Security Analyst/Chennai",
          "Internship/Cyber Security Analyst/Chennai",
          "Part-time/Cyber Security Analyst/Chennai",
          "Contract/Data Scientist/Chennai",
          "Full-time/Data Scientist/Chennai",
          "Internship/Data Scientist/Chennai",
          "Part-time/Data Scientist/Chennai",
          "Contract/Financial Analyst/Chennai",
          "Full-time/Financial Analyst/Chennai",
          "Internship/Financial Analyst/Chennai",
          "Part-time/Financial Analyst/Chennai",
          "Contract/Graphic Designer/Chennai",
          "Full-time/Graphic Designer/Chennai",
          "Internship/Graphic Designer/Chennai",
          "Part-time/Graphic Designer/Chennai",
          "Contract/HR Manager/Chennai",
          "Full-time/HR Manager/Chennai",
          "Internship/HR Manager/Chennai",
          "Part-time/HR Manager/Chennai",
          "Contract/Marketing Executive/Chennai",
          "Full-time/Marketing Executive/Chennai",
          "Internship/Marketing Executive/Chennai",
          "Part-time/Marketing Executive/Chennai",
          "Contract/Product Manager/Chennai",
          "Full-time/Product Manager/Chennai",
          "Internship/Product Manager/Chennai",
          "Part-time/Product Manager/Chennai",
          "Contract/Sales Representative/Chennai",
          "Full-time/Sales Representative/Chennai",
          "Internship/Sales Representative/Chennai",
          "Part-time/Sales Representative/Chennai",
          "Contract/Software Engineer/Chennai",
          "Full-time/Software Engineer/Chennai",
          "Internship/Software Engineer/Chennai",
          "Part-time/Software Engineer/Chennai",
          "Contract/Business Analyst/Delhi",
          "Full-time/Business Analyst/Delhi",
          "Internship/Business Analyst/Delhi",
          "Part-time/Business Analyst/Delhi",
          "Contract/Cyber Security Analyst/Delhi",
          "Full-time/Cyber Security Analyst/Delhi",
          "Internship/Cyber Security Analyst/Delhi",
          "Part-time/Cyber Security Analyst/Delhi",
          "Contract/Data Scientist/Delhi",
          "Full-time/Data Scientist/Delhi",
          "Internship/Data Scientist/Delhi",
          "Part-time/Data Scientist/Delhi",
          "Contract/Financial Analyst/Delhi",
          "Full-time/Financial Analyst/Delhi",
          "Internship/Financial Analyst/Delhi",
          "Part-time/Financial Analyst/Delhi",
          "Contract/Graphic Designer/Delhi",
          "Full-time/Graphic Designer/Delhi",
          "Internship/Graphic Designer/Delhi",
          "Part-time/Graphic Designer/Delhi",
          "Contract/HR Manager/Delhi",
          "Full-time/HR Manager/Delhi",
          "Internship/HR Manager/Delhi",
          "Part-time/HR Manager/Delhi",
          "Contract/Marketing Executive/Delhi",
          "Full-time/Marketing Executive/Delhi",
          "Internship/Marketing Executive/Delhi",
          "Part-time/Marketing Executive/Delhi",
          "Contract/Product Manager/Delhi",
          "Full-time/Product Manager/Delhi",
          "Internship/Product Manager/Delhi",
          "Part-time/Product Manager/Delhi",
          "Contract/Sales Representative/Delhi",
          "Full-time/Sales Representative/Delhi",
          "Internship/Sales Representative/Delhi",
          "Part-time/Sales Representative/Delhi",
          "Contract/Software Engineer/Delhi",
          "Full-time/Software Engineer/Delhi",
          "Internship/Software Engineer/Delhi",
          "Part-time/Software Engineer/Delhi",
          "Contract/Business Analyst/Hyderabad",
          "Full-time/Business Analyst/Hyderabad",
          "Internship/Business Analyst/Hyderabad",
          "Part-time/Business Analyst/Hyderabad",
          "Contract/Cyber Security Analyst/Hyderabad",
          "Full-time/Cyber Security Analyst/Hyderabad",
          "Internship/Cyber Security Analyst/Hyderabad",
          "Part-time/Cyber Security Analyst/Hyderabad",
          "Contract/Data Scientist/Hyderabad",
          "Full-time/Data Scientist/Hyderabad",
          "Internship/Data Scientist/Hyderabad",
          "Part-time/Data Scientist/Hyderabad",
          "Contract/Financial Analyst/Hyderabad",
          "Full-time/Financial Analyst/Hyderabad",
          "Internship/Financial Analyst/Hyderabad",
          "Part-time/Financial Analyst/Hyderabad",
          "Contract/Graphic Designer/Hyderabad",
          "Full-time/Graphic Designer/Hyderabad",
          "Internship/Graphic Designer/Hyderabad",
          "Part-time/Graphic Designer/Hyderabad",
          "Contract/HR Manager/Hyderabad",
          "Full-time/HR Manager/Hyderabad",
          "Internship/HR Manager/Hyderabad",
          "Part-time/HR Manager/Hyderabad",
          "Contract/Marketing Executive/Hyderabad",
          "Full-time/Marketing Executive/Hyderabad",
          "Internship/Marketing Executive/Hyderabad",
          "Part-time/Marketing Executive/Hyderabad",
          "Contract/Product Manager/Hyderabad",
          "Full-time/Product Manager/Hyderabad",
          "Internship/Product Manager/Hyderabad",
          "Part-time/Product Manager/Hyderabad",
          "Contract/Sales Representative/Hyderabad",
          "Full-time/Sales Representative/Hyderabad",
          "Internship/Sales Representative/Hyderabad",
          "Part-time/Sales Representative/Hyderabad",
          "Contract/Software Engineer/Hyderabad",
          "Full-time/Software Engineer/Hyderabad",
          "Internship/Software Engineer/Hyderabad",
          "Part-time/Software Engineer/Hyderabad",
          "Contract/Business Analyst/Jaipur",
          "Full-time/Business Analyst/Jaipur",
          "Internship/Business Analyst/Jaipur",
          "Part-time/Business Analyst/Jaipur",
          "Contract/Cyber Security Analyst/Jaipur",
          "Full-time/Cyber Security Analyst/Jaipur",
          "Internship/Cyber Security Analyst/Jaipur",
          "Part-time/Cyber Security Analyst/Jaipur",
          "Contract/Data Scientist/Jaipur",
          "Full-time/Data Scientist/Jaipur",
          "Internship/Data Scientist/Jaipur",
          "Part-time/Data Scientist/Jaipur",
          "Contract/Financial Analyst/Jaipur",
          "Full-time/Financial Analyst/Jaipur",
          "Internship/Financial Analyst/Jaipur",
          "Part-time/Financial Analyst/Jaipur",
          "Contract/Graphic Designer/Jaipur",
          "Full-time/Graphic Designer/Jaipur",
          "Internship/Graphic Designer/Jaipur",
          "Part-time/Graphic Designer/Jaipur",
          "Contract/HR Manager/Jaipur",
          "Full-time/HR Manager/Jaipur",
          "Internship/HR Manager/Jaipur",
          "Part-time/HR Manager/Jaipur",
          "Contract/Marketing Executive/Jaipur",
          "Full-time/Marketing Executive/Jaipur",
          "Internship/Marketing Executive/Jaipur",
          "Part-time/Marketing Executive/Jaipur",
          "Contract/Product Manager/Jaipur",
          "Full-time/Product Manager/Jaipur",
          "Internship/Product Manager/Jaipur",
          "Part-time/Product Manager/Jaipur",
          "Contract/Sales Representative/Jaipur",
          "Full-time/Sales Representative/Jaipur",
          "Internship/Sales Representative/Jaipur",
          "Part-time/Sales Representative/Jaipur",
          "Contract/Software Engineer/Jaipur",
          "Full-time/Software Engineer/Jaipur",
          "Internship/Software Engineer/Jaipur",
          "Part-time/Software Engineer/Jaipur",
          "Contract/Business Analyst/Kolkata",
          "Full-time/Business Analyst/Kolkata",
          "Internship/Business Analyst/Kolkata",
          "Part-time/Business Analyst/Kolkata",
          "Contract/Cyber Security Analyst/Kolkata",
          "Full-time/Cyber Security Analyst/Kolkata",
          "Internship/Cyber Security Analyst/Kolkata",
          "Part-time/Cyber Security Analyst/Kolkata",
          "Contract/Data Scientist/Kolkata",
          "Full-time/Data Scientist/Kolkata",
          "Internship/Data Scientist/Kolkata",
          "Part-time/Data Scientist/Kolkata",
          "Contract/Financial Analyst/Kolkata",
          "Full-time/Financial Analyst/Kolkata",
          "Internship/Financial Analyst/Kolkata",
          "Part-time/Financial Analyst/Kolkata",
          "Contract/Graphic Designer/Kolkata",
          "Full-time/Graphic Designer/Kolkata",
          "Internship/Graphic Designer/Kolkata",
          "Part-time/Graphic Designer/Kolkata",
          "Contract/HR Manager/Kolkata",
          "Full-time/HR Manager/Kolkata",
          "Internship/HR Manager/Kolkata",
          "Part-time/HR Manager/Kolkata",
          "Contract/Marketing Executive/Kolkata",
          "Full-time/Marketing Executive/Kolkata",
          "Internship/Marketing Executive/Kolkata",
          "Part-time/Marketing Executive/Kolkata",
          "Contract/Product Manager/Kolkata",
          "Full-time/Product Manager/Kolkata",
          "Internship/Product Manager/Kolkata",
          "Part-time/Product Manager/Kolkata",
          "Contract/Sales Representative/Kolkata",
          "Full-time/Sales Representative/Kolkata",
          "Internship/Sales Representative/Kolkata",
          "Part-time/Sales Representative/Kolkata",
          "Contract/Software Engineer/Kolkata",
          "Full-time/Software Engineer/Kolkata",
          "Internship/Software Engineer/Kolkata",
          "Part-time/Software Engineer/Kolkata",
          "Contract/Business Analyst/Mumbai",
          "Full-time/Business Analyst/Mumbai",
          "Internship/Business Analyst/Mumbai",
          "Part-time/Business Analyst/Mumbai",
          "Contract/Cyber Security Analyst/Mumbai",
          "Full-time/Cyber Security Analyst/Mumbai",
          "Internship/Cyber Security Analyst/Mumbai",
          "Part-time/Cyber Security Analyst/Mumbai",
          "Contract/Data Scientist/Mumbai",
          "Full-time/Data Scientist/Mumbai",
          "Internship/Data Scientist/Mumbai",
          "Part-time/Data Scientist/Mumbai",
          "Contract/Financial Analyst/Mumbai",
          "Full-time/Financial Analyst/Mumbai",
          "Internship/Financial Analyst/Mumbai",
          "Part-time/Financial Analyst/Mumbai",
          "Contract/Graphic Designer/Mumbai",
          "Full-time/Graphic Designer/Mumbai",
          "Internship/Graphic Designer/Mumbai",
          "Part-time/Graphic Designer/Mumbai",
          "Contract/HR Manager/Mumbai",
          "Full-time/HR Manager/Mumbai",
          "Internship/HR Manager/Mumbai",
          "Part-time/HR Manager/Mumbai",
          "Contract/Marketing Executive/Mumbai",
          "Full-time/Marketing Executive/Mumbai",
          "Internship/Marketing Executive/Mumbai",
          "Part-time/Marketing Executive/Mumbai",
          "Contract/Product Manager/Mumbai",
          "Full-time/Product Manager/Mumbai",
          "Internship/Product Manager/Mumbai",
          "Part-time/Product Manager/Mumbai",
          "Contract/Sales Representative/Mumbai",
          "Full-time/Sales Representative/Mumbai",
          "Internship/Sales Representative/Mumbai",
          "Part-time/Sales Representative/Mumbai",
          "Contract/Software Engineer/Mumbai",
          "Full-time/Software Engineer/Mumbai",
          "Internship/Software Engineer/Mumbai",
          "Part-time/Software Engineer/Mumbai",
          "Contract/Business Analyst/Noida",
          "Full-time/Business Analyst/Noida",
          "Internship/Business Analyst/Noida",
          "Part-time/Business Analyst/Noida",
          "Contract/Cyber Security Analyst/Noida",
          "Full-time/Cyber Security Analyst/Noida",
          "Internship/Cyber Security Analyst/Noida",
          "Part-time/Cyber Security Analyst/Noida",
          "Contract/Data Scientist/Noida",
          "Full-time/Data Scientist/Noida",
          "Internship/Data Scientist/Noida",
          "Part-time/Data Scientist/Noida",
          "Contract/Financial Analyst/Noida",
          "Full-time/Financial Analyst/Noida",
          "Internship/Financial Analyst/Noida",
          "Part-time/Financial Analyst/Noida",
          "Contract/Graphic Designer/Noida",
          "Full-time/Graphic Designer/Noida",
          "Internship/Graphic Designer/Noida",
          "Part-time/Graphic Designer/Noida",
          "Contract/HR Manager/Noida",
          "Full-time/HR Manager/Noida",
          "Internship/HR Manager/Noida",
          "Part-time/HR Manager/Noida",
          "Contract/Marketing Executive/Noida",
          "Full-time/Marketing Executive/Noida",
          "Internship/Marketing Executive/Noida",
          "Part-time/Marketing Executive/Noida",
          "Contract/Product Manager/Noida",
          "Full-time/Product Manager/Noida",
          "Internship/Product Manager/Noida",
          "Part-time/Product Manager/Noida",
          "Contract/Sales Representative/Noida",
          "Full-time/Sales Representative/Noida",
          "Internship/Sales Representative/Noida",
          "Part-time/Sales Representative/Noida",
          "Contract/Software Engineer/Noida",
          "Full-time/Software Engineer/Noida",
          "Internship/Software Engineer/Noida",
          "Part-time/Software Engineer/Noida",
          "Contract/Business Analyst/Pune",
          "Full-time/Business Analyst/Pune",
          "Internship/Business Analyst/Pune",
          "Part-time/Business Analyst/Pune",
          "Contract/Cyber Security Analyst/Pune",
          "Full-time/Cyber Security Analyst/Pune",
          "Internship/Cyber Security Analyst/Pune",
          "Part-time/Cyber Security Analyst/Pune",
          "Contract/Data Scientist/Pune",
          "Full-time/Data Scientist/Pune",
          "Internship/Data Scientist/Pune",
          "Part-time/Data Scientist/Pune",
          "Contract/Financial Analyst/Pune",
          "Full-time/Financial Analyst/Pune",
          "Internship/Financial Analyst/Pune",
          "Part-time/Financial Analyst/Pune",
          "Contract/Graphic Designer/Pune",
          "Full-time/Graphic Designer/Pune",
          "Internship/Graphic Designer/Pune",
          "Part-time/Graphic Designer/Pune",
          "Contract/HR Manager/Pune",
          "Full-time/HR Manager/Pune",
          "Internship/HR Manager/Pune",
          "Part-time/HR Manager/Pune",
          "Contract/Marketing Executive/Pune",
          "Full-time/Marketing Executive/Pune",
          "Internship/Marketing Executive/Pune",
          "Part-time/Marketing Executive/Pune",
          "Contract/Product Manager/Pune",
          "Full-time/Product Manager/Pune",
          "Internship/Product Manager/Pune",
          "Part-time/Product Manager/Pune",
          "Contract/Sales Representative/Pune",
          "Full-time/Sales Representative/Pune",
          "Internship/Sales Representative/Pune",
          "Part-time/Sales Representative/Pune",
          "Contract/Software Engineer/Pune",
          "Full-time/Software Engineer/Pune",
          "Internship/Software Engineer/Pune",
          "Part-time/Software Engineer/Pune",
          "Contract/Business Analyst",
          "Full-time/Business Analyst",
          "Internship/Business Analyst",
          "Part-time/Business Analyst",
          "Contract/Cyber Security Analyst",
          "Full-time/Cyber Security Analyst",
          "Internship/Cyber Security Analyst",
          "Part-time/Cyber Security Analyst",
          "Contract/Data Scientist",
          "Full-time/Data Scientist",
          "Internship/Data Scientist",
          "Part-time/Data Scientist",
          "Contract/Financial Analyst",
          "Full-time/Financial Analyst",
          "Internship/Financial Analyst",
          "Part-time/Financial Analyst",
          "Contract/Graphic Designer",
          "Full-time/Graphic Designer",
          "Internship/Graphic Designer",
          "Part-time/Graphic Designer",
          "Contract/HR Manager",
          "Full-time/HR Manager",
          "Internship/HR Manager",
          "Part-time/HR Manager",
          "Contract/Marketing Executive",
          "Full-time/Marketing Executive",
          "Internship/Marketing Executive",
          "Part-time/Marketing Executive",
          "Contract/Product Manager",
          "Full-time/Product Manager",
          "Internship/Product Manager",
          "Part-time/Product Manager",
          "Contract/Sales Representative",
          "Full-time/Sales Representative",
          "Internship/Sales Representative",
          "Part-time/Sales Representative",
          "Contract/Software Engineer",
          "Full-time/Software Engineer",
          "Internship/Software Engineer",
          "Part-time/Software Engineer",
          "Contract",
          "Full-time",
          "Internship",
          "Part-time"
         ],
         "labels": [
          "Ahmedabad",
          "Ahmedabad",
          "Ahmedabad",
          "Ahmedabad",
          "Ahmedabad",
          "Ahmedabad",
          "Ahmedabad",
          "Ahmedabad",
          "Ahmedabad",
          "Ahmedabad",
          "Ahmedabad",
          "Ahmedabad",
          "Ahmedabad",
          "Ahmedabad",
          "Ahmedabad",
          "Ahmedabad",
          "Ahmedabad",
          "Ahmedabad",
          "Ahmedabad",
          "Ahmedabad",
          "Ahmedabad",
          "Ahmedabad",
          "Ahmedabad",
          "Ahmedabad",
          "Ahmedabad",
          "Ahmedabad",
          "Ahmedabad",
          "Ahmedabad",
          "Ahmedabad",
          "Ahmedabad",
          "Ahmedabad",
          "Ahmedabad",
          "Ahmedabad",
          "Ahmedabad",
          "Ahmedabad",
          "Ahmedabad",
          "Ahmedabad",
          "Ahmedabad",
          "Ahmedabad",
          "Ahmedabad",
          "Bangalore",
          "Bangalore",
          "Bangalore",
          "Bangalore",
          "Bangalore",
          "Bangalore",
          "Bangalore",
          "Bangalore",
          "Bangalore",
          "Bangalore",
          "Bangalore",
          "Bangalore",
          "Bangalore",
          "Bangalore",
          "Bangalore",
          "Bangalore",
          "Bangalore",
          "Bangalore",
          "Bangalore",
          "Bangalore",
          "Bangalore",
          "Bangalore",
          "Bangalore",
          "Bangalore",
          "Bangalore",
          "Bangalore",
          "Bangalore",
          "Bangalore",
          "Bangalore",
          "Bangalore",
          "Bangalore",
          "Bangalore",
          "Bangalore",
          "Bangalore",
          "Bangalore",
          "Bangalore",
          "Bangalore",
          "Bangalore",
          "Bangalore",
          "Bangalore",
          "Chennai",
          "Chennai",
          "Chennai",
          "Chennai",
          "Chennai",
          "Chennai",
          "Chennai",
          "Chennai",
          "Chennai",
          "Chennai",
          "Chennai",
          "Chennai",
          "Chennai",
          "Chennai",
          "Chennai",
          "Chennai",
          "Chennai",
          "Chennai",
          "Chennai",
          "Chennai",
          "Chennai",
          "Chennai",
          "Chennai",
          "Chennai",
          "Chennai",
          "Chennai",
          "Chennai",
          "Chennai",
          "Chennai",
          "Chennai",
          "Chennai",
          "Chennai",
          "Chennai",
          "Chennai",
          "Chennai",
          "Chennai",
          "Chennai",
          "Chennai",
          "Chennai",
          "Chennai",
          "Delhi",
          "Delhi",
          "Delhi",
          "Delhi",
          "Delhi",
          "Delhi",
          "Delhi",
          "Delhi",
          "Delhi",
          "Delhi",
          "Delhi",
          "Delhi",
          "Delhi",
          "Delhi",
          "Delhi",
          "Delhi",
          "Delhi",
          "Delhi",
          "Delhi",
          "Delhi",
          "Delhi",
          "Delhi",
          "Delhi",
          "Delhi",
          "Delhi",
          "Delhi",
          "Delhi",
          "Delhi",
          "Delhi",
          "Delhi",
          "Delhi",
          "Delhi",
          "Delhi",
          "Delhi",
          "Delhi",
          "Delhi",
          "Delhi",
          "Delhi",
          "Delhi",
          "Delhi",
          "Hyderabad",
          "Hyderabad",
          "Hyderabad",
          "Hyderabad",
          "Hyderabad",
          "Hyderabad",
          "Hyderabad",
          "Hyderabad",
          "Hyderabad",
          "Hyderabad",
          "Hyderabad",
          "Hyderabad",
          "Hyderabad",
          "Hyderabad",
          "Hyderabad",
          "Hyderabad",
          "Hyderabad",
          "Hyderabad",
          "Hyderabad",
          "Hyderabad",
          "Hyderabad",
          "Hyderabad",
          "Hyderabad",
          "Hyderabad",
          "Hyderabad",
          "Hyderabad",
          "Hyderabad",
          "Hyderabad",
          "Hyderabad",
          "Hyderabad",
          "Hyderabad",
          "Hyderabad",
          "Hyderabad",
          "Hyderabad",
          "Hyderabad",
          "Hyderabad",
          "Hyderabad",
          "Hyderabad",
          "Hyderabad",
          "Hyderabad",
          "Jaipur",
          "Jaipur",
          "Jaipur",
          "Jaipur",
          "Jaipur",
          "Jaipur",
          "Jaipur",
          "Jaipur",
          "Jaipur",
          "Jaipur",
          "Jaipur",
          "Jaipur",
          "Jaipur",
          "Jaipur",
          "Jaipur",
          "Jaipur",
          "Jaipur",
          "Jaipur",
          "Jaipur",
          "Jaipur",
          "Jaipur",
          "Jaipur",
          "Jaipur",
          "Jaipur",
          "Jaipur",
          "Jaipur",
          "Jaipur",
          "Jaipur",
          "Jaipur",
          "Jaipur",
          "Jaipur",
          "Jaipur",
          "Jaipur",
          "Jaipur",
          "Jaipur",
          "Jaipur",
          "Jaipur",
          "Jaipur",
          "Jaipur",
          "Jaipur",
          "Kolkata",
          "Kolkata",
          "Kolkata",
          "Kolkata",
          "Kolkata",
          "Kolkata",
          "Kolkata",
          "Kolkata",
          "Kolkata",
          "Kolkata",
          "Kolkata",
          "Kolkata",
          "Kolkata",
          "Kolkata",
          "Kolkata",
          "Kolkata",
          "Kolkata",
          "Kolkata",
          "Kolkata",
          "Kolkata",
          "Kolkata",
          "Kolkata",
          "Kolkata",
          "Kolkata",
          "Kolkata",
          "Kolkata",
          "Kolkata",
          "Kolkata",
          "Kolkata",
          "Kolkata",
          "Kolkata",
          "Kolkata",
          "Kolkata",
          "Kolkata",
          "Kolkata",
          "Kolkata",
          "Kolkata",
          "Kolkata",
          "Kolkata",
          "Kolkata",
          "Mumbai",
          "Mumbai",
          "Mumbai",
          "Mumbai",
          "Mumbai",
          "Mumbai",
          "Mumbai",
          "Mumbai",
          "Mumbai",
          "Mumbai",
          "Mumbai",
          "Mumbai",
          "Mumbai",
          "Mumbai",
          "Mumbai",
          "Mumbai",
          "Mumbai",
          "Mumbai",
          "Mumbai",
          "Mumbai",
          "Mumbai",
          "Mumbai",
          "Mumbai",
          "Mumbai",
          "Mumbai",
          "Mumbai",
          "Mumbai",
          "Mumbai",
          "Mumbai",
          "Mumbai",
          "Mumbai",
          "Mumbai",
          "Mumbai",
          "Mumbai",
          "Mumbai",
          "Mumbai",
          "Mumbai",
          "Mumbai",
          "Mumbai",
          "Mumbai",
          "Noida",
          "Noida",
          "Noida",
          "Noida",
          "Noida",
          "Noida",
          "Noida",
          "Noida",
          "Noida",
          "Noida",
          "Noida",
          "Noida",
          "Noida",
          "Noida",
          "Noida",
          "Noida",
          "Noida",
          "Noida",
          "Noida",
          "Noida",
          "Noida",
          "Noida",
          "Noida",
          "Noida",
          "Noida",
          "Noida",
          "Noida",
          "Noida",
          "Noida",
          "Noida",
          "Noida",
          "Noida",
          "Noida",
          "Noida",
          "Noida",
          "Noida",
          "Noida",
          "Noida",
          "Noida",
          "Noida",
          "Pune",
          "Pune",
          "Pune",
          "Pune",
          "Pune",
          "Pune",
          "Pune",
          "Pune",
          "Pune",
          "Pune",
          "Pune",
          "Pune",
          "Pune",
          "Pune",
          "Pune",
          "Pune",
          "Pune",
          "Pune",
          "Pune",
          "Pune",
          "Pune",
          "Pune",
          "Pune",
          "Pune",
          "Pune",
          "Pune",
          "Pune",
          "Pune",
          "Pune",
          "Pune",
          "Pune",
          "Pune",
          "Pune",
          "Pune",
          "Pune",
          "Pune",
          "Pune",
          "Pune",
          "Pune",
          "Pune",
          "Business Analyst",
          "Business Analyst",
          "Business Analyst",
          "Business Analyst",
          "Cyber Security Analyst",
          "Cyber Security Analyst",
          "Cyber Security Analyst",
          "Cyber Security Analyst",
          "Data Scientist",
          "Data Scientist",
          "Data Scientist",
          "Data Scientist",
          "Financial Analyst",
          "Financial Analyst",
          "Financial Analyst",
          "Financial Analyst",
          "Graphic Designer",
          "Graphic Designer",
          "Graphic Designer",
          "Graphic Designer",
          "HR Manager",
          "HR Manager",
          "HR Manager",
          "HR Manager",
          "Marketing Executive",
          "Marketing Executive",
          "Marketing Executive",
          "Marketing Executive",
          "Product Manager",
          "Product Manager",
          "Product Manager",
          "Product Manager",
          "Sales Representative",
          "Sales Representative",
          "Sales Representative",
          "Sales Representative",
          "Software Engineer",
          "Software Engineer",
          "Software Engineer",
          "Software Engineer",
          "Contract",
          "Full-time",
          "Internship",
          "Part-time"
         ],
         "name": "",
         "parents": [
          "Contract/Business Analyst",
          "Full-time/Business Analyst",
          "Internship/Business Analyst",
          "Part-time/Business Analyst",
          "Contract/Cyber Security Analyst",
          "Full-time/Cyber Security Analyst",
          "Internship/Cyber Security Analyst",
          "Part-time/Cyber Security Analyst",
          "Contract/Data Scientist",
          "Full-time/Data Scientist",
          "Internship/Data Scientist",
          "Part-time/Data Scientist",
          "Contract/Financial Analyst",
          "Full-time/Financial Analyst",
          "Internship/Financial Analyst",
          "Part-time/Financial Analyst",
          "Contract/Graphic Designer",
          "Full-time/Graphic Designer",
          "Internship/Graphic Designer",
          "Part-time/Graphic Designer",
          "Contract/HR Manager",
          "Full-time/HR Manager",
          "Internship/HR Manager",
          "Part-time/HR Manager",
          "Contract/Marketing Executive",
          "Full-time/Marketing Executive",
          "Internship/Marketing Executive",
          "Part-time/Marketing Executive",
          "Contract/Product Manager",
          "Full-time/Product Manager",
          "Internship/Product Manager",
          "Part-time/Product Manager",
          "Contract/Sales Representative",
          "Full-time/Sales Representative",
          "Internship/Sales Representative",
          "Part-time/Sales Representative",
          "Contract/Software Engineer",
          "Full-time/Software Engineer",
          "Internship/Software Engineer",
          "Part-time/Software Engineer",
          "Contract/Business Analyst",
          "Full-time/Business Analyst",
          "Internship/Business Analyst",
          "Part-time/Business Analyst",
          "Contract/Cyber Security Analyst",
          "Full-time/Cyber Security Analyst",
          "Internship/Cyber Security Analyst",
          "Part-time/Cyber Security Analyst",
          "Contract/Data Scientist",
          "Full-time/Data Scientist",
          "Internship/Data Scientist",
          "Part-time/Data Scientist",
          "Contract/Financial Analyst",
          "Full-time/Financial Analyst",
          "Internship/Financial Analyst",
          "Part-time/Financial Analyst",
          "Contract/Graphic Designer",
          "Full-time/Graphic Designer",
          "Internship/Graphic Designer",
          "Part-time/Graphic Designer",
          "Contract/HR Manager",
          "Full-time/HR Manager",
          "Internship/HR Manager",
          "Part-time/HR Manager",
          "Contract/Marketing Executive",
          "Full-time/Marketing Executive",
          "Internship/Marketing Executive",
          "Part-time/Marketing Executive",
          "Contract/Product Manager",
          "Full-time/Product Manager",
          "Internship/Product Manager",
          "Part-time/Product Manager",
          "Contract/Sales Representative",
          "Full-time/Sales Representative",
          "Internship/Sales Representative",
          "Part-time/Sales Representative",
          "Contract/Software Engineer",
          "Full-time/Software Engineer",
          "Internship/Software Engineer",
          "Part-time/Software Engineer",
          "Contract/Business Analyst",
          "Full-time/Business Analyst",
          "Internship/Business Analyst",
          "Part-time/Business Analyst",
          "Contract/Cyber Security Analyst",
          "Full-time/Cyber Security Analyst",
          "Internship/Cyber Security Analyst",
          "Part-time/Cyber Security Analyst",
          "Contract/Data Scientist",
          "Full-time/Data Scientist",
          "Internship/Data Scientist",
          "Part-time/Data Scientist",
          "Contract/Financial Analyst",
          "Full-time/Financial Analyst",
          "Internship/Financial Analyst",
          "Part-time/Financial Analyst",
          "Contract/Graphic Designer",
          "Full-time/Graphic Designer",
          "Internship/Graphic Designer",
          "Part-time/Graphic Designer",
          "Contract/HR Manager",
          "Full-time/HR Manager",
          "Internship/HR Manager",
          "Part-time/HR Manager",
          "Contract/Marketing Executive",
          "Full-time/Marketing Executive",
          "Internship/Marketing Executive",
          "Part-time/Marketing Executive",
          "Contract/Product Manager",
          "Full-time/Product Manager",
          "Internship/Product Manager",
          "Part-time/Product Manager",
          "Contract/Sales Representative",
          "Full-time/Sales Representative",
          "Internship/Sales Representative",
          "Part-time/Sales Representative",
          "Contract/Software Engineer",
          "Full-time/Software Engineer",
          "Internship/Software Engineer",
          "Part-time/Software Engineer",
          "Contract/Business Analyst",
          "Full-time/Business Analyst",
          "Internship/Business Analyst",
          "Part-time/Business Analyst",
          "Contract/Cyber Security Analyst",
          "Full-time/Cyber Security Analyst",
          "Internship/Cyber Security Analyst",
          "Part-time/Cyber Security Analyst",
          "Contract/Data Scientist",
          "Full-time/Data Scientist",
          "Internship/Data Scientist",
          "Part-time/Data Scientist",
          "Contract/Financial Analyst",
          "Full-time/Financial Analyst",
          "Internship/Financial Analyst",
          "Part-time/Financial Analyst",
          "Contract/Graphic Designer",
          "Full-time/Graphic Designer",
          "Internship/Graphic Designer",
          "Part-time/Graphic Designer",
          "Contract/HR Manager",
          "Full-time/HR Manager",
          "Internship/HR Manager",
          "Part-time/HR Manager",
          "Contract/Marketing Executive",
          "Full-time/Marketing Executive",
          "Internship/Marketing Executive",
          "Part-time/Marketing Executive",
          "Contract/Product Manager",
          "Full-time/Product Manager",
          "Internship/Product Manager",
          "Part-time/Product Manager",
          "Contract/Sales Representative",
          "Full-time/Sales Representative",
          "Internship/Sales Representative",
          "Part-time/Sales Representative",
          "Contract/Software Engineer",
          "Full-time/Software Engineer",
          "Internship/Software Engineer",
          "Part-time/Software Engineer",
          "Contract/Business Analyst",
          "Full-time/Business Analyst",
          "Internship/Business Analyst",
          "Part-time/Business Analyst",
          "Contract/Cyber Security Analyst",
          "Full-time/Cyber Security Analyst",
          "Internship/Cyber Security Analyst",
          "Part-time/Cyber Security Analyst",
          "Contract/Data Scientist",
          "Full-time/Data Scientist",
          "Internship/Data Scientist",
          "Part-time/Data Scientist",
          "Contract/Financial Analyst",
          "Full-time/Financial Analyst",
          "Internship/Financial Analyst",
          "Part-time/Financial Analyst",
          "Contract/Graphic Designer",
          "Full-time/Graphic Designer",
          "Internship/Graphic Designer",
          "Part-time/Graphic Designer",
          "Contract/HR Manager",
          "Full-time/HR Manager",
          "Internship/HR Manager",
          "Part-time/HR Manager",
          "Contract/Marketing Executive",
          "Full-time/Marketing Executive",
          "Internship/Marketing Executive",
          "Part-time/Marketing Executive",
          "Contract/Product Manager",
          "Full-time/Product Manager",
          "Internship/Product Manager",
          "Part-time/Product Manager",
          "Contract/Sales Representative",
          "Full-time/Sales Representative",
          "Internship/Sales Representative",
          "Part-time/Sales Representative",
          "Contract/Software Engineer",
          "Full-time/Software Engineer",
          "Internship/Software Engineer",
          "Part-time/Software Engineer",
          "Contract/Business Analyst",
          "Full-time/Business Analyst",
          "Internship/Business Analyst",
          "Part-time/Business Analyst",
          "Contract/Cyber Security Analyst",
          "Full-time/Cyber Security Analyst",
          "Internship/Cyber Security Analyst",
          "Part-time/Cyber Security Analyst",
          "Contract/Data Scientist",
          "Full-time/Data Scientist",
          "Internship/Data Scientist",
          "Part-time/Data Scientist",
          "Contract/Financial Analyst",
          "Full-time/Financial Analyst",
          "Internship/Financial Analyst",
          "Part-time/Financial Analyst",
          "Contract/Graphic Designer",
          "Full-time/Graphic Designer",
          "Internship/Graphic Designer",
          "Part-time/Graphic Designer",
          "Contract/HR Manager",
          "Full-time/HR Manager",
          "Internship/HR Manager",
          "Part-time/HR Manager",
          "Contract/Marketing Executive",
          "Full-time/Marketing Executive",
          "Internship/Marketing Executive",
          "Part-time/Marketing Executive",
          "Contract/Product Manager",
          "Full-time/Product Manager",
          "Internship/Product Manager",
          "Part-time/Product Manager",
          "Contract/Sales Representative",
          "Full-time/Sales Representative",
          "Internship/Sales Representative",
          "Part-time/Sales Representative",
          "Contract/Software Engineer",
          "Full-time/Software Engineer",
          "Internship/Software Engineer",
          "Part-time/Software Engineer",
          "Contract/Business Analyst",
          "Full-time/Business Analyst",
          "Internship/Business Analyst",
          "Part-time/Business Analyst",
          "Contract/Cyber Security Analyst",
          "Full-time/Cyber Security Analyst",
          "Internship/Cyber Security Analyst",
          "Part-time/Cyber Security Analyst",
          "Contract/Data Scientist",
          "Full-time/Data Scientist",
          "Internship/Data Scientist",
          "Part-time/Data Scientist",
          "Contract/Financial Analyst",
          "Full-time/Financial Analyst",
          "Internship/Financial Analyst",
          "Part-time/Financial Analyst",
          "Contract/Graphic Designer",
          "Full-time/Graphic Designer",
          "Internship/Graphic Designer",
          "Part-time/Graphic Designer",
          "Contract/HR Manager",
          "Full-time/HR Manager",
          "Internship/HR Manager",
          "Part-time/HR Manager",
          "Contract/Marketing Executive",
          "Full-time/Marketing Executive",
          "Internship/Marketing Executive",
          "Part-time/Marketing Executive",
          "Contract/Product Manager",
          "Full-time/Product Manager",
          "Internship/Product Manager",
          "Part-time/Product Manager",
          "Contract/Sales Representative",
          "Full-time/Sales Representative",
          "Internship/Sales Representative",
          "Part-time/Sales Representative",
          "Contract/Software Engineer",
          "Full-time/Software Engineer",
          "Internship/Software Engineer",
          "Part-time/Software Engineer",
          "Contract/Business Analyst",
          "Full-time/Business Analyst",
          "Internship/Business Analyst",
          "Part-time/Business Analyst",
          "Contract/Cyber Security Analyst",
          "Full-time/Cyber Security Analyst",
          "Internship/Cyber Security Analyst",
          "Part-time/Cyber Security Analyst",
          "Contract/Data Scientist",
          "Full-time/Data Scientist",
          "Internship/Data Scientist",
          "Part-time/Data Scientist",
          "Contract/Financial Analyst",
          "Full-time/Financial Analyst",
          "Internship/Financial Analyst",
          "Part-time/Financial Analyst",
          "Contract/Graphic Designer",
          "Full-time/Graphic Designer",
          "Internship/Graphic Designer",
          "Part-time/Graphic Designer",
          "Contract/HR Manager",
          "Full-time/HR Manager",
          "Internship/HR Manager",
          "Part-time/HR Manager",
          "Contract/Marketing Executive",
          "Full-time/Marketing Executive",
          "Internship/Marketing Executive",
          "Part-time/Marketing Executive",
          "Contract/Product Manager",
          "Full-time/Product Manager",
          "Internship/Product Manager",
          "Part-time/Product Manager",
          "Contract/Sales Representative",
          "Full-time/Sales Representative",
          "Internship/Sales Representative",
          "Part-time/Sales Representative",
          "Contract/Software Engineer",
          "Full-time/Software Engineer",
          "Internship/Software Engineer",
          "Part-time/Software Engineer",
          "Contract/Business Analyst",
          "Full-time/Business Analyst",
          "Internship/Business Analyst",
          "Part-time/Business Analyst",
          "Contract/Cyber Security Analyst",
          "Full-time/Cyber Security Analyst",
          "Internship/Cyber Security Analyst",
          "Part-time/Cyber Security Analyst",
          "Contract/Data Scientist",
          "Full-time/Data Scientist",
          "Internship/Data Scientist",
          "Part-time/Data Scientist",
          "Contract/Financial Analyst",
          "Full-time/Financial Analyst",
          "Internship/Financial Analyst",
          "Part-time/Financial Analyst",
          "Contract/Graphic Designer",
          "Full-time/Graphic Designer",
          "Internship/Graphic Designer",
          "Part-time/Graphic Designer",
          "Contract/HR Manager",
          "Full-time/HR Manager",
          "Internship/HR Manager",
          "Part-time/HR Manager",
          "Contract/Marketing Executive",
          "Full-time/Marketing Executive",
          "Internship/Marketing Executive",
          "Part-time/Marketing Executive",
          "Contract/Product Manager",
          "Full-time/Product Manager",
          "Internship/Product Manager",
          "Part-time/Product Manager",
          "Contract/Sales Representative",
          "Full-time/Sales Representative",
          "Internship/Sales Representative",
          "Part-time/Sales Representative",
          "Contract/Software Engineer",
          "Full-time/Software Engineer",
          "Internship/Software Engineer",
          "Part-time/Software Engineer",
          "Contract/Business Analyst",
          "Full-time/Business Analyst",
          "Internship/Business Analyst",
          "Part-time/Business Analyst",
          "Contract/Cyber Security Analyst",
          "Full-time/Cyber Security Analyst",
          "Internship/Cyber Security Analyst",
          "Part-time/Cyber Security Analyst",
          "Contract/Data Scientist",
          "Full-time/Data Scientist",
          "Internship/Data Scientist",
          "Part-time/Data Scientist",
          "Contract/Financial Analyst",
          "Full-time/Financial Analyst",
          "Internship/Financial Analyst",
          "Part-time/Financial Analyst",
          "Contract/Graphic Designer",
          "Full-time/Graphic Designer",
          "Internship/Graphic Designer",
          "Part-time/Graphic Designer",
          "Contract/HR Manager",
          "Full-time/HR Manager",
          "Internship/HR Manager",
          "Part-time/HR Manager",
          "Contract/Marketing Executive",
          "Full-time/Marketing Executive",
          "Internship/Marketing Executive",
          "Part-time/Marketing Executive",
          "Contract/Product Manager",
          "Full-time/Product Manager",
          "Internship/Product Manager",
          "Part-time/Product Manager",
          "Contract/Sales Representative",
          "Full-time/Sales Representative",
          "Internship/Sales Representative",
          "Part-time/Sales Representative",
          "Contract/Software Engineer",
          "Full-time/Software Engineer",
          "Internship/Software Engineer",
          "Part-time/Software Engineer",
          "Contract",
          "Full-time",
          "Internship",
          "Part-time",
          "Contract",
          "Full-time",
          "Internship",
          "Part-time",
          "Contract",
          "Full-time",
          "Internship",
          "Part-time",
          "Contract",
          "Full-time",
          "Internship",
          "Part-time",
          "Contract",
          "Full-time",
          "Internship",
          "Part-time",
          "Contract",
          "Full-time",
          "Internship",
          "Part-time",
          "Contract",
          "Full-time",
          "Internship",
          "Part-time",
          "Contract",
          "Full-time",
          "Internship",
          "Part-time",
          "Contract",
          "Full-time",
          "Internship",
          "Part-time",
          "Contract",
          "Full-time",
          "Internship",
          "Part-time",
          "",
          "",
          "",
          ""
         ],
         "type": "treemap",
         "values": [
          61,
          48,
          57,
          54,
          44,
          42,
          43,
          51,
          38,
          54,
          53,
          55,
          51,
          43,
          56,
          53,
          48,
          62,
          49,
          54,
          43,
          44,
          48,
          56,
          51,
          57,
          46,
          45,
          58,
          57,
          56,
          57,
          50,
          36,
          49,
          41,
          44,
          52,
          54,
          59,
          43,
          50,
          52,
          52,
          47,
          51,
          60,
          64,
          49,
          49,
          48,
          32,
          51,
          49,
          42,
          41,
          46,
          50,
          54,
          51,
          46,
          56,
          60,
          54,
          66,
          43,
          58,
          66,
          41,
          36,
          58,
          49,
          40,
          38,
          61,
          53,
          52,
          55,
          57,
          53,
          51,
          58,
          60,
          50,
          48,
          62,
          46,
          53,
          45,
          56,
          47,
          52,
          46,
          38,
          41,
          69,
          45,
          44,
          51,
          65,
          53,
          48,
          46,
          52,
          44,
          52,
          46,
          44,
          49,
          44,
          43,
          51,
          54,
          41,
          69,
          57,
          51,
          53,
          40,
          54,
          60,
          44,
          49,
          48,
          55,
          63,
          49,
          43,
          41,
          48,
          49,
          58,
          52,
          49,
          59,
          53,
          51,
          48,
          63,
          48,
          42,
          48,
          48,
          51,
          49,
          54,
          44,
          46,
          50,
          53,
          46,
          55,
          48,
          44,
          48,
          48,
          46,
          49,
          48,
          43,
          49,
          43,
          53,
          41,
          48,
          66,
          59,
          43,
          69,
          48,
          47,
          57,
          47,
          45,
          58,
          59,
          37,
          40,
          52,
          51,
          41,
          64,
          56,
          47,
          43,
          62,
          52,
          49,
          66,
          50,
          46,
          53,
          55,
          56,
          59,
          42,
          49,
          57,
          45,
          51,
          48,
          57,
          48,
          46,
          34,
          39,
          64,
          47,
          49,
          44,
          55,
          56,
          57,
          51,
          49,
          59,
          51,
          50,
          46,
          44,
          58,
          55,
          57,
          49,
          53,
          49,
          48,
          59,
          42,
          55,
          54,
          58,
          45,
          50,
          50,
          40,
          44,
          59,
          50,
          50,
          46,
          60,
          48,
          47,
          56,
          67,
          43,
          58,
          41,
          54,
          56,
          47,
          50,
          49,
          55,
          50,
          41,
          62,
          52,
          41,
          47,
          38,
          46,
          49,
          45,
          59,
          47,
          57,
          52,
          48,
          45,
          37,
          49,
          44,
          45,
          52,
          40,
          29,
          46,
          57,
          47,
          41,
          58,
          61,
          51,
          53,
          46,
          53,
          41,
          40,
          52,
          58,
          48,
          51,
          52,
          55,
          58,
          50,
          56,
          52,
          46,
          41,
          45,
          53,
          50,
          46,
          50,
          55,
          37,
          53,
          55,
          52,
          48,
          43,
          41,
          48,
          45,
          45,
          39,
          43,
          48,
          47,
          45,
          48,
          68,
          51,
          60,
          59,
          58,
          49,
          47,
          50,
          41,
          49,
          48,
          58,
          45,
          55,
          45,
          49,
          38,
          49,
          51,
          34,
          55,
          44,
          53,
          51,
          52,
          50,
          50,
          51,
          43,
          48,
          49,
          46,
          45,
          56,
          54,
          54,
          40,
          39,
          44,
          48,
          48,
          52,
          42,
          57,
          52,
          38,
          42,
          52,
          36,
          50,
          48,
          50,
          45,
          54,
          56,
          52,
          49,
          48,
          57,
          61,
          51,
          49,
          53,
          45,
          44,
          64,
          44,
          45,
          45,
          55,
          60,
          52,
          48,
          53,
          59,
          43,
          493,
          487,
          514,
          495,
          499,
          546,
          512,
          528,
          483,
          480,
          496,
          517,
          479,
          474,
          508,
          547,
          467,
          515,
          524,
          507,
          463,
          491,
          514,
          506,
          507,
          515,
          497,
          517,
          491,
          510,
          497,
          508,
          477,
          455,
          531,
          479,
          464,
          508,
          492,
          507,
          4823,
          4981,
          5085,
          5111
         ]
        }
       ],
       "layout": {
        "legend": {
         "tracegroupgap": 0
        },
        "margin": {
         "b": 25,
         "l": 25,
         "r": 25,
         "t": 50
        },
        "template": {
         "data": {
          "bar": [
           {
            "error_x": {
             "color": "#2a3f5f"
            },
            "error_y": {
             "color": "#2a3f5f"
            },
            "marker": {
             "line": {
              "color": "#E5ECF6",
              "width": 0.5
             },
             "pattern": {
              "fillmode": "overlay",
              "size": 10,
              "solidity": 0.2
             }
            },
            "type": "bar"
           }
          ],
          "barpolar": [
           {
            "marker": {
             "line": {
              "color": "#E5ECF6",
              "width": 0.5
             },
             "pattern": {
              "fillmode": "overlay",
              "size": 10,
              "solidity": 0.2
             }
            },
            "type": "barpolar"
           }
          ],
          "carpet": [
           {
            "aaxis": {
             "endlinecolor": "#2a3f5f",
             "gridcolor": "white",
             "linecolor": "white",
             "minorgridcolor": "white",
             "startlinecolor": "#2a3f5f"
            },
            "baxis": {
             "endlinecolor": "#2a3f5f",
             "gridcolor": "white",
             "linecolor": "white",
             "minorgridcolor": "white",
             "startlinecolor": "#2a3f5f"
            },
            "type": "carpet"
           }
          ],
          "choropleth": [
           {
            "colorbar": {
             "outlinewidth": 0,
             "ticks": ""
            },
            "type": "choropleth"
           }
          ],
          "contour": [
           {
            "colorbar": {
             "outlinewidth": 0,
             "ticks": ""
            },
            "colorscale": [
             [
              0,
              "#0d0887"
             ],
             [
              0.1111111111111111,
              "#46039f"
             ],
             [
              0.2222222222222222,
              "#7201a8"
             ],
             [
              0.3333333333333333,
              "#9c179e"
             ],
             [
              0.4444444444444444,
              "#bd3786"
             ],
             [
              0.5555555555555556,
              "#d8576b"
             ],
             [
              0.6666666666666666,
              "#ed7953"
             ],
             [
              0.7777777777777778,
              "#fb9f3a"
             ],
             [
              0.8888888888888888,
              "#fdca26"
             ],
             [
              1,
              "#f0f921"
             ]
            ],
            "type": "contour"
           }
          ],
          "contourcarpet": [
           {
            "colorbar": {
             "outlinewidth": 0,
             "ticks": ""
            },
            "type": "contourcarpet"
           }
          ],
          "heatmap": [
           {
            "colorbar": {
             "outlinewidth": 0,
             "ticks": ""
            },
            "colorscale": [
             [
              0,
              "#0d0887"
             ],
             [
              0.1111111111111111,
              "#46039f"
             ],
             [
              0.2222222222222222,
              "#7201a8"
             ],
             [
              0.3333333333333333,
              "#9c179e"
             ],
             [
              0.4444444444444444,
              "#bd3786"
             ],
             [
              0.5555555555555556,
              "#d8576b"
             ],
             [
              0.6666666666666666,
              "#ed7953"
             ],
             [
              0.7777777777777778,
              "#fb9f3a"
             ],
             [
              0.8888888888888888,
              "#fdca26"
             ],
             [
              1,
              "#f0f921"
             ]
            ],
            "type": "heatmap"
           }
          ],
          "heatmapgl": [
           {
            "colorbar": {
             "outlinewidth": 0,
             "ticks": ""
            },
            "colorscale": [
             [
              0,
              "#0d0887"
             ],
             [
              0.1111111111111111,
              "#46039f"
             ],
             [
              0.2222222222222222,
              "#7201a8"
             ],
             [
              0.3333333333333333,
              "#9c179e"
             ],
             [
              0.4444444444444444,
              "#bd3786"
             ],
             [
              0.5555555555555556,
              "#d8576b"
             ],
             [
              0.6666666666666666,
              "#ed7953"
             ],
             [
              0.7777777777777778,
              "#fb9f3a"
             ],
             [
              0.8888888888888888,
              "#fdca26"
             ],
             [
              1,
              "#f0f921"
             ]
            ],
            "type": "heatmapgl"
           }
          ],
          "histogram": [
           {
            "marker": {
             "pattern": {
              "fillmode": "overlay",
              "size": 10,
              "solidity": 0.2
             }
            },
            "type": "histogram"
           }
          ],
          "histogram2d": [
           {
            "colorbar": {
             "outlinewidth": 0,
             "ticks": ""
            },
            "colorscale": [
             [
              0,
              "#0d0887"
             ],
             [
              0.1111111111111111,
              "#46039f"
             ],
             [
              0.2222222222222222,
              "#7201a8"
             ],
             [
              0.3333333333333333,
              "#9c179e"
             ],
             [
              0.4444444444444444,
              "#bd3786"
             ],
             [
              0.5555555555555556,
              "#d8576b"
             ],
             [
              0.6666666666666666,
              "#ed7953"
             ],
             [
              0.7777777777777778,
              "#fb9f3a"
             ],
             [
              0.8888888888888888,
              "#fdca26"
             ],
             [
              1,
              "#f0f921"
             ]
            ],
            "type": "histogram2d"
           }
          ],
          "histogram2dcontour": [
           {
            "colorbar": {
             "outlinewidth": 0,
             "ticks": ""
            },
            "colorscale": [
             [
              0,
              "#0d0887"
             ],
             [
              0.1111111111111111,
              "#46039f"
             ],
             [
              0.2222222222222222,
              "#7201a8"
             ],
             [
              0.3333333333333333,
              "#9c179e"
             ],
             [
              0.4444444444444444,
              "#bd3786"
             ],
             [
              0.5555555555555556,
              "#d8576b"
             ],
             [
              0.6666666666666666,
              "#ed7953"
             ],
             [
              0.7777777777777778,
              "#fb9f3a"
             ],
             [
              0.8888888888888888,
              "#fdca26"
             ],
             [
              1,
              "#f0f921"
             ]
            ],
            "type": "histogram2dcontour"
           }
          ],
          "mesh3d": [
           {
            "colorbar": {
             "outlinewidth": 0,
             "ticks": ""
            },
            "type": "mesh3d"
           }
          ],
          "parcoords": [
           {
            "line": {
             "colorbar": {
              "outlinewidth": 0,
              "ticks": ""
             }
            },
            "type": "parcoords"
           }
          ],
          "pie": [
           {
            "automargin": true,
            "type": "pie"
           }
          ],
          "scatter": [
           {
            "fillpattern": {
             "fillmode": "overlay",
             "size": 10,
             "solidity": 0.2
            },
            "type": "scatter"
           }
          ],
          "scatter3d": [
           {
            "line": {
             "colorbar": {
              "outlinewidth": 0,
              "ticks": ""
             }
            },
            "marker": {
             "colorbar": {
              "outlinewidth": 0,
              "ticks": ""
             }
            },
            "type": "scatter3d"
           }
          ],
          "scattercarpet": [
           {
            "marker": {
             "colorbar": {
              "outlinewidth": 0,
              "ticks": ""
             }
            },
            "type": "scattercarpet"
           }
          ],
          "scattergeo": [
           {
            "marker": {
             "colorbar": {
              "outlinewidth": 0,
              "ticks": ""
             }
            },
            "type": "scattergeo"
           }
          ],
          "scattergl": [
           {
            "marker": {
             "colorbar": {
              "outlinewidth": 0,
              "ticks": ""
             }
            },
            "type": "scattergl"
           }
          ],
          "scattermapbox": [
           {
            "marker": {
             "colorbar": {
              "outlinewidth": 0,
              "ticks": ""
             }
            },
            "type": "scattermapbox"
           }
          ],
          "scatterpolar": [
           {
            "marker": {
             "colorbar": {
              "outlinewidth": 0,
              "ticks": ""
             }
            },
            "type": "scatterpolar"
           }
          ],
          "scatterpolargl": [
           {
            "marker": {
             "colorbar": {
              "outlinewidth": 0,
              "ticks": ""
             }
            },
            "type": "scatterpolargl"
           }
          ],
          "scatterternary": [
           {
            "marker": {
             "colorbar": {
              "outlinewidth": 0,
              "ticks": ""
             }
            },
            "type": "scatterternary"
           }
          ],
          "surface": [
           {
            "colorbar": {
             "outlinewidth": 0,
             "ticks": ""
            },
            "colorscale": [
             [
              0,
              "#0d0887"
             ],
             [
              0.1111111111111111,
              "#46039f"
             ],
             [
              0.2222222222222222,
              "#7201a8"
             ],
             [
              0.3333333333333333,
              "#9c179e"
             ],
             [
              0.4444444444444444,
              "#bd3786"
             ],
             [
              0.5555555555555556,
              "#d8576b"
             ],
             [
              0.6666666666666666,
              "#ed7953"
             ],
             [
              0.7777777777777778,
              "#fb9f3a"
             ],
             [
              0.8888888888888888,
              "#fdca26"
             ],
             [
              1,
              "#f0f921"
             ]
            ],
            "type": "surface"
           }
          ],
          "table": [
           {
            "cells": {
             "fill": {
              "color": "#EBF0F8"
             },
             "line": {
              "color": "white"
             }
            },
            "header": {
             "fill": {
              "color": "#C8D4E3"
             },
             "line": {
              "color": "white"
             }
            },
            "type": "table"
           }
          ]
         },
         "layout": {
          "annotationdefaults": {
           "arrowcolor": "#2a3f5f",
           "arrowhead": 0,
           "arrowwidth": 1
          },
          "autotypenumbers": "strict",
          "coloraxis": {
           "colorbar": {
            "outlinewidth": 0,
            "ticks": ""
           }
          },
          "colorscale": {
           "diverging": [
            [
             0,
             "#8e0152"
            ],
            [
             0.1,
             "#c51b7d"
            ],
            [
             0.2,
             "#de77ae"
            ],
            [
             0.3,
             "#f1b6da"
            ],
            [
             0.4,
             "#fde0ef"
            ],
            [
             0.5,
             "#f7f7f7"
            ],
            [
             0.6,
             "#e6f5d0"
            ],
            [
             0.7,
             "#b8e186"
            ],
            [
             0.8,
             "#7fbc41"
            ],
            [
             0.9,
             "#4d9221"
            ],
            [
             1,
             "#276419"
            ]
           ],
           "sequential": [
            [
             0,
             "#0d0887"
            ],
            [
             0.1111111111111111,
             "#46039f"
            ],
            [
             0.2222222222222222,
             "#7201a8"
            ],
            [
             0.3333333333333333,
             "#9c179e"
            ],
            [
             0.4444444444444444,
             "#bd3786"
            ],
            [
             0.5555555555555556,
             "#d8576b"
            ],
            [
             0.6666666666666666,
             "#ed7953"
            ],
            [
             0.7777777777777778,
             "#fb9f3a"
            ],
            [
             0.8888888888888888,
             "#fdca26"
            ],
            [
             1,
             "#f0f921"
            ]
           ],
           "sequentialminus": [
            [
             0,
             "#0d0887"
            ],
            [
             0.1111111111111111,
             "#46039f"
            ],
            [
             0.2222222222222222,
             "#7201a8"
            ],
            [
             0.3333333333333333,
             "#9c179e"
            ],
            [
             0.4444444444444444,
             "#bd3786"
            ],
            [
             0.5555555555555556,
             "#d8576b"
            ],
            [
             0.6666666666666666,
             "#ed7953"
            ],
            [
             0.7777777777777778,
             "#fb9f3a"
            ],
            [
             0.8888888888888888,
             "#fdca26"
            ],
            [
             1,
             "#f0f921"
            ]
           ]
          },
          "colorway": [
           "#636efa",
           "#EF553B",
           "#00cc96",
           "#ab63fa",
           "#FFA15A",
           "#19d3f3",
           "#FF6692",
           "#B6E880",
           "#FF97FF",
           "#FECB52"
          ],
          "font": {
           "color": "#2a3f5f"
          },
          "geo": {
           "bgcolor": "white",
           "lakecolor": "white",
           "landcolor": "#E5ECF6",
           "showlakes": true,
           "showland": true,
           "subunitcolor": "white"
          },
          "hoverlabel": {
           "align": "left"
          },
          "hovermode": "closest",
          "mapbox": {
           "style": "light"
          },
          "paper_bgcolor": "white",
          "plot_bgcolor": "#E5ECF6",
          "polar": {
           "angularaxis": {
            "gridcolor": "white",
            "linecolor": "white",
            "ticks": ""
           },
           "bgcolor": "#E5ECF6",
           "radialaxis": {
            "gridcolor": "white",
            "linecolor": "white",
            "ticks": ""
           }
          },
          "scene": {
           "xaxis": {
            "backgroundcolor": "#E5ECF6",
            "gridcolor": "white",
            "gridwidth": 2,
            "linecolor": "white",
            "showbackground": true,
            "ticks": "",
            "zerolinecolor": "white"
           },
           "yaxis": {
            "backgroundcolor": "#E5ECF6",
            "gridcolor": "white",
            "gridwidth": 2,
            "linecolor": "white",
            "showbackground": true,
            "ticks": "",
            "zerolinecolor": "white"
           },
           "zaxis": {
            "backgroundcolor": "#E5ECF6",
            "gridcolor": "white",
            "gridwidth": 2,
            "linecolor": "white",
            "showbackground": true,
            "ticks": "",
            "zerolinecolor": "white"
           }
          },
          "shapedefaults": {
           "line": {
            "color": "#2a3f5f"
           }
          },
          "ternary": {
           "aaxis": {
            "gridcolor": "white",
            "linecolor": "white",
            "ticks": ""
           },
           "baxis": {
            "gridcolor": "white",
            "linecolor": "white",
            "ticks": ""
           },
           "bgcolor": "#E5ECF6",
           "caxis": {
            "gridcolor": "white",
            "linecolor": "white",
            "ticks": ""
           }
          },
          "title": {
           "x": 0.05
          },
          "xaxis": {
           "automargin": true,
           "gridcolor": "white",
           "linecolor": "white",
           "ticks": "",
           "title": {
            "standoff": 15
           },
           "zerolinecolor": "white",
           "zerolinewidth": 2
          },
          "yaxis": {
           "automargin": true,
           "gridcolor": "white",
           "linecolor": "white",
           "ticks": "",
           "title": {
            "standoff": 15
           },
           "zerolinecolor": "white",
           "zerolinewidth": 2
          }
         }
        },
        "title": {
         "text": "Industry-Wise Job Distribution by Type of Employment"
        }
       }
      },
      "text/html": [
       "<div>                            <div id=\"bf3b4f90-ce00-4dfc-8729-1163cc2b2b12\" class=\"plotly-graph-div\" style=\"height:525px; width:100%;\"></div>            <script type=\"text/javascript\">                require([\"plotly\"], function(Plotly) {                    window.PLOTLYENV=window.PLOTLYENV || {};                                    if (document.getElementById(\"bf3b4f90-ce00-4dfc-8729-1163cc2b2b12\")) {                    Plotly.newPlot(                        \"bf3b4f90-ce00-4dfc-8729-1163cc2b2b12\",                        [{\"branchvalues\":\"total\",\"domain\":{\"x\":[0.0,1.0],\"y\":[0.0,1.0]},\"hovertemplate\":\"labels=%{label}<br>count=%{value}<br>parent=%{parent}<br>id=%{id}<extra></extra>\",\"ids\":[\"Contract/Business Analyst/Ahmedabad\",\"Full-time/Business Analyst/Ahmedabad\",\"Internship/Business Analyst/Ahmedabad\",\"Part-time/Business Analyst/Ahmedabad\",\"Contract/Cyber Security Analyst/Ahmedabad\",\"Full-time/Cyber Security Analyst/Ahmedabad\",\"Internship/Cyber Security Analyst/Ahmedabad\",\"Part-time/Cyber Security Analyst/Ahmedabad\",\"Contract/Data Scientist/Ahmedabad\",\"Full-time/Data Scientist/Ahmedabad\",\"Internship/Data Scientist/Ahmedabad\",\"Part-time/Data Scientist/Ahmedabad\",\"Contract/Financial Analyst/Ahmedabad\",\"Full-time/Financial Analyst/Ahmedabad\",\"Internship/Financial Analyst/Ahmedabad\",\"Part-time/Financial Analyst/Ahmedabad\",\"Contract/Graphic Designer/Ahmedabad\",\"Full-time/Graphic Designer/Ahmedabad\",\"Internship/Graphic Designer/Ahmedabad\",\"Part-time/Graphic Designer/Ahmedabad\",\"Contract/HR Manager/Ahmedabad\",\"Full-time/HR Manager/Ahmedabad\",\"Internship/HR Manager/Ahmedabad\",\"Part-time/HR Manager/Ahmedabad\",\"Contract/Marketing Executive/Ahmedabad\",\"Full-time/Marketing Executive/Ahmedabad\",\"Internship/Marketing Executive/Ahmedabad\",\"Part-time/Marketing Executive/Ahmedabad\",\"Contract/Product Manager/Ahmedabad\",\"Full-time/Product Manager/Ahmedabad\",\"Internship/Product Manager/Ahmedabad\",\"Part-time/Product Manager/Ahmedabad\",\"Contract/Sales Representative/Ahmedabad\",\"Full-time/Sales Representative/Ahmedabad\",\"Internship/Sales Representative/Ahmedabad\",\"Part-time/Sales Representative/Ahmedabad\",\"Contract/Software Engineer/Ahmedabad\",\"Full-time/Software Engineer/Ahmedabad\",\"Internship/Software Engineer/Ahmedabad\",\"Part-time/Software Engineer/Ahmedabad\",\"Contract/Business Analyst/Bangalore\",\"Full-time/Business Analyst/Bangalore\",\"Internship/Business Analyst/Bangalore\",\"Part-time/Business Analyst/Bangalore\",\"Contract/Cyber Security Analyst/Bangalore\",\"Full-time/Cyber Security Analyst/Bangalore\",\"Internship/Cyber Security Analyst/Bangalore\",\"Part-time/Cyber Security Analyst/Bangalore\",\"Contract/Data Scientist/Bangalore\",\"Full-time/Data Scientist/Bangalore\",\"Internship/Data Scientist/Bangalore\",\"Part-time/Data Scientist/Bangalore\",\"Contract/Financial Analyst/Bangalore\",\"Full-time/Financial Analyst/Bangalore\",\"Internship/Financial Analyst/Bangalore\",\"Part-time/Financial Analyst/Bangalore\",\"Contract/Graphic Designer/Bangalore\",\"Full-time/Graphic Designer/Bangalore\",\"Internship/Graphic Designer/Bangalore\",\"Part-time/Graphic Designer/Bangalore\",\"Contract/HR Manager/Bangalore\",\"Full-time/HR Manager/Bangalore\",\"Internship/HR Manager/Bangalore\",\"Part-time/HR Manager/Bangalore\",\"Contract/Marketing Executive/Bangalore\",\"Full-time/Marketing Executive/Bangalore\",\"Internship/Marketing Executive/Bangalore\",\"Part-time/Marketing Executive/Bangalore\",\"Contract/Product Manager/Bangalore\",\"Full-time/Product Manager/Bangalore\",\"Internship/Product Manager/Bangalore\",\"Part-time/Product Manager/Bangalore\",\"Contract/Sales Representative/Bangalore\",\"Full-time/Sales Representative/Bangalore\",\"Internship/Sales Representative/Bangalore\",\"Part-time/Sales Representative/Bangalore\",\"Contract/Software Engineer/Bangalore\",\"Full-time/Software Engineer/Bangalore\",\"Internship/Software Engineer/Bangalore\",\"Part-time/Software Engineer/Bangalore\",\"Contract/Business Analyst/Chennai\",\"Full-time/Business Analyst/Chennai\",\"Internship/Business Analyst/Chennai\",\"Part-time/Business Analyst/Chennai\",\"Contract/Cyber Security Analyst/Chennai\",\"Full-time/Cyber Security Analyst/Chennai\",\"Internship/Cyber Security Analyst/Chennai\",\"Part-time/Cyber Security Analyst/Chennai\",\"Contract/Data Scientist/Chennai\",\"Full-time/Data Scientist/Chennai\",\"Internship/Data Scientist/Chennai\",\"Part-time/Data Scientist/Chennai\",\"Contract/Financial Analyst/Chennai\",\"Full-time/Financial Analyst/Chennai\",\"Internship/Financial Analyst/Chennai\",\"Part-time/Financial Analyst/Chennai\",\"Contract/Graphic Designer/Chennai\",\"Full-time/Graphic Designer/Chennai\",\"Internship/Graphic Designer/Chennai\",\"Part-time/Graphic Designer/Chennai\",\"Contract/HR Manager/Chennai\",\"Full-time/HR Manager/Chennai\",\"Internship/HR Manager/Chennai\",\"Part-time/HR Manager/Chennai\",\"Contract/Marketing Executive/Chennai\",\"Full-time/Marketing Executive/Chennai\",\"Internship/Marketing Executive/Chennai\",\"Part-time/Marketing Executive/Chennai\",\"Contract/Product Manager/Chennai\",\"Full-time/Product Manager/Chennai\",\"Internship/Product Manager/Chennai\",\"Part-time/Product Manager/Chennai\",\"Contract/Sales Representative/Chennai\",\"Full-time/Sales Representative/Chennai\",\"Internship/Sales Representative/Chennai\",\"Part-time/Sales Representative/Chennai\",\"Contract/Software Engineer/Chennai\",\"Full-time/Software Engineer/Chennai\",\"Internship/Software Engineer/Chennai\",\"Part-time/Software Engineer/Chennai\",\"Contract/Business Analyst/Delhi\",\"Full-time/Business Analyst/Delhi\",\"Internship/Business Analyst/Delhi\",\"Part-time/Business Analyst/Delhi\",\"Contract/Cyber Security Analyst/Delhi\",\"Full-time/Cyber Security Analyst/Delhi\",\"Internship/Cyber Security Analyst/Delhi\",\"Part-time/Cyber Security Analyst/Delhi\",\"Contract/Data Scientist/Delhi\",\"Full-time/Data Scientist/Delhi\",\"Internship/Data Scientist/Delhi\",\"Part-time/Data Scientist/Delhi\",\"Contract/Financial Analyst/Delhi\",\"Full-time/Financial Analyst/Delhi\",\"Internship/Financial Analyst/Delhi\",\"Part-time/Financial Analyst/Delhi\",\"Contract/Graphic Designer/Delhi\",\"Full-time/Graphic Designer/Delhi\",\"Internship/Graphic Designer/Delhi\",\"Part-time/Graphic Designer/Delhi\",\"Contract/HR Manager/Delhi\",\"Full-time/HR Manager/Delhi\",\"Internship/HR Manager/Delhi\",\"Part-time/HR Manager/Delhi\",\"Contract/Marketing Executive/Delhi\",\"Full-time/Marketing Executive/Delhi\",\"Internship/Marketing Executive/Delhi\",\"Part-time/Marketing Executive/Delhi\",\"Contract/Product Manager/Delhi\",\"Full-time/Product Manager/Delhi\",\"Internship/Product Manager/Delhi\",\"Part-time/Product Manager/Delhi\",\"Contract/Sales Representative/Delhi\",\"Full-time/Sales Representative/Delhi\",\"Internship/Sales Representative/Delhi\",\"Part-time/Sales Representative/Delhi\",\"Contract/Software Engineer/Delhi\",\"Full-time/Software Engineer/Delhi\",\"Internship/Software Engineer/Delhi\",\"Part-time/Software Engineer/Delhi\",\"Contract/Business Analyst/Hyderabad\",\"Full-time/Business Analyst/Hyderabad\",\"Internship/Business Analyst/Hyderabad\",\"Part-time/Business Analyst/Hyderabad\",\"Contract/Cyber Security Analyst/Hyderabad\",\"Full-time/Cyber Security Analyst/Hyderabad\",\"Internship/Cyber Security Analyst/Hyderabad\",\"Part-time/Cyber Security Analyst/Hyderabad\",\"Contract/Data Scientist/Hyderabad\",\"Full-time/Data Scientist/Hyderabad\",\"Internship/Data Scientist/Hyderabad\",\"Part-time/Data Scientist/Hyderabad\",\"Contract/Financial Analyst/Hyderabad\",\"Full-time/Financial Analyst/Hyderabad\",\"Internship/Financial Analyst/Hyderabad\",\"Part-time/Financial Analyst/Hyderabad\",\"Contract/Graphic Designer/Hyderabad\",\"Full-time/Graphic Designer/Hyderabad\",\"Internship/Graphic Designer/Hyderabad\",\"Part-time/Graphic Designer/Hyderabad\",\"Contract/HR Manager/Hyderabad\",\"Full-time/HR Manager/Hyderabad\",\"Internship/HR Manager/Hyderabad\",\"Part-time/HR Manager/Hyderabad\",\"Contract/Marketing Executive/Hyderabad\",\"Full-time/Marketing Executive/Hyderabad\",\"Internship/Marketing Executive/Hyderabad\",\"Part-time/Marketing Executive/Hyderabad\",\"Contract/Product Manager/Hyderabad\",\"Full-time/Product Manager/Hyderabad\",\"Internship/Product Manager/Hyderabad\",\"Part-time/Product Manager/Hyderabad\",\"Contract/Sales Representative/Hyderabad\",\"Full-time/Sales Representative/Hyderabad\",\"Internship/Sales Representative/Hyderabad\",\"Part-time/Sales Representative/Hyderabad\",\"Contract/Software Engineer/Hyderabad\",\"Full-time/Software Engineer/Hyderabad\",\"Internship/Software Engineer/Hyderabad\",\"Part-time/Software Engineer/Hyderabad\",\"Contract/Business Analyst/Jaipur\",\"Full-time/Business Analyst/Jaipur\",\"Internship/Business Analyst/Jaipur\",\"Part-time/Business Analyst/Jaipur\",\"Contract/Cyber Security Analyst/Jaipur\",\"Full-time/Cyber Security Analyst/Jaipur\",\"Internship/Cyber Security Analyst/Jaipur\",\"Part-time/Cyber Security Analyst/Jaipur\",\"Contract/Data Scientist/Jaipur\",\"Full-time/Data Scientist/Jaipur\",\"Internship/Data Scientist/Jaipur\",\"Part-time/Data Scientist/Jaipur\",\"Contract/Financial Analyst/Jaipur\",\"Full-time/Financial Analyst/Jaipur\",\"Internship/Financial Analyst/Jaipur\",\"Part-time/Financial Analyst/Jaipur\",\"Contract/Graphic Designer/Jaipur\",\"Full-time/Graphic Designer/Jaipur\",\"Internship/Graphic Designer/Jaipur\",\"Part-time/Graphic Designer/Jaipur\",\"Contract/HR Manager/Jaipur\",\"Full-time/HR Manager/Jaipur\",\"Internship/HR Manager/Jaipur\",\"Part-time/HR Manager/Jaipur\",\"Contract/Marketing Executive/Jaipur\",\"Full-time/Marketing Executive/Jaipur\",\"Internship/Marketing Executive/Jaipur\",\"Part-time/Marketing Executive/Jaipur\",\"Contract/Product Manager/Jaipur\",\"Full-time/Product Manager/Jaipur\",\"Internship/Product Manager/Jaipur\",\"Part-time/Product Manager/Jaipur\",\"Contract/Sales Representative/Jaipur\",\"Full-time/Sales Representative/Jaipur\",\"Internship/Sales Representative/Jaipur\",\"Part-time/Sales Representative/Jaipur\",\"Contract/Software Engineer/Jaipur\",\"Full-time/Software Engineer/Jaipur\",\"Internship/Software Engineer/Jaipur\",\"Part-time/Software Engineer/Jaipur\",\"Contract/Business Analyst/Kolkata\",\"Full-time/Business Analyst/Kolkata\",\"Internship/Business Analyst/Kolkata\",\"Part-time/Business Analyst/Kolkata\",\"Contract/Cyber Security Analyst/Kolkata\",\"Full-time/Cyber Security Analyst/Kolkata\",\"Internship/Cyber Security Analyst/Kolkata\",\"Part-time/Cyber Security Analyst/Kolkata\",\"Contract/Data Scientist/Kolkata\",\"Full-time/Data Scientist/Kolkata\",\"Internship/Data Scientist/Kolkata\",\"Part-time/Data Scientist/Kolkata\",\"Contract/Financial Analyst/Kolkata\",\"Full-time/Financial Analyst/Kolkata\",\"Internship/Financial Analyst/Kolkata\",\"Part-time/Financial Analyst/Kolkata\",\"Contract/Graphic Designer/Kolkata\",\"Full-time/Graphic Designer/Kolkata\",\"Internship/Graphic Designer/Kolkata\",\"Part-time/Graphic Designer/Kolkata\",\"Contract/HR Manager/Kolkata\",\"Full-time/HR Manager/Kolkata\",\"Internship/HR Manager/Kolkata\",\"Part-time/HR Manager/Kolkata\",\"Contract/Marketing Executive/Kolkata\",\"Full-time/Marketing Executive/Kolkata\",\"Internship/Marketing Executive/Kolkata\",\"Part-time/Marketing Executive/Kolkata\",\"Contract/Product Manager/Kolkata\",\"Full-time/Product Manager/Kolkata\",\"Internship/Product Manager/Kolkata\",\"Part-time/Product Manager/Kolkata\",\"Contract/Sales Representative/Kolkata\",\"Full-time/Sales Representative/Kolkata\",\"Internship/Sales Representative/Kolkata\",\"Part-time/Sales Representative/Kolkata\",\"Contract/Software Engineer/Kolkata\",\"Full-time/Software Engineer/Kolkata\",\"Internship/Software Engineer/Kolkata\",\"Part-time/Software Engineer/Kolkata\",\"Contract/Business Analyst/Mumbai\",\"Full-time/Business Analyst/Mumbai\",\"Internship/Business Analyst/Mumbai\",\"Part-time/Business Analyst/Mumbai\",\"Contract/Cyber Security Analyst/Mumbai\",\"Full-time/Cyber Security Analyst/Mumbai\",\"Internship/Cyber Security Analyst/Mumbai\",\"Part-time/Cyber Security Analyst/Mumbai\",\"Contract/Data Scientist/Mumbai\",\"Full-time/Data Scientist/Mumbai\",\"Internship/Data Scientist/Mumbai\",\"Part-time/Data Scientist/Mumbai\",\"Contract/Financial Analyst/Mumbai\",\"Full-time/Financial Analyst/Mumbai\",\"Internship/Financial Analyst/Mumbai\",\"Part-time/Financial Analyst/Mumbai\",\"Contract/Graphic Designer/Mumbai\",\"Full-time/Graphic Designer/Mumbai\",\"Internship/Graphic Designer/Mumbai\",\"Part-time/Graphic Designer/Mumbai\",\"Contract/HR Manager/Mumbai\",\"Full-time/HR Manager/Mumbai\",\"Internship/HR Manager/Mumbai\",\"Part-time/HR Manager/Mumbai\",\"Contract/Marketing Executive/Mumbai\",\"Full-time/Marketing Executive/Mumbai\",\"Internship/Marketing Executive/Mumbai\",\"Part-time/Marketing Executive/Mumbai\",\"Contract/Product Manager/Mumbai\",\"Full-time/Product Manager/Mumbai\",\"Internship/Product Manager/Mumbai\",\"Part-time/Product Manager/Mumbai\",\"Contract/Sales Representative/Mumbai\",\"Full-time/Sales Representative/Mumbai\",\"Internship/Sales Representative/Mumbai\",\"Part-time/Sales Representative/Mumbai\",\"Contract/Software Engineer/Mumbai\",\"Full-time/Software Engineer/Mumbai\",\"Internship/Software Engineer/Mumbai\",\"Part-time/Software Engineer/Mumbai\",\"Contract/Business Analyst/Noida\",\"Full-time/Business Analyst/Noida\",\"Internship/Business Analyst/Noida\",\"Part-time/Business Analyst/Noida\",\"Contract/Cyber Security Analyst/Noida\",\"Full-time/Cyber Security Analyst/Noida\",\"Internship/Cyber Security Analyst/Noida\",\"Part-time/Cyber Security Analyst/Noida\",\"Contract/Data Scientist/Noida\",\"Full-time/Data Scientist/Noida\",\"Internship/Data Scientist/Noida\",\"Part-time/Data Scientist/Noida\",\"Contract/Financial Analyst/Noida\",\"Full-time/Financial Analyst/Noida\",\"Internship/Financial Analyst/Noida\",\"Part-time/Financial Analyst/Noida\",\"Contract/Graphic Designer/Noida\",\"Full-time/Graphic Designer/Noida\",\"Internship/Graphic Designer/Noida\",\"Part-time/Graphic Designer/Noida\",\"Contract/HR Manager/Noida\",\"Full-time/HR Manager/Noida\",\"Internship/HR Manager/Noida\",\"Part-time/HR Manager/Noida\",\"Contract/Marketing Executive/Noida\",\"Full-time/Marketing Executive/Noida\",\"Internship/Marketing Executive/Noida\",\"Part-time/Marketing Executive/Noida\",\"Contract/Product Manager/Noida\",\"Full-time/Product Manager/Noida\",\"Internship/Product Manager/Noida\",\"Part-time/Product Manager/Noida\",\"Contract/Sales Representative/Noida\",\"Full-time/Sales Representative/Noida\",\"Internship/Sales Representative/Noida\",\"Part-time/Sales Representative/Noida\",\"Contract/Software Engineer/Noida\",\"Full-time/Software Engineer/Noida\",\"Internship/Software Engineer/Noida\",\"Part-time/Software Engineer/Noida\",\"Contract/Business Analyst/Pune\",\"Full-time/Business Analyst/Pune\",\"Internship/Business Analyst/Pune\",\"Part-time/Business Analyst/Pune\",\"Contract/Cyber Security Analyst/Pune\",\"Full-time/Cyber Security Analyst/Pune\",\"Internship/Cyber Security Analyst/Pune\",\"Part-time/Cyber Security Analyst/Pune\",\"Contract/Data Scientist/Pune\",\"Full-time/Data Scientist/Pune\",\"Internship/Data Scientist/Pune\",\"Part-time/Data Scientist/Pune\",\"Contract/Financial Analyst/Pune\",\"Full-time/Financial Analyst/Pune\",\"Internship/Financial Analyst/Pune\",\"Part-time/Financial Analyst/Pune\",\"Contract/Graphic Designer/Pune\",\"Full-time/Graphic Designer/Pune\",\"Internship/Graphic Designer/Pune\",\"Part-time/Graphic Designer/Pune\",\"Contract/HR Manager/Pune\",\"Full-time/HR Manager/Pune\",\"Internship/HR Manager/Pune\",\"Part-time/HR Manager/Pune\",\"Contract/Marketing Executive/Pune\",\"Full-time/Marketing Executive/Pune\",\"Internship/Marketing Executive/Pune\",\"Part-time/Marketing Executive/Pune\",\"Contract/Product Manager/Pune\",\"Full-time/Product Manager/Pune\",\"Internship/Product Manager/Pune\",\"Part-time/Product Manager/Pune\",\"Contract/Sales Representative/Pune\",\"Full-time/Sales Representative/Pune\",\"Internship/Sales Representative/Pune\",\"Part-time/Sales Representative/Pune\",\"Contract/Software Engineer/Pune\",\"Full-time/Software Engineer/Pune\",\"Internship/Software Engineer/Pune\",\"Part-time/Software Engineer/Pune\",\"Contract/Business Analyst\",\"Full-time/Business Analyst\",\"Internship/Business Analyst\",\"Part-time/Business Analyst\",\"Contract/Cyber Security Analyst\",\"Full-time/Cyber Security Analyst\",\"Internship/Cyber Security Analyst\",\"Part-time/Cyber Security Analyst\",\"Contract/Data Scientist\",\"Full-time/Data Scientist\",\"Internship/Data Scientist\",\"Part-time/Data Scientist\",\"Contract/Financial Analyst\",\"Full-time/Financial Analyst\",\"Internship/Financial Analyst\",\"Part-time/Financial Analyst\",\"Contract/Graphic Designer\",\"Full-time/Graphic Designer\",\"Internship/Graphic Designer\",\"Part-time/Graphic Designer\",\"Contract/HR Manager\",\"Full-time/HR Manager\",\"Internship/HR Manager\",\"Part-time/HR Manager\",\"Contract/Marketing Executive\",\"Full-time/Marketing Executive\",\"Internship/Marketing Executive\",\"Part-time/Marketing Executive\",\"Contract/Product Manager\",\"Full-time/Product Manager\",\"Internship/Product Manager\",\"Part-time/Product Manager\",\"Contract/Sales Representative\",\"Full-time/Sales Representative\",\"Internship/Sales Representative\",\"Part-time/Sales Representative\",\"Contract/Software Engineer\",\"Full-time/Software Engineer\",\"Internship/Software Engineer\",\"Part-time/Software Engineer\",\"Contract\",\"Full-time\",\"Internship\",\"Part-time\"],\"labels\":[\"Ahmedabad\",\"Ahmedabad\",\"Ahmedabad\",\"Ahmedabad\",\"Ahmedabad\",\"Ahmedabad\",\"Ahmedabad\",\"Ahmedabad\",\"Ahmedabad\",\"Ahmedabad\",\"Ahmedabad\",\"Ahmedabad\",\"Ahmedabad\",\"Ahmedabad\",\"Ahmedabad\",\"Ahmedabad\",\"Ahmedabad\",\"Ahmedabad\",\"Ahmedabad\",\"Ahmedabad\",\"Ahmedabad\",\"Ahmedabad\",\"Ahmedabad\",\"Ahmedabad\",\"Ahmedabad\",\"Ahmedabad\",\"Ahmedabad\",\"Ahmedabad\",\"Ahmedabad\",\"Ahmedabad\",\"Ahmedabad\",\"Ahmedabad\",\"Ahmedabad\",\"Ahmedabad\",\"Ahmedabad\",\"Ahmedabad\",\"Ahmedabad\",\"Ahmedabad\",\"Ahmedabad\",\"Ahmedabad\",\"Bangalore\",\"Bangalore\",\"Bangalore\",\"Bangalore\",\"Bangalore\",\"Bangalore\",\"Bangalore\",\"Bangalore\",\"Bangalore\",\"Bangalore\",\"Bangalore\",\"Bangalore\",\"Bangalore\",\"Bangalore\",\"Bangalore\",\"Bangalore\",\"Bangalore\",\"Bangalore\",\"Bangalore\",\"Bangalore\",\"Bangalore\",\"Bangalore\",\"Bangalore\",\"Bangalore\",\"Bangalore\",\"Bangalore\",\"Bangalore\",\"Bangalore\",\"Bangalore\",\"Bangalore\",\"Bangalore\",\"Bangalore\",\"Bangalore\",\"Bangalore\",\"Bangalore\",\"Bangalore\",\"Bangalore\",\"Bangalore\",\"Bangalore\",\"Bangalore\",\"Chennai\",\"Chennai\",\"Chennai\",\"Chennai\",\"Chennai\",\"Chennai\",\"Chennai\",\"Chennai\",\"Chennai\",\"Chennai\",\"Chennai\",\"Chennai\",\"Chennai\",\"Chennai\",\"Chennai\",\"Chennai\",\"Chennai\",\"Chennai\",\"Chennai\",\"Chennai\",\"Chennai\",\"Chennai\",\"Chennai\",\"Chennai\",\"Chennai\",\"Chennai\",\"Chennai\",\"Chennai\",\"Chennai\",\"Chennai\",\"Chennai\",\"Chennai\",\"Chennai\",\"Chennai\",\"Chennai\",\"Chennai\",\"Chennai\",\"Chennai\",\"Chennai\",\"Chennai\",\"Delhi\",\"Delhi\",\"Delhi\",\"Delhi\",\"Delhi\",\"Delhi\",\"Delhi\",\"Delhi\",\"Delhi\",\"Delhi\",\"Delhi\",\"Delhi\",\"Delhi\",\"Delhi\",\"Delhi\",\"Delhi\",\"Delhi\",\"Delhi\",\"Delhi\",\"Delhi\",\"Delhi\",\"Delhi\",\"Delhi\",\"Delhi\",\"Delhi\",\"Delhi\",\"Delhi\",\"Delhi\",\"Delhi\",\"Delhi\",\"Delhi\",\"Delhi\",\"Delhi\",\"Delhi\",\"Delhi\",\"Delhi\",\"Delhi\",\"Delhi\",\"Delhi\",\"Delhi\",\"Hyderabad\",\"Hyderabad\",\"Hyderabad\",\"Hyderabad\",\"Hyderabad\",\"Hyderabad\",\"Hyderabad\",\"Hyderabad\",\"Hyderabad\",\"Hyderabad\",\"Hyderabad\",\"Hyderabad\",\"Hyderabad\",\"Hyderabad\",\"Hyderabad\",\"Hyderabad\",\"Hyderabad\",\"Hyderabad\",\"Hyderabad\",\"Hyderabad\",\"Hyderabad\",\"Hyderabad\",\"Hyderabad\",\"Hyderabad\",\"Hyderabad\",\"Hyderabad\",\"Hyderabad\",\"Hyderabad\",\"Hyderabad\",\"Hyderabad\",\"Hyderabad\",\"Hyderabad\",\"Hyderabad\",\"Hyderabad\",\"Hyderabad\",\"Hyderabad\",\"Hyderabad\",\"Hyderabad\",\"Hyderabad\",\"Hyderabad\",\"Jaipur\",\"Jaipur\",\"Jaipur\",\"Jaipur\",\"Jaipur\",\"Jaipur\",\"Jaipur\",\"Jaipur\",\"Jaipur\",\"Jaipur\",\"Jaipur\",\"Jaipur\",\"Jaipur\",\"Jaipur\",\"Jaipur\",\"Jaipur\",\"Jaipur\",\"Jaipur\",\"Jaipur\",\"Jaipur\",\"Jaipur\",\"Jaipur\",\"Jaipur\",\"Jaipur\",\"Jaipur\",\"Jaipur\",\"Jaipur\",\"Jaipur\",\"Jaipur\",\"Jaipur\",\"Jaipur\",\"Jaipur\",\"Jaipur\",\"Jaipur\",\"Jaipur\",\"Jaipur\",\"Jaipur\",\"Jaipur\",\"Jaipur\",\"Jaipur\",\"Kolkata\",\"Kolkata\",\"Kolkata\",\"Kolkata\",\"Kolkata\",\"Kolkata\",\"Kolkata\",\"Kolkata\",\"Kolkata\",\"Kolkata\",\"Kolkata\",\"Kolkata\",\"Kolkata\",\"Kolkata\",\"Kolkata\",\"Kolkata\",\"Kolkata\",\"Kolkata\",\"Kolkata\",\"Kolkata\",\"Kolkata\",\"Kolkata\",\"Kolkata\",\"Kolkata\",\"Kolkata\",\"Kolkata\",\"Kolkata\",\"Kolkata\",\"Kolkata\",\"Kolkata\",\"Kolkata\",\"Kolkata\",\"Kolkata\",\"Kolkata\",\"Kolkata\",\"Kolkata\",\"Kolkata\",\"Kolkata\",\"Kolkata\",\"Kolkata\",\"Mumbai\",\"Mumbai\",\"Mumbai\",\"Mumbai\",\"Mumbai\",\"Mumbai\",\"Mumbai\",\"Mumbai\",\"Mumbai\",\"Mumbai\",\"Mumbai\",\"Mumbai\",\"Mumbai\",\"Mumbai\",\"Mumbai\",\"Mumbai\",\"Mumbai\",\"Mumbai\",\"Mumbai\",\"Mumbai\",\"Mumbai\",\"Mumbai\",\"Mumbai\",\"Mumbai\",\"Mumbai\",\"Mumbai\",\"Mumbai\",\"Mumbai\",\"Mumbai\",\"Mumbai\",\"Mumbai\",\"Mumbai\",\"Mumbai\",\"Mumbai\",\"Mumbai\",\"Mumbai\",\"Mumbai\",\"Mumbai\",\"Mumbai\",\"Mumbai\",\"Noida\",\"Noida\",\"Noida\",\"Noida\",\"Noida\",\"Noida\",\"Noida\",\"Noida\",\"Noida\",\"Noida\",\"Noida\",\"Noida\",\"Noida\",\"Noida\",\"Noida\",\"Noida\",\"Noida\",\"Noida\",\"Noida\",\"Noida\",\"Noida\",\"Noida\",\"Noida\",\"Noida\",\"Noida\",\"Noida\",\"Noida\",\"Noida\",\"Noida\",\"Noida\",\"Noida\",\"Noida\",\"Noida\",\"Noida\",\"Noida\",\"Noida\",\"Noida\",\"Noida\",\"Noida\",\"Noida\",\"Pune\",\"Pune\",\"Pune\",\"Pune\",\"Pune\",\"Pune\",\"Pune\",\"Pune\",\"Pune\",\"Pune\",\"Pune\",\"Pune\",\"Pune\",\"Pune\",\"Pune\",\"Pune\",\"Pune\",\"Pune\",\"Pune\",\"Pune\",\"Pune\",\"Pune\",\"Pune\",\"Pune\",\"Pune\",\"Pune\",\"Pune\",\"Pune\",\"Pune\",\"Pune\",\"Pune\",\"Pune\",\"Pune\",\"Pune\",\"Pune\",\"Pune\",\"Pune\",\"Pune\",\"Pune\",\"Pune\",\"Business Analyst\",\"Business Analyst\",\"Business Analyst\",\"Business Analyst\",\"Cyber Security Analyst\",\"Cyber Security Analyst\",\"Cyber Security Analyst\",\"Cyber Security Analyst\",\"Data Scientist\",\"Data Scientist\",\"Data Scientist\",\"Data Scientist\",\"Financial Analyst\",\"Financial Analyst\",\"Financial Analyst\",\"Financial Analyst\",\"Graphic Designer\",\"Graphic Designer\",\"Graphic Designer\",\"Graphic Designer\",\"HR Manager\",\"HR Manager\",\"HR Manager\",\"HR Manager\",\"Marketing Executive\",\"Marketing Executive\",\"Marketing Executive\",\"Marketing Executive\",\"Product Manager\",\"Product Manager\",\"Product Manager\",\"Product Manager\",\"Sales Representative\",\"Sales Representative\",\"Sales Representative\",\"Sales Representative\",\"Software Engineer\",\"Software Engineer\",\"Software Engineer\",\"Software Engineer\",\"Contract\",\"Full-time\",\"Internship\",\"Part-time\"],\"name\":\"\",\"parents\":[\"Contract/Business Analyst\",\"Full-time/Business Analyst\",\"Internship/Business Analyst\",\"Part-time/Business Analyst\",\"Contract/Cyber Security Analyst\",\"Full-time/Cyber Security Analyst\",\"Internship/Cyber Security Analyst\",\"Part-time/Cyber Security Analyst\",\"Contract/Data Scientist\",\"Full-time/Data Scientist\",\"Internship/Data Scientist\",\"Part-time/Data Scientist\",\"Contract/Financial Analyst\",\"Full-time/Financial Analyst\",\"Internship/Financial Analyst\",\"Part-time/Financial Analyst\",\"Contract/Graphic Designer\",\"Full-time/Graphic Designer\",\"Internship/Graphic Designer\",\"Part-time/Graphic Designer\",\"Contract/HR Manager\",\"Full-time/HR Manager\",\"Internship/HR Manager\",\"Part-time/HR Manager\",\"Contract/Marketing Executive\",\"Full-time/Marketing Executive\",\"Internship/Marketing Executive\",\"Part-time/Marketing Executive\",\"Contract/Product Manager\",\"Full-time/Product Manager\",\"Internship/Product Manager\",\"Part-time/Product Manager\",\"Contract/Sales Representative\",\"Full-time/Sales Representative\",\"Internship/Sales Representative\",\"Part-time/Sales Representative\",\"Contract/Software Engineer\",\"Full-time/Software Engineer\",\"Internship/Software Engineer\",\"Part-time/Software Engineer\",\"Contract/Business Analyst\",\"Full-time/Business Analyst\",\"Internship/Business Analyst\",\"Part-time/Business Analyst\",\"Contract/Cyber Security Analyst\",\"Full-time/Cyber Security Analyst\",\"Internship/Cyber Security Analyst\",\"Part-time/Cyber Security Analyst\",\"Contract/Data Scientist\",\"Full-time/Data Scientist\",\"Internship/Data Scientist\",\"Part-time/Data Scientist\",\"Contract/Financial Analyst\",\"Full-time/Financial Analyst\",\"Internship/Financial Analyst\",\"Part-time/Financial Analyst\",\"Contract/Graphic Designer\",\"Full-time/Graphic Designer\",\"Internship/Graphic Designer\",\"Part-time/Graphic Designer\",\"Contract/HR Manager\",\"Full-time/HR Manager\",\"Internship/HR Manager\",\"Part-time/HR Manager\",\"Contract/Marketing Executive\",\"Full-time/Marketing Executive\",\"Internship/Marketing Executive\",\"Part-time/Marketing Executive\",\"Contract/Product Manager\",\"Full-time/Product Manager\",\"Internship/Product Manager\",\"Part-time/Product Manager\",\"Contract/Sales Representative\",\"Full-time/Sales Representative\",\"Internship/Sales Representative\",\"Part-time/Sales Representative\",\"Contract/Software Engineer\",\"Full-time/Software Engineer\",\"Internship/Software Engineer\",\"Part-time/Software Engineer\",\"Contract/Business Analyst\",\"Full-time/Business Analyst\",\"Internship/Business Analyst\",\"Part-time/Business Analyst\",\"Contract/Cyber Security Analyst\",\"Full-time/Cyber Security Analyst\",\"Internship/Cyber Security Analyst\",\"Part-time/Cyber Security Analyst\",\"Contract/Data Scientist\",\"Full-time/Data Scientist\",\"Internship/Data Scientist\",\"Part-time/Data Scientist\",\"Contract/Financial Analyst\",\"Full-time/Financial Analyst\",\"Internship/Financial Analyst\",\"Part-time/Financial Analyst\",\"Contract/Graphic Designer\",\"Full-time/Graphic Designer\",\"Internship/Graphic Designer\",\"Part-time/Graphic Designer\",\"Contract/HR Manager\",\"Full-time/HR Manager\",\"Internship/HR Manager\",\"Part-time/HR Manager\",\"Contract/Marketing Executive\",\"Full-time/Marketing Executive\",\"Internship/Marketing Executive\",\"Part-time/Marketing Executive\",\"Contract/Product Manager\",\"Full-time/Product Manager\",\"Internship/Product Manager\",\"Part-time/Product Manager\",\"Contract/Sales Representative\",\"Full-time/Sales Representative\",\"Internship/Sales Representative\",\"Part-time/Sales Representative\",\"Contract/Software Engineer\",\"Full-time/Software Engineer\",\"Internship/Software Engineer\",\"Part-time/Software Engineer\",\"Contract/Business Analyst\",\"Full-time/Business Analyst\",\"Internship/Business Analyst\",\"Part-time/Business Analyst\",\"Contract/Cyber Security Analyst\",\"Full-time/Cyber Security Analyst\",\"Internship/Cyber Security Analyst\",\"Part-time/Cyber Security Analyst\",\"Contract/Data Scientist\",\"Full-time/Data Scientist\",\"Internship/Data Scientist\",\"Part-time/Data Scientist\",\"Contract/Financial Analyst\",\"Full-time/Financial Analyst\",\"Internship/Financial Analyst\",\"Part-time/Financial Analyst\",\"Contract/Graphic Designer\",\"Full-time/Graphic Designer\",\"Internship/Graphic Designer\",\"Part-time/Graphic Designer\",\"Contract/HR Manager\",\"Full-time/HR Manager\",\"Internship/HR Manager\",\"Part-time/HR Manager\",\"Contract/Marketing Executive\",\"Full-time/Marketing Executive\",\"Internship/Marketing Executive\",\"Part-time/Marketing Executive\",\"Contract/Product Manager\",\"Full-time/Product Manager\",\"Internship/Product Manager\",\"Part-time/Product Manager\",\"Contract/Sales Representative\",\"Full-time/Sales Representative\",\"Internship/Sales Representative\",\"Part-time/Sales Representative\",\"Contract/Software Engineer\",\"Full-time/Software Engineer\",\"Internship/Software Engineer\",\"Part-time/Software Engineer\",\"Contract/Business Analyst\",\"Full-time/Business Analyst\",\"Internship/Business Analyst\",\"Part-time/Business Analyst\",\"Contract/Cyber Security Analyst\",\"Full-time/Cyber Security Analyst\",\"Internship/Cyber Security Analyst\",\"Part-time/Cyber Security Analyst\",\"Contract/Data Scientist\",\"Full-time/Data Scientist\",\"Internship/Data Scientist\",\"Part-time/Data Scientist\",\"Contract/Financial Analyst\",\"Full-time/Financial Analyst\",\"Internship/Financial Analyst\",\"Part-time/Financial Analyst\",\"Contract/Graphic Designer\",\"Full-time/Graphic Designer\",\"Internship/Graphic Designer\",\"Part-time/Graphic Designer\",\"Contract/HR Manager\",\"Full-time/HR Manager\",\"Internship/HR Manager\",\"Part-time/HR Manager\",\"Contract/Marketing Executive\",\"Full-time/Marketing Executive\",\"Internship/Marketing Executive\",\"Part-time/Marketing Executive\",\"Contract/Product Manager\",\"Full-time/Product Manager\",\"Internship/Product Manager\",\"Part-time/Product Manager\",\"Contract/Sales Representative\",\"Full-time/Sales Representative\",\"Internship/Sales Representative\",\"Part-time/Sales Representative\",\"Contract/Software Engineer\",\"Full-time/Software Engineer\",\"Internship/Software Engineer\",\"Part-time/Software Engineer\",\"Contract/Business Analyst\",\"Full-time/Business Analyst\",\"Internship/Business Analyst\",\"Part-time/Business Analyst\",\"Contract/Cyber Security Analyst\",\"Full-time/Cyber Security Analyst\",\"Internship/Cyber Security Analyst\",\"Part-time/Cyber Security Analyst\",\"Contract/Data Scientist\",\"Full-time/Data Scientist\",\"Internship/Data Scientist\",\"Part-time/Data Scientist\",\"Contract/Financial Analyst\",\"Full-time/Financial Analyst\",\"Internship/Financial Analyst\",\"Part-time/Financial Analyst\",\"Contract/Graphic Designer\",\"Full-time/Graphic Designer\",\"Internship/Graphic Designer\",\"Part-time/Graphic Designer\",\"Contract/HR Manager\",\"Full-time/HR Manager\",\"Internship/HR Manager\",\"Part-time/HR Manager\",\"Contract/Marketing Executive\",\"Full-time/Marketing Executive\",\"Internship/Marketing Executive\",\"Part-time/Marketing Executive\",\"Contract/Product Manager\",\"Full-time/Product Manager\",\"Internship/Product Manager\",\"Part-time/Product Manager\",\"Contract/Sales Representative\",\"Full-time/Sales Representative\",\"Internship/Sales Representative\",\"Part-time/Sales Representative\",\"Contract/Software Engineer\",\"Full-time/Software Engineer\",\"Internship/Software Engineer\",\"Part-time/Software Engineer\",\"Contract/Business Analyst\",\"Full-time/Business Analyst\",\"Internship/Business Analyst\",\"Part-time/Business Analyst\",\"Contract/Cyber Security Analyst\",\"Full-time/Cyber Security Analyst\",\"Internship/Cyber Security Analyst\",\"Part-time/Cyber Security Analyst\",\"Contract/Data Scientist\",\"Full-time/Data Scientist\",\"Internship/Data Scientist\",\"Part-time/Data Scientist\",\"Contract/Financial Analyst\",\"Full-time/Financial Analyst\",\"Internship/Financial Analyst\",\"Part-time/Financial Analyst\",\"Contract/Graphic Designer\",\"Full-time/Graphic Designer\",\"Internship/Graphic Designer\",\"Part-time/Graphic Designer\",\"Contract/HR Manager\",\"Full-time/HR Manager\",\"Internship/HR Manager\",\"Part-time/HR Manager\",\"Contract/Marketing Executive\",\"Full-time/Marketing Executive\",\"Internship/Marketing Executive\",\"Part-time/Marketing Executive\",\"Contract/Product Manager\",\"Full-time/Product Manager\",\"Internship/Product Manager\",\"Part-time/Product Manager\",\"Contract/Sales Representative\",\"Full-time/Sales Representative\",\"Internship/Sales Representative\",\"Part-time/Sales Representative\",\"Contract/Software Engineer\",\"Full-time/Software Engineer\",\"Internship/Software Engineer\",\"Part-time/Software Engineer\",\"Contract/Business Analyst\",\"Full-time/Business Analyst\",\"Internship/Business Analyst\",\"Part-time/Business Analyst\",\"Contract/Cyber Security Analyst\",\"Full-time/Cyber Security Analyst\",\"Internship/Cyber Security Analyst\",\"Part-time/Cyber Security Analyst\",\"Contract/Data Scientist\",\"Full-time/Data Scientist\",\"Internship/Data Scientist\",\"Part-time/Data Scientist\",\"Contract/Financial Analyst\",\"Full-time/Financial Analyst\",\"Internship/Financial Analyst\",\"Part-time/Financial Analyst\",\"Contract/Graphic Designer\",\"Full-time/Graphic Designer\",\"Internship/Graphic Designer\",\"Part-time/Graphic Designer\",\"Contract/HR Manager\",\"Full-time/HR Manager\",\"Internship/HR Manager\",\"Part-time/HR Manager\",\"Contract/Marketing Executive\",\"Full-time/Marketing Executive\",\"Internship/Marketing Executive\",\"Part-time/Marketing Executive\",\"Contract/Product Manager\",\"Full-time/Product Manager\",\"Internship/Product Manager\",\"Part-time/Product Manager\",\"Contract/Sales Representative\",\"Full-time/Sales Representative\",\"Internship/Sales Representative\",\"Part-time/Sales Representative\",\"Contract/Software Engineer\",\"Full-time/Software Engineer\",\"Internship/Software Engineer\",\"Part-time/Software Engineer\",\"Contract/Business Analyst\",\"Full-time/Business Analyst\",\"Internship/Business Analyst\",\"Part-time/Business Analyst\",\"Contract/Cyber Security Analyst\",\"Full-time/Cyber Security Analyst\",\"Internship/Cyber Security Analyst\",\"Part-time/Cyber Security Analyst\",\"Contract/Data Scientist\",\"Full-time/Data Scientist\",\"Internship/Data Scientist\",\"Part-time/Data Scientist\",\"Contract/Financial Analyst\",\"Full-time/Financial Analyst\",\"Internship/Financial Analyst\",\"Part-time/Financial Analyst\",\"Contract/Graphic Designer\",\"Full-time/Graphic Designer\",\"Internship/Graphic Designer\",\"Part-time/Graphic Designer\",\"Contract/HR Manager\",\"Full-time/HR Manager\",\"Internship/HR Manager\",\"Part-time/HR Manager\",\"Contract/Marketing Executive\",\"Full-time/Marketing Executive\",\"Internship/Marketing Executive\",\"Part-time/Marketing Executive\",\"Contract/Product Manager\",\"Full-time/Product Manager\",\"Internship/Product Manager\",\"Part-time/Product Manager\",\"Contract/Sales Representative\",\"Full-time/Sales Representative\",\"Internship/Sales Representative\",\"Part-time/Sales Representative\",\"Contract/Software Engineer\",\"Full-time/Software Engineer\",\"Internship/Software Engineer\",\"Part-time/Software Engineer\",\"Contract/Business Analyst\",\"Full-time/Business Analyst\",\"Internship/Business Analyst\",\"Part-time/Business Analyst\",\"Contract/Cyber Security Analyst\",\"Full-time/Cyber Security Analyst\",\"Internship/Cyber Security Analyst\",\"Part-time/Cyber Security Analyst\",\"Contract/Data Scientist\",\"Full-time/Data Scientist\",\"Internship/Data Scientist\",\"Part-time/Data Scientist\",\"Contract/Financial Analyst\",\"Full-time/Financial Analyst\",\"Internship/Financial Analyst\",\"Part-time/Financial Analyst\",\"Contract/Graphic Designer\",\"Full-time/Graphic Designer\",\"Internship/Graphic Designer\",\"Part-time/Graphic Designer\",\"Contract/HR Manager\",\"Full-time/HR Manager\",\"Internship/HR Manager\",\"Part-time/HR Manager\",\"Contract/Marketing Executive\",\"Full-time/Marketing Executive\",\"Internship/Marketing Executive\",\"Part-time/Marketing Executive\",\"Contract/Product Manager\",\"Full-time/Product Manager\",\"Internship/Product Manager\",\"Part-time/Product Manager\",\"Contract/Sales Representative\",\"Full-time/Sales Representative\",\"Internship/Sales Representative\",\"Part-time/Sales Representative\",\"Contract/Software Engineer\",\"Full-time/Software Engineer\",\"Internship/Software Engineer\",\"Part-time/Software Engineer\",\"Contract\",\"Full-time\",\"Internship\",\"Part-time\",\"Contract\",\"Full-time\",\"Internship\",\"Part-time\",\"Contract\",\"Full-time\",\"Internship\",\"Part-time\",\"Contract\",\"Full-time\",\"Internship\",\"Part-time\",\"Contract\",\"Full-time\",\"Internship\",\"Part-time\",\"Contract\",\"Full-time\",\"Internship\",\"Part-time\",\"Contract\",\"Full-time\",\"Internship\",\"Part-time\",\"Contract\",\"Full-time\",\"Internship\",\"Part-time\",\"Contract\",\"Full-time\",\"Internship\",\"Part-time\",\"Contract\",\"Full-time\",\"Internship\",\"Part-time\",\"\",\"\",\"\",\"\"],\"values\":[61,48,57,54,44,42,43,51,38,54,53,55,51,43,56,53,48,62,49,54,43,44,48,56,51,57,46,45,58,57,56,57,50,36,49,41,44,52,54,59,43,50,52,52,47,51,60,64,49,49,48,32,51,49,42,41,46,50,54,51,46,56,60,54,66,43,58,66,41,36,58,49,40,38,61,53,52,55,57,53,51,58,60,50,48,62,46,53,45,56,47,52,46,38,41,69,45,44,51,65,53,48,46,52,44,52,46,44,49,44,43,51,54,41,69,57,51,53,40,54,60,44,49,48,55,63,49,43,41,48,49,58,52,49,59,53,51,48,63,48,42,48,48,51,49,54,44,46,50,53,46,55,48,44,48,48,46,49,48,43,49,43,53,41,48,66,59,43,69,48,47,57,47,45,58,59,37,40,52,51,41,64,56,47,43,62,52,49,66,50,46,53,55,56,59,42,49,57,45,51,48,57,48,46,34,39,64,47,49,44,55,56,57,51,49,59,51,50,46,44,58,55,57,49,53,49,48,59,42,55,54,58,45,50,50,40,44,59,50,50,46,60,48,47,56,67,43,58,41,54,56,47,50,49,55,50,41,62,52,41,47,38,46,49,45,59,47,57,52,48,45,37,49,44,45,52,40,29,46,57,47,41,58,61,51,53,46,53,41,40,52,58,48,51,52,55,58,50,56,52,46,41,45,53,50,46,50,55,37,53,55,52,48,43,41,48,45,45,39,43,48,47,45,48,68,51,60,59,58,49,47,50,41,49,48,58,45,55,45,49,38,49,51,34,55,44,53,51,52,50,50,51,43,48,49,46,45,56,54,54,40,39,44,48,48,52,42,57,52,38,42,52,36,50,48,50,45,54,56,52,49,48,57,61,51,49,53,45,44,64,44,45,45,55,60,52,48,53,59,43,493,487,514,495,499,546,512,528,483,480,496,517,479,474,508,547,467,515,524,507,463,491,514,506,507,515,497,517,491,510,497,508,477,455,531,479,464,508,492,507,4823,4981,5085,5111],\"type\":\"treemap\"}],                        {\"template\":{\"data\":{\"histogram2dcontour\":[{\"type\":\"histogram2dcontour\",\"colorbar\":{\"outlinewidth\":0,\"ticks\":\"\"},\"colorscale\":[[0.0,\"#0d0887\"],[0.1111111111111111,\"#46039f\"],[0.2222222222222222,\"#7201a8\"],[0.3333333333333333,\"#9c179e\"],[0.4444444444444444,\"#bd3786\"],[0.5555555555555556,\"#d8576b\"],[0.6666666666666666,\"#ed7953\"],[0.7777777777777778,\"#fb9f3a\"],[0.8888888888888888,\"#fdca26\"],[1.0,\"#f0f921\"]]}],\"choropleth\":[{\"type\":\"choropleth\",\"colorbar\":{\"outlinewidth\":0,\"ticks\":\"\"}}],\"histogram2d\":[{\"type\":\"histogram2d\",\"colorbar\":{\"outlinewidth\":0,\"ticks\":\"\"},\"colorscale\":[[0.0,\"#0d0887\"],[0.1111111111111111,\"#46039f\"],[0.2222222222222222,\"#7201a8\"],[0.3333333333333333,\"#9c179e\"],[0.4444444444444444,\"#bd3786\"],[0.5555555555555556,\"#d8576b\"],[0.6666666666666666,\"#ed7953\"],[0.7777777777777778,\"#fb9f3a\"],[0.8888888888888888,\"#fdca26\"],[1.0,\"#f0f921\"]]}],\"heatmap\":[{\"type\":\"heatmap\",\"colorbar\":{\"outlinewidth\":0,\"ticks\":\"\"},\"colorscale\":[[0.0,\"#0d0887\"],[0.1111111111111111,\"#46039f\"],[0.2222222222222222,\"#7201a8\"],[0.3333333333333333,\"#9c179e\"],[0.4444444444444444,\"#bd3786\"],[0.5555555555555556,\"#d8576b\"],[0.6666666666666666,\"#ed7953\"],[0.7777777777777778,\"#fb9f3a\"],[0.8888888888888888,\"#fdca26\"],[1.0,\"#f0f921\"]]}],\"heatmapgl\":[{\"type\":\"heatmapgl\",\"colorbar\":{\"outlinewidth\":0,\"ticks\":\"\"},\"colorscale\":[[0.0,\"#0d0887\"],[0.1111111111111111,\"#46039f\"],[0.2222222222222222,\"#7201a8\"],[0.3333333333333333,\"#9c179e\"],[0.4444444444444444,\"#bd3786\"],[0.5555555555555556,\"#d8576b\"],[0.6666666666666666,\"#ed7953\"],[0.7777777777777778,\"#fb9f3a\"],[0.8888888888888888,\"#fdca26\"],[1.0,\"#f0f921\"]]}],\"contourcarpet\":[{\"type\":\"contourcarpet\",\"colorbar\":{\"outlinewidth\":0,\"ticks\":\"\"}}],\"contour\":[{\"type\":\"contour\",\"colorbar\":{\"outlinewidth\":0,\"ticks\":\"\"},\"colorscale\":[[0.0,\"#0d0887\"],[0.1111111111111111,\"#46039f\"],[0.2222222222222222,\"#7201a8\"],[0.3333333333333333,\"#9c179e\"],[0.4444444444444444,\"#bd3786\"],[0.5555555555555556,\"#d8576b\"],[0.6666666666666666,\"#ed7953\"],[0.7777777777777778,\"#fb9f3a\"],[0.8888888888888888,\"#fdca26\"],[1.0,\"#f0f921\"]]}],\"surface\":[{\"type\":\"surface\",\"colorbar\":{\"outlinewidth\":0,\"ticks\":\"\"},\"colorscale\":[[0.0,\"#0d0887\"],[0.1111111111111111,\"#46039f\"],[0.2222222222222222,\"#7201a8\"],[0.3333333333333333,\"#9c179e\"],[0.4444444444444444,\"#bd3786\"],[0.5555555555555556,\"#d8576b\"],[0.6666666666666666,\"#ed7953\"],[0.7777777777777778,\"#fb9f3a\"],[0.8888888888888888,\"#fdca26\"],[1.0,\"#f0f921\"]]}],\"mesh3d\":[{\"type\":\"mesh3d\",\"colorbar\":{\"outlinewidth\":0,\"ticks\":\"\"}}],\"scatter\":[{\"fillpattern\":{\"fillmode\":\"overlay\",\"size\":10,\"solidity\":0.2},\"type\":\"scatter\"}],\"parcoords\":[{\"type\":\"parcoords\",\"line\":{\"colorbar\":{\"outlinewidth\":0,\"ticks\":\"\"}}}],\"scatterpolargl\":[{\"type\":\"scatterpolargl\",\"marker\":{\"colorbar\":{\"outlinewidth\":0,\"ticks\":\"\"}}}],\"bar\":[{\"error_x\":{\"color\":\"#2a3f5f\"},\"error_y\":{\"color\":\"#2a3f5f\"},\"marker\":{\"line\":{\"color\":\"#E5ECF6\",\"width\":0.5},\"pattern\":{\"fillmode\":\"overlay\",\"size\":10,\"solidity\":0.2}},\"type\":\"bar\"}],\"scattergeo\":[{\"type\":\"scattergeo\",\"marker\":{\"colorbar\":{\"outlinewidth\":0,\"ticks\":\"\"}}}],\"scatterpolar\":[{\"type\":\"scatterpolar\",\"marker\":{\"colorbar\":{\"outlinewidth\":0,\"ticks\":\"\"}}}],\"histogram\":[{\"marker\":{\"pattern\":{\"fillmode\":\"overlay\",\"size\":10,\"solidity\":0.2}},\"type\":\"histogram\"}],\"scattergl\":[{\"type\":\"scattergl\",\"marker\":{\"colorbar\":{\"outlinewidth\":0,\"ticks\":\"\"}}}],\"scatter3d\":[{\"type\":\"scatter3d\",\"line\":{\"colorbar\":{\"outlinewidth\":0,\"ticks\":\"\"}},\"marker\":{\"colorbar\":{\"outlinewidth\":0,\"ticks\":\"\"}}}],\"scattermapbox\":[{\"type\":\"scattermapbox\",\"marker\":{\"colorbar\":{\"outlinewidth\":0,\"ticks\":\"\"}}}],\"scatterternary\":[{\"type\":\"scatterternary\",\"marker\":{\"colorbar\":{\"outlinewidth\":0,\"ticks\":\"\"}}}],\"scattercarpet\":[{\"type\":\"scattercarpet\",\"marker\":{\"colorbar\":{\"outlinewidth\":0,\"ticks\":\"\"}}}],\"carpet\":[{\"aaxis\":{\"endlinecolor\":\"#2a3f5f\",\"gridcolor\":\"white\",\"linecolor\":\"white\",\"minorgridcolor\":\"white\",\"startlinecolor\":\"#2a3f5f\"},\"baxis\":{\"endlinecolor\":\"#2a3f5f\",\"gridcolor\":\"white\",\"linecolor\":\"white\",\"minorgridcolor\":\"white\",\"startlinecolor\":\"#2a3f5f\"},\"type\":\"carpet\"}],\"table\":[{\"cells\":{\"fill\":{\"color\":\"#EBF0F8\"},\"line\":{\"color\":\"white\"}},\"header\":{\"fill\":{\"color\":\"#C8D4E3\"},\"line\":{\"color\":\"white\"}},\"type\":\"table\"}],\"barpolar\":[{\"marker\":{\"line\":{\"color\":\"#E5ECF6\",\"width\":0.5},\"pattern\":{\"fillmode\":\"overlay\",\"size\":10,\"solidity\":0.2}},\"type\":\"barpolar\"}],\"pie\":[{\"automargin\":true,\"type\":\"pie\"}]},\"layout\":{\"autotypenumbers\":\"strict\",\"colorway\":[\"#636efa\",\"#EF553B\",\"#00cc96\",\"#ab63fa\",\"#FFA15A\",\"#19d3f3\",\"#FF6692\",\"#B6E880\",\"#FF97FF\",\"#FECB52\"],\"font\":{\"color\":\"#2a3f5f\"},\"hovermode\":\"closest\",\"hoverlabel\":{\"align\":\"left\"},\"paper_bgcolor\":\"white\",\"plot_bgcolor\":\"#E5ECF6\",\"polar\":{\"bgcolor\":\"#E5ECF6\",\"angularaxis\":{\"gridcolor\":\"white\",\"linecolor\":\"white\",\"ticks\":\"\"},\"radialaxis\":{\"gridcolor\":\"white\",\"linecolor\":\"white\",\"ticks\":\"\"}},\"ternary\":{\"bgcolor\":\"#E5ECF6\",\"aaxis\":{\"gridcolor\":\"white\",\"linecolor\":\"white\",\"ticks\":\"\"},\"baxis\":{\"gridcolor\":\"white\",\"linecolor\":\"white\",\"ticks\":\"\"},\"caxis\":{\"gridcolor\":\"white\",\"linecolor\":\"white\",\"ticks\":\"\"}},\"coloraxis\":{\"colorbar\":{\"outlinewidth\":0,\"ticks\":\"\"}},\"colorscale\":{\"sequential\":[[0.0,\"#0d0887\"],[0.1111111111111111,\"#46039f\"],[0.2222222222222222,\"#7201a8\"],[0.3333333333333333,\"#9c179e\"],[0.4444444444444444,\"#bd3786\"],[0.5555555555555556,\"#d8576b\"],[0.6666666666666666,\"#ed7953\"],[0.7777777777777778,\"#fb9f3a\"],[0.8888888888888888,\"#fdca26\"],[1.0,\"#f0f921\"]],\"sequentialminus\":[[0.0,\"#0d0887\"],[0.1111111111111111,\"#46039f\"],[0.2222222222222222,\"#7201a8\"],[0.3333333333333333,\"#9c179e\"],[0.4444444444444444,\"#bd3786\"],[0.5555555555555556,\"#d8576b\"],[0.6666666666666666,\"#ed7953\"],[0.7777777777777778,\"#fb9f3a\"],[0.8888888888888888,\"#fdca26\"],[1.0,\"#f0f921\"]],\"diverging\":[[0,\"#8e0152\"],[0.1,\"#c51b7d\"],[0.2,\"#de77ae\"],[0.3,\"#f1b6da\"],[0.4,\"#fde0ef\"],[0.5,\"#f7f7f7\"],[0.6,\"#e6f5d0\"],[0.7,\"#b8e186\"],[0.8,\"#7fbc41\"],[0.9,\"#4d9221\"],[1,\"#276419\"]]},\"xaxis\":{\"gridcolor\":\"white\",\"linecolor\":\"white\",\"ticks\":\"\",\"title\":{\"standoff\":15},\"zerolinecolor\":\"white\",\"automargin\":true,\"zerolinewidth\":2},\"yaxis\":{\"gridcolor\":\"white\",\"linecolor\":\"white\",\"ticks\":\"\",\"title\":{\"standoff\":15},\"zerolinecolor\":\"white\",\"automargin\":true,\"zerolinewidth\":2},\"scene\":{\"xaxis\":{\"backgroundcolor\":\"#E5ECF6\",\"gridcolor\":\"white\",\"linecolor\":\"white\",\"showbackground\":true,\"ticks\":\"\",\"zerolinecolor\":\"white\",\"gridwidth\":2},\"yaxis\":{\"backgroundcolor\":\"#E5ECF6\",\"gridcolor\":\"white\",\"linecolor\":\"white\",\"showbackground\":true,\"ticks\":\"\",\"zerolinecolor\":\"white\",\"gridwidth\":2},\"zaxis\":{\"backgroundcolor\":\"#E5ECF6\",\"gridcolor\":\"white\",\"linecolor\":\"white\",\"showbackground\":true,\"ticks\":\"\",\"zerolinecolor\":\"white\",\"gridwidth\":2}},\"shapedefaults\":{\"line\":{\"color\":\"#2a3f5f\"}},\"annotationdefaults\":{\"arrowcolor\":\"#2a3f5f\",\"arrowhead\":0,\"arrowwidth\":1},\"geo\":{\"bgcolor\":\"white\",\"landcolor\":\"#E5ECF6\",\"subunitcolor\":\"white\",\"showland\":true,\"showlakes\":true,\"lakecolor\":\"white\"},\"title\":{\"x\":0.05},\"mapbox\":{\"style\":\"light\"}}},\"legend\":{\"tracegroupgap\":0},\"title\":{\"text\":\"Industry-Wise Job Distribution by Type of Employment\"},\"margin\":{\"t\":50,\"l\":25,\"r\":25,\"b\":25}},                        {\"responsive\": true}                    ).then(function(){\n",
       "                            \n",
       "var gd = document.getElementById('bf3b4f90-ce00-4dfc-8729-1163cc2b2b12');\n",
       "var x = new MutationObserver(function (mutations, observer) {{\n",
       "        var display = window.getComputedStyle(gd).display;\n",
       "        if (!display || display === 'none') {{\n",
       "            console.log([gd, 'removed!']);\n",
       "            Plotly.purge(gd);\n",
       "            observer.disconnect();\n",
       "        }}\n",
       "}});\n",
       "\n",
       "// Listen for the removal of the full notebook cells\n",
       "var notebookContainer = gd.closest('#notebook-container');\n",
       "if (notebookContainer) {{\n",
       "    x.observe(notebookContainer, {childList: true});\n",
       "}}\n",
       "\n",
       "// Listen for the clearing of the current output cell\n",
       "var outputEl = gd.closest('.output');\n",
       "if (outputEl) {{\n",
       "    x.observe(outputEl, {childList: true});\n",
       "}}\n",
       "\n",
       "                        })                };                });            </script>        </div>"
      ]
     },
     "metadata": {},
     "output_type": "display_data"
    }
   ],
   "source": [
    "fig = px.treemap(\n",
    "    df,\n",
    "    path=[\"Job Type\", \"Job Title\", \"Job Location\"],  # Hierarchical structure\n",
    "    title=\"Industry-Wise Job Distribution by Type of Employment\",\n",
    ")\n",
    "\n",
    "fig.update_layout(\n",
    "    margin=dict(t=50, l=25, r=25, b=25)  # Reduce margin space for larger treemap area\n",
    ")\n",
    "fig.show()\n"
   ]
  },
  {
   "cell_type": "markdown",
   "id": "aa5c789a",
   "metadata": {},
   "source": [
    "**How to Use**\n",
    "\n",
    "Hover over rectangles to view details about job type, title, and location.\n",
    "Click on a rectangle to zoom into specific subcategories for deeper analysis.\n",
    "Use the interactive legend to toggle categories on or off.\n",
    "This treemap provides an intuitive overview of the job market's structure, making it easy to explore employment patterns visually."
   ]
  },
  {
   "cell_type": "code",
   "execution_count": null,
   "id": "3db33bbe",
   "metadata": {},
   "outputs": [],
   "source": []
  }
 ],
 "metadata": {
  "kernelspec": {
   "display_name": "Python 3 (ipykernel)",
   "language": "python",
   "name": "python3"
  },
  "language_info": {
   "codemirror_mode": {
    "name": "ipython",
    "version": 3
   },
   "file_extension": ".py",
   "mimetype": "text/x-python",
   "name": "python",
   "nbconvert_exporter": "python",
   "pygments_lexer": "ipython3",
   "version": "3.9.13"
  }
 },
 "nbformat": 4,
 "nbformat_minor": 5
}
